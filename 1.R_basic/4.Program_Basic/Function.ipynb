{
  "nbformat": 4,
  "nbformat_minor": 0,
  "metadata": {
    "colab": {
      "name": "Function.ipynb",
      "provenance": [],
      "collapsed_sections": []
    },
    "kernelspec": {
      "name": "ir",
      "display_name": "R"
    },
    "accelerator": "GPU"
  },
  "cells": [
    {
      "cell_type": "code",
      "metadata": {
        "id": "Owm2FV5xXQuH"
      },
      "source": [
        "# example of defining a function to compute the average of a vector x\n",
        "avg <- function(x){\n",
        "  s <- sum(x)\n",
        "  n <- length(x)\n",
        "  s/n\n",
        "}\n"
      ],
      "execution_count": 100,
      "outputs": []
    },
    {
      "cell_type": "code",
      "metadata": {
        "colab": {
          "base_uri": "https://localhost:8080/",
          "height": 34
        },
        "id": "bG-2jo0EXSlb",
        "outputId": "13868d53-694b-4192-ce6e-5dd240737c10"
      },
      "source": [
        "# we see that the above function and the pre-built R mean() function are identical\n",
        "x <- 1:100\n",
        "identical(mean(x), avg(x))\n"
      ],
      "execution_count": 101,
      "outputs": [
        {
          "output_type": "display_data",
          "data": {
            "text/plain": [
              "[1] TRUE"
            ],
            "text/latex": "TRUE",
            "text/markdown": "TRUE",
            "text/html": [
              "TRUE"
            ]
          },
          "metadata": {
            "tags": []
          }
        }
      ]
    },
    {
      "cell_type": "code",
      "metadata": {
        "colab": {
          "base_uri": "https://localhost:8080/",
          "height": 50
        },
        "id": "X4IzyF3TXVvc",
        "outputId": "e81a5db0-5c63-4f60-875b-d78ecf1ebe59"
      },
      "source": [
        "# variables inside a function are not defined in the workspace\n",
        "s <- 3\n",
        "avg(1:10)\n",
        "s\n"
      ],
      "execution_count": 102,
      "outputs": [
        {
          "output_type": "display_data",
          "data": {
            "text/plain": [
              "[1] 5.5"
            ],
            "text/latex": "5.5",
            "text/markdown": "5.5",
            "text/html": [
              "5.5"
            ]
          },
          "metadata": {
            "tags": []
          }
        },
        {
          "output_type": "display_data",
          "data": {
            "text/plain": [
              "[1] 3"
            ],
            "text/latex": "3",
            "text/markdown": "3",
            "text/html": [
              "3"
            ]
          },
          "metadata": {
            "tags": []
          }
        }
      ]
    },
    {
      "cell_type": "code",
      "metadata": {
        "id": "3N7TjP7lXf0T"
      },
      "source": [
        "# the general form of a function\n",
        "my_function <- function(VARIABLE_NAME){\n",
        "  perform operations on VARIABLE_NAME and calculate VALUE\n",
        "  VALUE\n",
        "}"
      ],
      "execution_count": null,
      "outputs": []
    },
    {
      "cell_type": "code",
      "metadata": {
        "colab": {
          "base_uri": "https://localhost:8080/",
          "height": 34
        },
        "id": "8Me1nLQ2XicB",
        "outputId": "a961a6cd-2088-4977-afa8-05e054ab0b2d"
      },
      "source": [
        "# functions can have multiple arguments as well as default values\n",
        "avg <- function(x, arithmetic = TRUE){\n",
        "  n <- length(x)\n",
        "  ifelse(arithmetic, sum(x)/n, prod(x)^(1/n))\n",
        "}\n",
        "avg(1:10)"
      ],
      "execution_count": 104,
      "outputs": [
        {
          "output_type": "display_data",
          "data": {
            "text/plain": [
              "[1] 5.5"
            ],
            "text/latex": "5.5",
            "text/markdown": "5.5",
            "text/html": [
              "5.5"
            ]
          },
          "metadata": {
            "tags": []
          }
        }
      ]
    },
    {
      "cell_type": "markdown",
      "metadata": {
        "id": "2pB7gqMDXsa_"
      },
      "source": [
        "#For loop\n"
      ]
    },
    {
      "cell_type": "code",
      "metadata": {
        "id": "EMmihnjPXt_v"
      },
      "source": [
        "# creating a function that computes the sum of integers 1 through n\n",
        "compute_s_n <- function(n){\n",
        "  x <- 1:n\n",
        "  sum(x)\n",
        "}"
      ],
      "execution_count": 105,
      "outputs": []
    },
    {
      "cell_type": "code",
      "metadata": {
        "colab": {
          "base_uri": "https://localhost:8080/"
        },
        "id": "9tmu0mxfXwJl",
        "outputId": "c3035b85-8b67-4e9b-a5c7-3b4b5decb579"
      },
      "source": [
        "# a very simple for-loop\n",
        "for(i in 1:5){\n",
        "  print(i)\n",
        "}"
      ],
      "execution_count": 106,
      "outputs": [
        {
          "output_type": "stream",
          "text": [
            "[1] 1\n",
            "[1] 2\n",
            "[1] 3\n",
            "[1] 4\n",
            "[1] 5\n"
          ],
          "name": "stdout"
        }
      ]
    },
    {
      "cell_type": "code",
      "metadata": {
        "id": "UA9eL9CXXyFI"
      },
      "source": [
        "# a for-loop for our summation\n",
        "m <- 25\n",
        "s_n <- vector(length = m) # create an empty vector\n",
        "for(n in 1:m){\n",
        "  s_n[n] <- compute_s_n(n)\n",
        "}\n"
      ],
      "execution_count": 107,
      "outputs": []
    },
    {
      "cell_type": "code",
      "metadata": {
        "colab": {
          "base_uri": "https://localhost:8080/",
          "height": 437
        },
        "id": "dDYSTl2dX4bm",
        "outputId": "e863bbe2-0e63-4808-df36-69dee8142b08"
      },
      "source": [
        "# creating a plot for our summation function\n",
        "n <- 1:m\n",
        "plot(n, s_n)"
      ],
      "execution_count": 108,
      "outputs": [
        {
          "output_type": "display_data",
          "data": {
            "image/png": "[encoded data removed]",
            "text/plain": [
              "plot without title"
            ]
          },
          "metadata": {
            "tags": [],
            "image/png": {
              "width": 420,
              "height": 420
            }
          }
        }
      ]
    },
    {
      "cell_type": "code",
      "metadata": {
        "colab": {
          "base_uri": "https://localhost:8080/",
          "height": 212
        },
        "id": "wiG5EfbSX6ce",
        "outputId": "80e5093d-aca5-416e-a2e1-533d966e15dd"
      },
      "source": [
        "# a table of values comparing our function to the summation formula\n",
        "head(data.frame(s_n = s_n, formula = n*(n+1)/2))"
      ],
      "execution_count": 109,
      "outputs": [
        {
          "output_type": "display_data",
          "data": {
            "text/plain": [
              "  s_n formula\n",
              "1  1   1     \n",
              "2  3   3     \n",
              "3  6   6     \n",
              "4 10  10     \n",
              "5 15  15     \n",
              "6 21  21     "
            ],
            "text/latex": "A data.frame: 6 × 2\n\\begin{tabular}{r|ll}\n  & s\\_n & formula\\\\\n  & <int> & <dbl>\\\\\n\\hline\n\t1 &  1 &  1\\\\\n\t2 &  3 &  3\\\\\n\t3 &  6 &  6\\\\\n\t4 & 10 & 10\\\\\n\t5 & 15 & 15\\\\\n\t6 & 21 & 21\\\\\n\\end{tabular}\n",
            "text/markdown": "\nA data.frame: 6 × 2\n\n| <!--/--> | s_n &lt;int&gt; | formula &lt;dbl&gt; |\n|---|---|---|\n| 1 |  1 |  1 |\n| 2 |  3 |  3 |\n| 3 |  6 |  6 |\n| 4 | 10 | 10 |\n| 5 | 15 | 15 |\n| 6 | 21 | 21 |\n\n",
            "text/html": [
              "<table>\n",
              "<caption>A data.frame: 6 × 2</caption>\n",
              "<thead>\n",
              "\t<tr><th></th><th scope=col>s_n</th><th scope=col>formula</th></tr>\n",
              "\t<tr><th></th><th scope=col>&lt;int&gt;</th><th scope=col>&lt;dbl&gt;</th></tr>\n",
              "</thead>\n",
              "<tbody>\n",
              "\t<tr><th scope=row>1</th><td> 1</td><td> 1</td></tr>\n",
              "\t<tr><th scope=row>2</th><td> 3</td><td> 3</td></tr>\n",
              "\t<tr><th scope=row>3</th><td> 6</td><td> 6</td></tr>\n",
              "\t<tr><th scope=row>4</th><td>10</td><td>10</td></tr>\n",
              "\t<tr><th scope=row>5</th><td>15</td><td>15</td></tr>\n",
              "\t<tr><th scope=row>6</th><td>21</td><td>21</td></tr>\n",
              "</tbody>\n",
              "</table>\n"
            ]
          },
          "metadata": {
            "tags": []
          }
        }
      ]
    },
    {
      "cell_type": "code",
      "metadata": {
        "colab": {
          "base_uri": "https://localhost:8080/",
          "height": 437
        },
        "id": "ESUYrlqeX-h2",
        "outputId": "22d54ad1-f6e2-40e3-d03a-0b5b7a315e10"
      },
      "source": [
        "# overlaying our function with the summation formula\n",
        "plot(n, s_n)\n",
        "lines(n, n*(n+1)/2)"
      ],
      "execution_count": 110,
      "outputs": [
        {
          "output_type": "display_data",
          "data": {
            "image/png": "[encoded data removed]",
            "text/plain": [
              "plot without title"
            ]
          },
          "metadata": {
            "tags": [],
            "image/png": {
              "width": 420,
              "height": 420
            }
          }
        }
      ]
    },
    {
      "cell_type": "markdown",
      "metadata": {
        "id": "66DfMGuVYUU9"
      },
      "source": [
        "##Conditional continued\n",
        "Which of the following expressions is always FALSE when at least one entry of a logical vector x is TRUE? You can try examples in the R console."
      ]
    },
    {
      "cell_type": "code",
      "metadata": {
        "colab": {
          "base_uri": "https://localhost:8080/",
          "height": 67
        },
        "id": "5V7ZtdV8YXRX",
        "outputId": "553b62aa-7cfb-42fa-c9e5-0b2f12a9fcca"
      },
      "source": [
        "all(!x)\n",
        "any(!x)\n",
        "any(x)"
      ],
      "execution_count": 113,
      "outputs": [
        {
          "output_type": "display_data",
          "data": {
            "text/plain": [
              "[1] FALSE"
            ],
            "text/latex": "FALSE",
            "text/markdown": "FALSE",
            "text/html": [
              "FALSE"
            ]
          },
          "metadata": {
            "tags": []
          }
        },
        {
          "output_type": "display_data",
          "data": {
            "text/plain": [
              "[1] FALSE"
            ],
            "text/latex": "FALSE",
            "text/markdown": "FALSE",
            "text/html": [
              "FALSE"
            ]
          },
          "metadata": {
            "tags": []
          }
        },
        {
          "output_type": "display_data",
          "data": {
            "text/plain": [
              "[1] TRUE"
            ],
            "text/latex": "TRUE",
            "text/markdown": "TRUE",
            "text/html": [
              "TRUE"
            ]
          },
          "metadata": {
            "tags": []
          }
        }
      ]
    },
    {
      "cell_type": "markdown",
      "metadata": {
        "id": "7riCr_TcYqdJ"
      },
      "source": [
        "##ifelse\n"
      ]
    },
    {
      "cell_type": "code",
      "metadata": {
        "colab": {
          "base_uri": "https://localhost:8080/",
          "height": 101
        },
        "id": "VQ30VLN4YsQ7",
        "outputId": "c7fffd10-359c-4473-f755-58719b6721ad"
      },
      "source": [
        "# Assign the state abbreviation when the state name is longer than 8 characters \n",
        "new_names <- ifelse(nchar(murders$state)>8,murders$abb,murders$state)\n",
        "new_names"
      ],
      "execution_count": 114,
      "outputs": [
        {
          "output_type": "display_data",
          "data": {
            "text/plain": [
              " [1] \"Alabama\"  \"Alaska\"   \"Arizona\"  \"Arkansas\" \"CA\"       \"Colorado\"\n",
              " [7] \"CT\"       \"Delaware\" \"DC\"       \"Florida\"  \"Georgia\"  \"Hawaii\"  \n",
              "[13] \"Idaho\"    \"Illinois\" \"Indiana\"  \"Iowa\"     \"Kansas\"   \"Kentucky\"\n",
              "[19] \"LA\"       \"Maine\"    \"Maryland\" \"MA\"       \"Michigan\" \"MN\"      \n",
              "[25] \"MS\"       \"Missouri\" \"Montana\"  \"Nebraska\" \"Nevada\"   \"NH\"      \n",
              "[31] \"NJ\"       \"NM\"       \"New York\" \"NC\"       \"ND\"       \"Ohio\"    \n",
              "[37] \"Oklahoma\" \"Oregon\"   \"PA\"       \"RI\"       \"SC\"       \"SD\"      \n",
              "[43] \"TN\"       \"Texas\"    \"Utah\"     \"Vermont\"  \"Virginia\" \"WA\"      \n",
              "[49] \"WV\"       \"WI\"       \"Wyoming\" "
            ],
            "text/latex": "\\begin{enumerate*}\n\\item 'Alabama'\n\\item 'Alaska'\n\\item 'Arizona'\n\\item 'Arkansas'\n\\item 'CA'\n\\item 'Colorado'\n\\item 'CT'\n\\item 'Delaware'\n\\item 'DC'\n\\item 'Florida'\n\\item 'Georgia'\n\\item 'Hawaii'\n\\item 'Idaho'\n\\item 'Illinois'\n\\item 'Indiana'\n\\item 'Iowa'\n\\item 'Kansas'\n\\item 'Kentucky'\n\\item 'LA'\n\\item 'Maine'\n\\item 'Maryland'\n\\item 'MA'\n\\item 'Michigan'\n\\item 'MN'\n\\item 'MS'\n\\item 'Missouri'\n\\item 'Montana'\n\\item 'Nebraska'\n\\item 'Nevada'\n\\item 'NH'\n\\item 'NJ'\n\\item 'NM'\n\\item 'New York'\n\\item 'NC'\n\\item 'ND'\n\\item 'Ohio'\n\\item 'Oklahoma'\n\\item 'Oregon'\n\\item 'PA'\n\\item 'RI'\n\\item 'SC'\n\\item 'SD'\n\\item 'TN'\n\\item 'Texas'\n\\item 'Utah'\n\\item 'Vermont'\n\\item 'Virginia'\n\\item 'WA'\n\\item 'WV'\n\\item 'WI'\n\\item 'Wyoming'\n\\end{enumerate*}\n",
            "text/markdown": "1. 'Alabama'\n2. 'Alaska'\n3. 'Arizona'\n4. 'Arkansas'\n5. 'CA'\n6. 'Colorado'\n7. 'CT'\n8. 'Delaware'\n9. 'DC'\n10. 'Florida'\n11. 'Georgia'\n12. 'Hawaii'\n13. 'Idaho'\n14. 'Illinois'\n15. 'Indiana'\n16. 'Iowa'\n17. 'Kansas'\n18. 'Kentucky'\n19. 'LA'\n20. 'Maine'\n21. 'Maryland'\n22. 'MA'\n23. 'Michigan'\n24. 'MN'\n25. 'MS'\n26. 'Missouri'\n27. 'Montana'\n28. 'Nebraska'\n29. 'Nevada'\n30. 'NH'\n31. 'NJ'\n32. 'NM'\n33. 'New York'\n34. 'NC'\n35. 'ND'\n36. 'Ohio'\n37. 'Oklahoma'\n38. 'Oregon'\n39. 'PA'\n40. 'RI'\n41. 'SC'\n42. 'SD'\n43. 'TN'\n44. 'Texas'\n45. 'Utah'\n46. 'Vermont'\n47. 'Virginia'\n48. 'WA'\n49. 'WV'\n50. 'WI'\n51. 'Wyoming'\n\n\n",
            "text/html": [
              "<style>\n",
              ".list-inline {list-style: none; margin:0; padding: 0}\n",
              ".list-inline>li {display: inline-block}\n",
              ".list-inline>li:not(:last-child)::after {content: \"\\00b7\"; padding: 0 .5ex}\n",
              "</style>\n",
              "<ol class=list-inline><li>'Alabama'</li><li>'Alaska'</li><li>'Arizona'</li><li>'Arkansas'</li><li>'CA'</li><li>'Colorado'</li><li>'CT'</li><li>'Delaware'</li><li>'DC'</li><li>'Florida'</li><li>'Georgia'</li><li>'Hawaii'</li><li>'Idaho'</li><li>'Illinois'</li><li>'Indiana'</li><li>'Iowa'</li><li>'Kansas'</li><li>'Kentucky'</li><li>'LA'</li><li>'Maine'</li><li>'Maryland'</li><li>'MA'</li><li>'Michigan'</li><li>'MN'</li><li>'MS'</li><li>'Missouri'</li><li>'Montana'</li><li>'Nebraska'</li><li>'Nevada'</li><li>'NH'</li><li>'NJ'</li><li>'NM'</li><li>'New York'</li><li>'NC'</li><li>'ND'</li><li>'Ohio'</li><li>'Oklahoma'</li><li>'Oregon'</li><li>'PA'</li><li>'RI'</li><li>'SC'</li><li>'SD'</li><li>'TN'</li><li>'Texas'</li><li>'Utah'</li><li>'Vermont'</li><li>'Virginia'</li><li>'WA'</li><li>'WV'</li><li>'WI'</li><li>'Wyoming'</li></ol>\n"
            ]
          },
          "metadata": {
            "tags": []
          }
        }
      ]
    },
    {
      "cell_type": "markdown",
      "metadata": {
        "id": "pj5NFH5gYvOV"
      },
      "source": [
        "##Define Function"
      ]
    },
    {
      "cell_type": "code",
      "metadata": {
        "colab": {
          "base_uri": "https://localhost:8080/",
          "height": 34
        },
        "id": "6RJkiDwuY1dS",
        "outputId": "90f71b89-bcaf-4390-9b6a-46e7435790b2"
      },
      "source": [
        "# Create function called `sum_n`\n",
        "sum_n <-function(n){\n",
        "  i<-1:n\n",
        "  sum(i)\n",
        "}\n",
        "# Use the function to determine the sum of integers from 1 to 5000\n",
        "sum_n(5000)"
      ],
      "execution_count": 115,
      "outputs": [
        {
          "output_type": "display_data",
          "data": {
            "text/plain": [
              "[1] 12502500"
            ],
            "text/latex": "12502500",
            "text/markdown": "12502500",
            "text/html": [
              "12502500"
            ]
          },
          "metadata": {
            "tags": []
          }
        }
      ]
    },
    {
      "cell_type": "markdown",
      "metadata": {
        "id": "QJ0eRMEXY3lh"
      },
      "source": [
        "##Lexical scope"
      ]
    },
    {
      "cell_type": "code",
      "metadata": {
        "colab": {
          "base_uri": "https://localhost:8080/"
        },
        "id": "vzOAsc5NZB9l",
        "outputId": "77f0484a-6a82-4383-915e-165b52d4a245"
      },
      "source": [
        "# Run this code \n",
        "x <- 3\n",
        "my_func <- function(y){\n",
        "    x <- 5\n",
        "    y+5\n",
        "}\n",
        "\n",
        "# Print the value of x \n",
        "print(x)"
      ],
      "execution_count": 116,
      "outputs": [
        {
          "output_type": "stream",
          "text": [
            "[1] 3\n"
          ],
          "name": "stdout"
        }
      ]
    },
    {
      "cell_type": "markdown",
      "metadata": {
        "id": "GXkUcz-hZFAv"
      },
      "source": [
        "##Forloop"
      ]
    },
    {
      "cell_type": "code",
      "metadata": {
        "colab": {
          "base_uri": "https://localhost:8080/",
          "height": 50
        },
        "id": "KMH_K5_vZIb9",
        "outputId": "08d6549d-3bc7-4680-d79e-b2a1afcbc786"
      },
      "source": [
        "# Here is an example of a function that adds numbers from 1 to n\n",
        "example_func <- function(n){\n",
        "    x <- 1:n\n",
        "    sum(x)\n",
        "}\n",
        "\n",
        "# Here is the sum of the first 100 numbers\n",
        "example_func(100)\n",
        "\n",
        "# Write a function compute_s_n with argument n that for any given n computes the sum of 1 + 2^2 + ...+ n^2\n",
        "compute_s_n <-function(n){\n",
        "  x<-1:n\n",
        "  sum(x^2)\n",
        "}\n",
        "# Report the value of the sum when n=10\n",
        "compute_s_n(10)"
      ],
      "execution_count": 117,
      "outputs": [
        {
          "output_type": "display_data",
          "data": {
            "text/plain": [
              "[1] 5050"
            ],
            "text/latex": "5050",
            "text/markdown": "5050",
            "text/html": [
              "5050"
            ]
          },
          "metadata": {
            "tags": []
          }
        },
        {
          "output_type": "display_data",
          "data": {
            "text/plain": [
              "[1] 385"
            ],
            "text/latex": "385",
            "text/markdown": "385",
            "text/html": [
              "385"
            ]
          },
          "metadata": {
            "tags": []
          }
        }
      ]
    },
    {
      "cell_type": "markdown",
      "metadata": {
        "id": "cpBV5yZ3ZRNj"
      },
      "source": [
        "##Checking our math"
      ]
    },
    {
      "cell_type": "code",
      "metadata": {
        "colab": {
          "base_uri": "https://localhost:8080/",
          "height": 437
        },
        "id": "1WgnlDAnZSE5",
        "outputId": "2708b186-f3db-4018-c0ec-6b13ed3528fb"
      },
      "source": [
        "# Define the function\n",
        "compute_s_n <- function(n){\n",
        "  x <- 1:n\n",
        "  sum(x^2)\n",
        "}\n",
        "\n",
        "# Define the vector of n\n",
        "n <- 1:25\n",
        "\n",
        "# Define the vector to store data\n",
        "s_n <- vector(\"numeric\", 25)\n",
        "for(i in n){\n",
        "  s_n[i] <- compute_s_n(i)\n",
        "}\n",
        "\n",
        "#  Create the plot \n",
        "plot(n,s_n)"
      ],
      "execution_count": 118,
      "outputs": [
        {
          "output_type": "display_data",
          "data": {
            "image/png": "[encoded data removed]",
            "text/plain": [
              "plot without title"
            ]
          },
          "metadata": {
            "tags": [],
            "image/png": {
              "width": 420,
              "height": 420
            }
          }
        }
      ]
    },
    {
      "cell_type": "code",
      "metadata": {
        "colab": {
          "base_uri": "https://localhost:8080/",
          "height": 34
        },
        "id": "SRdzl7NMZVBR",
        "outputId": "7eb82290-0d2a-4e80-dfa6-a2bcbad55378"
      },
      "source": [
        "# Define the function\n",
        "compute_s_n <- function(n){\n",
        "  x <- 1:n\n",
        "  sum(x^2)\n",
        "}\n",
        "\n",
        "# Define the vector of n\n",
        "n <- 1:25\n",
        "\n",
        "# Define the vector to store data\n",
        "s_n <- vector(\"numeric\", 25)\n",
        "for(i in n){\n",
        "  s_n[i] <- compute_s_n(i)\n",
        "}\n",
        "\n",
        "# Check that s_n is identical to the formula given in the instructions.\n",
        "identical(s_n[n],n*(n+1)*(2*n+1)/6)"
      ],
      "execution_count": 119,
      "outputs": [
        {
          "output_type": "display_data",
          "data": {
            "text/plain": [
              "[1] TRUE"
            ],
            "text/latex": "TRUE",
            "text/markdown": "TRUE",
            "text/html": [
              "TRUE"
            ]
          },
          "metadata": {
            "tags": []
          }
        }
      ]
    }
  ]
}