{
  "nbformat": 4,
  "nbformat_minor": 0,
  "metadata": {
    "colab": {
      "name": "Problem.ipynb",
      "provenance": [],
      "collapsed_sections": []
    },
    "kernelspec": {
      "name": "ir",
      "display_name": "R"
    },
    "accelerator": "GPU"
  },
  "cells": [
    {
      "cell_type": "markdown",
      "metadata": {
        "id": "Sp2xbZkuZmVX"
      },
      "source": [
        "Load the heights dataset from dslabs:"
      ]
    },
    {
      "cell_type": "code",
      "metadata": {
        "id": "2QfIBBgvZoJx"
      },
      "source": [
        "library(dslabs)\n",
        "data(heights)"
      ],
      "execution_count": 120,
      "outputs": []
    },
    {
      "cell_type": "markdown",
      "metadata": {
        "id": "InRHQLwbZquS"
      },
      "source": [
        "Write an ifelse() statement that returns 1 if the sex is Female and 2 if the sex is Male.\n",
        "1. What is the sum of the resulting vector?"
      ]
    },
    {
      "cell_type": "code",
      "metadata": {
        "colab": {
          "base_uri": "https://localhost:8080/",
          "height": 34
        },
        "id": "QcDabvN2Zs3m",
        "outputId": "14a8a04a-1c1a-411c-bf23-d5d85a9775d7"
      },
      "source": [
        "sum(ifelse(heights$sex == \"Female\", 1, 2))"
      ],
      "execution_count": 122,
      "outputs": [
        {
          "output_type": "display_data",
          "data": {
            "text/plain": [
              "[1] 1862"
            ],
            "text/latex": "1862",
            "text/markdown": "1862",
            "text/html": [
              "1862"
            ]
          },
          "metadata": {
            "tags": []
          }
        }
      ]
    },
    {
      "cell_type": "markdown",
      "metadata": {
        "id": "NzTj0xqSZ1ry"
      },
      "source": [
        "2. Write an ifelse() statement that takes the height column and returns the height if it is greater than 72 inches and returns 0 otherwise.\n",
        "\n",
        "What is the mean of the resulting vector?"
      ]
    },
    {
      "cell_type": "code",
      "metadata": {
        "colab": {
          "base_uri": "https://localhost:8080/",
          "height": 34
        },
        "id": "3idYlrXAZ47T",
        "outputId": "100d692e-22da-4c20-c667-92458032b73d"
      },
      "source": [
        " mean(ifelse(heights$height > 72, heights$height, 0))"
      ],
      "execution_count": 123,
      "outputs": [
        {
          "output_type": "display_data",
          "data": {
            "text/plain": [
              "[1] 9.65"
            ],
            "text/latex": "9.65353426471691",
            "text/markdown": "9.65353426471691",
            "text/html": [
              "9.65353426471691"
            ]
          },
          "metadata": {
            "tags": []
          }
        }
      ]
    },
    {
      "cell_type": "markdown",
      "metadata": {
        "id": "XDx_LG_sZ9xM"
      },
      "source": [
        "3. Write a function inches_to_ft that takes a number of inches x and returns the number of feet. One foot equals 12 inches.\n",
        "\n",
        "What is inches_to_ft(144)?"
      ]
    },
    {
      "cell_type": "code",
      "metadata": {
        "colab": {
          "base_uri": "https://localhost:8080/",
          "height": 34
        },
        "id": "2rf0Xo2laCDc",
        "outputId": "03d991e2-fbfd-46e3-b2ce-858411a74ecc"
      },
      "source": [
        "inches_to_ft <- function(x){x/12}\n",
        "inches_to_ft(144)"
      ],
      "execution_count": 124,
      "outputs": [
        {
          "output_type": "display_data",
          "data": {
            "text/plain": [
              "[1] 12"
            ],
            "text/latex": "12",
            "text/markdown": "12",
            "text/html": [
              "12"
            ]
          },
          "metadata": {
            "tags": []
          }
        }
      ]
    },
    {
      "cell_type": "markdown",
      "metadata": {
        "id": "bgz8COYDaIHC"
      },
      "source": [
        "How many individuals in the heights dataset have a height less than 5 feet?"
      ]
    },
    {
      "cell_type": "code",
      "metadata": {
        "colab": {
          "base_uri": "https://localhost:8080/",
          "height": 34
        },
        "id": "bCPF2_e0aI6q",
        "outputId": "9c4dc872-600e-4884-d238-890a7ab02104"
      },
      "source": [
        "sum(inches_to_ft(heights$height) < 5)"
      ],
      "execution_count": 125,
      "outputs": [
        {
          "output_type": "display_data",
          "data": {
            "text/plain": [
              "[1] 20"
            ],
            "text/latex": "20",
            "text/markdown": "20",
            "text/html": [
              "20"
            ]
          },
          "metadata": {
            "tags": []
          }
        }
      ]
    },
    {
      "cell_type": "markdown",
      "metadata": {
        "id": "568lY0K9aL2K"
      },
      "source": [
        "4. Which of the following are TRUE?"
      ]
    },
    {
      "cell_type": "code",
      "metadata": {
        "id": "HIRKqQjRaRC7"
      },
      "source": [
        "any(TRUE, TRUE, TRUE)\n",
        "any(TRUE, TRUE, FALSE)\n",
        "any(TRUE, FALSE, FALSE)\n",
        "all(TRUE, TRUE, TRUE)\n"
      ],
      "execution_count": null,
      "outputs": []
    },
    {
      "cell_type": "markdown",
      "metadata": {
        "id": "wdChDvicaZWi"
      },
      "source": [
        "5. Given an integer x, the factorial of x is called x! and is the product of all integers up to and including x. The factorial() function computes factorials in R. For example, factorial(4) returns 4! = 4 × 3 × 2 × 1 = 24."
      ]
    },
    {
      "cell_type": "code",
      "metadata": {
        "colab": {
          "base_uri": "https://localhost:8080/",
          "height": 34
        },
        "id": "wvzUXOpBaXYr",
        "outputId": "517bdd72-951b-48a7-8646-9a2932c2fb7e"
      },
      "source": [
        "# define a vector of length m\n",
        "m <- 10\n",
        "f_n <- vector(length = m)\n",
        "\n",
        "# make a vector of factorials\n",
        "for(n in 1:m){\n",
        "f_n[n] <- factorial(n)\n",
        "}\n",
        "\n",
        "# inspect f_n\n",
        "f_n"
      ],
      "execution_count": 127,
      "outputs": [
        {
          "output_type": "display_data",
          "data": {
            "text/plain": [
              " [1]       1       2       6      24     120     720    5040   40320  362880\n",
              "[10] 3628800"
            ],
            "text/latex": "\\begin{enumerate*}\n\\item 1\n\\item 2\n\\item 6\n\\item 24\n\\item 120\n\\item 720\n\\item 5040\n\\item 40320\n\\item 362880\n\\item 3628800\n\\end{enumerate*}\n",
            "text/markdown": "1. 1\n2. 2\n3. 6\n4. 24\n5. 120\n6. 720\n7. 5040\n8. 40320\n9. 362880\n10. 3628800\n\n\n",
            "text/html": [
              "<style>\n",
              ".list-inline {list-style: none; margin:0; padding: 0}\n",
              ".list-inline>li {display: inline-block}\n",
              ".list-inline>li:not(:last-child)::after {content: \"\\00b7\"; padding: 0 .5ex}\n",
              "</style>\n",
              "<ol class=list-inline><li>1</li><li>2</li><li>6</li><li>24</li><li>120</li><li>720</li><li>5040</li><li>40320</li><li>362880</li><li>3628800</li></ol>\n"
            ]
          },
          "metadata": {
            "tags": []
          }
        }
      ]
    }
  ]
}