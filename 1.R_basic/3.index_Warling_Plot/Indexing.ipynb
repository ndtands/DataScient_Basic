{
  "nbformat": 4,
  "nbformat_minor": 0,
  "metadata": {
    "colab": {
      "name": "Indexing.ipynb",
      "provenance": [],
      "collapsed_sections": []
    },
    "kernelspec": {
      "name": "ir",
      "display_name": "R"
    },
    "accelerator": "GPU"
  },
  "cells": [
    {
      "cell_type": "markdown",
      "metadata": {
        "id": "CWCxmopZLgKi"
      },
      "source": [
        ""
      ]
    },
    {
      "cell_type": "code",
      "metadata": {
        "colab": {
          "base_uri": "https://localhost:8080/"
        },
        "id": "WaiTz-P5Lq7B",
        "outputId": "f2e5073b-b2ee-4190-fa87-37e19a772340"
      },
      "source": [
        "install.packages(\"dslabs\")\n",
        "library(dslabs)"
      ],
      "execution_count": 26,
      "outputs": [
        {
          "output_type": "stream",
          "text": [
            "Installing package into ‘/usr/local/lib/R/site-library’\n",
            "(as ‘lib’ is unspecified)\n",
            "\n"
          ],
          "name": "stderr"
        }
      ]
    },
    {
      "cell_type": "code",
      "metadata": {
        "colab": {
          "base_uri": "https://localhost:8080/",
          "height": 246
        },
        "id": "3bOJdMrELnsk",
        "outputId": "027c4a08-adb3-47d6-aedd-5b1163f028bd"
      },
      "source": [
        "head(murders)\n",
        "# defining murder rate as before\n",
        "murder_rate <- murders$total / murders$population * 100000\n",
        "# creating a logical vector that specifies if the murder rate in that state is less than or equal to 0.71\n",
        "index <- murder_rate <= 0.71\n",
        "# determining which states have murder rates less than or equal to 0.71\n",
        "murders$state[index]\n",
        "# calculating how many states have a murder rate less than or equal to 0.71\n",
        "sum(index)\n",
        "# creating the two logical vectors representing our conditions\n",
        "west <- murders$region == \"West\"\n",
        "safe <- murder_rate <= 1\n",
        "# defining an index and identifying states with both conditions true\n",
        "index <- safe & west\n",
        "murders$state[index]"
      ],
      "execution_count": 27,
      "outputs": [
        {
          "output_type": "display_data",
          "data": {
            "text/plain": [
              "  state      abb region population total\n",
              "1 Alabama    AL  South   4779736    135 \n",
              "2 Alaska     AK  West     710231     19 \n",
              "3 Arizona    AZ  West    6392017    232 \n",
              "4 Arkansas   AR  South   2915918     93 \n",
              "5 California CA  West   37253956   1257 \n",
              "6 Colorado   CO  West    5029196     65 "
            ],
            "text/latex": "A data.frame: 6 × 5\n\\begin{tabular}{r|lllll}\n  & state & abb & region & population & total\\\\\n  & <chr> & <chr> & <fct> & <dbl> & <dbl>\\\\\n\\hline\n\t1 & Alabama    & AL & South &  4779736 &  135\\\\\n\t2 & Alaska     & AK & West  &   710231 &   19\\\\\n\t3 & Arizona    & AZ & West  &  6392017 &  232\\\\\n\t4 & Arkansas   & AR & South &  2915918 &   93\\\\\n\t5 & California & CA & West  & 37253956 & 1257\\\\\n\t6 & Colorado   & CO & West  &  5029196 &   65\\\\\n\\end{tabular}\n",
            "text/markdown": "\nA data.frame: 6 × 5\n\n| <!--/--> | state &lt;chr&gt; | abb &lt;chr&gt; | region &lt;fct&gt; | population &lt;dbl&gt; | total &lt;dbl&gt; |\n|---|---|---|---|---|---|\n| 1 | Alabama    | AL | South |  4779736 |  135 |\n| 2 | Alaska     | AK | West  |   710231 |   19 |\n| 3 | Arizona    | AZ | West  |  6392017 |  232 |\n| 4 | Arkansas   | AR | South |  2915918 |   93 |\n| 5 | California | CA | West  | 37253956 | 1257 |\n| 6 | Colorado   | CO | West  |  5029196 |   65 |\n\n",
            "text/html": [
              "<table>\n",
              "<caption>A data.frame: 6 × 5</caption>\n",
              "<thead>\n",
              "\t<tr><th></th><th scope=col>state</th><th scope=col>abb</th><th scope=col>region</th><th scope=col>population</th><th scope=col>total</th></tr>\n",
              "\t<tr><th></th><th scope=col>&lt;chr&gt;</th><th scope=col>&lt;chr&gt;</th><th scope=col>&lt;fct&gt;</th><th scope=col>&lt;dbl&gt;</th><th scope=col>&lt;dbl&gt;</th></tr>\n",
              "</thead>\n",
              "<tbody>\n",
              "\t<tr><th scope=row>1</th><td>Alabama   </td><td>AL</td><td>South</td><td> 4779736</td><td> 135</td></tr>\n",
              "\t<tr><th scope=row>2</th><td>Alaska    </td><td>AK</td><td>West </td><td>  710231</td><td>  19</td></tr>\n",
              "\t<tr><th scope=row>3</th><td>Arizona   </td><td>AZ</td><td>West </td><td> 6392017</td><td> 232</td></tr>\n",
              "\t<tr><th scope=row>4</th><td>Arkansas  </td><td>AR</td><td>South</td><td> 2915918</td><td>  93</td></tr>\n",
              "\t<tr><th scope=row>5</th><td>California</td><td>CA</td><td>West </td><td>37253956</td><td>1257</td></tr>\n",
              "\t<tr><th scope=row>6</th><td>Colorado  </td><td>CO</td><td>West </td><td> 5029196</td><td>  65</td></tr>\n",
              "</tbody>\n",
              "</table>\n"
            ]
          },
          "metadata": {
            "tags": []
          }
        },
        {
          "output_type": "display_data",
          "data": {
            "text/plain": [
              "[1] \"Hawaii\"        \"Iowa\"          \"New Hampshire\" \"North Dakota\" \n",
              "[5] \"Vermont\"      "
            ],
            "text/latex": "\\begin{enumerate*}\n\\item 'Hawaii'\n\\item 'Iowa'\n\\item 'New Hampshire'\n\\item 'North Dakota'\n\\item 'Vermont'\n\\end{enumerate*}\n",
            "text/markdown": "1. 'Hawaii'\n2. 'Iowa'\n3. 'New Hampshire'\n4. 'North Dakota'\n5. 'Vermont'\n\n\n",
            "text/html": [
              "<style>\n",
              ".list-inline {list-style: none; margin:0; padding: 0}\n",
              ".list-inline>li {display: inline-block}\n",
              ".list-inline>li:not(:last-child)::after {content: \"\\00b7\"; padding: 0 .5ex}\n",
              "</style>\n",
              "<ol class=list-inline><li>'Hawaii'</li><li>'Iowa'</li><li>'New Hampshire'</li><li>'North Dakota'</li><li>'Vermont'</li></ol>\n"
            ]
          },
          "metadata": {
            "tags": []
          }
        },
        {
          "output_type": "display_data",
          "data": {
            "text/plain": [
              "[1] 5"
            ],
            "text/latex": "5",
            "text/markdown": "5",
            "text/html": [
              "5"
            ]
          },
          "metadata": {
            "tags": []
          }
        },
        {
          "output_type": "display_data",
          "data": {
            "text/plain": [
              "[1] \"Hawaii\"  \"Idaho\"   \"Oregon\"  \"Utah\"    \"Wyoming\""
            ],
            "text/latex": "\\begin{enumerate*}\n\\item 'Hawaii'\n\\item 'Idaho'\n\\item 'Oregon'\n\\item 'Utah'\n\\item 'Wyoming'\n\\end{enumerate*}\n",
            "text/markdown": "1. 'Hawaii'\n2. 'Idaho'\n3. 'Oregon'\n4. 'Utah'\n5. 'Wyoming'\n\n\n",
            "text/html": [
              "<style>\n",
              ".list-inline {list-style: none; margin:0; padding: 0}\n",
              ".list-inline>li {display: inline-block}\n",
              ".list-inline>li:not(:last-child)::after {content: \"\\00b7\"; padding: 0 .5ex}\n",
              "</style>\n",
              "<ol class=list-inline><li>'Hawaii'</li><li>'Idaho'</li><li>'Oregon'</li><li>'Utah'</li><li>'Wyoming'</li></ol>\n"
            ]
          },
          "metadata": {
            "tags": []
          }
        }
      ]
    },
    {
      "cell_type": "code",
      "metadata": {
        "colab": {
          "base_uri": "https://localhost:8080/",
          "height": 34
        },
        "id": "oJNVTLSZL2kG",
        "outputId": "8303e61f-4695-449c-d93e-fb517d4e7fb4"
      },
      "source": [
        "x <- c(FALSE, TRUE, FALSE, TRUE, TRUE, FALSE)\n",
        "which(x)    # returns indices that are TRUE"
      ],
      "execution_count": 28,
      "outputs": [
        {
          "output_type": "display_data",
          "data": {
            "text/plain": [
              "[1] 2 4 5"
            ],
            "text/latex": "\\begin{enumerate*}\n\\item 2\n\\item 4\n\\item 5\n\\end{enumerate*}\n",
            "text/markdown": "1. 2\n2. 4\n3. 5\n\n\n",
            "text/html": [
              "<style>\n",
              ".list-inline {list-style: none; margin:0; padding: 0}\n",
              ".list-inline>li {display: inline-block}\n",
              ".list-inline>li:not(:last-child)::after {content: \"\\00b7\"; padding: 0 .5ex}\n",
              "</style>\n",
              "<ol class=list-inline><li>2</li><li>4</li><li>5</li></ol>\n"
            ]
          },
          "metadata": {
            "tags": []
          }
        }
      ]
    },
    {
      "cell_type": "code",
      "metadata": {
        "colab": {
          "base_uri": "https://localhost:8080/",
          "height": 50
        },
        "id": "9S3axr65MLCb",
        "outputId": "6aba8a45-2a5f-40e5-98ae-157bd9873297"
      },
      "source": [
        "# to determine the murder rate in Massachusetts we may do the following\n",
        "index <- which(murders$state == \"Massachusetts\")\n",
        "index\n",
        "murder_rate[index]"
      ],
      "execution_count": 29,
      "outputs": [
        {
          "output_type": "display_data",
          "data": {
            "text/plain": [
              "[1] 22"
            ],
            "text/latex": "22",
            "text/markdown": "22",
            "text/html": [
              "22"
            ]
          },
          "metadata": {
            "tags": []
          }
        },
        {
          "output_type": "display_data",
          "data": {
            "text/plain": [
              "[1] 1.802179"
            ],
            "text/latex": "1.80217907886962",
            "text/markdown": "1.80217907886962",
            "text/html": [
              "1.80217907886962"
            ]
          },
          "metadata": {
            "tags": []
          }
        }
      ]
    },
    {
      "cell_type": "code",
      "metadata": {
        "colab": {
          "base_uri": "https://localhost:8080/",
          "height": 34
        },
        "id": "RVzAF56BMWir",
        "outputId": "e3774282-b434-48c7-e9ad-7c3d3a91ec4a"
      },
      "source": [
        "# to obtain the indices and subsequent murder rates of New York, Florida, Texas, we do:\n",
        "index <- match(c(\"New York\", \"Florida\", \"Texas\"), murders$state)\n",
        "index"
      ],
      "execution_count": 30,
      "outputs": [
        {
          "output_type": "display_data",
          "data": {
            "text/plain": [
              "[1] 33 10 44"
            ],
            "text/latex": "\\begin{enumerate*}\n\\item 33\n\\item 10\n\\item 44\n\\end{enumerate*}\n",
            "text/markdown": "1. 33\n2. 10\n3. 44\n\n\n",
            "text/html": [
              "<style>\n",
              ".list-inline {list-style: none; margin:0; padding: 0}\n",
              ".list-inline>li {display: inline-block}\n",
              ".list-inline>li:not(:last-child)::after {content: \"\\00b7\"; padding: 0 .5ex}\n",
              "</style>\n",
              "<ol class=list-inline><li>33</li><li>10</li><li>44</li></ol>\n"
            ]
          },
          "metadata": {
            "tags": []
          }
        }
      ]
    },
    {
      "cell_type": "code",
      "metadata": {
        "colab": {
          "base_uri": "https://localhost:8080/",
          "height": 50
        },
        "id": "AT6SIEa5M4Fb",
        "outputId": "23c348cc-8356-4ca7-b0e2-2085c7beaa14"
      },
      "source": [
        "murders$state[index]\n",
        "murder_rate[index]"
      ],
      "execution_count": 31,
      "outputs": [
        {
          "output_type": "display_data",
          "data": {
            "text/plain": [
              "[1] \"New York\" \"Florida\"  \"Texas\"   "
            ],
            "text/latex": "\\begin{enumerate*}\n\\item 'New York'\n\\item 'Florida'\n\\item 'Texas'\n\\end{enumerate*}\n",
            "text/markdown": "1. 'New York'\n2. 'Florida'\n3. 'Texas'\n\n\n",
            "text/html": [
              "<style>\n",
              ".list-inline {list-style: none; margin:0; padding: 0}\n",
              ".list-inline>li {display: inline-block}\n",
              ".list-inline>li:not(:last-child)::after {content: \"\\00b7\"; padding: 0 .5ex}\n",
              "</style>\n",
              "<ol class=list-inline><li>'New York'</li><li>'Florida'</li><li>'Texas'</li></ol>\n"
            ]
          },
          "metadata": {
            "tags": []
          }
        },
        {
          "output_type": "display_data",
          "data": {
            "text/plain": [
              "[1] 2.667960 3.398069 3.201360"
            ],
            "text/latex": "\\begin{enumerate*}\n\\item 2.66795994778023\n\\item 3.39806883024604\n\\item 3.20136027189849\n\\end{enumerate*}\n",
            "text/markdown": "1. 2.66795994778023\n2. 3.39806883024604\n3. 3.20136027189849\n\n\n",
            "text/html": [
              "<style>\n",
              ".list-inline {list-style: none; margin:0; padding: 0}\n",
              ".list-inline>li {display: inline-block}\n",
              ".list-inline>li:not(:last-child)::after {content: \"\\00b7\"; padding: 0 .5ex}\n",
              "</style>\n",
              "<ol class=list-inline><li>2.66795994778023</li><li>3.39806883024604</li><li>3.20136027189849</li></ol>\n"
            ]
          },
          "metadata": {
            "tags": []
          }
        }
      ]
    },
    {
      "cell_type": "code",
      "metadata": {
        "colab": {
          "base_uri": "https://localhost:8080/",
          "height": 34
        },
        "id": "5i84taukM6tO",
        "outputId": "87419c53-110f-4bc9-81fd-cb1f866c521f"
      },
      "source": [
        "x <- c(\"a\", \"b\", \"c\", \"d\", \"e\")\n",
        "y <- c(\"a\", \"d\", \"f\")\n",
        "y %in% x #out folowing size of y"
      ],
      "execution_count": 33,
      "outputs": [
        {
          "output_type": "display_data",
          "data": {
            "text/plain": [
              "[1]  TRUE  TRUE FALSE"
            ],
            "text/latex": "\\begin{enumerate*}\n\\item TRUE\n\\item TRUE\n\\item FALSE\n\\end{enumerate*}\n",
            "text/markdown": "1. TRUE\n2. TRUE\n3. FALSE\n\n\n",
            "text/html": [
              "<style>\n",
              ".list-inline {list-style: none; margin:0; padding: 0}\n",
              ".list-inline>li {display: inline-block}\n",
              ".list-inline>li:not(:last-child)::after {content: \"\\00b7\"; padding: 0 .5ex}\n",
              "</style>\n",
              "<ol class=list-inline><li>TRUE</li><li>TRUE</li><li>FALSE</li></ol>\n"
            ]
          },
          "metadata": {
            "tags": []
          }
        }
      ]
    },
    {
      "cell_type": "code",
      "metadata": {
        "colab": {
          "base_uri": "https://localhost:8080/",
          "height": 34
        },
        "id": "uAR_eRRcNFr0",
        "outputId": "e44279d1-7646-4260-e69f-14a1abadcac8"
      },
      "source": [
        "# to see if Boston, Dakota, and Washington are states\n",
        "c(\"Boston\", \"Dakota\", \"Washington\") %in% murders$state"
      ],
      "execution_count": 34,
      "outputs": [
        {
          "output_type": "display_data",
          "data": {
            "text/plain": [
              "[1] FALSE FALSE  TRUE"
            ],
            "text/latex": "\\begin{enumerate*}\n\\item FALSE\n\\item FALSE\n\\item TRUE\n\\end{enumerate*}\n",
            "text/markdown": "1. FALSE\n2. FALSE\n3. TRUE\n\n\n",
            "text/html": [
              "<style>\n",
              ".list-inline {list-style: none; margin:0; padding: 0}\n",
              ".list-inline>li {display: inline-block}\n",
              ".list-inline>li:not(:last-child)::after {content: \"\\00b7\"; padding: 0 .5ex}\n",
              "</style>\n",
              "<ol class=list-inline><li>FALSE</li><li>FALSE</li><li>TRUE</li></ol>\n"
            ]
          },
          "metadata": {
            "tags": []
          }
        }
      ]
    },
    {
      "cell_type": "markdown",
      "metadata": {
        "id": "QKvhbVkqNNDk"
      },
      "source": [
        "#Practice\n"
      ]
    },
    {
      "cell_type": "markdown",
      "metadata": {
        "id": "7106LW_zNPXv"
      },
      "source": [
        "##Question1:\n"
      ]
    },
    {
      "cell_type": "code",
      "metadata": {
        "id": "BLUj-zetNH-1"
      },
      "source": [
        "# Store the murder rate per 100,000 for each state, in `murder_rate`\n",
        "murder_rate <- murders$total / murders$population * 100000\n",
        "\n",
        "# Store the `murder_rate < 1` in `low` \n",
        "low <- murder_rate <1\n"
      ],
      "execution_count": 35,
      "outputs": []
    },
    {
      "cell_type": "markdown",
      "metadata": {
        "id": "zf26TjpYNXdw"
      },
      "source": [
        "##Question2:\n",
        "The function which() helps us know directly, which values are low or high, etc. Let's use it in this question."
      ]
    },
    {
      "cell_type": "code",
      "metadata": {
        "colab": {
          "base_uri": "https://localhost:8080/",
          "height": 34
        },
        "id": "em2LAs5QNdKx",
        "outputId": "b5c39c71-3f89-49c2-ba32-de36293a8bc6"
      },
      "source": [
        "# Store the murder rate per 100,000 for each state, in murder_rate\n",
        "murder_rate <- murders$total/murders$population*100000\n",
        "\n",
        "# Store the murder_rate < 1 in low \n",
        "low <- murder_rate < 1\n",
        "\n",
        "# Get the indices of entries that are below 1\n",
        "which(low)"
      ],
      "execution_count": 36,
      "outputs": [
        {
          "output_type": "display_data",
          "data": {
            "text/plain": [
              " [1] 12 13 16 20 24 30 35 38 42 45 46 51"
            ],
            "text/latex": "\\begin{enumerate*}\n\\item 12\n\\item 13\n\\item 16\n\\item 20\n\\item 24\n\\item 30\n\\item 35\n\\item 38\n\\item 42\n\\item 45\n\\item 46\n\\item 51\n\\end{enumerate*}\n",
            "text/markdown": "1. 12\n2. 13\n3. 16\n4. 20\n5. 24\n6. 30\n7. 35\n8. 38\n9. 42\n10. 45\n11. 46\n12. 51\n\n\n",
            "text/html": [
              "<style>\n",
              ".list-inline {list-style: none; margin:0; padding: 0}\n",
              ".list-inline>li {display: inline-block}\n",
              ".list-inline>li:not(:last-child)::after {content: \"\\00b7\"; padding: 0 .5ex}\n",
              "</style>\n",
              "<ol class=list-inline><li>12</li><li>13</li><li>16</li><li>20</li><li>24</li><li>30</li><li>35</li><li>38</li><li>42</li><li>45</li><li>46</li><li>51</li></ol>\n"
            ]
          },
          "metadata": {
            "tags": []
          }
        }
      ]
    },
    {
      "cell_type": "markdown",
      "metadata": {
        "id": "lz3RtEEtNmDw"
      },
      "source": [
        "##Question3:\n",
        "The code above shows us the states with populations smaller than one million."
      ]
    },
    {
      "cell_type": "code",
      "metadata": {
        "colab": {
          "base_uri": "https://localhost:8080/",
          "height": 50
        },
        "id": "ZNkjKgfWNrJq",
        "outputId": "862e35d9-e78a-40b4-e1a3-d6070098d06d"
      },
      "source": [
        "# Store the murder rate per 100,000 for each state, in murder_rate\n",
        "murder_rate <- murders$total/murders$population*100000\n",
        "\n",
        "# Store the murder_rate < 1 in low \n",
        "low <- murder_rate < 1\n",
        "\n",
        "# Names of states with murder rates lower than 1\n",
        "murders$state[which(low)]"
      ],
      "execution_count": 37,
      "outputs": [
        {
          "output_type": "display_data",
          "data": {
            "text/plain": [
              " [1] \"Hawaii\"        \"Idaho\"         \"Iowa\"          \"Maine\"        \n",
              " [5] \"Minnesota\"     \"New Hampshire\" \"North Dakota\"  \"Oregon\"       \n",
              " [9] \"South Dakota\"  \"Utah\"          \"Vermont\"       \"Wyoming\"      "
            ],
            "text/latex": "\\begin{enumerate*}\n\\item 'Hawaii'\n\\item 'Idaho'\n\\item 'Iowa'\n\\item 'Maine'\n\\item 'Minnesota'\n\\item 'New Hampshire'\n\\item 'North Dakota'\n\\item 'Oregon'\n\\item 'South Dakota'\n\\item 'Utah'\n\\item 'Vermont'\n\\item 'Wyoming'\n\\end{enumerate*}\n",
            "text/markdown": "1. 'Hawaii'\n2. 'Idaho'\n3. 'Iowa'\n4. 'Maine'\n5. 'Minnesota'\n6. 'New Hampshire'\n7. 'North Dakota'\n8. 'Oregon'\n9. 'South Dakota'\n10. 'Utah'\n11. 'Vermont'\n12. 'Wyoming'\n\n\n",
            "text/html": [
              "<style>\n",
              ".list-inline {list-style: none; margin:0; padding: 0}\n",
              ".list-inline>li {display: inline-block}\n",
              ".list-inline>li:not(:last-child)::after {content: \"\\00b7\"; padding: 0 .5ex}\n",
              "</style>\n",
              "<ol class=list-inline><li>'Hawaii'</li><li>'Idaho'</li><li>'Iowa'</li><li>'Maine'</li><li>'Minnesota'</li><li>'New Hampshire'</li><li>'North Dakota'</li><li>'Oregon'</li><li>'South Dakota'</li><li>'Utah'</li><li>'Vermont'</li><li>'Wyoming'</li></ol>\n"
            ]
          },
          "metadata": {
            "tags": []
          }
        }
      ]
    },
    {
      "cell_type": "markdown",
      "metadata": {
        "id": "4aJDMwIINuel"
      },
      "source": [
        "##Question4:\n",
        "Filtering"
      ]
    },
    {
      "cell_type": "code",
      "metadata": {
        "colab": {
          "base_uri": "https://localhost:8080/",
          "height": 34
        },
        "id": "GVbO5VwyN2Xg",
        "outputId": "8900afc9-6b09-47d7-d140-e676a24483c2"
      },
      "source": [
        "# Store the murder rate per 100,000 for each state, in `murder_rate`\n",
        "murder_rate <- murders$total/murders$population*100000\n",
        "\n",
        "# Store the `murder_rate < 1` in `low` \n",
        "low <- murder_rate < 1\n",
        "\n",
        "# Create a vector ind for states in the Northeast and with murder rates lower than 1. \n",
        "ind <- low&(murders$region ==\"Northeast\")\n",
        "# Names of states in `ind` \n",
        "murders$state[ind]"
      ],
      "execution_count": 38,
      "outputs": [
        {
          "output_type": "display_data",
          "data": {
            "text/plain": [
              "[1] \"Maine\"         \"New Hampshire\" \"Vermont\"      "
            ],
            "text/latex": "\\begin{enumerate*}\n\\item 'Maine'\n\\item 'New Hampshire'\n\\item 'Vermont'\n\\end{enumerate*}\n",
            "text/markdown": "1. 'Maine'\n2. 'New Hampshire'\n3. 'Vermont'\n\n\n",
            "text/html": [
              "<style>\n",
              ".list-inline {list-style: none; margin:0; padding: 0}\n",
              ".list-inline>li {display: inline-block}\n",
              ".list-inline>li:not(:last-child)::after {content: \"\\00b7\"; padding: 0 .5ex}\n",
              "</style>\n",
              "<ol class=list-inline><li>'Maine'</li><li>'New Hampshire'</li><li>'Vermont'</li></ol>\n"
            ]
          },
          "metadata": {
            "tags": []
          }
        }
      ]
    },
    {
      "cell_type": "markdown",
      "metadata": {
        "id": "O9J-eK0GN86o"
      },
      "source": [
        "##Question5:\n",
        "In a previous exercise we computed the murder rate for each state and the average of these numbers.\n",
        "\n",
        "How many states are below the average?"
      ]
    },
    {
      "cell_type": "code",
      "metadata": {
        "colab": {
          "base_uri": "https://localhost:8080/",
          "height": 34
        },
        "id": "-rk1P5xwOBAv",
        "outputId": "c9b72b1b-7e49-4de1-b020-8965c8b72d43"
      },
      "source": [
        "# Store the murder rate per 100,000 for each state, in murder_rate\n",
        "murder_rate <- murders$total/murders$population*100000\n",
        "\n",
        "# Compute the average murder rate using `mean` and store it in object named `avg`\n",
        "avg <- mean(murder_rate)\n",
        "\n",
        "# How many states have murder rates below avg ? Check using sum \n",
        "sum(murder_rate < avg)\n"
      ],
      "execution_count": 40,
      "outputs": [
        {
          "output_type": "display_data",
          "data": {
            "text/plain": [
              "[1] 27"
            ],
            "text/latex": "27",
            "text/markdown": "27",
            "text/html": [
              "27"
            ]
          },
          "metadata": {
            "tags": []
          }
        }
      ]
    },
    {
      "cell_type": "markdown",
      "metadata": {
        "id": "AfTUHqQrOFWD"
      },
      "source": [
        "#Question6:\n",
        "In this exercise we use the match function to identify the states with abbreviations AK, MI, and IA."
      ]
    },
    {
      "cell_type": "code",
      "metadata": {
        "colab": {
          "base_uri": "https://localhost:8080/",
          "height": 34
        },
        "id": "rNg1ciPGOJeb",
        "outputId": "a8d03b54-33ec-4d0a-c1d2-1cc4737f8cfc"
      },
      "source": [
        "# Store the 3 abbreviations in a vector called `abbs` (remember that they are character vectors and need quotes)\n",
        "abbs <- c('AK','MI','IA')\n",
        "# Match the abbs to the murders$abb and store in ind\n",
        "ind <- match(abbs,murders$abb) #return size of abbs\n",
        "# Print state names from ind\n",
        "murders$state[ind]"
      ],
      "execution_count": 42,
      "outputs": [
        {
          "output_type": "display_data",
          "data": {
            "text/plain": [
              "[1] \"Alaska\"   \"Michigan\" \"Iowa\"    "
            ],
            "text/latex": "\\begin{enumerate*}\n\\item 'Alaska'\n\\item 'Michigan'\n\\item 'Iowa'\n\\end{enumerate*}\n",
            "text/markdown": "1. 'Alaska'\n2. 'Michigan'\n3. 'Iowa'\n\n\n",
            "text/html": [
              "<style>\n",
              ".list-inline {list-style: none; margin:0; padding: 0}\n",
              ".list-inline>li {display: inline-block}\n",
              ".list-inline>li:not(:last-child)::after {content: \"\\00b7\"; padding: 0 .5ex}\n",
              "</style>\n",
              "<ol class=list-inline><li>'Alaska'</li><li>'Michigan'</li><li>'Iowa'</li></ol>\n"
            ]
          },
          "metadata": {
            "tags": []
          }
        }
      ]
    },
    {
      "cell_type": "markdown",
      "metadata": {
        "id": "rUS7UA5xORNX"
      },
      "source": [
        "##Question7:\n",
        "###%in%\n",
        "If rather than an index we want a logical that tells us whether or not each element of a first vector is in a second, we can use the function %in%"
      ]
    },
    {
      "cell_type": "code",
      "metadata": {
        "colab": {
          "base_uri": "https://localhost:8080/",
          "height": 34
        },
        "id": "7n4ssP_NOZRU",
        "outputId": "743bfa5f-9ae4-4593-9e55-04147c143c33"
      },
      "source": [
        "# Store the 5 abbreviations in `abbs`. (remember that they are character vectors)\n",
        "abbs <- c('MA','ME','MI','MO','MU')\n",
        "\n",
        "# Use the %in% command to check if the entries of abbs are abbreviations in the the murders data frame\n",
        "abbs %in% murders$abb"
      ],
      "execution_count": 43,
      "outputs": [
        {
          "output_type": "display_data",
          "data": {
            "text/plain": [
              "[1]  TRUE  TRUE  TRUE  TRUE FALSE"
            ],
            "text/latex": "\\begin{enumerate*}\n\\item TRUE\n\\item TRUE\n\\item TRUE\n\\item TRUE\n\\item FALSE\n\\end{enumerate*}\n",
            "text/markdown": "1. TRUE\n2. TRUE\n3. TRUE\n4. TRUE\n5. FALSE\n\n\n",
            "text/html": [
              "<style>\n",
              ".list-inline {list-style: none; margin:0; padding: 0}\n",
              ".list-inline>li {display: inline-block}\n",
              ".list-inline>li:not(:last-child)::after {content: \"\\00b7\"; padding: 0 .5ex}\n",
              "</style>\n",
              "<ol class=list-inline><li>TRUE</li><li>TRUE</li><li>TRUE</li><li>TRUE</li><li>FALSE</li></ol>\n"
            ]
          },
          "metadata": {
            "tags": []
          }
        }
      ]
    },
    {
      "cell_type": "markdown",
      "metadata": {
        "id": "gOCMylsvObEW"
      },
      "source": [
        "##Question8: \n",
        "Logical operator"
      ]
    },
    {
      "cell_type": "code",
      "metadata": {
        "colab": {
          "base_uri": "https://localhost:8080/",
          "height": 34
        },
        "id": "rBnmgdM0OgW6",
        "outputId": "fc666fa0-a604-4366-c7c6-1088d8add297"
      },
      "source": [
        "# Store the 5 abbreviations in abbs. (remember that they are character vectors)\n",
        "abbs <- c(\"MA\", \"ME\", \"MI\", \"MO\", \"MU\") \n",
        "\n",
        "# Use the `which` command and `!` operator to find out which index abbreviations are not actually part of the dataset and store in `ind`\n",
        "ind <- which(!abbs%in%murders$abb)\n",
        "# Names of abbreviations in `ind`\n",
        "abbs[ind]"
      ],
      "execution_count": 44,
      "outputs": [
        {
          "output_type": "display_data",
          "data": {
            "text/plain": [
              "[1] \"MU\""
            ],
            "text/latex": "'MU'",
            "text/markdown": "'MU'",
            "text/html": [
              "'MU'"
            ]
          },
          "metadata": {
            "tags": []
          }
        }
      ]
    }
  ]
}