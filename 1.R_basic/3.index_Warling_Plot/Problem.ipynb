{
  "nbformat": 4,
  "nbformat_minor": 0,
  "metadata": {
    "colab": {
      "name": "Problem.ipynb",
      "provenance": [],
      "collapsed_sections": []
    },
    "kernelspec": {
      "name": "ir",
      "display_name": "R"
    },
    "accelerator": "GPU"
  },
  "cells": [
    {
      "cell_type": "markdown",
      "metadata": {
        "id": "NsCdpieHSugF"
      },
      "source": [
        "For questions 1-8, load the dslabs dataset heights:"
      ]
    },
    {
      "cell_type": "code",
      "metadata": {
        "id": "sRVRCJfNSxjy"
      },
      "source": [
        "library(dslabs)\n",
        "data(heights)\n",
        "options(digits = 3)    # report 3 significant digits for all answer"
      ],
      "execution_count": 70,
      "outputs": []
    },
    {
      "cell_type": "markdown",
      "metadata": {
        "id": "jZptsb6tS03g"
      },
      "source": [
        "First, determine the average height in this dataset. Then create a logical vector ind with the indices for those individuals who are above average height.\n",
        "1. How many individuals in the dataset are above average height?"
      ]
    },
    {
      "cell_type": "code",
      "metadata": {
        "colab": {
          "base_uri": "https://localhost:8080/",
          "height": 86
        },
        "id": "6LMwYyRNS3No",
        "outputId": "70effb34-9aa7-4640-c16c-b2bda13e382c"
      },
      "source": [
        "str(heights)\n",
        "sum(heights$height >mean(heights$height))"
      ],
      "execution_count": 80,
      "outputs": [
        {
          "output_type": "stream",
          "text": [
            "'data.frame':\t1050 obs. of  2 variables:\n",
            " $ sex   : Factor w/ 2 levels \"Female\",\"Male\": 2 2 2 2 2 1 1 1 1 2 ...\n",
            " $ height: num  75 70 68 74 61 65 66 62 66 67 ...\n"
          ],
          "name": "stdout"
        },
        {
          "output_type": "display_data",
          "data": {
            "text/plain": [
              "[1] 532"
            ],
            "text/latex": "532",
            "text/markdown": "532",
            "text/html": [
              "532"
            ]
          },
          "metadata": {
            "tags": []
          }
        }
      ]
    },
    {
      "cell_type": "markdown",
      "metadata": {
        "id": "ZVmJrPd5T8pK"
      },
      "source": [
        "2. How many individuals in the dataset are above average height and are female?"
      ]
    },
    {
      "cell_type": "code",
      "metadata": {
        "colab": {
          "base_uri": "https://localhost:8080/",
          "height": 34
        },
        "id": "AYY5gi6RT_H-",
        "outputId": "5af466f3-88be-4395-e810-8939f036bac1"
      },
      "source": [
        "sum(heights$height >mean(heights$height) & heights$sex ==\"Female\")"
      ],
      "execution_count": 83,
      "outputs": [
        {
          "output_type": "display_data",
          "data": {
            "text/plain": [
              "[1] 31"
            ],
            "text/latex": "31",
            "text/markdown": "31",
            "text/html": [
              "31"
            ]
          },
          "metadata": {
            "tags": []
          }
        }
      ]
    },
    {
      "cell_type": "markdown",
      "metadata": {
        "id": "PbuN3HdOUOVb"
      },
      "source": [
        "If you use mean() on a logical (TRUE/FALSE) vector, it returns the proportion of observations that are TRUE.\n",
        "1. What proportion of individuals in the dataset are female?"
      ]
    },
    {
      "cell_type": "code",
      "metadata": {
        "colab": {
          "base_uri": "https://localhost:8080/",
          "height": 34
        },
        "id": "iTfBDRAuUQ_7",
        "outputId": "e3db2e79-1b14-48a4-f01f-7b8fb58dcc11"
      },
      "source": [
        "mean(heights$sex == \"Female\")"
      ],
      "execution_count": 84,
      "outputs": [
        {
          "output_type": "display_data",
          "data": {
            "text/plain": [
              "[1] 0.227"
            ],
            "text/latex": "0.226666666666667",
            "text/markdown": "0.226666666666667",
            "text/html": [
              "0.226666666666667"
            ]
          },
          "metadata": {
            "tags": []
          }
        }
      ]
    },
    {
      "cell_type": "markdown",
      "metadata": {
        "id": "FLGxUpv_UaKN"
      },
      "source": [
        "2. This question takes you through three steps to determine the sex of the individual with the minimum height."
      ]
    },
    {
      "cell_type": "code",
      "metadata": {
        "colab": {
          "base_uri": "https://localhost:8080/",
          "height": 34
        },
        "id": "hYBiwaJFUcrB",
        "outputId": "5e672508-0403-4c3b-84d8-f48c4d89dbf1"
      },
      "source": [
        "min(heights$height)"
      ],
      "execution_count": 85,
      "outputs": [
        {
          "output_type": "display_data",
          "data": {
            "text/plain": [
              "[1] 50"
            ],
            "text/latex": "50",
            "text/markdown": "50",
            "text/html": [
              "50"
            ]
          },
          "metadata": {
            "tags": []
          }
        }
      ]
    },
    {
      "cell_type": "markdown",
      "metadata": {
        "id": "VSpPYWmCUkXi"
      },
      "source": [
        "3. Use the match() function to determine the index of the first individual with the minimum height."
      ]
    },
    {
      "cell_type": "code",
      "metadata": {
        "colab": {
          "base_uri": "https://localhost:8080/",
          "height": 34
        },
        "id": "dR36XYiBUkE7",
        "outputId": "ba4a05c0-26b9-4d1c-8a09-b5c4a03177b4"
      },
      "source": [
        "match(min(heights$height),heights$height)"
      ],
      "execution_count": 86,
      "outputs": [
        {
          "output_type": "display_data",
          "data": {
            "text/plain": [
              "[1] 1032"
            ],
            "text/latex": "1032",
            "text/markdown": "1032",
            "text/html": [
              "1032"
            ]
          },
          "metadata": {
            "tags": []
          }
        }
      ]
    },
    {
      "cell_type": "markdown",
      "metadata": {
        "id": "73HniczZUskR"
      },
      "source": [
        "4. Subset the sex column of the dataset by the index in 4b to determine the individual’s sex."
      ]
    },
    {
      "cell_type": "code",
      "metadata": {
        "colab": {
          "base_uri": "https://localhost:8080/",
          "height": 50
        },
        "id": "Qqz0OpjqUtj2",
        "outputId": "c16a3849-2872-45a3-9570-4229ab026fad"
      },
      "source": [
        "heights$sex[match(min(heights$height),heights$height)]"
      ],
      "execution_count": 87,
      "outputs": [
        {
          "output_type": "display_data",
          "data": {
            "text/plain": [
              "[1] Male\n",
              "Levels: Female Male"
            ],
            "text/latex": "Male\n\\emph{Levels}: \\begin{enumerate*}\n\\item 'Female'\n\\item 'Male'\n\\end{enumerate*}\n",
            "text/markdown": "Male\n**Levels**: 1. 'Female'\n2. 'Male'\n\n\n",
            "text/html": [
              "Male\n",
              "<details>\n",
              "\t<summary style=display:list-item;cursor:pointer>\n",
              "\t\t<strong>Levels</strong>:\n",
              "\t</summary>\n",
              "\t<style>\n",
              "\t.list-inline {list-style: none; margin:0; padding: 0}\n",
              "\t.list-inline>li {display: inline-block}\n",
              "\t.list-inline>li:not(:last-child)::after {content: \"\\00b7\"; padding: 0 .5ex}\n",
              "\t</style>\n",
              "\t<ol class=list-inline><li>'Female'</li><li>'Male'</li></ol>\n",
              "</details>"
            ]
          },
          "metadata": {
            "tags": []
          }
        }
      ]
    },
    {
      "cell_type": "markdown",
      "metadata": {
        "id": "xzn_hAm8U4G5"
      },
      "source": [
        "5. This question takes you through three steps to determine how many of the integer height values between the minimum and maximum heights are not actual heights of individuals in the heights dataset."
      ]
    },
    {
      "cell_type": "markdown",
      "metadata": {
        "id": "s5bdFPyNU7R4"
      },
      "source": [
        "5a. Determine the maximum height"
      ]
    },
    {
      "cell_type": "code",
      "metadata": {
        "colab": {
          "base_uri": "https://localhost:8080/",
          "height": 34
        },
        "id": "3WRxU7hwU60q",
        "outputId": "c85038f1-40c4-4a74-8a0f-9ab3e430a2d4"
      },
      "source": [
        "max(heights$height)"
      ],
      "execution_count": 88,
      "outputs": [
        {
          "output_type": "display_data",
          "data": {
            "text/plain": [
              "[1] 82.7"
            ],
            "text/latex": "82.6771653543307",
            "text/markdown": "82.6771653543307",
            "text/html": [
              "82.6771653543307"
            ]
          },
          "metadata": {
            "tags": []
          }
        }
      ]
    },
    {
      "cell_type": "markdown",
      "metadata": {
        "id": "8kakNrSKVCt-"
      },
      "source": [
        "5b. Which integer values are between the maximum and minimum heights? For example, if the minimum height is 10.2 and the maximum height is 20.8, your answer should be x <- 11:20 to capture the integers in between those values. (If either the maximum or minimum height are integers, include those values too.)\n",
        "Write code to create a vector x that includes the integers between the minimum and maximum heights (as numbers).\n",
        "\n"
      ]
    },
    {
      "cell_type": "code",
      "metadata": {
        "id": "9QTQ7uIXVI90"
      },
      "source": [
        "x <- 50:82"
      ],
      "execution_count": 89,
      "outputs": []
    },
    {
      "cell_type": "markdown",
      "metadata": {
        "id": "ZEiUvAtBVVOd"
      },
      "source": [
        "5c. How many of the integers in x are NOT heights in the dataset?"
      ]
    },
    {
      "cell_type": "code",
      "metadata": {
        "colab": {
          "base_uri": "https://localhost:8080/",
          "height": 34
        },
        "id": "kBf-aRxbVYF9",
        "outputId": "9fe40569-ec1b-404d-b623-9df7be4ae9e8"
      },
      "source": [
        "sum(!(x %in% heights$height))"
      ],
      "execution_count": 91,
      "outputs": [
        {
          "output_type": "display_data",
          "data": {
            "text/plain": [
              "[1] 3"
            ],
            "text/latex": "3",
            "text/markdown": "3",
            "text/html": [
              "3"
            ]
          },
          "metadata": {
            "tags": []
          }
        }
      ]
    },
    {
      "cell_type": "markdown",
      "metadata": {
        "id": "0MvlwAsRVf3H"
      },
      "source": [
        "6. Using the heights dataset, create a new column of heights in centimeters named ht_cm. Recall that 1 inch = 2.54 centimeters. Save the resulting dataset as heights2.</br>\n",
        "6a. What is the height in centimeters of the 18th individual (index 18)?"
      ]
    },
    {
      "cell_type": "code",
      "metadata": {
        "colab": {
          "base_uri": "https://localhost:8080/",
          "height": 34
        },
        "id": "qBfGX3oFVmIT",
        "outputId": "77800ce8-87fc-4cbd-f550-281ada72a7d9"
      },
      "source": [
        "heights2 <- mutate(heights, ht_cm = height*2.54)\n",
        "heights2$ht_cm[18]"
      ],
      "execution_count": 92,
      "outputs": [
        {
          "output_type": "display_data",
          "data": {
            "text/plain": [
              "[1] 163"
            ],
            "text/latex": "162.56",
            "text/markdown": "162.56",
            "text/html": [
              "162.56"
            ]
          },
          "metadata": {
            "tags": []
          }
        }
      ]
    },
    {
      "cell_type": "markdown",
      "metadata": {
        "id": "W4U4o_jGVuAJ"
      },
      "source": [
        "6b. What is the mean height in centimeters?"
      ]
    },
    {
      "cell_type": "code",
      "metadata": {
        "colab": {
          "base_uri": "https://localhost:8080/",
          "height": 34
        },
        "id": "F1xVRGK4Vtnw",
        "outputId": "d095f450-424d-4019-dcaf-8c321ef2f5bb"
      },
      "source": [
        "mean(heights2$ht_cm)"
      ],
      "execution_count": 93,
      "outputs": [
        {
          "output_type": "display_data",
          "data": {
            "text/plain": [
              "[1] 174"
            ],
            "text/latex": "173.540453828202",
            "text/markdown": "173.540453828202",
            "text/html": [
              "173.540453828202"
            ]
          },
          "metadata": {
            "tags": []
          }
        }
      ]
    },
    {
      "cell_type": "markdown",
      "metadata": {
        "id": "MHR8MrZlVzwW"
      },
      "source": [
        "7. Create a data frame females by filtering the heights2 data to contain only female individuals.\n",
        "\n"
      ]
    },
    {
      "cell_type": "markdown",
      "metadata": {
        "id": "aqP5L3E_V40B"
      },
      "source": [
        "7a. How many females are in the heights2 dataset?"
      ]
    },
    {
      "cell_type": "code",
      "metadata": {
        "colab": {
          "base_uri": "https://localhost:8080/",
          "height": 34
        },
        "id": "cAeFuoLFV7nk",
        "outputId": "56d1d501-3473-46b5-bb16-f36d944db18a"
      },
      "source": [
        "females <- filter(heights2, sex == \"Female\")\n",
        "nrow(females)"
      ],
      "execution_count": 94,
      "outputs": [
        {
          "output_type": "display_data",
          "data": {
            "text/plain": [
              "[1] 238"
            ],
            "text/latex": "238",
            "text/markdown": "238",
            "text/html": [
              "238"
            ]
          },
          "metadata": {
            "tags": []
          }
        }
      ]
    },
    {
      "cell_type": "markdown",
      "metadata": {
        "id": "gq5PI10rWAw9"
      },
      "source": [
        "7b. What is the mean height of the females in centimeters?\n"
      ]
    },
    {
      "cell_type": "code",
      "metadata": {
        "colab": {
          "base_uri": "https://localhost:8080/",
          "height": 34
        },
        "id": "XWLOf2gxWDur",
        "outputId": "347764c6-4522-4d13-aaf6-468416a6dc8b"
      },
      "source": [
        "mean(females$ht_cm)"
      ],
      "execution_count": 95,
      "outputs": [
        {
          "output_type": "display_data",
          "data": {
            "text/plain": [
              "[1] 165"
            ],
            "text/latex": "164.946137596639",
            "text/markdown": "164.946137596639",
            "text/html": [
              "164.946137596639"
            ]
          },
          "metadata": {
            "tags": []
          }
        }
      ]
    },
    {
      "cell_type": "markdown",
      "metadata": {
        "id": "m-5yv6evWGe5"
      },
      "source": [
        "8. The olive dataset in dslabs contains composition in percentage of eight fatty acids found in the lipid fraction of 572 Italian olive oils:\n"
      ]
    },
    {
      "cell_type": "code",
      "metadata": {
        "colab": {
          "base_uri": "https://localhost:8080/",
          "height": 296
        },
        "id": "orI_6x9VWMO7",
        "outputId": "e1be4ce9-be37-4ca6-f43f-af2f0b943c15"
      },
      "source": [
        "library(dslabs)\n",
        "data(olive)\n",
        "head(olive)"
      ],
      "execution_count": 96,
      "outputs": [
        {
          "output_type": "display_data",
          "data": {
            "text/plain": [
              "  region         area         palmitic palmitoleic stearic oleic linoleic\n",
              "1 Southern Italy North-Apulia 10.75    0.75        2.26    78.2  6.72    \n",
              "2 Southern Italy North-Apulia 10.88    0.73        2.24    77.1  7.81    \n",
              "3 Southern Italy North-Apulia  9.11    0.54        2.46    81.1  5.49    \n",
              "4 Southern Italy North-Apulia  9.66    0.57        2.40    79.5  6.19    \n",
              "5 Southern Italy North-Apulia 10.51    0.67        2.59    77.7  6.72    \n",
              "6 Southern Italy North-Apulia  9.11    0.49        2.68    79.2  6.78    \n",
              "  linolenic arachidic eicosenoic\n",
              "1 0.36      0.60      0.29      \n",
              "2 0.31      0.61      0.29      \n",
              "3 0.31      0.63      0.29      \n",
              "4 0.50      0.78      0.35      \n",
              "5 0.50      0.80      0.46      \n",
              "6 0.51      0.70      0.44      "
            ],
            "text/latex": "A data.frame: 6 × 10\n\\begin{tabular}{r|llllllllll}\n  & region & area & palmitic & palmitoleic & stearic & oleic & linoleic & linolenic & arachidic & eicosenoic\\\\\n  & <fct> & <fct> & <dbl> & <dbl> & <dbl> & <dbl> & <dbl> & <dbl> & <dbl> & <dbl>\\\\\n\\hline\n\t1 & Southern Italy & North-Apulia & 10.75 & 0.75 & 2.26 & 78.2 & 6.72 & 0.36 & 0.60 & 0.29\\\\\n\t2 & Southern Italy & North-Apulia & 10.88 & 0.73 & 2.24 & 77.1 & 7.81 & 0.31 & 0.61 & 0.29\\\\\n\t3 & Southern Italy & North-Apulia &  9.11 & 0.54 & 2.46 & 81.1 & 5.49 & 0.31 & 0.63 & 0.29\\\\\n\t4 & Southern Italy & North-Apulia &  9.66 & 0.57 & 2.40 & 79.5 & 6.19 & 0.50 & 0.78 & 0.35\\\\\n\t5 & Southern Italy & North-Apulia & 10.51 & 0.67 & 2.59 & 77.7 & 6.72 & 0.50 & 0.80 & 0.46\\\\\n\t6 & Southern Italy & North-Apulia &  9.11 & 0.49 & 2.68 & 79.2 & 6.78 & 0.51 & 0.70 & 0.44\\\\\n\\end{tabular}\n",
            "text/markdown": "\nA data.frame: 6 × 10\n\n| <!--/--> | region &lt;fct&gt; | area &lt;fct&gt; | palmitic &lt;dbl&gt; | palmitoleic &lt;dbl&gt; | stearic &lt;dbl&gt; | oleic &lt;dbl&gt; | linoleic &lt;dbl&gt; | linolenic &lt;dbl&gt; | arachidic &lt;dbl&gt; | eicosenoic &lt;dbl&gt; |\n|---|---|---|---|---|---|---|---|---|---|---|\n| 1 | Southern Italy | North-Apulia | 10.75 | 0.75 | 2.26 | 78.2 | 6.72 | 0.36 | 0.60 | 0.29 |\n| 2 | Southern Italy | North-Apulia | 10.88 | 0.73 | 2.24 | 77.1 | 7.81 | 0.31 | 0.61 | 0.29 |\n| 3 | Southern Italy | North-Apulia |  9.11 | 0.54 | 2.46 | 81.1 | 5.49 | 0.31 | 0.63 | 0.29 |\n| 4 | Southern Italy | North-Apulia |  9.66 | 0.57 | 2.40 | 79.5 | 6.19 | 0.50 | 0.78 | 0.35 |\n| 5 | Southern Italy | North-Apulia | 10.51 | 0.67 | 2.59 | 77.7 | 6.72 | 0.50 | 0.80 | 0.46 |\n| 6 | Southern Italy | North-Apulia |  9.11 | 0.49 | 2.68 | 79.2 | 6.78 | 0.51 | 0.70 | 0.44 |\n\n",
            "text/html": [
              "<table>\n",
              "<caption>A data.frame: 6 × 10</caption>\n",
              "<thead>\n",
              "\t<tr><th></th><th scope=col>region</th><th scope=col>area</th><th scope=col>palmitic</th><th scope=col>palmitoleic</th><th scope=col>stearic</th><th scope=col>oleic</th><th scope=col>linoleic</th><th scope=col>linolenic</th><th scope=col>arachidic</th><th scope=col>eicosenoic</th></tr>\n",
              "\t<tr><th></th><th scope=col>&lt;fct&gt;</th><th scope=col>&lt;fct&gt;</th><th scope=col>&lt;dbl&gt;</th><th scope=col>&lt;dbl&gt;</th><th scope=col>&lt;dbl&gt;</th><th scope=col>&lt;dbl&gt;</th><th scope=col>&lt;dbl&gt;</th><th scope=col>&lt;dbl&gt;</th><th scope=col>&lt;dbl&gt;</th><th scope=col>&lt;dbl&gt;</th></tr>\n",
              "</thead>\n",
              "<tbody>\n",
              "\t<tr><th scope=row>1</th><td>Southern Italy</td><td>North-Apulia</td><td>10.75</td><td>0.75</td><td>2.26</td><td>78.2</td><td>6.72</td><td>0.36</td><td>0.60</td><td>0.29</td></tr>\n",
              "\t<tr><th scope=row>2</th><td>Southern Italy</td><td>North-Apulia</td><td>10.88</td><td>0.73</td><td>2.24</td><td>77.1</td><td>7.81</td><td>0.31</td><td>0.61</td><td>0.29</td></tr>\n",
              "\t<tr><th scope=row>3</th><td>Southern Italy</td><td>North-Apulia</td><td> 9.11</td><td>0.54</td><td>2.46</td><td>81.1</td><td>5.49</td><td>0.31</td><td>0.63</td><td>0.29</td></tr>\n",
              "\t<tr><th scope=row>4</th><td>Southern Italy</td><td>North-Apulia</td><td> 9.66</td><td>0.57</td><td>2.40</td><td>79.5</td><td>6.19</td><td>0.50</td><td>0.78</td><td>0.35</td></tr>\n",
              "\t<tr><th scope=row>5</th><td>Southern Italy</td><td>North-Apulia</td><td>10.51</td><td>0.67</td><td>2.59</td><td>77.7</td><td>6.72</td><td>0.50</td><td>0.80</td><td>0.46</td></tr>\n",
              "\t<tr><th scope=row>6</th><td>Southern Italy</td><td>North-Apulia</td><td> 9.11</td><td>0.49</td><td>2.68</td><td>79.2</td><td>6.78</td><td>0.51</td><td>0.70</td><td>0.44</td></tr>\n",
              "</tbody>\n",
              "</table>\n"
            ]
          },
          "metadata": {
            "tags": []
          }
        }
      ]
    },
    {
      "cell_type": "code",
      "metadata": {
        "colab": {
          "base_uri": "https://localhost:8080/",
          "height": 437
        },
        "id": "VECFx2_-WPGe",
        "outputId": "012db423-7a74-4c4f-a14c-910e56002663"
      },
      "source": [
        "plot(olive$palmitic, olive$palmitoleic)"
      ],
      "execution_count": 97,
      "outputs": [
        {
          "output_type": "display_data",
          "data": {
            "image/png": "[encoded data removed]",
            "text/plain": [
              "plot without title"
            ]
          },
          "metadata": {
            "tags": [],
            "image/png": {
              "width": 420,
              "height": 420
            }
          }
        }
      ]
    },
    {
      "cell_type": "markdown",
      "metadata": {
        "id": "7ZQOQh-BWUhc"
      },
      "source": [
        "There is a positive linear relationship between palmitic and palmitoleic."
      ]
    },
    {
      "cell_type": "code",
      "metadata": {
        "colab": {
          "base_uri": "https://localhost:8080/",
          "height": 437
        },
        "id": "V7a9Ixj0WW9H",
        "outputId": "2ea64c88-158c-4090-c309-04591d31a5a7"
      },
      "source": [
        " hist(olive$eicosenoic)"
      ],
      "execution_count": 98,
      "outputs": [
        {
          "output_type": "display_data",
          "data": {
            "image/png": "[encoded data removed]",
            "text/plain": [
              "Plot with title “Histogram of olive$eicosenoic”"
            ]
          },
          "metadata": {
            "tags": [],
            "image/png": {
              "width": 420,
              "height": 420
            }
          }
        }
      ]
    },
    {
      "cell_type": "markdown",
      "metadata": {
        "id": "nqZPPO8wWdsf"
      },
      "source": [
        "The most common value of eicosenoic acid is below 0.05%."
      ]
    },
    {
      "cell_type": "code",
      "metadata": {
        "colab": {
          "base_uri": "https://localhost:8080/",
          "height": 437
        },
        "id": "V7P-qf1DWhCN",
        "outputId": "d384a4f2-e1fa-4f9f-ebdb-a8aff333a2c8"
      },
      "source": [
        "boxplot(palmitic ~ region, data = olive)"
      ],
      "execution_count": 99,
      "outputs": [
        {
          "output_type": "display_data",
          "data": {
            "image/png": "[encoded data removed]",
            "text/plain": [
              "plot without title"
            ]
          },
          "metadata": {
            "tags": [],
            "image/png": {
              "width": 420,
              "height": 420
            }
          }
        }
      ]
    }
  ]
}