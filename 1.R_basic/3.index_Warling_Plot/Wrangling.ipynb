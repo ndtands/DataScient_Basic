{
  "nbformat": 4,
  "nbformat_minor": 0,
  "metadata": {
    "colab": {
      "name": "Wrangling.ipynb",
      "provenance": [],
      "collapsed_sections": []
    },
    "kernelspec": {
      "name": "ir",
      "display_name": "R"
    },
    "accelerator": "GPU"
  },
  "cells": [
    {
      "cell_type": "code",
      "metadata": {
        "colab": {
          "base_uri": "https://localhost:8080/"
        },
        "id": "4SBA39fVPAEc",
        "outputId": "a03b8458-c793-456d-bfd1-85a7ddba9229"
      },
      "source": [
        "# installing and loading the dplyr package\n",
        "install.packages(\"dplyr\")\n",
        "install.packages(\"dslabs\")\n",
        "library(dplyr)\n",
        "# adding a column with mutate\n",
        "library(dslabs)\n",
        "data(\"murders\")"
      ],
      "execution_count": 46,
      "outputs": [
        {
          "output_type": "stream",
          "text": [
            "Installing package into ‘/usr/local/lib/R/site-library’\n",
            "(as ‘lib’ is unspecified)\n",
            "\n",
            "Installing package into ‘/usr/local/lib/R/site-library’\n",
            "(as ‘lib’ is unspecified)\n",
            "\n"
          ],
          "name": "stderr"
        }
      ]
    },
    {
      "cell_type": "code",
      "metadata": {
        "colab": {
          "base_uri": "https://localhost:8080/",
          "height": 175
        },
        "id": "ZRc-GZJSPJwW",
        "outputId": "c7a8489e-8896-403f-8976-24a000bcaf29"
      },
      "source": [
        "murders <- mutate(murders, rate = total / population * 100000)\n",
        "# subsetting with filter\n",
        "filter(murders, rate <= 0.71)\n",
        "# selecting columns with select\n",
        "new_table <- select(murders, state, region, rate)"
      ],
      "execution_count": 47,
      "outputs": [
        {
          "output_type": "display_data",
          "data": {
            "text/plain": [
              "  state         abb region        population total rate     \n",
              "1 Hawaii        HI  West          1360301     7    0.5145920\n",
              "2 Iowa          IA  North Central 3046355    21    0.6893484\n",
              "3 New Hampshire NH  Northeast     1316470     5    0.3798036\n",
              "4 North Dakota  ND  North Central  672591     4    0.5947151\n",
              "5 Vermont       VT  Northeast      625741     2    0.3196211"
            ],
            "text/latex": "A data.frame: 5 × 6\n\\begin{tabular}{llllll}\n state & abb & region & population & total & rate\\\\\n <chr> & <chr> & <fct> & <dbl> & <dbl> & <dbl>\\\\\n\\hline\n\t Hawaii        & HI & West          & 1360301 &  7 & 0.5145920\\\\\n\t Iowa          & IA & North Central & 3046355 & 21 & 0.6893484\\\\\n\t New Hampshire & NH & Northeast     & 1316470 &  5 & 0.3798036\\\\\n\t North Dakota  & ND & North Central &  672591 &  4 & 0.5947151\\\\\n\t Vermont       & VT & Northeast     &  625741 &  2 & 0.3196211\\\\\n\\end{tabular}\n",
            "text/markdown": "\nA data.frame: 5 × 6\n\n| state &lt;chr&gt; | abb &lt;chr&gt; | region &lt;fct&gt; | population &lt;dbl&gt; | total &lt;dbl&gt; | rate &lt;dbl&gt; |\n|---|---|---|---|---|---|\n| Hawaii        | HI | West          | 1360301 |  7 | 0.5145920 |\n| Iowa          | IA | North Central | 3046355 | 21 | 0.6893484 |\n| New Hampshire | NH | Northeast     | 1316470 |  5 | 0.3798036 |\n| North Dakota  | ND | North Central |  672591 |  4 | 0.5947151 |\n| Vermont       | VT | Northeast     |  625741 |  2 | 0.3196211 |\n\n",
            "text/html": [
              "<table>\n",
              "<caption>A data.frame: 5 × 6</caption>\n",
              "<thead>\n",
              "\t<tr><th scope=col>state</th><th scope=col>abb</th><th scope=col>region</th><th scope=col>population</th><th scope=col>total</th><th scope=col>rate</th></tr>\n",
              "\t<tr><th scope=col>&lt;chr&gt;</th><th scope=col>&lt;chr&gt;</th><th scope=col>&lt;fct&gt;</th><th scope=col>&lt;dbl&gt;</th><th scope=col>&lt;dbl&gt;</th><th scope=col>&lt;dbl&gt;</th></tr>\n",
              "</thead>\n",
              "<tbody>\n",
              "\t<tr><td>Hawaii       </td><td>HI</td><td>West         </td><td>1360301</td><td> 7</td><td>0.5145920</td></tr>\n",
              "\t<tr><td>Iowa         </td><td>IA</td><td>North Central</td><td>3046355</td><td>21</td><td>0.6893484</td></tr>\n",
              "\t<tr><td>New Hampshire</td><td>NH</td><td>Northeast    </td><td>1316470</td><td> 5</td><td>0.3798036</td></tr>\n",
              "\t<tr><td>North Dakota </td><td>ND</td><td>North Central</td><td> 672591</td><td> 4</td><td>0.5947151</td></tr>\n",
              "\t<tr><td>Vermont      </td><td>VT</td><td>Northeast    </td><td> 625741</td><td> 2</td><td>0.3196211</td></tr>\n",
              "</tbody>\n",
              "</table>\n"
            ]
          },
          "metadata": {
            "tags": []
          }
        }
      ]
    },
    {
      "cell_type": "code",
      "metadata": {
        "colab": {
          "base_uri": "https://localhost:8080/",
          "height": 175
        },
        "id": "XbwToKaOPQt9",
        "outputId": "92978e79-c580-458e-aa77-c0d9b2c252f4"
      },
      "source": [
        "# using the pipe\n",
        "murders %>% select(state, region, rate) %>% filter(rate <= 0.71)"
      ],
      "execution_count": 48,
      "outputs": [
        {
          "output_type": "display_data",
          "data": {
            "text/plain": [
              "  state         region        rate     \n",
              "1 Hawaii        West          0.5145920\n",
              "2 Iowa          North Central 0.6893484\n",
              "3 New Hampshire Northeast     0.3798036\n",
              "4 North Dakota  North Central 0.5947151\n",
              "5 Vermont       Northeast     0.3196211"
            ],
            "text/latex": "A data.frame: 5 × 3\n\\begin{tabular}{lll}\n state & region & rate\\\\\n <chr> & <fct> & <dbl>\\\\\n\\hline\n\t Hawaii        & West          & 0.5145920\\\\\n\t Iowa          & North Central & 0.6893484\\\\\n\t New Hampshire & Northeast     & 0.3798036\\\\\n\t North Dakota  & North Central & 0.5947151\\\\\n\t Vermont       & Northeast     & 0.3196211\\\\\n\\end{tabular}\n",
            "text/markdown": "\nA data.frame: 5 × 3\n\n| state &lt;chr&gt; | region &lt;fct&gt; | rate &lt;dbl&gt; |\n|---|---|---|\n| Hawaii        | West          | 0.5145920 |\n| Iowa          | North Central | 0.6893484 |\n| New Hampshire | Northeast     | 0.3798036 |\n| North Dakota  | North Central | 0.5947151 |\n| Vermont       | Northeast     | 0.3196211 |\n\n",
            "text/html": [
              "<table>\n",
              "<caption>A data.frame: 5 × 3</caption>\n",
              "<thead>\n",
              "\t<tr><th scope=col>state</th><th scope=col>region</th><th scope=col>rate</th></tr>\n",
              "\t<tr><th scope=col>&lt;chr&gt;</th><th scope=col>&lt;fct&gt;</th><th scope=col>&lt;dbl&gt;</th></tr>\n",
              "</thead>\n",
              "<tbody>\n",
              "\t<tr><td>Hawaii       </td><td>West         </td><td>0.5145920</td></tr>\n",
              "\t<tr><td>Iowa         </td><td>North Central</td><td>0.6893484</td></tr>\n",
              "\t<tr><td>New Hampshire</td><td>Northeast    </td><td>0.3798036</td></tr>\n",
              "\t<tr><td>North Dakota </td><td>North Central</td><td>0.5947151</td></tr>\n",
              "\t<tr><td>Vermont      </td><td>Northeast    </td><td>0.3196211</td></tr>\n",
              "</tbody>\n",
              "</table>\n"
            ]
          },
          "metadata": {
            "tags": []
          }
        }
      ]
    },
    {
      "cell_type": "markdown",
      "metadata": {
        "id": "hoB51_iPPgaU"
      },
      "source": [
        "##Creating DataFrames"
      ]
    },
    {
      "cell_type": "code",
      "metadata": {
        "colab": {
          "base_uri": "https://localhost:8080/",
          "height": 155
        },
        "id": "j04egY-hPlET",
        "outputId": "f3edfaad-81f6-44f5-c1ea-2b07755f3ddb"
      },
      "source": [
        "# creating a data frame with stringAsFactors = FALSE\n",
        "grades <- data.frame(names = c(\"John\", \"Juan\", \"Jean\", \"Yao\"), \n",
        "                     exam_1 = c(95, 80, 90, 85), \n",
        "                     exam_2 = c(90, 85, 85, 90),\n",
        "                     stringsAsFactors = FALSE)\n",
        "grades"
      ],
      "execution_count": 50,
      "outputs": [
        {
          "output_type": "display_data",
          "data": {
            "text/plain": [
              "  names exam_1 exam_2\n",
              "1 John  95     90    \n",
              "2 Juan  80     85    \n",
              "3 Jean  90     85    \n",
              "4 Yao   85     90    "
            ],
            "text/latex": "A data.frame: 4 × 3\n\\begin{tabular}{lll}\n names & exam\\_1 & exam\\_2\\\\\n <chr> & <dbl> & <dbl>\\\\\n\\hline\n\t John & 95 & 90\\\\\n\t Juan & 80 & 85\\\\\n\t Jean & 90 & 85\\\\\n\t Yao  & 85 & 90\\\\\n\\end{tabular}\n",
            "text/markdown": "\nA data.frame: 4 × 3\n\n| names &lt;chr&gt; | exam_1 &lt;dbl&gt; | exam_2 &lt;dbl&gt; |\n|---|---|---|\n| John | 95 | 90 |\n| Juan | 80 | 85 |\n| Jean | 90 | 85 |\n| Yao  | 85 | 90 |\n\n",
            "text/html": [
              "<table>\n",
              "<caption>A data.frame: 4 × 3</caption>\n",
              "<thead>\n",
              "\t<tr><th scope=col>names</th><th scope=col>exam_1</th><th scope=col>exam_2</th></tr>\n",
              "\t<tr><th scope=col>&lt;chr&gt;</th><th scope=col>&lt;dbl&gt;</th><th scope=col>&lt;dbl&gt;</th></tr>\n",
              "</thead>\n",
              "<tbody>\n",
              "\t<tr><td>John</td><td>95</td><td>90</td></tr>\n",
              "\t<tr><td>Juan</td><td>80</td><td>85</td></tr>\n",
              "\t<tr><td>Jean</td><td>90</td><td>85</td></tr>\n",
              "\t<tr><td>Yao </td><td>85</td><td>90</td></tr>\n",
              "</tbody>\n",
              "</table>\n"
            ]
          },
          "metadata": {
            "tags": []
          }
        }
      ]
    },
    {
      "cell_type": "markdown",
      "metadata": {
        "id": "hFhCgIRTPtGF"
      },
      "source": [
        "#Practice\n",
        "##Question1:\n",
        "Use the function mutate to add a murders column named rate with the per 100,000 murder rate."
      ]
    },
    {
      "cell_type": "code",
      "metadata": {
        "id": "LzugNgxwP5Ct"
      },
      "source": [
        "# Loading data\n",
        "library(dslabs)\n",
        "data(murders)\n",
        "\n",
        "# Loading dplyr\n",
        "library(dplyr)\n",
        "\n",
        "# Redefine murders so that it includes a column named rate with the per 100,000 murder rates\n",
        "murders<-mutate(murders,rate = total/population*100000)"
      ],
      "execution_count": 51,
      "outputs": []
    },
    {
      "cell_type": "markdown",
      "metadata": {
        "id": "YUihtCthP9m3"
      },
      "source": [
        "##Question2\n",
        "Mutate"
      ]
    },
    {
      "cell_type": "code",
      "metadata": {
        "colab": {
          "base_uri": "https://localhost:8080/",
          "height": 212
        },
        "id": "2_Grs193QB9y",
        "outputId": "7e3d0f2d-e09c-437b-89c4-536a7061063c"
      },
      "source": [
        "# Note that if you want ranks from highest to lowest you can take the negative and then compute the ranks \n",
        "x <- c(88, 100, 83, 92, 94)\n",
        "rank(-x)\n",
        "\n",
        "# Defining rate\n",
        "rate <-  murders$total/ murders$population * 100000\n",
        "\n",
        "# Redefine murders to include a column named rank\n",
        "# with the ranks of rate from highest to lowest\n",
        "murders <- mutate(murders,rank=rank(-rate))\n",
        "head(murders)"
      ],
      "execution_count": 55,
      "outputs": [
        {
          "output_type": "display_data",
          "data": {
            "text/plain": [
              "[1] 4 1 5 3 2"
            ],
            "text/latex": "\\begin{enumerate*}\n\\item 4\n\\item 1\n\\item 5\n\\item 3\n\\item 2\n\\end{enumerate*}\n",
            "text/markdown": "1. 4\n2. 1\n3. 5\n4. 3\n5. 2\n\n\n",
            "text/html": [
              "<style>\n",
              ".list-inline {list-style: none; margin:0; padding: 0}\n",
              ".list-inline>li {display: inline-block}\n",
              ".list-inline>li:not(:last-child)::after {content: \"\\00b7\"; padding: 0 .5ex}\n",
              "</style>\n",
              "<ol class=list-inline><li>4</li><li>1</li><li>5</li><li>3</li><li>2</li></ol>\n"
            ]
          },
          "metadata": {
            "tags": []
          }
        },
        {
          "output_type": "display_data",
          "data": {
            "text/plain": [
              "  state      abb region population total rate     rank\n",
              "1 Alabama    AL  South   4779736    135  2.824424 23  \n",
              "2 Alaska     AK  West     710231     19  2.675186 27  \n",
              "3 Arizona    AZ  West    6392017    232  3.629527 10  \n",
              "4 Arkansas   AR  South   2915918     93  3.189390 17  \n",
              "5 California CA  West   37253956   1257  3.374138 14  \n",
              "6 Colorado   CO  West    5029196     65  1.292453 38  "
            ],
            "text/latex": "A data.frame: 6 × 7\n\\begin{tabular}{r|lllllll}\n  & state & abb & region & population & total & rate & rank\\\\\n  & <chr> & <chr> & <fct> & <dbl> & <dbl> & <dbl> & <dbl>\\\\\n\\hline\n\t1 & Alabama    & AL & South &  4779736 &  135 & 2.824424 & 23\\\\\n\t2 & Alaska     & AK & West  &   710231 &   19 & 2.675186 & 27\\\\\n\t3 & Arizona    & AZ & West  &  6392017 &  232 & 3.629527 & 10\\\\\n\t4 & Arkansas   & AR & South &  2915918 &   93 & 3.189390 & 17\\\\\n\t5 & California & CA & West  & 37253956 & 1257 & 3.374138 & 14\\\\\n\t6 & Colorado   & CO & West  &  5029196 &   65 & 1.292453 & 38\\\\\n\\end{tabular}\n",
            "text/markdown": "\nA data.frame: 6 × 7\n\n| <!--/--> | state &lt;chr&gt; | abb &lt;chr&gt; | region &lt;fct&gt; | population &lt;dbl&gt; | total &lt;dbl&gt; | rate &lt;dbl&gt; | rank &lt;dbl&gt; |\n|---|---|---|---|---|---|---|---|\n| 1 | Alabama    | AL | South |  4779736 |  135 | 2.824424 | 23 |\n| 2 | Alaska     | AK | West  |   710231 |   19 | 2.675186 | 27 |\n| 3 | Arizona    | AZ | West  |  6392017 |  232 | 3.629527 | 10 |\n| 4 | Arkansas   | AR | South |  2915918 |   93 | 3.189390 | 17 |\n| 5 | California | CA | West  | 37253956 | 1257 | 3.374138 | 14 |\n| 6 | Colorado   | CO | West  |  5029196 |   65 | 1.292453 | 38 |\n\n",
            "text/html": [
              "<table>\n",
              "<caption>A data.frame: 6 × 7</caption>\n",
              "<thead>\n",
              "\t<tr><th></th><th scope=col>state</th><th scope=col>abb</th><th scope=col>region</th><th scope=col>population</th><th scope=col>total</th><th scope=col>rate</th><th scope=col>rank</th></tr>\n",
              "\t<tr><th></th><th scope=col>&lt;chr&gt;</th><th scope=col>&lt;chr&gt;</th><th scope=col>&lt;fct&gt;</th><th scope=col>&lt;dbl&gt;</th><th scope=col>&lt;dbl&gt;</th><th scope=col>&lt;dbl&gt;</th><th scope=col>&lt;dbl&gt;</th></tr>\n",
              "</thead>\n",
              "<tbody>\n",
              "\t<tr><th scope=row>1</th><td>Alabama   </td><td>AL</td><td>South</td><td> 4779736</td><td> 135</td><td>2.824424</td><td>23</td></tr>\n",
              "\t<tr><th scope=row>2</th><td>Alaska    </td><td>AK</td><td>West </td><td>  710231</td><td>  19</td><td>2.675186</td><td>27</td></tr>\n",
              "\t<tr><th scope=row>3</th><td>Arizona   </td><td>AZ</td><td>West </td><td> 6392017</td><td> 232</td><td>3.629527</td><td>10</td></tr>\n",
              "\t<tr><th scope=row>4</th><td>Arkansas  </td><td>AR</td><td>South</td><td> 2915918</td><td>  93</td><td>3.189390</td><td>17</td></tr>\n",
              "\t<tr><th scope=row>5</th><td>California</td><td>CA</td><td>West </td><td>37253956</td><td>1257</td><td>3.374138</td><td>14</td></tr>\n",
              "\t<tr><th scope=row>6</th><td>Colorado  </td><td>CO</td><td>West </td><td> 5029196</td><td>  65</td><td>1.292453</td><td>38</td></tr>\n",
              "</tbody>\n",
              "</table>\n"
            ]
          },
          "metadata": {
            "tags": []
          }
        }
      ]
    },
    {
      "cell_type": "markdown",
      "metadata": {
        "id": "_uyAWdyhQWUk"
      },
      "source": [
        "##Question3:\n",
        "Select"
      ]
    },
    {
      "cell_type": "code",
      "metadata": {
        "colab": {
          "base_uri": "https://localhost:8080/",
          "height": 195
        },
        "id": "mHJKan_SQTZA",
        "outputId": "6f392efa-7670-45d6-a869-158e1c163c09"
      },
      "source": [
        "# Load dplyr\n",
        "library(dplyr)\n",
        "\n",
        "# Use select to only show state names and abbreviations from murders\n",
        "head(select(murders,state,abb))"
      ],
      "execution_count": 57,
      "outputs": [
        {
          "output_type": "display_data",
          "data": {
            "text/plain": [
              "  state      abb\n",
              "1 Alabama    AL \n",
              "2 Alaska     AK \n",
              "3 Arizona    AZ \n",
              "4 Arkansas   AR \n",
              "5 California CA \n",
              "6 Colorado   CO "
            ],
            "text/latex": "A data.frame: 6 × 2\n\\begin{tabular}{r|ll}\n  & state & abb\\\\\n  & <chr> & <chr>\\\\\n\\hline\n\t1 & Alabama    & AL\\\\\n\t2 & Alaska     & AK\\\\\n\t3 & Arizona    & AZ\\\\\n\t4 & Arkansas   & AR\\\\\n\t5 & California & CA\\\\\n\t6 & Colorado   & CO\\\\\n\\end{tabular}\n",
            "text/markdown": "\nA data.frame: 6 × 2\n\n| <!--/--> | state &lt;chr&gt; | abb &lt;chr&gt; |\n|---|---|---|\n| 1 | Alabama    | AL |\n| 2 | Alaska     | AK |\n| 3 | Arizona    | AZ |\n| 4 | Arkansas   | AR |\n| 5 | California | CA |\n| 6 | Colorado   | CO |\n\n",
            "text/html": [
              "<table>\n",
              "<caption>A data.frame: 6 × 2</caption>\n",
              "<thead>\n",
              "\t<tr><th></th><th scope=col>state</th><th scope=col>abb</th></tr>\n",
              "\t<tr><th></th><th scope=col>&lt;chr&gt;</th><th scope=col>&lt;chr&gt;</th></tr>\n",
              "</thead>\n",
              "<tbody>\n",
              "\t<tr><th scope=row>1</th><td>Alabama   </td><td>AL</td></tr>\n",
              "\t<tr><th scope=row>2</th><td>Alaska    </td><td>AK</td></tr>\n",
              "\t<tr><th scope=row>3</th><td>Arizona   </td><td>AZ</td></tr>\n",
              "\t<tr><th scope=row>4</th><td>Arkansas  </td><td>AR</td></tr>\n",
              "\t<tr><th scope=row>5</th><td>California</td><td>CA</td></tr>\n",
              "\t<tr><th scope=row>6</th><td>Colorado  </td><td>CO</td></tr>\n",
              "</tbody>\n",
              "</table>\n"
            ]
          },
          "metadata": {
            "tags": []
          }
        }
      ]
    },
    {
      "cell_type": "markdown",
      "metadata": {
        "id": "J6EU7r_dQfLb"
      },
      "source": [
        "##Question4:\n",
        "filter"
      ]
    },
    {
      "cell_type": "code",
      "metadata": {
        "colab": {
          "base_uri": "https://localhost:8080/",
          "height": 175
        },
        "id": "SJWIMwBZQj2A",
        "outputId": "487ab89b-63fc-4171-f4bc-1a2d429e7649"
      },
      "source": [
        "# Add the necessary columns\n",
        "murders <- mutate(murders, rate = total/population * 100000, rank = rank(-rate))\n",
        "\n",
        "# Filter to show the top 5 states with the highest murder rates\n",
        "filter(murders,rank<=5)"
      ],
      "execution_count": 58,
      "outputs": [
        {
          "output_type": "display_data",
          "data": {
            "text/plain": [
              "  state                abb region        population total rate      rank\n",
              "1 District of Columbia DC  South          601723     99   16.452753 1   \n",
              "2 Louisiana            LA  South         4533372    351    7.742581 2   \n",
              "3 Maryland             MD  South         5773552    293    5.074866 4   \n",
              "4 Missouri             MO  North Central 5988927    321    5.359892 3   \n",
              "5 South Carolina       SC  South         4625364    207    4.475323 5   "
            ],
            "text/latex": "A data.frame: 5 × 7\n\\begin{tabular}{lllllll}\n state & abb & region & population & total & rate & rank\\\\\n <chr> & <chr> & <fct> & <dbl> & <dbl> & <dbl> & <dbl>\\\\\n\\hline\n\t District of Columbia & DC & South         &  601723 &  99 & 16.452753 & 1\\\\\n\t Louisiana            & LA & South         & 4533372 & 351 &  7.742581 & 2\\\\\n\t Maryland             & MD & South         & 5773552 & 293 &  5.074866 & 4\\\\\n\t Missouri             & MO & North Central & 5988927 & 321 &  5.359892 & 3\\\\\n\t South Carolina       & SC & South         & 4625364 & 207 &  4.475323 & 5\\\\\n\\end{tabular}\n",
            "text/markdown": "\nA data.frame: 5 × 7\n\n| state &lt;chr&gt; | abb &lt;chr&gt; | region &lt;fct&gt; | population &lt;dbl&gt; | total &lt;dbl&gt; | rate &lt;dbl&gt; | rank &lt;dbl&gt; |\n|---|---|---|---|---|---|---|\n| District of Columbia | DC | South         |  601723 |  99 | 16.452753 | 1 |\n| Louisiana            | LA | South         | 4533372 | 351 |  7.742581 | 2 |\n| Maryland             | MD | South         | 5773552 | 293 |  5.074866 | 4 |\n| Missouri             | MO | North Central | 5988927 | 321 |  5.359892 | 3 |\n| South Carolina       | SC | South         | 4625364 | 207 |  4.475323 | 5 |\n\n",
            "text/html": [
              "<table>\n",
              "<caption>A data.frame: 5 × 7</caption>\n",
              "<thead>\n",
              "\t<tr><th scope=col>state</th><th scope=col>abb</th><th scope=col>region</th><th scope=col>population</th><th scope=col>total</th><th scope=col>rate</th><th scope=col>rank</th></tr>\n",
              "\t<tr><th scope=col>&lt;chr&gt;</th><th scope=col>&lt;chr&gt;</th><th scope=col>&lt;fct&gt;</th><th scope=col>&lt;dbl&gt;</th><th scope=col>&lt;dbl&gt;</th><th scope=col>&lt;dbl&gt;</th><th scope=col>&lt;dbl&gt;</th></tr>\n",
              "</thead>\n",
              "<tbody>\n",
              "\t<tr><td>District of Columbia</td><td>DC</td><td>South        </td><td> 601723</td><td> 99</td><td>16.452753</td><td>1</td></tr>\n",
              "\t<tr><td>Louisiana           </td><td>LA</td><td>South        </td><td>4533372</td><td>351</td><td> 7.742581</td><td>2</td></tr>\n",
              "\t<tr><td>Maryland            </td><td>MD</td><td>South        </td><td>5773552</td><td>293</td><td> 5.074866</td><td>4</td></tr>\n",
              "\t<tr><td>Missouri            </td><td>MO</td><td>North Central</td><td>5988927</td><td>321</td><td> 5.359892</td><td>3</td></tr>\n",
              "\t<tr><td>South Carolina      </td><td>SC</td><td>South        </td><td>4625364</td><td>207</td><td> 4.475323</td><td>5</td></tr>\n",
              "</tbody>\n",
              "</table>\n"
            ]
          },
          "metadata": {
            "tags": []
          }
        }
      ]
    },
    {
      "cell_type": "markdown",
      "metadata": {
        "id": "oOuryGq5Qn8H"
      },
      "source": [
        "##Question 5:\n",
        "filter with !="
      ]
    },
    {
      "cell_type": "code",
      "metadata": {
        "colab": {
          "base_uri": "https://localhost:8080/",
          "height": 34
        },
        "id": "TIF5jkggQngK",
        "outputId": "683999a0-e32e-4a4c-b031-c405b6d26760"
      },
      "source": [
        "# Use filter to create a new data frame no_south\n",
        "no_south <- filter(murders,region !=\"South\")\n",
        "\n",
        "# Use nrow() to calculate the number of rows\n",
        "nrow(no_south)"
      ],
      "execution_count": 59,
      "outputs": [
        {
          "output_type": "display_data",
          "data": {
            "text/plain": [
              "[1] 34"
            ],
            "text/latex": "34",
            "text/markdown": "34",
            "text/html": [
              "34"
            ]
          },
          "metadata": {
            "tags": []
          }
        }
      ]
    },
    {
      "cell_type": "markdown",
      "metadata": {
        "id": "3Wl5h2loQyJn"
      },
      "source": [
        "##Question 6:\n",
        "filter with %in%"
      ]
    },
    {
      "cell_type": "code",
      "metadata": {
        "colab": {
          "base_uri": "https://localhost:8080/",
          "height": 34
        },
        "id": "FGuVzt93Q3yo",
        "outputId": "c72de3a9-d85b-4799-d5b3-60a93a2313fe"
      },
      "source": [
        "# Create a new data frame called murders_nw with only the states from the northeast and the west\n",
        "murders_nw  = filter(murders,region%in% c(\"Northeast\",\"West\"))\n",
        "# Number of states (rows) in this category \n",
        "nrow(murders_nw)"
      ],
      "execution_count": 60,
      "outputs": [
        {
          "output_type": "display_data",
          "data": {
            "text/plain": [
              "[1] 22"
            ],
            "text/latex": "22",
            "text/markdown": "22",
            "text/html": [
              "22"
            ]
          },
          "metadata": {
            "tags": []
          }
        }
      ]
    },
    {
      "cell_type": "markdown",
      "metadata": {
        "id": "wc8IlZRoQ-KO"
      },
      "source": [
        "##Question 7:\n",
        "filtering by two conditions"
      ]
    },
    {
      "cell_type": "code",
      "metadata": {
        "colab": {
          "base_uri": "https://localhost:8080/",
          "height": 235
        },
        "id": "9qQN1SvIQ7x7",
        "outputId": "ce97f36f-b1f4-42fc-ba30-b5e6a3c9537f"
      },
      "source": [
        "# add the rate column\n",
        "murders <- mutate(murders, rate =  total / population * 100000, rank = rank(-rate))\n",
        "\n",
        "# Create a table, call it my_states, that satisfies both the conditions \n",
        "my_states <- filter(murders,rate<1 & region%in%c('Northeast','West'))\n",
        "# Use select to show only the state name, the murder rate and the rank\n",
        "my_states %>%select(state,rate,rank)"
      ],
      "execution_count": 61,
      "outputs": [
        {
          "output_type": "display_data",
          "data": {
            "text/plain": [
              "  state         rate      rank\n",
              "1 Hawaii        0.5145920 49  \n",
              "2 Idaho         0.7655102 46  \n",
              "3 Maine         0.8280881 44  \n",
              "4 New Hampshire 0.3798036 50  \n",
              "5 Oregon        0.9396843 42  \n",
              "6 Utah          0.7959810 45  \n",
              "7 Vermont       0.3196211 51  \n",
              "8 Wyoming       0.8871131 43  "
            ],
            "text/latex": "A data.frame: 8 × 3\n\\begin{tabular}{lll}\n state & rate & rank\\\\\n <chr> & <dbl> & <dbl>\\\\\n\\hline\n\t Hawaii        & 0.5145920 & 49\\\\\n\t Idaho         & 0.7655102 & 46\\\\\n\t Maine         & 0.8280881 & 44\\\\\n\t New Hampshire & 0.3798036 & 50\\\\\n\t Oregon        & 0.9396843 & 42\\\\\n\t Utah          & 0.7959810 & 45\\\\\n\t Vermont       & 0.3196211 & 51\\\\\n\t Wyoming       & 0.8871131 & 43\\\\\n\\end{tabular}\n",
            "text/markdown": "\nA data.frame: 8 × 3\n\n| state &lt;chr&gt; | rate &lt;dbl&gt; | rank &lt;dbl&gt; |\n|---|---|---|\n| Hawaii        | 0.5145920 | 49 |\n| Idaho         | 0.7655102 | 46 |\n| Maine         | 0.8280881 | 44 |\n| New Hampshire | 0.3798036 | 50 |\n| Oregon        | 0.9396843 | 42 |\n| Utah          | 0.7959810 | 45 |\n| Vermont       | 0.3196211 | 51 |\n| Wyoming       | 0.8871131 | 43 |\n\n",
            "text/html": [
              "<table>\n",
              "<caption>A data.frame: 8 × 3</caption>\n",
              "<thead>\n",
              "\t<tr><th scope=col>state</th><th scope=col>rate</th><th scope=col>rank</th></tr>\n",
              "\t<tr><th scope=col>&lt;chr&gt;</th><th scope=col>&lt;dbl&gt;</th><th scope=col>&lt;dbl&gt;</th></tr>\n",
              "</thead>\n",
              "<tbody>\n",
              "\t<tr><td>Hawaii       </td><td>0.5145920</td><td>49</td></tr>\n",
              "\t<tr><td>Idaho        </td><td>0.7655102</td><td>46</td></tr>\n",
              "\t<tr><td>Maine        </td><td>0.8280881</td><td>44</td></tr>\n",
              "\t<tr><td>New Hampshire</td><td>0.3798036</td><td>50</td></tr>\n",
              "\t<tr><td>Oregon       </td><td>0.9396843</td><td>42</td></tr>\n",
              "\t<tr><td>Utah         </td><td>0.7959810</td><td>45</td></tr>\n",
              "\t<tr><td>Vermont      </td><td>0.3196211</td><td>51</td></tr>\n",
              "\t<tr><td>Wyoming      </td><td>0.8871131</td><td>43</td></tr>\n",
              "</tbody>\n",
              "</table>\n"
            ]
          },
          "metadata": {
            "tags": []
          }
        }
      ]
    },
    {
      "cell_type": "markdown",
      "metadata": {
        "id": "xPJTu_xtRHq8"
      },
      "source": [
        "##QUestion 8:\n",
        "Using the pipe %>%"
      ]
    },
    {
      "cell_type": "code",
      "metadata": {
        "colab": {
          "base_uri": "https://localhost:8080/",
          "height": 235
        },
        "id": "jLiOiZAjRNTv",
        "outputId": "c74d6461-fbcc-4eba-f727-7c992f730e80"
      },
      "source": [
        "# Load library\n",
        "library(dplyr)\n",
        "\n",
        "## Define the rate column\n",
        "murders <- mutate(murders, rate =  total / population * 100000, rank = rank(-rate))\n",
        "\n",
        "# show the result and only include the state, rate, and rank columns, all in one line, in that order\n",
        "filter(murders, region %in% c(\"Northeast\", \"West\") & rate < 1 )%>% select(state, rate, rank)"
      ],
      "execution_count": 63,
      "outputs": [
        {
          "output_type": "display_data",
          "data": {
            "text/plain": [
              "  state         rate      rank\n",
              "1 Hawaii        0.5145920 49  \n",
              "2 Idaho         0.7655102 46  \n",
              "3 Maine         0.8280881 44  \n",
              "4 New Hampshire 0.3798036 50  \n",
              "5 Oregon        0.9396843 42  \n",
              "6 Utah          0.7959810 45  \n",
              "7 Vermont       0.3196211 51  \n",
              "8 Wyoming       0.8871131 43  "
            ],
            "text/latex": "A data.frame: 8 × 3\n\\begin{tabular}{lll}\n state & rate & rank\\\\\n <chr> & <dbl> & <dbl>\\\\\n\\hline\n\t Hawaii        & 0.5145920 & 49\\\\\n\t Idaho         & 0.7655102 & 46\\\\\n\t Maine         & 0.8280881 & 44\\\\\n\t New Hampshire & 0.3798036 & 50\\\\\n\t Oregon        & 0.9396843 & 42\\\\\n\t Utah          & 0.7959810 & 45\\\\\n\t Vermont       & 0.3196211 & 51\\\\\n\t Wyoming       & 0.8871131 & 43\\\\\n\\end{tabular}\n",
            "text/markdown": "\nA data.frame: 8 × 3\n\n| state &lt;chr&gt; | rate &lt;dbl&gt; | rank &lt;dbl&gt; |\n|---|---|---|\n| Hawaii        | 0.5145920 | 49 |\n| Idaho         | 0.7655102 | 46 |\n| Maine         | 0.8280881 | 44 |\n| New Hampshire | 0.3798036 | 50 |\n| Oregon        | 0.9396843 | 42 |\n| Utah          | 0.7959810 | 45 |\n| Vermont       | 0.3196211 | 51 |\n| Wyoming       | 0.8871131 | 43 |\n\n",
            "text/html": [
              "<table>\n",
              "<caption>A data.frame: 8 × 3</caption>\n",
              "<thead>\n",
              "\t<tr><th scope=col>state</th><th scope=col>rate</th><th scope=col>rank</th></tr>\n",
              "\t<tr><th scope=col>&lt;chr&gt;</th><th scope=col>&lt;dbl&gt;</th><th scope=col>&lt;dbl&gt;</th></tr>\n",
              "</thead>\n",
              "<tbody>\n",
              "\t<tr><td>Hawaii       </td><td>0.5145920</td><td>49</td></tr>\n",
              "\t<tr><td>Idaho        </td><td>0.7655102</td><td>46</td></tr>\n",
              "\t<tr><td>Maine        </td><td>0.8280881</td><td>44</td></tr>\n",
              "\t<tr><td>New Hampshire</td><td>0.3798036</td><td>50</td></tr>\n",
              "\t<tr><td>Oregon       </td><td>0.9396843</td><td>42</td></tr>\n",
              "\t<tr><td>Utah         </td><td>0.7959810</td><td>45</td></tr>\n",
              "\t<tr><td>Vermont      </td><td>0.3196211</td><td>51</td></tr>\n",
              "\t<tr><td>Wyoming      </td><td>0.8871131</td><td>43</td></tr>\n",
              "</tbody>\n",
              "</table>\n"
            ]
          },
          "metadata": {
            "tags": []
          }
        }
      ]
    },
    {
      "cell_type": "markdown",
      "metadata": {
        "id": "_Dw2St2vRXnH"
      },
      "source": [
        "#Question 9:\n",
        "mutate, filter and select"
      ]
    },
    {
      "cell_type": "code",
      "metadata": {
        "colab": {
          "base_uri": "https://localhost:8080/",
          "height": 235
        },
        "id": "7641dm1hRadr",
        "outputId": "281b2d4c-6681-48b4-8a02-bb45dfd22eaf"
      },
      "source": [
        "# Loading the libraries\n",
        "library(dplyr)\n",
        "data(murders)\n",
        "\n",
        "# Create new data frame called my_states (with specifications in the instructions)\n",
        "my_states <- murders%>%mutate(rate =  total / population * 100000, rank = rank(-rate))%>%filter(region %in% c(\"Northeast\", \"West\") & rate < 1)%>%select(state,rate,rank)\n",
        "my_states"
      ],
      "execution_count": 64,
      "outputs": [
        {
          "output_type": "display_data",
          "data": {
            "text/plain": [
              "  state         rate      rank\n",
              "1 Hawaii        0.5145920 49  \n",
              "2 Idaho         0.7655102 46  \n",
              "3 Maine         0.8280881 44  \n",
              "4 New Hampshire 0.3798036 50  \n",
              "5 Oregon        0.9396843 42  \n",
              "6 Utah          0.7959810 45  \n",
              "7 Vermont       0.3196211 51  \n",
              "8 Wyoming       0.8871131 43  "
            ],
            "text/latex": "A data.frame: 8 × 3\n\\begin{tabular}{lll}\n state & rate & rank\\\\\n <chr> & <dbl> & <dbl>\\\\\n\\hline\n\t Hawaii        & 0.5145920 & 49\\\\\n\t Idaho         & 0.7655102 & 46\\\\\n\t Maine         & 0.8280881 & 44\\\\\n\t New Hampshire & 0.3798036 & 50\\\\\n\t Oregon        & 0.9396843 & 42\\\\\n\t Utah          & 0.7959810 & 45\\\\\n\t Vermont       & 0.3196211 & 51\\\\\n\t Wyoming       & 0.8871131 & 43\\\\\n\\end{tabular}\n",
            "text/markdown": "\nA data.frame: 8 × 3\n\n| state &lt;chr&gt; | rate &lt;dbl&gt; | rank &lt;dbl&gt; |\n|---|---|---|\n| Hawaii        | 0.5145920 | 49 |\n| Idaho         | 0.7655102 | 46 |\n| Maine         | 0.8280881 | 44 |\n| New Hampshire | 0.3798036 | 50 |\n| Oregon        | 0.9396843 | 42 |\n| Utah          | 0.7959810 | 45 |\n| Vermont       | 0.3196211 | 51 |\n| Wyoming       | 0.8871131 | 43 |\n\n",
            "text/html": [
              "<table>\n",
              "<caption>A data.frame: 8 × 3</caption>\n",
              "<thead>\n",
              "\t<tr><th scope=col>state</th><th scope=col>rate</th><th scope=col>rank</th></tr>\n",
              "\t<tr><th scope=col>&lt;chr&gt;</th><th scope=col>&lt;dbl&gt;</th><th scope=col>&lt;dbl&gt;</th></tr>\n",
              "</thead>\n",
              "<tbody>\n",
              "\t<tr><td>Hawaii       </td><td>0.5145920</td><td>49</td></tr>\n",
              "\t<tr><td>Idaho        </td><td>0.7655102</td><td>46</td></tr>\n",
              "\t<tr><td>Maine        </td><td>0.8280881</td><td>44</td></tr>\n",
              "\t<tr><td>New Hampshire</td><td>0.3798036</td><td>50</td></tr>\n",
              "\t<tr><td>Oregon       </td><td>0.9396843</td><td>42</td></tr>\n",
              "\t<tr><td>Utah         </td><td>0.7959810</td><td>45</td></tr>\n",
              "\t<tr><td>Vermont      </td><td>0.3196211</td><td>51</td></tr>\n",
              "\t<tr><td>Wyoming      </td><td>0.8871131</td><td>43</td></tr>\n",
              "</tbody>\n",
              "</table>\n"
            ]
          },
          "metadata": {
            "tags": []
          }
        }
      ]
    }
  ]
}