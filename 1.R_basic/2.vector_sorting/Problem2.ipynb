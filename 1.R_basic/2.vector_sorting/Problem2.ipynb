{
  "nbformat": 4,
  "nbformat_minor": 0,
  "metadata": {
    "colab": {
      "name": "Problem2.ipynb",
      "provenance": [],
      "collapsed_sections": []
    },
    "kernelspec": {
      "name": "ir",
      "display_name": "R"
    },
    "accelerator": "GPU"
  },
  "cells": [
    {
      "cell_type": "markdown",
      "metadata": {
        "id": "eu3cbWiAGhia"
      },
      "source": [
        "#Question1\n",
        "Consider the vector x"
      ]
    },
    {
      "cell_type": "code",
      "metadata": {
        "id": "X6E3Fd5EGnJZ"
      },
      "source": [
        "x <- c(2, 43, 27, 96, 18)"
      ],
      "execution_count": 5,
      "outputs": []
    },
    {
      "cell_type": "markdown",
      "metadata": {
        "id": "ecq73O_3Gqjk"
      },
      "source": [
        "Match the following outputs to the function which produces that output. Options include sort(x), order(x), rank(x) and none of these.\n"
      ]
    },
    {
      "cell_type": "code",
      "metadata": {
        "colab": {
          "base_uri": "https://localhost:8080/",
          "height": 34
        },
        "id": "0qvRu7C8GvTe",
        "outputId": "f11e7435-f7f2-454c-b2d4-00ef932849a6"
      },
      "source": [
        "order(x)"
      ],
      "execution_count": 6,
      "outputs": [
        {
          "output_type": "display_data",
          "data": {
            "text/plain": [
              "[1] 1 5 3 2 4"
            ],
            "text/latex": "\\begin{enumerate*}\n\\item 1\n\\item 5\n\\item 3\n\\item 2\n\\item 4\n\\end{enumerate*}\n",
            "text/markdown": "1. 1\n2. 5\n3. 3\n4. 2\n5. 4\n\n\n",
            "text/html": [
              "<style>\n",
              ".list-inline {list-style: none; margin:0; padding: 0}\n",
              ".list-inline>li {display: inline-block}\n",
              ".list-inline>li:not(:last-child)::after {content: \"\\00b7\"; padding: 0 .5ex}\n",
              "</style>\n",
              "<ol class=list-inline><li>1</li><li>5</li><li>3</li><li>2</li><li>4</li></ol>\n"
            ]
          },
          "metadata": {
            "tags": []
          }
        }
      ]
    },
    {
      "cell_type": "code",
      "metadata": {
        "colab": {
          "base_uri": "https://localhost:8080/",
          "height": 34
        },
        "id": "j96mZRjEGyun",
        "outputId": "a012b08b-3fa6-4d10-e4b9-81c4c19998d0"
      },
      "source": [
        "rank(x)"
      ],
      "execution_count": 7,
      "outputs": [
        {
          "output_type": "display_data",
          "data": {
            "text/plain": [
              "[1] 1 4 3 5 2"
            ],
            "text/latex": "\\begin{enumerate*}\n\\item 1\n\\item 4\n\\item 3\n\\item 5\n\\item 2\n\\end{enumerate*}\n",
            "text/markdown": "1. 1\n2. 4\n3. 3\n4. 5\n5. 2\n\n\n",
            "text/html": [
              "<style>\n",
              ".list-inline {list-style: none; margin:0; padding: 0}\n",
              ".list-inline>li {display: inline-block}\n",
              ".list-inline>li:not(:last-child)::after {content: \"\\00b7\"; padding: 0 .5ex}\n",
              "</style>\n",
              "<ol class=list-inline><li>1</li><li>4</li><li>3</li><li>5</li><li>2</li></ol>\n"
            ]
          },
          "metadata": {
            "tags": []
          }
        }
      ]
    },
    {
      "cell_type": "code",
      "metadata": {
        "colab": {
          "base_uri": "https://localhost:8080/",
          "height": 34
        },
        "id": "dxyTKsx3HBwS",
        "outputId": "0093ec71-d1fd-4bb1-f20e-e24d2cab8cc3"
      },
      "source": [
        "sort(x)"
      ],
      "execution_count": 10,
      "outputs": [
        {
          "output_type": "display_data",
          "data": {
            "text/plain": [
              "[1]  2 18 27 43 96"
            ],
            "text/latex": "\\begin{enumerate*}\n\\item 2\n\\item 18\n\\item 27\n\\item 43\n\\item 96\n\\end{enumerate*}\n",
            "text/markdown": "1. 2\n2. 18\n3. 27\n4. 43\n5. 96\n\n\n",
            "text/html": [
              "<style>\n",
              ".list-inline {list-style: none; margin:0; padding: 0}\n",
              ".list-inline>li {display: inline-block}\n",
              ".list-inline>li:not(:last-child)::after {content: \"\\00b7\"; padding: 0 .5ex}\n",
              "</style>\n",
              "<ol class=list-inline><li>2</li><li>18</li><li>27</li><li>43</li><li>96</li></ol>\n"
            ]
          },
          "metadata": {
            "tags": []
          }
        }
      ]
    },
    {
      "cell_type": "markdown",
      "metadata": {
        "id": "n_BSYlJrHL-V"
      },
      "source": [
        "#Question 2:\n",
        "Continue working with the vector x defined in question 1.\n",
        "\n",
        "Match the following functions to their output. Options include integers 1 through 5 and none of these."
      ]
    },
    {
      "cell_type": "code",
      "metadata": {
        "colab": {
          "base_uri": "https://localhost:8080/",
          "height": 34
        },
        "id": "R2-Zif4pHQ7n",
        "outputId": "2ffc96f2-baf8-477b-ac60-c4dfa0fb5d98"
      },
      "source": [
        "min(x)"
      ],
      "execution_count": 11,
      "outputs": [
        {
          "output_type": "display_data",
          "data": {
            "text/plain": [
              "[1] 2"
            ],
            "text/latex": "2",
            "text/markdown": "2",
            "text/html": [
              "2"
            ]
          },
          "metadata": {
            "tags": []
          }
        }
      ]
    },
    {
      "cell_type": "code",
      "metadata": {
        "colab": {
          "base_uri": "https://localhost:8080/",
          "height": 34
        },
        "id": "iBU0QnHEHTXW",
        "outputId": "f911b048-c75f-47e1-cc16-a7dd3d097504"
      },
      "source": [
        "which.min(x)"
      ],
      "execution_count": 12,
      "outputs": [
        {
          "output_type": "display_data",
          "data": {
            "text/plain": [
              "[1] 1"
            ],
            "text/latex": "1",
            "text/markdown": "1",
            "text/html": [
              "1"
            ]
          },
          "metadata": {
            "tags": []
          }
        }
      ]
    },
    {
      "cell_type": "code",
      "metadata": {
        "colab": {
          "base_uri": "https://localhost:8080/",
          "height": 34
        },
        "id": "gpCZS3OcHV2u",
        "outputId": "30593e50-95de-4bc0-8a0a-fb23d8e9b440"
      },
      "source": [
        "max(x)"
      ],
      "execution_count": 13,
      "outputs": [
        {
          "output_type": "display_data",
          "data": {
            "text/plain": [
              "[1] 96"
            ],
            "text/latex": "96",
            "text/markdown": "96",
            "text/html": [
              "96"
            ]
          },
          "metadata": {
            "tags": []
          }
        }
      ]
    },
    {
      "cell_type": "code",
      "metadata": {
        "colab": {
          "base_uri": "https://localhost:8080/",
          "height": 34
        },
        "id": "9ZN7S6DAHX4Q",
        "outputId": "36fac27d-32ba-43bf-9de3-9f5a183b491c"
      },
      "source": [
        "which.max(x)"
      ],
      "execution_count": 14,
      "outputs": [
        {
          "output_type": "display_data",
          "data": {
            "text/plain": [
              "[1] 4"
            ],
            "text/latex": "4",
            "text/markdown": "4",
            "text/html": [
              "4"
            ]
          },
          "metadata": {
            "tags": []
          }
        }
      ]
    },
    {
      "cell_type": "markdown",
      "metadata": {
        "id": "d5WjyDXfHaWD"
      },
      "source": [
        "#Question 3:\n",
        "Mandi, Amy, Nicole, and Olivia all ran different distances in different time intervals. Their distances (in\n",
        "miles) and times (in minutes) are as follows:"
      ]
    },
    {
      "cell_type": "code",
      "metadata": {
        "id": "CH4MPZ-nHig4"
      },
      "source": [
        "name <- c(\"Mandi\", \"Amy\", \"Nicole\", \"Olivia\")\n",
        "distance <- c(0.8, 3.1, 2.8, 4.0)\n",
        "time <- c(10, 30, 40, 50)"
      ],
      "execution_count": 15,
      "outputs": []
    },
    {
      "cell_type": "markdown",
      "metadata": {
        "id": "CZDpeVxuHxre"
      },
      "source": [
        "Write a line of code to convert time to hours. Remember there are 60 minutes in an hour. Then write a line of code to calculate the speed of each runner in miles per hour. Speed is distance divided by time."
      ]
    },
    {
      "cell_type": "code",
      "metadata": {
        "id": "ljHdVqOUH432"
      },
      "source": [
        "time_hour = time/60\n",
        "speed =distance/time_hour\n",
        "names(time_hour) <-name"
      ],
      "execution_count": 18,
      "outputs": []
    },
    {
      "cell_type": "markdown",
      "metadata": {
        "id": "dCiPgR0eJu58"
      },
      "source": [
        "How many hours did Olivia run?"
      ]
    },
    {
      "cell_type": "code",
      "metadata": {
        "colab": {
          "base_uri": "https://localhost:8080/",
          "height": 34
        },
        "id": "RbQHdcSVJnMV",
        "outputId": "23e2ade0-a924-418c-bc90-bdc0ce3f41ef"
      },
      "source": [
        "time_hour[name=\"Olivia\"]"
      ],
      "execution_count": 19,
      "outputs": [
        {
          "output_type": "display_data",
          "data": {
            "text/plain": [
              "   Olivia \n",
              "0.8333333 "
            ],
            "text/latex": "\\textbf{Olivia:} 0.833333333333333",
            "text/markdown": "**Olivia:** 0.833333333333333",
            "text/html": [
              "<strong>Olivia:</strong> 0.833333333333333"
            ]
          },
          "metadata": {
            "tags": []
          }
        }
      ]
    },
    {
      "cell_type": "markdown",
      "metadata": {
        "id": "NxVcGh6GJzWq"
      },
      "source": [
        "What was Mandi's speed in miles per hour?"
      ]
    },
    {
      "cell_type": "code",
      "metadata": {
        "colab": {
          "base_uri": "https://localhost:8080/",
          "height": 34
        },
        "id": "PpLGYeJvJxI6",
        "outputId": "ae999a96-5b66-4bb7-a478-b785a3d4004c"
      },
      "source": [
        "names(speed) <- name\n",
        "speed[name =\"Mandi\"]"
      ],
      "execution_count": 23,
      "outputs": [
        {
          "output_type": "display_data",
          "data": {
            "text/plain": [
              "Mandi \n",
              "  4.8 "
            ],
            "text/latex": "\\textbf{Mandi:} 4.8",
            "text/markdown": "**Mandi:** 4.8",
            "text/html": [
              "<strong>Mandi:</strong> 4.8"
            ]
          },
          "metadata": {
            "tags": []
          }
        }
      ]
    },
    {
      "cell_type": "markdown",
      "metadata": {
        "id": "fo0O0Sq6KLbr"
      },
      "source": [
        "Which runner had the fastest speed?"
      ]
    },
    {
      "cell_type": "code",
      "metadata": {
        "colab": {
          "base_uri": "https://localhost:8080/",
          "height": 34
        },
        "id": "2qDfmLJUKN0o",
        "outputId": "1585936f-5f6d-44a7-d86d-c5bc30fe1b17"
      },
      "source": [
        "name[which.max(speed)]"
      ],
      "execution_count": 24,
      "outputs": [
        {
          "output_type": "display_data",
          "data": {
            "text/plain": [
              "[1] \"Amy\""
            ],
            "text/latex": "'Amy'",
            "text/markdown": "'Amy'",
            "text/html": [
              "'Amy'"
            ]
          },
          "metadata": {
            "tags": []
          }
        }
      ]
    }
  ]
}