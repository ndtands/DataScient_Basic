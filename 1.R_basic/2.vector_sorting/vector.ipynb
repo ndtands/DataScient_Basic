{
  "nbformat": 4,
  "nbformat_minor": 0,
  "metadata": {
    "colab": {
      "name": "vector.ipynb",
      "provenance": [],
      "collapsed_sections": []
    },
    "kernelspec": {
      "name": "ir",
      "display_name": "R"
    },
    "accelerator": "GPU"
  },
  "cells": [
    {
      "cell_type": "code",
      "metadata": {
        "colab": {
          "base_uri": "https://localhost:8080/",
          "height": 102
        },
        "id": "mlP9Bi4spXrY",
        "outputId": "b33c0d6f-b8e3-4651-853c-5bdfa19eade5"
      },
      "source": [
        "# We may create vectors of class numeric or character with the concatenate function\n",
        "codes <- c(380, 124, 818)\n",
        "country <- c(\"italy\", \"canada\", \"egypt\")\n",
        "\n",
        "# We can also name the elements of a numeric vector\n",
        "# Note that the two lines of code below have the same result\n",
        "codes <- c(italy = 380, canada = 124, egypt = 818)\n",
        "codes <- c(\"italy\" = 380, \"canada\" = 124, \"egypt\" = 818)\n",
        "\n",
        "# We can also name the elements of a numeric vector using the names() function\n",
        "codes <- c(380, 124, 818)\n",
        "country <- c(\"italy\",\"canada\",\"egypt\")\n",
        "names(codes) <- country\n",
        "print(codes)\n",
        "# Using square brackets is useful for subsetting to access specific elements of a vector\n",
        "codes[2]\n",
        "codes[c(1,3)]\n",
        "codes[1:2]"
      ],
      "execution_count": 21,
      "outputs": [
        {
          "output_type": "stream",
          "text": [
            " italy canada  egypt \n",
            "   380    124    818 \n"
          ],
          "name": "stdout"
        },
        {
          "output_type": "display_data",
          "data": {
            "text/plain": [
              "canada \n",
              "   124 "
            ],
            "text/latex": "\\textbf{canada:} 124",
            "text/markdown": "**canada:** 124",
            "text/html": [
              "<strong>canada:</strong> 124"
            ]
          },
          "metadata": {
            "tags": []
          }
        },
        {
          "output_type": "display_data",
          "data": {
            "text/plain": [
              "italy egypt \n",
              "  380   818 "
            ],
            "text/latex": "\\begin{description*}\n\\item[italy] 380\n\\item[egypt] 818\n\\end{description*}\n",
            "text/markdown": "italy\n:   380egypt\n:   818\n\n",
            "text/html": [
              "<style>\n",
              ".dl-inline {width: auto; margin:0; padding: 0}\n",
              ".dl-inline>dt, .dl-inline>dd {float: none; width: auto; display: inline-block}\n",
              ".dl-inline>dt::after {content: \":\\0020\"; padding-right: .5ex}\n",
              ".dl-inline>dt:not(:first-of-type) {padding-left: .5ex}\n",
              "</style><dl class=dl-inline><dt>italy</dt><dd>380</dd><dt>egypt</dt><dd>818</dd></dl>\n"
            ]
          },
          "metadata": {
            "tags": []
          }
        },
        {
          "output_type": "display_data",
          "data": {
            "text/plain": [
              " italy canada \n",
              "   380    124 "
            ],
            "text/latex": "\\begin{description*}\n\\item[italy] 380\n\\item[canada] 124\n\\end{description*}\n",
            "text/markdown": "italy\n:   380canada\n:   124\n\n",
            "text/html": [
              "<style>\n",
              ".dl-inline {width: auto; margin:0; padding: 0}\n",
              ".dl-inline>dt, .dl-inline>dd {float: none; width: auto; display: inline-block}\n",
              ".dl-inline>dt::after {content: \":\\0020\"; padding-right: .5ex}\n",
              ".dl-inline>dt:not(:first-of-type) {padding-left: .5ex}\n",
              "</style><dl class=dl-inline><dt>italy</dt><dd>380</dd><dt>canada</dt><dd>124</dd></dl>\n"
            ]
          },
          "metadata": {
            "tags": []
          }
        }
      ]
    },
    {
      "cell_type": "code",
      "metadata": {
        "colab": {
          "base_uri": "https://localhost:8080/",
          "height": 50
        },
        "id": "ClvQJoclp2s9",
        "outputId": "a5f1afae-739b-4442-d162-289ed66a9edc"
      },
      "source": [
        "# If the entries of a vector are named, they may be accessed by referring to their name\n",
        "codes[\"canada\"]\n",
        "codes[c(\"egypt\",\"italy\")]"
      ],
      "execution_count": 22,
      "outputs": [
        {
          "output_type": "display_data",
          "data": {
            "text/plain": [
              "canada \n",
              "   124 "
            ],
            "text/latex": "\\textbf{canada:} 124",
            "text/markdown": "**canada:** 124",
            "text/html": [
              "<strong>canada:</strong> 124"
            ]
          },
          "metadata": {
            "tags": []
          }
        },
        {
          "output_type": "display_data",
          "data": {
            "text/plain": [
              "egypt italy \n",
              "  818   380 "
            ],
            "text/latex": "\\begin{description*}\n\\item[egypt] 818\n\\item[italy] 380\n\\end{description*}\n",
            "text/markdown": "egypt\n:   818italy\n:   380\n\n",
            "text/html": [
              "<style>\n",
              ".dl-inline {width: auto; margin:0; padding: 0}\n",
              ".dl-inline>dt, .dl-inline>dd {float: none; width: auto; display: inline-block}\n",
              ".dl-inline>dt::after {content: \":\\0020\"; padding-right: .5ex}\n",
              ".dl-inline>dt:not(:first-of-type) {padding-left: .5ex}\n",
              "</style><dl class=dl-inline><dt>egypt</dt><dd>818</dd><dt>italy</dt><dd>380</dd></dl>\n"
            ]
          },
          "metadata": {
            "tags": []
          }
        }
      ]
    },
    {
      "cell_type": "code",
      "metadata": {
        "colab": {
          "base_uri": "https://localhost:8080/",
          "height": 50
        },
        "id": "3JTMJsiYp6zk",
        "outputId": "d28a435f-806d-42fd-943e-fd5979283225"
      },
      "source": [
        "x <- c(1, \"canada\", 3)\n",
        "class(x)\n",
        "x <- c(\"canada\", 3)\n",
        "class(x)"
      ],
      "execution_count": 23,
      "outputs": [
        {
          "output_type": "display_data",
          "data": {
            "text/plain": [
              "[1] \"character\""
            ],
            "text/latex": "'character'",
            "text/markdown": "'character'",
            "text/html": [
              "'character'"
            ]
          },
          "metadata": {
            "tags": []
          }
        },
        {
          "output_type": "display_data",
          "data": {
            "text/plain": [
              "[1] \"character\""
            ],
            "text/latex": "'character'",
            "text/markdown": "'character'",
            "text/html": [
              "'character'"
            ]
          },
          "metadata": {
            "tags": []
          }
        }
      ]
    },
    {
      "cell_type": "code",
      "metadata": {
        "colab": {
          "base_uri": "https://localhost:8080/",
          "height": 34
        },
        "id": "TWeTUgFvqGTX",
        "outputId": "41edc7a7-e377-441f-8f26-4a4024e98698"
      },
      "source": [
        "# Associate the cost values with its corresponding food item\n",
        "cost <- c(50, 75, 90, 100, 150)\n",
        "food <- c(\"pizza\", \"burgers\", \"salads\", \"cheese\", \"pasta\")\n",
        "names(cost) <- food\n",
        "\n",
        "# You already wrote this code\n",
        "temp <- c(35, 88, 42, 84, 81, 30)\n",
        "city <- c(\"Beijing\", \"Lagos\", \"Paris\", \"Rio de Janeiro\", \"San Juan\", \"Toronto\")\n",
        "\n",
        "# Associate the temperature values with its corresponding city\n",
        "names(temp) <-city\n",
        "temp"
      ],
      "execution_count": 24,
      "outputs": [
        {
          "output_type": "display_data",
          "data": {
            "text/plain": [
              "       Beijing          Lagos          Paris Rio de Janeiro       San Juan \n",
              "            35             88             42             84             81 \n",
              "       Toronto \n",
              "            30 "
            ],
            "text/latex": "\\begin{description*}\n\\item[Beijing] 35\n\\item[Lagos] 88\n\\item[Paris] 42\n\\item[Rio de Janeiro] 84\n\\item[San Juan] 81\n\\item[Toronto] 30\n\\end{description*}\n",
            "text/markdown": "Beijing\n:   35Lagos\n:   88Paris\n:   42Rio de Janeiro\n:   84San Juan\n:   81Toronto\n:   30\n\n",
            "text/html": [
              "<style>\n",
              ".dl-inline {width: auto; margin:0; padding: 0}\n",
              ".dl-inline>dt, .dl-inline>dd {float: none; width: auto; display: inline-block}\n",
              ".dl-inline>dt::after {content: \":\\0020\"; padding-right: .5ex}\n",
              ".dl-inline>dt:not(:first-of-type) {padding-left: .5ex}\n",
              "</style><dl class=dl-inline><dt>Beijing</dt><dd>35</dd><dt>Lagos</dt><dd>88</dd><dt>Paris</dt><dd>42</dd><dt>Rio de Janeiro</dt><dd>84</dd><dt>San Juan</dt><dd>81</dd><dt>Toronto</dt><dd>30</dd></dl>\n"
            ]
          },
          "metadata": {
            "tags": []
          }
        }
      ]
    },
    {
      "cell_type": "code",
      "metadata": {
        "colab": {
          "base_uri": "https://localhost:8080/",
          "height": 50
        },
        "id": "NEK_OuEyqlqv",
        "outputId": "96d5eb63-ce7b-42d2-b09e-a44810d263be"
      },
      "source": [
        "# Access the cost of pizza and pasta from our food list \n",
        "cost[c(1,5)]\n",
        "\n",
        "# Define temp\n",
        "temp <- c(35, 88, 42, 84, 81, 30)\n",
        "city <- c(\"Beijing\", \"Lagos\", \"Paris\", \"Rio de Janeiro\", \"San Juan\", \"Toronto\")\n",
        "names(temp) <- city\n",
        "\n",
        "# Access the temperatures of Paris and San Juan\n",
        "temp[c(\"Paris\",\"San Juan\")]"
      ],
      "execution_count": 25,
      "outputs": [
        {
          "output_type": "display_data",
          "data": {
            "text/plain": [
              "pizza pasta \n",
              "   50   150 "
            ],
            "text/latex": "\\begin{description*}\n\\item[pizza] 50\n\\item[pasta] 150\n\\end{description*}\n",
            "text/markdown": "pizza\n:   50pasta\n:   150\n\n",
            "text/html": [
              "<style>\n",
              ".dl-inline {width: auto; margin:0; padding: 0}\n",
              ".dl-inline>dt, .dl-inline>dd {float: none; width: auto; display: inline-block}\n",
              ".dl-inline>dt::after {content: \":\\0020\"; padding-right: .5ex}\n",
              ".dl-inline>dt:not(:first-of-type) {padding-left: .5ex}\n",
              "</style><dl class=dl-inline><dt>pizza</dt><dd>50</dd><dt>pasta</dt><dd>150</dd></dl>\n"
            ]
          },
          "metadata": {
            "tags": []
          }
        },
        {
          "output_type": "display_data",
          "data": {
            "text/plain": [
              "   Paris San Juan \n",
              "      42       81 "
            ],
            "text/latex": "\\begin{description*}\n\\item[Paris] 42\n\\item[San Juan] 81\n\\end{description*}\n",
            "text/markdown": "Paris\n:   42San Juan\n:   81\n\n",
            "text/html": [
              "<style>\n",
              ".dl-inline {width: auto; margin:0; padding: 0}\n",
              ".dl-inline>dt, .dl-inline>dd {float: none; width: auto; display: inline-block}\n",
              ".dl-inline>dt::after {content: \":\\0020\"; padding-right: .5ex}\n",
              ".dl-inline>dt:not(:first-of-type) {padding-left: .5ex}\n",
              "</style><dl class=dl-inline><dt>Paris</dt><dd>42</dd><dt>San Juan</dt><dd>81</dd></dl>\n"
            ]
          },
          "metadata": {
            "tags": []
          }
        }
      ]
    },
    {
      "cell_type": "code",
      "metadata": {
        "colab": {
          "base_uri": "https://localhost:8080/",
          "height": 50
        },
        "id": "hbq3PoUkq2lw",
        "outputId": "b1cab558-ce8b-449c-85e0-ac5415805bea"
      },
      "source": [
        "# Create a vector with the multiples of 7, smaller than 50.\n",
        "seq(7, 49, 7) \n",
        "\n",
        "# Create a vector containing all the positive odd numbers smaller than 100.\n",
        "# The numbers should be in ascending order\n",
        "seq(1,99,2)"
      ],
      "execution_count": 26,
      "outputs": [
        {
          "output_type": "display_data",
          "data": {
            "text/plain": [
              "[1]  7 14 21 28 35 42 49"
            ],
            "text/latex": "\\begin{enumerate*}\n\\item 7\n\\item 14\n\\item 21\n\\item 28\n\\item 35\n\\item 42\n\\item 49\n\\end{enumerate*}\n",
            "text/markdown": "1. 7\n2. 14\n3. 21\n4. 28\n5. 35\n6. 42\n7. 49\n\n\n",
            "text/html": [
              "<style>\n",
              ".list-inline {list-style: none; margin:0; padding: 0}\n",
              ".list-inline>li {display: inline-block}\n",
              ".list-inline>li:not(:last-child)::after {content: \"\\00b7\"; padding: 0 .5ex}\n",
              "</style>\n",
              "<ol class=list-inline><li>7</li><li>14</li><li>21</li><li>28</li><li>35</li><li>42</li><li>49</li></ol>\n"
            ]
          },
          "metadata": {
            "tags": []
          }
        },
        {
          "output_type": "display_data",
          "data": {
            "text/plain": [
              " [1]  1  3  5  7  9 11 13 15 17 19 21 23 25 27 29 31 33 35 37 39 41 43 45 47 49\n",
              "[26] 51 53 55 57 59 61 63 65 67 69 71 73 75 77 79 81 83 85 87 89 91 93 95 97 99"
            ],
            "text/latex": "\\begin{enumerate*}\n\\item 1\n\\item 3\n\\item 5\n\\item 7\n\\item 9\n\\item 11\n\\item 13\n\\item 15\n\\item 17\n\\item 19\n\\item 21\n\\item 23\n\\item 25\n\\item 27\n\\item 29\n\\item 31\n\\item 33\n\\item 35\n\\item 37\n\\item 39\n\\item 41\n\\item 43\n\\item 45\n\\item 47\n\\item 49\n\\item 51\n\\item 53\n\\item 55\n\\item 57\n\\item 59\n\\item 61\n\\item 63\n\\item 65\n\\item 67\n\\item 69\n\\item 71\n\\item 73\n\\item 75\n\\item 77\n\\item 79\n\\item 81\n\\item 83\n\\item 85\n\\item 87\n\\item 89\n\\item 91\n\\item 93\n\\item 95\n\\item 97\n\\item 99\n\\end{enumerate*}\n",
            "text/markdown": "1. 1\n2. 3\n3. 5\n4. 7\n5. 9\n6. 11\n7. 13\n8. 15\n9. 17\n10. 19\n11. 21\n12. 23\n13. 25\n14. 27\n15. 29\n16. 31\n17. 33\n18. 35\n19. 37\n20. 39\n21. 41\n22. 43\n23. 45\n24. 47\n25. 49\n26. 51\n27. 53\n28. 55\n29. 57\n30. 59\n31. 61\n32. 63\n33. 65\n34. 67\n35. 69\n36. 71\n37. 73\n38. 75\n39. 77\n40. 79\n41. 81\n42. 83\n43. 85\n44. 87\n45. 89\n46. 91\n47. 93\n48. 95\n49. 97\n50. 99\n\n\n",
            "text/html": [
              "<style>\n",
              ".list-inline {list-style: none; margin:0; padding: 0}\n",
              ".list-inline>li {display: inline-block}\n",
              ".list-inline>li:not(:last-child)::after {content: \"\\00b7\"; padding: 0 .5ex}\n",
              "</style>\n",
              "<ol class=list-inline><li>1</li><li>3</li><li>5</li><li>7</li><li>9</li><li>11</li><li>13</li><li>15</li><li>17</li><li>19</li><li>21</li><li>23</li><li>25</li><li>27</li><li>29</li><li>31</li><li>33</li><li>35</li><li>37</li><li>39</li><li>41</li><li>43</li><li>45</li><li>47</li><li>49</li><li>51</li><li>53</li><li>55</li><li>57</li><li>59</li><li>61</li><li>63</li><li>65</li><li>67</li><li>69</li><li>71</li><li>73</li><li>75</li><li>77</li><li>79</li><li>81</li><li>83</li><li>85</li><li>87</li><li>89</li><li>91</li><li>93</li><li>95</li><li>97</li><li>99</li></ol>\n"
            ]
          },
          "metadata": {
            "tags": []
          }
        }
      ]
    },
    {
      "cell_type": "code",
      "metadata": {
        "colab": {
          "base_uri": "https://localhost:8080/",
          "height": 34
        },
        "id": "muXtYCzwrFzN",
        "outputId": "bd4f825c-eab8-438f-a029-277108d8fc37"
      },
      "source": [
        "# Create a sequence of numbers from 6 to 55, with 4/7 increments and determine its length\n",
        "length(seq(6,55,4/7))"
      ],
      "execution_count": 27,
      "outputs": [
        {
          "output_type": "display_data",
          "data": {
            "text/plain": [
              "[1] 86"
            ],
            "text/latex": "86",
            "text/markdown": "86",
            "text/html": [
              "86"
            ]
          },
          "metadata": {
            "tags": []
          }
        }
      ]
    },
    {
      "cell_type": "code",
      "metadata": {
        "colab": {
          "base_uri": "https://localhost:8080/",
          "height": 50
        },
        "id": "fnGuMlTnrOKF",
        "outputId": "486cf063-eb2f-434b-b766-0dc4a18c9945"
      },
      "source": [
        "# Check the class of 1, assigned to the object a\n",
        "class(1)\n",
        "\n",
        "# Confirm the class of 1L is integer\n",
        "class(1L)\n"
      ],
      "execution_count": 28,
      "outputs": [
        {
          "output_type": "display_data",
          "data": {
            "text/plain": [
              "[1] \"numeric\""
            ],
            "text/latex": "'numeric'",
            "text/markdown": "'numeric'",
            "text/html": [
              "'numeric'"
            ]
          },
          "metadata": {
            "tags": []
          }
        },
        {
          "output_type": "display_data",
          "data": {
            "text/plain": [
              "[1] \"integer\""
            ],
            "text/latex": "'integer'",
            "text/markdown": "'integer'",
            "text/html": [
              "'integer'"
            ]
          },
          "metadata": {
            "tags": []
          }
        }
      ]
    },
    {
      "cell_type": "code",
      "metadata": {
        "colab": {
          "base_uri": "https://localhost:8080/",
          "height": 86
        },
        "id": "sQ2IZ4ygrc6H",
        "outputId": "358f413a-f063-4476-ff24-7180812ec5fe"
      },
      "source": [
        "# Define the vector x\n",
        "x <- c(1, 3, 5,\"a\")\n",
        "\n",
        "# Note that the x is character vector\n",
        "x\n",
        "\n",
        "# Redefine `x` to typecast it to get an integer vector using `as.numeric`.\n",
        "# You will get a warning but that is okay\n",
        "x<-as.numeric(x)\n",
        "x"
      ],
      "execution_count": 30,
      "outputs": [
        {
          "output_type": "display_data",
          "data": {
            "text/plain": [
              "[1] \"1\" \"3\" \"5\" \"a\""
            ],
            "text/latex": "\\begin{enumerate*}\n\\item '1'\n\\item '3'\n\\item '5'\n\\item 'a'\n\\end{enumerate*}\n",
            "text/markdown": "1. '1'\n2. '3'\n3. '5'\n4. 'a'\n\n\n",
            "text/html": [
              "<style>\n",
              ".list-inline {list-style: none; margin:0; padding: 0}\n",
              ".list-inline>li {display: inline-block}\n",
              ".list-inline>li:not(:last-child)::after {content: \"\\00b7\"; padding: 0 .5ex}\n",
              "</style>\n",
              "<ol class=list-inline><li>'1'</li><li>'3'</li><li>'5'</li><li>'a'</li></ol>\n"
            ]
          },
          "metadata": {
            "tags": []
          }
        },
        {
          "output_type": "stream",
          "text": [
            "Warning message in eval(expr, envir, enclos):\n",
            "“NAs introduced by coercion”\n"
          ],
          "name": "stderr"
        },
        {
          "output_type": "display_data",
          "data": {
            "text/plain": [
              "[1]  1  3  5 NA"
            ],
            "text/latex": "\\begin{enumerate*}\n\\item 1\n\\item 3\n\\item 5\n\\item <NA>\n\\end{enumerate*}\n",
            "text/markdown": "1. 1\n2. 3\n3. 5\n4. &lt;NA&gt;\n\n\n",
            "text/html": [
              "<style>\n",
              ".list-inline {list-style: none; margin:0; padding: 0}\n",
              ".list-inline>li {display: inline-block}\n",
              ".list-inline>li:not(:last-child)::after {content: \"\\00b7\"; padding: 0 .5ex}\n",
              "</style>\n",
              "<ol class=list-inline><li>1</li><li>3</li><li>5</li><li>&lt;NA&gt;</li></ol>\n"
            ]
          },
          "metadata": {
            "tags": []
          }
        }
      ]
    }
  ]
}