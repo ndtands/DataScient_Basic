{
  "nbformat": 4,
  "nbformat_minor": 0,
  "metadata": {
    "colab": {
      "name": "sorting.ipynb",
      "provenance": [],
      "collapsed_sections": []
    },
    "kernelspec": {
      "name": "ir",
      "display_name": "R"
    },
    "accelerator": "GPU"
  },
  "cells": [
    {
      "cell_type": "code",
      "metadata": {
        "colab": {
          "base_uri": "https://localhost:8080/",
          "height": 103
        },
        "id": "nuhwhQ8osCOO",
        "outputId": "cbc37132-620d-4588-fe59-758ea51042de"
      },
      "source": [
        "install.packages(\"dslabs\")\n",
        "library(dslabs)\n",
        "x <- c(31, 4, 15, 92, 65)\n",
        "x\n",
        "sort(x)    # puts elements in order"
      ],
      "execution_count": 1,
      "outputs": [
        {
          "output_type": "stream",
          "text": [
            "Installing package into ‘/usr/local/lib/R/site-library’\n",
            "(as ‘lib’ is unspecified)\n",
            "\n"
          ],
          "name": "stderr"
        },
        {
          "output_type": "display_data",
          "data": {
            "text/plain": [
              "[1] 31  4 15 92 65"
            ],
            "text/latex": "\\begin{enumerate*}\n\\item 31\n\\item 4\n\\item 15\n\\item 92\n\\item 65\n\\end{enumerate*}\n",
            "text/markdown": "1. 31\n2. 4\n3. 15\n4. 92\n5. 65\n\n\n",
            "text/html": [
              "<style>\n",
              ".list-inline {list-style: none; margin:0; padding: 0}\n",
              ".list-inline>li {display: inline-block}\n",
              ".list-inline>li:not(:last-child)::after {content: \"\\00b7\"; padding: 0 .5ex}\n",
              "</style>\n",
              "<ol class=list-inline><li>31</li><li>4</li><li>15</li><li>92</li><li>65</li></ol>\n"
            ]
          },
          "metadata": {
            "tags": []
          }
        },
        {
          "output_type": "display_data",
          "data": {
            "text/plain": [
              "[1]  4 15 31 65 92"
            ],
            "text/latex": "\\begin{enumerate*}\n\\item 4\n\\item 15\n\\item 31\n\\item 65\n\\item 92\n\\end{enumerate*}\n",
            "text/markdown": "1. 4\n2. 15\n3. 31\n4. 65\n5. 92\n\n\n",
            "text/html": [
              "<style>\n",
              ".list-inline {list-style: none; margin:0; padding: 0}\n",
              ".list-inline>li {display: inline-block}\n",
              ".list-inline>li:not(:last-child)::after {content: \"\\00b7\"; padding: 0 .5ex}\n",
              "</style>\n",
              "<ol class=list-inline><li>4</li><li>15</li><li>31</li><li>65</li><li>92</li></ol>\n"
            ]
          },
          "metadata": {
            "tags": []
          }
        }
      ]
    },
    {
      "cell_type": "code",
      "metadata": {
        "colab": {
          "base_uri": "https://localhost:8080/",
          "height": 185
        },
        "id": "u3N4NFoasd_P",
        "outputId": "b1500df7-b0d2-4af5-ca0c-5042285fc5a8"
      },
      "source": [
        "index <- order(x)    # returns index that will put x in order\n",
        "x[index]             # rearranging by this index puts elements in order\n",
        "order(x)\n",
        "\n",
        "murders$state[1:10]\n",
        "murders$abb[1:10]\n",
        "\n",
        "index <- order(murders$total)\n",
        "murders$abb[index]    # order abbreviations by total murders\n",
        "\n",
        "max(murders$total)    # highest number of total murders\n",
        "i_max <- which.max(murders$total)    # index with highest number of murders\n",
        "murders$state[i_max]    # state name with highest number of total murders\n",
        "\n",
        "x <- c(31, 4, 15, 92, 65)\n",
        "x\n",
        "rank(x)    # returns ranks (smallest to largest)"
      ],
      "execution_count": 2,
      "outputs": [
        {
          "output_type": "display_data",
          "data": {
            "text/plain": [
              "[1]  4 15 31 65 92"
            ],
            "text/latex": "\\begin{enumerate*}\n\\item 4\n\\item 15\n\\item 31\n\\item 65\n\\item 92\n\\end{enumerate*}\n",
            "text/markdown": "1. 4\n2. 15\n3. 31\n4. 65\n5. 92\n\n\n",
            "text/html": [
              "<style>\n",
              ".list-inline {list-style: none; margin:0; padding: 0}\n",
              ".list-inline>li {display: inline-block}\n",
              ".list-inline>li:not(:last-child)::after {content: \"\\00b7\"; padding: 0 .5ex}\n",
              "</style>\n",
              "<ol class=list-inline><li>4</li><li>15</li><li>31</li><li>65</li><li>92</li></ol>\n"
            ]
          },
          "metadata": {
            "tags": []
          }
        },
        {
          "output_type": "display_data",
          "data": {
            "text/plain": [
              "[1] 2 3 1 5 4"
            ],
            "text/latex": "\\begin{enumerate*}\n\\item 2\n\\item 3\n\\item 1\n\\item 5\n\\item 4\n\\end{enumerate*}\n",
            "text/markdown": "1. 2\n2. 3\n3. 1\n4. 5\n5. 4\n\n\n",
            "text/html": [
              "<style>\n",
              ".list-inline {list-style: none; margin:0; padding: 0}\n",
              ".list-inline>li {display: inline-block}\n",
              ".list-inline>li:not(:last-child)::after {content: \"\\00b7\"; padding: 0 .5ex}\n",
              "</style>\n",
              "<ol class=list-inline><li>2</li><li>3</li><li>1</li><li>5</li><li>4</li></ol>\n"
            ]
          },
          "metadata": {
            "tags": []
          }
        },
        {
          "output_type": "display_data",
          "data": {
            "text/plain": [
              " [1] \"Alabama\"              \"Alaska\"               \"Arizona\"             \n",
              " [4] \"Arkansas\"             \"California\"           \"Colorado\"            \n",
              " [7] \"Connecticut\"          \"Delaware\"             \"District of Columbia\"\n",
              "[10] \"Florida\"             "
            ],
            "text/latex": "\\begin{enumerate*}\n\\item 'Alabama'\n\\item 'Alaska'\n\\item 'Arizona'\n\\item 'Arkansas'\n\\item 'California'\n\\item 'Colorado'\n\\item 'Connecticut'\n\\item 'Delaware'\n\\item 'District of Columbia'\n\\item 'Florida'\n\\end{enumerate*}\n",
            "text/markdown": "1. 'Alabama'\n2. 'Alaska'\n3. 'Arizona'\n4. 'Arkansas'\n5. 'California'\n6. 'Colorado'\n7. 'Connecticut'\n8. 'Delaware'\n9. 'District of Columbia'\n10. 'Florida'\n\n\n",
            "text/html": [
              "<style>\n",
              ".list-inline {list-style: none; margin:0; padding: 0}\n",
              ".list-inline>li {display: inline-block}\n",
              ".list-inline>li:not(:last-child)::after {content: \"\\00b7\"; padding: 0 .5ex}\n",
              "</style>\n",
              "<ol class=list-inline><li>'Alabama'</li><li>'Alaska'</li><li>'Arizona'</li><li>'Arkansas'</li><li>'California'</li><li>'Colorado'</li><li>'Connecticut'</li><li>'Delaware'</li><li>'District of Columbia'</li><li>'Florida'</li></ol>\n"
            ]
          },
          "metadata": {
            "tags": []
          }
        },
        {
          "output_type": "display_data",
          "data": {
            "text/plain": [
              " [1] \"AL\" \"AK\" \"AZ\" \"AR\" \"CA\" \"CO\" \"CT\" \"DE\" \"DC\" \"FL\""
            ],
            "text/latex": "\\begin{enumerate*}\n\\item 'AL'\n\\item 'AK'\n\\item 'AZ'\n\\item 'AR'\n\\item 'CA'\n\\item 'CO'\n\\item 'CT'\n\\item 'DE'\n\\item 'DC'\n\\item 'FL'\n\\end{enumerate*}\n",
            "text/markdown": "1. 'AL'\n2. 'AK'\n3. 'AZ'\n4. 'AR'\n5. 'CA'\n6. 'CO'\n7. 'CT'\n8. 'DE'\n9. 'DC'\n10. 'FL'\n\n\n",
            "text/html": [
              "<style>\n",
              ".list-inline {list-style: none; margin:0; padding: 0}\n",
              ".list-inline>li {display: inline-block}\n",
              ".list-inline>li:not(:last-child)::after {content: \"\\00b7\"; padding: 0 .5ex}\n",
              "</style>\n",
              "<ol class=list-inline><li>'AL'</li><li>'AK'</li><li>'AZ'</li><li>'AR'</li><li>'CA'</li><li>'CO'</li><li>'CT'</li><li>'DE'</li><li>'DC'</li><li>'FL'</li></ol>\n"
            ]
          },
          "metadata": {
            "tags": []
          }
        },
        {
          "output_type": "display_data",
          "data": {
            "text/plain": [
              " [1] \"VT\" \"ND\" \"NH\" \"WY\" \"HI\" \"SD\" \"ME\" \"ID\" \"MT\" \"RI\" \"AK\" \"IA\" \"UT\" \"WV\" \"NE\"\n",
              "[16] \"OR\" \"DE\" \"MN\" \"KS\" \"CO\" \"NM\" \"NV\" \"AR\" \"WA\" \"CT\" \"WI\" \"DC\" \"OK\" \"KY\" \"MA\"\n",
              "[31] \"MS\" \"AL\" \"IN\" \"SC\" \"TN\" \"AZ\" \"NJ\" \"VA\" \"NC\" \"MD\" \"OH\" \"MO\" \"LA\" \"IL\" \"GA\"\n",
              "[46] \"MI\" \"PA\" \"NY\" \"FL\" \"TX\" \"CA\""
            ],
            "text/latex": "\\begin{enumerate*}\n\\item 'VT'\n\\item 'ND'\n\\item 'NH'\n\\item 'WY'\n\\item 'HI'\n\\item 'SD'\n\\item 'ME'\n\\item 'ID'\n\\item 'MT'\n\\item 'RI'\n\\item 'AK'\n\\item 'IA'\n\\item 'UT'\n\\item 'WV'\n\\item 'NE'\n\\item 'OR'\n\\item 'DE'\n\\item 'MN'\n\\item 'KS'\n\\item 'CO'\n\\item 'NM'\n\\item 'NV'\n\\item 'AR'\n\\item 'WA'\n\\item 'CT'\n\\item 'WI'\n\\item 'DC'\n\\item 'OK'\n\\item 'KY'\n\\item 'MA'\n\\item 'MS'\n\\item 'AL'\n\\item 'IN'\n\\item 'SC'\n\\item 'TN'\n\\item 'AZ'\n\\item 'NJ'\n\\item 'VA'\n\\item 'NC'\n\\item 'MD'\n\\item 'OH'\n\\item 'MO'\n\\item 'LA'\n\\item 'IL'\n\\item 'GA'\n\\item 'MI'\n\\item 'PA'\n\\item 'NY'\n\\item 'FL'\n\\item 'TX'\n\\item 'CA'\n\\end{enumerate*}\n",
            "text/markdown": "1. 'VT'\n2. 'ND'\n3. 'NH'\n4. 'WY'\n5. 'HI'\n6. 'SD'\n7. 'ME'\n8. 'ID'\n9. 'MT'\n10. 'RI'\n11. 'AK'\n12. 'IA'\n13. 'UT'\n14. 'WV'\n15. 'NE'\n16. 'OR'\n17. 'DE'\n18. 'MN'\n19. 'KS'\n20. 'CO'\n21. 'NM'\n22. 'NV'\n23. 'AR'\n24. 'WA'\n25. 'CT'\n26. 'WI'\n27. 'DC'\n28. 'OK'\n29. 'KY'\n30. 'MA'\n31. 'MS'\n32. 'AL'\n33. 'IN'\n34. 'SC'\n35. 'TN'\n36. 'AZ'\n37. 'NJ'\n38. 'VA'\n39. 'NC'\n40. 'MD'\n41. 'OH'\n42. 'MO'\n43. 'LA'\n44. 'IL'\n45. 'GA'\n46. 'MI'\n47. 'PA'\n48. 'NY'\n49. 'FL'\n50. 'TX'\n51. 'CA'\n\n\n",
            "text/html": [
              "<style>\n",
              ".list-inline {list-style: none; margin:0; padding: 0}\n",
              ".list-inline>li {display: inline-block}\n",
              ".list-inline>li:not(:last-child)::after {content: \"\\00b7\"; padding: 0 .5ex}\n",
              "</style>\n",
              "<ol class=list-inline><li>'VT'</li><li>'ND'</li><li>'NH'</li><li>'WY'</li><li>'HI'</li><li>'SD'</li><li>'ME'</li><li>'ID'</li><li>'MT'</li><li>'RI'</li><li>'AK'</li><li>'IA'</li><li>'UT'</li><li>'WV'</li><li>'NE'</li><li>'OR'</li><li>'DE'</li><li>'MN'</li><li>'KS'</li><li>'CO'</li><li>'NM'</li><li>'NV'</li><li>'AR'</li><li>'WA'</li><li>'CT'</li><li>'WI'</li><li>'DC'</li><li>'OK'</li><li>'KY'</li><li>'MA'</li><li>'MS'</li><li>'AL'</li><li>'IN'</li><li>'SC'</li><li>'TN'</li><li>'AZ'</li><li>'NJ'</li><li>'VA'</li><li>'NC'</li><li>'MD'</li><li>'OH'</li><li>'MO'</li><li>'LA'</li><li>'IL'</li><li>'GA'</li><li>'MI'</li><li>'PA'</li><li>'NY'</li><li>'FL'</li><li>'TX'</li><li>'CA'</li></ol>\n"
            ]
          },
          "metadata": {
            "tags": []
          }
        },
        {
          "output_type": "display_data",
          "data": {
            "text/plain": [
              "[1] 1257"
            ],
            "text/latex": "1257",
            "text/markdown": "1257",
            "text/html": [
              "1257"
            ]
          },
          "metadata": {
            "tags": []
          }
        },
        {
          "output_type": "display_data",
          "data": {
            "text/plain": [
              "[1] \"California\""
            ],
            "text/latex": "'California'",
            "text/markdown": "'California'",
            "text/html": [
              "'California'"
            ]
          },
          "metadata": {
            "tags": []
          }
        },
        {
          "output_type": "display_data",
          "data": {
            "text/plain": [
              "[1] 31  4 15 92 65"
            ],
            "text/latex": "\\begin{enumerate*}\n\\item 31\n\\item 4\n\\item 15\n\\item 92\n\\item 65\n\\end{enumerate*}\n",
            "text/markdown": "1. 31\n2. 4\n3. 15\n4. 92\n5. 65\n\n\n",
            "text/html": [
              "<style>\n",
              ".list-inline {list-style: none; margin:0; padding: 0}\n",
              ".list-inline>li {display: inline-block}\n",
              ".list-inline>li:not(:last-child)::after {content: \"\\00b7\"; padding: 0 .5ex}\n",
              "</style>\n",
              "<ol class=list-inline><li>31</li><li>4</li><li>15</li><li>92</li><li>65</li></ol>\n"
            ]
          },
          "metadata": {
            "tags": []
          }
        },
        {
          "output_type": "display_data",
          "data": {
            "text/plain": [
              "[1] 3 1 2 5 4"
            ],
            "text/latex": "\\begin{enumerate*}\n\\item 3\n\\item 1\n\\item 2\n\\item 5\n\\item 4\n\\end{enumerate*}\n",
            "text/markdown": "1. 3\n2. 1\n3. 2\n4. 5\n5. 4\n\n\n",
            "text/html": [
              "<style>\n",
              ".list-inline {list-style: none; margin:0; padding: 0}\n",
              ".list-inline>li {display: inline-block}\n",
              ".list-inline>li:not(:last-child)::after {content: \"\\00b7\"; padding: 0 .5ex}\n",
              "</style>\n",
              "<ol class=list-inline><li>3</li><li>1</li><li>2</li><li>5</li><li>4</li></ol>\n"
            ]
          },
          "metadata": {
            "tags": []
          }
        }
      ]
    },
    {
      "cell_type": "code",
      "metadata": {
        "id": "t1H4J9oTQKW2",
        "colab": {
          "base_uri": "https://localhost:8080/",
          "height": 101
        },
        "outputId": "bd447fc8-603d-4bf8-9e81-55a33f1dcaee"
      },
      "source": [
        "# The name of the state with the maximum population is found by doing the following\n",
        "murders$state[which.max(murders$population)]\n",
        "\n",
        "# how to obtain the murder rate\n",
        "murder_rate <- murders$total / murders$population * 100000\n",
        "\n",
        "# ordering the states by murder rate, in decreasing order\n",
        "murders$state[order(murder_rate, decreasing=TRUE)]"
      ],
      "execution_count": 3,
      "outputs": [
        {
          "output_type": "display_data",
          "data": {
            "text/plain": [
              "[1] \"California\""
            ],
            "text/latex": "'California'",
            "text/markdown": "'California'",
            "text/html": [
              "'California'"
            ]
          },
          "metadata": {
            "tags": []
          }
        },
        {
          "output_type": "display_data",
          "data": {
            "text/plain": [
              " [1] \"District of Columbia\" \"Louisiana\"            \"Missouri\"            \n",
              " [4] \"Maryland\"             \"South Carolina\"       \"Delaware\"            \n",
              " [7] \"Michigan\"             \"Mississippi\"          \"Georgia\"             \n",
              "[10] \"Arizona\"              \"Pennsylvania\"         \"Tennessee\"           \n",
              "[13] \"Florida\"              \"California\"           \"New Mexico\"          \n",
              "[16] \"Texas\"                \"Arkansas\"             \"Virginia\"            \n",
              "[19] \"Nevada\"               \"North Carolina\"       \"Oklahoma\"            \n",
              "[22] \"Illinois\"             \"Alabama\"              \"New Jersey\"          \n",
              "[25] \"Connecticut\"          \"Ohio\"                 \"Alaska\"              \n",
              "[28] \"Kentucky\"             \"New York\"             \"Kansas\"              \n",
              "[31] \"Indiana\"              \"Massachusetts\"        \"Nebraska\"            \n",
              "[34] \"Wisconsin\"            \"Rhode Island\"         \"West Virginia\"       \n",
              "[37] \"Washington\"           \"Colorado\"             \"Montana\"             \n",
              "[40] \"Minnesota\"            \"South Dakota\"         \"Oregon\"              \n",
              "[43] \"Wyoming\"              \"Maine\"                \"Utah\"                \n",
              "[46] \"Idaho\"                \"Iowa\"                 \"North Dakota\"        \n",
              "[49] \"Hawaii\"               \"New Hampshire\"        \"Vermont\"             "
            ],
            "text/latex": "\\begin{enumerate*}\n\\item 'District of Columbia'\n\\item 'Louisiana'\n\\item 'Missouri'\n\\item 'Maryland'\n\\item 'South Carolina'\n\\item 'Delaware'\n\\item 'Michigan'\n\\item 'Mississippi'\n\\item 'Georgia'\n\\item 'Arizona'\n\\item 'Pennsylvania'\n\\item 'Tennessee'\n\\item 'Florida'\n\\item 'California'\n\\item 'New Mexico'\n\\item 'Texas'\n\\item 'Arkansas'\n\\item 'Virginia'\n\\item 'Nevada'\n\\item 'North Carolina'\n\\item 'Oklahoma'\n\\item 'Illinois'\n\\item 'Alabama'\n\\item 'New Jersey'\n\\item 'Connecticut'\n\\item 'Ohio'\n\\item 'Alaska'\n\\item 'Kentucky'\n\\item 'New York'\n\\item 'Kansas'\n\\item 'Indiana'\n\\item 'Massachusetts'\n\\item 'Nebraska'\n\\item 'Wisconsin'\n\\item 'Rhode Island'\n\\item 'West Virginia'\n\\item 'Washington'\n\\item 'Colorado'\n\\item 'Montana'\n\\item 'Minnesota'\n\\item 'South Dakota'\n\\item 'Oregon'\n\\item 'Wyoming'\n\\item 'Maine'\n\\item 'Utah'\n\\item 'Idaho'\n\\item 'Iowa'\n\\item 'North Dakota'\n\\item 'Hawaii'\n\\item 'New Hampshire'\n\\item 'Vermont'\n\\end{enumerate*}\n",
            "text/markdown": "1. 'District of Columbia'\n2. 'Louisiana'\n3. 'Missouri'\n4. 'Maryland'\n5. 'South Carolina'\n6. 'Delaware'\n7. 'Michigan'\n8. 'Mississippi'\n9. 'Georgia'\n10. 'Arizona'\n11. 'Pennsylvania'\n12. 'Tennessee'\n13. 'Florida'\n14. 'California'\n15. 'New Mexico'\n16. 'Texas'\n17. 'Arkansas'\n18. 'Virginia'\n19. 'Nevada'\n20. 'North Carolina'\n21. 'Oklahoma'\n22. 'Illinois'\n23. 'Alabama'\n24. 'New Jersey'\n25. 'Connecticut'\n26. 'Ohio'\n27. 'Alaska'\n28. 'Kentucky'\n29. 'New York'\n30. 'Kansas'\n31. 'Indiana'\n32. 'Massachusetts'\n33. 'Nebraska'\n34. 'Wisconsin'\n35. 'Rhode Island'\n36. 'West Virginia'\n37. 'Washington'\n38. 'Colorado'\n39. 'Montana'\n40. 'Minnesota'\n41. 'South Dakota'\n42. 'Oregon'\n43. 'Wyoming'\n44. 'Maine'\n45. 'Utah'\n46. 'Idaho'\n47. 'Iowa'\n48. 'North Dakota'\n49. 'Hawaii'\n50. 'New Hampshire'\n51. 'Vermont'\n\n\n",
            "text/html": [
              "<style>\n",
              ".list-inline {list-style: none; margin:0; padding: 0}\n",
              ".list-inline>li {display: inline-block}\n",
              ".list-inline>li:not(:last-child)::after {content: \"\\00b7\"; padding: 0 .5ex}\n",
              "</style>\n",
              "<ol class=list-inline><li>'District of Columbia'</li><li>'Louisiana'</li><li>'Missouri'</li><li>'Maryland'</li><li>'South Carolina'</li><li>'Delaware'</li><li>'Michigan'</li><li>'Mississippi'</li><li>'Georgia'</li><li>'Arizona'</li><li>'Pennsylvania'</li><li>'Tennessee'</li><li>'Florida'</li><li>'California'</li><li>'New Mexico'</li><li>'Texas'</li><li>'Arkansas'</li><li>'Virginia'</li><li>'Nevada'</li><li>'North Carolina'</li><li>'Oklahoma'</li><li>'Illinois'</li><li>'Alabama'</li><li>'New Jersey'</li><li>'Connecticut'</li><li>'Ohio'</li><li>'Alaska'</li><li>'Kentucky'</li><li>'New York'</li><li>'Kansas'</li><li>'Indiana'</li><li>'Massachusetts'</li><li>'Nebraska'</li><li>'Wisconsin'</li><li>'Rhode Island'</li><li>'West Virginia'</li><li>'Washington'</li><li>'Colorado'</li><li>'Montana'</li><li>'Minnesota'</li><li>'South Dakota'</li><li>'Oregon'</li><li>'Wyoming'</li><li>'Maine'</li><li>'Utah'</li><li>'Idaho'</li><li>'Iowa'</li><li>'North Dakota'</li><li>'Hawaii'</li><li>'New Hampshire'</li><li>'Vermont'</li></ol>\n"
            ]
          },
          "metadata": {
            "tags": []
          }
        }
      ]
    },
    {
      "cell_type": "code",
      "metadata": {
        "colab": {
          "base_uri": "https://localhost:8080/",
          "height": 195
        },
        "id": "nPR61wwhFzmD",
        "outputId": "5ea66936-a118-4f9b-e8cc-799e8672ed83"
      },
      "source": [
        "head(murders)"
      ],
      "execution_count": 4,
      "outputs": [
        {
          "output_type": "display_data",
          "data": {
            "text/plain": [
              "  state      abb region population total\n",
              "1 Alabama    AL  South   4779736    135 \n",
              "2 Alaska     AK  West     710231     19 \n",
              "3 Arizona    AZ  West    6392017    232 \n",
              "4 Arkansas   AR  South   2915918     93 \n",
              "5 California CA  West   37253956   1257 \n",
              "6 Colorado   CO  West    5029196     65 "
            ],
            "text/latex": "A data.frame: 6 × 5\n\\begin{tabular}{r|lllll}\n  & state & abb & region & population & total\\\\\n  & <chr> & <chr> & <fct> & <dbl> & <dbl>\\\\\n\\hline\n\t1 & Alabama    & AL & South &  4779736 &  135\\\\\n\t2 & Alaska     & AK & West  &   710231 &   19\\\\\n\t3 & Arizona    & AZ & West  &  6392017 &  232\\\\\n\t4 & Arkansas   & AR & South &  2915918 &   93\\\\\n\t5 & California & CA & West  & 37253956 & 1257\\\\\n\t6 & Colorado   & CO & West  &  5029196 &   65\\\\\n\\end{tabular}\n",
            "text/markdown": "\nA data.frame: 6 × 5\n\n| <!--/--> | state &lt;chr&gt; | abb &lt;chr&gt; | region &lt;fct&gt; | population &lt;dbl&gt; | total &lt;dbl&gt; |\n|---|---|---|---|---|---|\n| 1 | Alabama    | AL | South |  4779736 |  135 |\n| 2 | Alaska     | AK | West  |   710231 |   19 |\n| 3 | Arizona    | AZ | West  |  6392017 |  232 |\n| 4 | Arkansas   | AR | South |  2915918 |   93 |\n| 5 | California | CA | West  | 37253956 | 1257 |\n| 6 | Colorado   | CO | West  |  5029196 |   65 |\n\n",
            "text/html": [
              "<table>\n",
              "<caption>A data.frame: 6 × 5</caption>\n",
              "<thead>\n",
              "\t<tr><th></th><th scope=col>state</th><th scope=col>abb</th><th scope=col>region</th><th scope=col>population</th><th scope=col>total</th></tr>\n",
              "\t<tr><th></th><th scope=col>&lt;chr&gt;</th><th scope=col>&lt;chr&gt;</th><th scope=col>&lt;fct&gt;</th><th scope=col>&lt;dbl&gt;</th><th scope=col>&lt;dbl&gt;</th></tr>\n",
              "</thead>\n",
              "<tbody>\n",
              "\t<tr><th scope=row>1</th><td>Alabama   </td><td>AL</td><td>South</td><td> 4779736</td><td> 135</td></tr>\n",
              "\t<tr><th scope=row>2</th><td>Alaska    </td><td>AK</td><td>West </td><td>  710231</td><td>  19</td></tr>\n",
              "\t<tr><th scope=row>3</th><td>Arizona   </td><td>AZ</td><td>West </td><td> 6392017</td><td> 232</td></tr>\n",
              "\t<tr><th scope=row>4</th><td>Arkansas  </td><td>AR</td><td>South</td><td> 2915918</td><td>  93</td></tr>\n",
              "\t<tr><th scope=row>5</th><td>California</td><td>CA</td><td>West </td><td>37253956</td><td>1257</td></tr>\n",
              "\t<tr><th scope=row>6</th><td>Colorado  </td><td>CO</td><td>West </td><td> 5029196</td><td>  65</td></tr>\n",
              "</tbody>\n",
              "</table>\n"
            ]
          },
          "metadata": {
            "tags": []
          }
        }
      ]
    }
  ]
}