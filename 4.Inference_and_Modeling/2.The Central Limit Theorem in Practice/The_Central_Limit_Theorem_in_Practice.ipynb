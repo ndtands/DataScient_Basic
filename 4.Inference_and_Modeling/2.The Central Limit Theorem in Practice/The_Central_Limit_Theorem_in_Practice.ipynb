{
  "nbformat": 4,
  "nbformat_minor": 0,
  "metadata": {
    "colab": {
      "name": "The_Central_Limit_Theorem_in_Practice.ipynb",
      "provenance": [],
      "collapsed_sections": []
    },
    "kernelspec": {
      "name": "ir",
      "display_name": "R"
    },
    "accelerator": "GPU"
  },
  "cells": [
    {
      "cell_type": "markdown",
      "metadata": {
        "id": "yGjrnCyvZ8Ul"
      },
      "source": [
        "#OVerview\r\n",
        "- Use the Central Limit Theorem to calculate the probability that a sample estimate  $\\overline{X}$  is close to the population proportion  p .\r\n",
        "- Run a Monte Carlo simulation to corroborate theoretical results built using probability theory.\r\n",
        "- Estimate the spread based on estimates of  $\\overline{X}$  and  $\\hat{SE}(\\overline{X})$ .\r\n",
        "- Understand why bias can mean that larger sample sizes aren't necessarily better."
      ]
    },
    {
      "cell_type": "markdown",
      "metadata": {
        "id": "GP5SuRiWahbi"
      },
      "source": [
        "##1. The Central Limit Theorem in Practice\r\n"
      ]
    },
    {
      "cell_type": "markdown",
      "metadata": {
        "id": "Pv_FhQl2a05A"
      },
      "source": [
        "- Because  $\\overline{X}$  is the sum of random draws divided by a constant, the distribution of  $\\overline{X}$  is approximately normal.\r\n",
        "- We can convert  $\\overline{X}$  to a standard normal random variable  Z : $Z=\\frac{\\overline{X}-E(\\overline{X})}{SE(\\overline{X})}$\r\n",
        "- The probability that  $\\overline{X}$  is within .01 of the actual value of  $p$  is:\r\n",
        "$Pr(Z\\le\\frac{0.01}{\\sqrt{p(1-p)/N}}) - Pr(Z\\le\\frac{-0.01}{\\sqrt{p(1-p)/N}})$ \r\n",
        "- The Central Limit Theorem (CLT) still works if  $\\overline{X}$  is used in place of  $p$ . This is called a plug-in estimate. Hats over values denote estimates. Therefore:\r\n",
        "$\\hat{SE}(\\overline{X})=\\sqrt{\\overline{X}(1-\\overline{X})/N}$\r\n",
        "- Using the CLT, the probability that  $\\overline{X}$  is within .01 of the actual value of  $p$  is:\r\n",
        "$Pr(Z\\le\\frac{0.01}{\\sqrt{\\overline{X}(1-\\overline{X})/N}}) - Pr(Z\\le\\frac{-0.01}{\\sqrt{\\overline{X}(1-\\overline{X})/N}})$"
      ]
    },
    {
      "cell_type": "markdown",
      "metadata": {
        "id": "SjR9OVaBefm9"
      },
      "source": [
        "Code: Computing the probability of  $\\overline{X}$  being within .01 of  $p$"
      ]
    },
    {
      "cell_type": "code",
      "metadata": {
        "colab": {
          "base_uri": "https://localhost:8080/",
          "height": 34
        },
        "id": "EM1Ghxfiep6U",
        "outputId": "5e172757-af97-401f-d779-7fab6d61dd34"
      },
      "source": [
        "X_hat <- 0.48\r\n",
        "se <- sqrt(X_hat*(1-X_hat)/25)\r\n",
        "pnorm(0.01/se) - pnorm(-0.01/se)"
      ],
      "execution_count": 1,
      "outputs": [
        {
          "output_type": "display_data",
          "data": {
            "text/plain": [
              "[1] 0.07971926"
            ],
            "text/latex": "0.0797192630235779",
            "text/markdown": "0.0797192630235779",
            "text/html": [
              "0.0797192630235779"
            ]
          },
          "metadata": {
            "tags": []
          }
        }
      ]
    },
    {
      "cell_type": "markdown",
      "metadata": {
        "id": "eOItKfSkexBm"
      },
      "source": [
        "##2. Margin of Error"
      ]
    },
    {
      "cell_type": "markdown",
      "metadata": {
        "id": "UAWhArwOe7hw"
      },
      "source": [
        "- The *margin of error* is defined as 2 times the standard error of the estimate  $\\overline{X}$ .\r\n",
        "- There is about a 95% chance that  $\\overline{X}  will be within two standard errors of the actual parameter  p ."
      ]
    },
    {
      "cell_type": "markdown",
      "metadata": {
        "id": "QPYeCp76fKok"
      },
      "source": [
        "##3. A Monte Carlo Simulation for the CLT"
      ]
    },
    {
      "cell_type": "markdown",
      "metadata": {
        "id": "F73V0BVGgwXl"
      },
      "source": [
        "- We can run Monte Carlo simulations to compare with theoretical results assuming a value of  $p$ .\r\n",
        "- In practice,  $p$  is unknown. We can corroborate theoretical results by running Monte Carlo simulations with one or several values of  $p$ .\r\n",
        "- One practical choice for  $p$  when modeling is $\\overline{X}$  , the observed value of  $\\hat{X}$  in a sample."
      ]
    },
    {
      "cell_type": "markdown",
      "metadata": {
        "id": "6SrzUTn9hM0_"
      },
      "source": [
        "Code: Monte Carlo simulation using a set value of p"
      ]
    },
    {
      "cell_type": "code",
      "metadata": {
        "id": "AKuEwsivhOv-"
      },
      "source": [
        "p <- 0.45    # unknown p to estimate\r\n",
        "N <- 1000\r\n",
        "\r\n",
        "# simulate one poll of size N and determine x_hat\r\n",
        "x <- sample(c(0,1), size = N, replace = TRUE, prob = c(1-p, p))\r\n",
        "x_hat <- mean(x)\r\n",
        "\r\n",
        "# simulate B polls of size N and determine average x_hat\r\n",
        "B <- 10000   # number of replicates\r\n",
        "N <- 1000    # sample size per replicate\r\n",
        "#0 : 1-p\r\n",
        "#1: p\r\n",
        "#N is number of already get\r\n",
        "x_hat <- replicate(B, {\r\n",
        "    x <- sample(c(0,1), size = N, replace = TRUE, prob = c(1-p, p))\r\n",
        "    mean(x)\r\n",
        "})"
      ],
      "execution_count": 5,
      "outputs": []
    },
    {
      "cell_type": "markdown",
      "metadata": {
        "id": "qO-EGHk1hsUB"
      },
      "source": [
        "Code: Histogram and QQ-plot of Monte Carlo results"
      ]
    },
    {
      "cell_type": "code",
      "metadata": {
        "colab": {
          "base_uri": "https://localhost:8080/",
          "height": 490
        },
        "id": "hxi2g4yPhuaM",
        "outputId": "3318bdc9-cc9a-4300-a0d6-ca3916d3e8c2"
      },
      "source": [
        "install.packages(\"gridExtra\")\r\n",
        "library(tidyverse)\r\n",
        "library(gridExtra)\r\n",
        "#convert to frame\r\n",
        "p1 <- data.frame(x_hat = x_hat) %>%\r\n",
        "    ggplot(aes(x_hat)) +\r\n",
        "    geom_histogram(binwidth = 0.005, color = \"black\",fill=\"blue\")\r\n",
        "p2 <- data.frame(x_hat = x_hat) %>%\r\n",
        "    ggplot(aes(sample = x_hat)) +\r\n",
        "    stat_qq(dparams = list(mean = mean(x_hat), sd = sd(x_hat))) +\r\n",
        "    geom_abline() +\r\n",
        "    ylab(\"X_hat\") +\r\n",
        "    xlab(\"Theoretical normal\")\r\n",
        "grid.arrange(p1, p2, nrow=1)"
      ],
      "execution_count": 13,
      "outputs": [
        {
          "output_type": "stream",
          "text": [
            "Installing package into ‘/usr/local/lib/R/site-library’\n",
            "(as ‘lib’ is unspecified)\n",
            "\n"
          ],
          "name": "stderr"
        },
        {
          "output_type": "display_data",
          "data": {
            "image/png": "[encoded data removed]",
            "text/plain": [
              "plot without title"
            ]
          },
          "metadata": {
            "tags": [],
            "image/png": {
              "width": 420,
              "height": 420
            }
          }
        }
      ]
    },
    {
      "cell_type": "markdown",
      "metadata": {
        "id": "VMh_pFtUjH9h"
      },
      "source": [
        "##4. The Spread"
      ]
    },
    {
      "cell_type": "markdown",
      "metadata": {
        "id": "SpJNMlfljd8G"
      },
      "source": [
        "- The spread between two outcomes with probabilities  $p$  and  $1−p$  is  $2p−1$ .\r\n",
        "- The expected value of the spread is  $2\\overline{X}−1$ .\r\n",
        "- The standard error of the spread is  $2\\hat{SE}(\\overline{X})$.\r\n",
        "- The margin of error of the spread is 2 times the margin of error of  $\\overline{X}$ ."
      ]
    },
    {
      "cell_type": "markdown",
      "metadata": {
        "id": "AGDWF0Brj6nE"
      },
      "source": [
        "##5. Bias: Why Not Run a Very Large Poll?"
      ]
    },
    {
      "cell_type": "markdown",
      "metadata": {
        "id": "q9kiJVedj__g"
      },
      "source": [
        "- An extremely large poll would theoretically be able to predict election results almost perfectly.\r\n",
        "- These sample sizes are not practical. In addition to cost concerns, polling doesn't reach everyone in the population (eventual voters) with equal probability, and it also may include data from outside our population (people who will not end up voting).\r\n",
        "- These systematic errors in polling are called bias. We will learn more about bias in the future."
      ]
    },
    {
      "cell_type": "markdown",
      "metadata": {
        "id": "8L_ViITfkOaS"
      },
      "source": [
        "Code: Plotting margin of error in an extremely large poll over a range of values of p"
      ]
    },
    {
      "cell_type": "code",
      "metadata": {
        "colab": {
          "base_uri": "https://localhost:8080/",
          "height": 615
        },
        "id": "h1vD6oy9kSLn",
        "outputId": "ea746604-ee70-46a5-cc39-6087afbb1b16"
      },
      "source": [
        "library(tidyverse)\r\n",
        "N <- 100000\r\n",
        "p <- seq(0.35, 0.65, length = 100)\r\n",
        "SE <- sapply(p, function(x) 2*sqrt(x*(1-x)/N))\r\n",
        "head(data.frame(p = p, SE = SE))\r\n",
        "data.frame(p = p, SE = SE) %>%\r\n",
        "    ggplot(aes(p, SE)) +\r\n",
        "    geom_line()"
      ],
      "execution_count": 16,
      "outputs": [
        {
          "output_type": "display_data",
          "data": {
            "text/plain": [
              "  p         SE         \n",
              "1 0.3500000 0.003016621\n",
              "2 0.3530303 0.003022581\n",
              "3 0.3560606 0.003028408\n",
              "4 0.3590909 0.003034104\n",
              "5 0.3621212 0.003039667\n",
              "6 0.3651515 0.003045100"
            ],
            "text/latex": "A data.frame: 6 × 2\n\\begin{tabular}{r|ll}\n  & p & SE\\\\\n  & <dbl> & <dbl>\\\\\n\\hline\n\t1 & 0.3500000 & 0.003016621\\\\\n\t2 & 0.3530303 & 0.003022581\\\\\n\t3 & 0.3560606 & 0.003028408\\\\\n\t4 & 0.3590909 & 0.003034104\\\\\n\t5 & 0.3621212 & 0.003039667\\\\\n\t6 & 0.3651515 & 0.003045100\\\\\n\\end{tabular}\n",
            "text/markdown": "\nA data.frame: 6 × 2\n\n| <!--/--> | p &lt;dbl&gt; | SE &lt;dbl&gt; |\n|---|---|---|\n| 1 | 0.3500000 | 0.003016621 |\n| 2 | 0.3530303 | 0.003022581 |\n| 3 | 0.3560606 | 0.003028408 |\n| 4 | 0.3590909 | 0.003034104 |\n| 5 | 0.3621212 | 0.003039667 |\n| 6 | 0.3651515 | 0.003045100 |\n\n",
            "text/html": [
              "<table>\n",
              "<caption>A data.frame: 6 × 2</caption>\n",
              "<thead>\n",
              "\t<tr><th></th><th scope=col>p</th><th scope=col>SE</th></tr>\n",
              "\t<tr><th></th><th scope=col>&lt;dbl&gt;</th><th scope=col>&lt;dbl&gt;</th></tr>\n",
              "</thead>\n",
              "<tbody>\n",
              "\t<tr><th scope=row>1</th><td>0.3500000</td><td>0.003016621</td></tr>\n",
              "\t<tr><th scope=row>2</th><td>0.3530303</td><td>0.003022581</td></tr>\n",
              "\t<tr><th scope=row>3</th><td>0.3560606</td><td>0.003028408</td></tr>\n",
              "\t<tr><th scope=row>4</th><td>0.3590909</td><td>0.003034104</td></tr>\n",
              "\t<tr><th scope=row>5</th><td>0.3621212</td><td>0.003039667</td></tr>\n",
              "\t<tr><th scope=row>6</th><td>0.3651515</td><td>0.003045100</td></tr>\n",
              "</tbody>\n",
              "</table>\n"
            ]
          },
          "metadata": {
            "tags": []
          }
        },
        {
          "output_type": "display_data",
          "data": {
            "image/png": "[encoded data removed]",
            "text/plain": [
              "plot without title"
            ]
          },
          "metadata": {
            "tags": [],
            "image/png": {
              "width": 420,
              "height": 420
            }
          }
        }
      ]
    },
    {
      "cell_type": "markdown",
      "metadata": {
        "id": "v9NfBJnAk7ox"
      },
      "source": [
        "#Assessment"
      ]
    },
    {
      "cell_type": "markdown",
      "metadata": {
        "id": "2g0H7ltBlF4F"
      },
      "source": [
        "Exercise 1. Sample average\r\n",
        "\r\n",
        "Write function called take_sample that takes the proportion of Democrats p and the sample size N as arguments and returns the sample average of Democrats (1) and Republicans (0).\r\n",
        "\r\n",
        "Calculate the sample average if the proportion of Democrats equals 0.45 and the sample size is 100."
      ]
    },
    {
      "cell_type": "code",
      "metadata": {
        "colab": {
          "base_uri": "https://localhost:8080/",
          "height": 34
        },
        "id": "FGqb8A3jlLKQ",
        "outputId": "3bf0a09f-c475-4b6c-db9f-caa6588ebdc9"
      },
      "source": [
        "# Write a function called `take_sample` that takes `p` and `N` as arguements and returns the average value of a randomly sampled population.\r\n",
        "take_sample <- function(p, N){\r\n",
        "    X <- sample(c(0,1), size = N, replace = TRUE, prob = c(1 - p, p))\r\n",
        "    mean(X)\r\n",
        "}\r\n",
        "\r\n",
        "# Use the `set.seed` function to make sure your answer matches the expected result after random sampling\r\n",
        "set.seed(1)\r\n",
        "\r\n",
        "# Define `p` as the proportion of Democrats in the population being polled\r\n",
        "p <- 0.45\r\n",
        "\r\n",
        "# Define `N` as the number of people polled\r\n",
        "N <- 100\r\n",
        "\r\n",
        "# Call the `take_sample` function to determine the sample average of `N` randomly selected people from a population containing a proportion of Democrats equal to `p`. Print this value to the console.\r\n",
        "\r\n",
        "take_sample(p,N)"
      ],
      "execution_count": 18,
      "outputs": [
        {
          "output_type": "display_data",
          "data": {
            "text/plain": [
              "[1] 0.46"
            ],
            "text/latex": "0.46",
            "text/markdown": "0.46",
            "text/html": [
              "0.46"
            ]
          },
          "metadata": {
            "tags": []
          }
        }
      ]
    },
    {
      "cell_type": "markdown",
      "metadata": {
        "id": "XpbQz1RgmcmE"
      },
      "source": [
        "Exercise 2. Distribution of errors (1)\r\n",
        "\r\n",
        "Assume the proportion of Democrats in the population $p$ equals 0.45 and that your sample size $N$ is 100 polled voters. The take_sample function you defined previously generates our estimate,$\\overline{X}$ \r\n",
        ".\r\n",
        "\r\n",
        "Replicate the random sampling 10,000 times and calculate $p-\\overline{X}$\r\n",
        " for each random sample. Save these differences as a vector called errors. Find the average of errors and plot a histogram of the distribution."
      ]
    },
    {
      "cell_type": "code",
      "metadata": {
        "colab": {
          "base_uri": "https://localhost:8080/",
          "height": 34
        },
        "id": "ASYejGiAmzYA",
        "outputId": "a8156df3-339a-417b-9c84-7948c9983b63"
      },
      "source": [
        "# Define `p` as the proportion of Democrats in the population being polled\r\n",
        "p <- 0.45\r\n",
        "\r\n",
        "# Define `N` as the number of people polled\r\n",
        "N <- 100\r\n",
        "\r\n",
        "# The variable `B` specifies the number of times we want the sample to be replicated\r\n",
        "B <- 10000\r\n",
        "\r\n",
        "# Use the `set.seed` function to make sure your answer matches the expected result after random sampling\r\n",
        "set.seed(1)\r\n",
        "\r\n",
        "# Create an objected called `errors` that replicates subtracting the result of the `take_sample` function from `p` for `B` replications\r\n",
        "errors <- replicate(B, p - take_sample(p, N))\r\n",
        "\r\n",
        "# Calculate the mean of the errors. Print this value to the console.\r\n",
        "mean(errors)\r\n"
      ],
      "execution_count": 19,
      "outputs": [
        {
          "output_type": "display_data",
          "data": {
            "text/plain": [
              "[1] -4.9e-05"
            ],
            "text/latex": "-4.8999999999989e-05",
            "text/markdown": "-4.8999999999989e-05",
            "text/html": [
              "-4.8999999999989e-05"
            ]
          },
          "metadata": {
            "tags": []
          }
        }
      ]
    },
    {
      "cell_type": "markdown",
      "metadata": {
        "id": "druDGp6Zm7Yg"
      },
      "source": [
        "Exercise 3. Distribution of errors(2)\r\n",
        "\r\n",
        "In the last exercise, you made a vector of differences between the actual value for $p$ and an estimate, $\\overline{X}$\r\n",
        ". We called these differences between the actual and estimated values errors.\r\n",
        "\r\n",
        "The errors object has already been loaded for you. Use the hist function to plot a histogram of the values contained in the vector errors. Which statement best describes the distribution of the errors?"
      ]
    },
    {
      "cell_type": "markdown",
      "metadata": {
        "id": "TuhIVsftnU7Z"
      },
      "source": [
        "The errors are symmetrically distributed around 0."
      ]
    },
    {
      "cell_type": "markdown",
      "metadata": {
        "id": "MdIpRetRnW8j"
      },
      "source": [
        "Exercise 4. Average size of error \r\n",
        "\r\n",
        "The error $p-\\overline{X}$\r\n",
        " is a random variable. In practice, the error is not observed because we do not know the actual proportion of Democratic voters, $p$ . However, we can describe the size of the error by constructing a simulation.\r\n",
        "\r\n",
        "What is the average size of the error if we define the size by taking the absolute value $|p-\\overline{X}|$\r\n",
        " ?"
      ]
    },
    {
      "cell_type": "code",
      "metadata": {
        "colab": {
          "base_uri": "https://localhost:8080/",
          "height": 34
        },
        "id": "I8csI4uyn5mk",
        "outputId": "93deeb0b-13d7-4769-edf6-f43132926f0d"
      },
      "source": [
        "# Define `p` as the proportion of Democrats in the population being polled\r\n",
        "p <- 0.45\r\n",
        "\r\n",
        "# Define `N` as the number of people polled\r\n",
        "N <- 100\r\n",
        "\r\n",
        "# The variable `B` specifies the number of times we want the sample to be replicated\r\n",
        "B <- 10000\r\n",
        "\r\n",
        "# Use the `set.seed` function to make sure your answer matches the expected result after random sampling\r\n",
        "set.seed(1)\r\n",
        "\r\n",
        "# We generated `errors` by subtracting the estimate from the actual proportion of Democratic voters\r\n",
        "errors <- replicate(B, p - take_sample(p, N))\r\n",
        "\r\n",
        "# Calculate the mean of the absolute value of each simulated error. Print this value to the console.\r\n",
        "mean(abs(errors))\r\n"
      ],
      "execution_count": 20,
      "outputs": [
        {
          "output_type": "display_data",
          "data": {
            "text/plain": [
              "[1] 0.039267"
            ],
            "text/latex": "0.039267",
            "text/markdown": "0.039267",
            "text/html": [
              "0.039267"
            ]
          },
          "metadata": {
            "tags": []
          }
        }
      ]
    },
    {
      "cell_type": "markdown",
      "metadata": {
        "id": "uIg6LbTUn9lI"
      },
      "source": [
        "Exercise 5. Standard deviation of the spread\r\n",
        "\r\n",
        "The standard error is related to the typical size of the error we make when predicting. We say size because, as we just saw, the errors are centered around 0. In that sense, the typical error is 0. For mathematical reasons related to the central limit theorem, we actually use the standard deviation of errors rather than the average of the absolute values.\r\n",
        "\r\n",
        "As we have discussed, the standard error is the square root of the average squared distance $(p-\\overline{X})^{2}$\r\n",
        ". The standard deviation is defined as the square root of the distance squared.\r\n",
        "\r\n",
        "Calculate the standard deviation of the spread."
      ]
    },
    {
      "cell_type": "code",
      "metadata": {
        "colab": {
          "base_uri": "https://localhost:8080/",
          "height": 34
        },
        "id": "o89Jt2IuoWKp",
        "outputId": "0eb2ebcf-1f50-432d-95f7-4cf0025417b7"
      },
      "source": [
        "# Define `p` as the proportion of Democrats in the population being polled\r\n",
        "p <- 0.45\r\n",
        "\r\n",
        "# Define `N` as the number of people polled\r\n",
        "N <- 100\r\n",
        "\r\n",
        "# The variable `B` specifies the number of times we want the sample to be replicated\r\n",
        "B <- 10000\r\n",
        "\r\n",
        "# Use the `set.seed` function to make sure your answer matches the expected result after random sampling\r\n",
        "set.seed(1)\r\n",
        "\r\n",
        "# We generated `errors` by subtracting the estimate from the actual proportion of Democratic voters\r\n",
        "errors <- replicate(B, p - take_sample(p, N))\r\n",
        "\r\n",
        "# Calculate the standard deviation of `errors`\r\n",
        "sqrt(mean(errors^2))\r\n"
      ],
      "execution_count": 21,
      "outputs": [
        {
          "output_type": "display_data",
          "data": {
            "text/plain": [
              "[1] 0.04949939"
            ],
            "text/latex": "0.0494993939356837",
            "text/markdown": "0.0494993939356837",
            "text/html": [
              "0.0494993939356837"
            ]
          },
          "metadata": {
            "tags": []
          }
        }
      ]
    },
    {
      "cell_type": "markdown",
      "metadata": {
        "id": "zZBbCXhXoaaX"
      },
      "source": [
        "Exercise 6. Estimating the standard error\r\n",
        "\r\n",
        "The theory we just learned tells us what this standard deviation is going to be because it is the standard error of $\\overline{X}$\r\n",
        ".\r\n",
        "\r\n",
        "Estimate the standard error given an expected value of 0.45 and a sample size of 100."
      ]
    },
    {
      "cell_type": "code",
      "metadata": {
        "colab": {
          "base_uri": "https://localhost:8080/",
          "height": 34
        },
        "id": "kEMbH3oToe_G",
        "outputId": "04f1bbb2-4503-44c9-aebc-bcba3a090b36"
      },
      "source": [
        "# Define `p` as the expected value equal to 0.45\r\n",
        "p <- 0.45\r\n",
        "\r\n",
        "# Define `N` as the sample size\r\n",
        "N <- 100\r\n",
        "\r\n",
        "# Calculate the standard error\r\n",
        "sqrt(p*(1-p)/N)\r\n"
      ],
      "execution_count": 22,
      "outputs": [
        {
          "output_type": "display_data",
          "data": {
            "text/plain": [
              "[1] 0.04974937"
            ],
            "text/latex": "0.049749371855331",
            "text/markdown": "0.049749371855331",
            "text/html": [
              "0.049749371855331"
            ]
          },
          "metadata": {
            "tags": []
          }
        }
      ]
    },
    {
      "cell_type": "markdown",
      "metadata": {
        "id": "Sx62xYc8pXlG"
      },
      "source": [
        "Exercise 7. Standard error of the estimate\r\n",
        "\r\n",
        "In practice, we don't know $p$, so we construct an estimate of the theoretical prediction based by plugging in $\\overline{X}$\r\n",
        " for $p$. Calculate the standard error of the estimate: $\\hat{SE}(\\overline{X})$\r\n"
      ]
    },
    {
      "cell_type": "code",
      "metadata": {
        "colab": {
          "base_uri": "https://localhost:8080/",
          "height": 34
        },
        "id": "NSIE6O_Ppngp",
        "outputId": "8807e330-7cf3-4226-d896-e465c25f2f01"
      },
      "source": [
        "# Define `p` as a proportion of Democratic voters to simulate\r\n",
        "p <- 0.45\r\n",
        "\r\n",
        "# Define `N` as the sample size\r\n",
        "N <- 100\r\n",
        "\r\n",
        "# Use the `set.seed` function to make sure your answer matches the expected result after random sampling\r\n",
        "set.seed(1)\r\n",
        "\r\n",
        "# Define `X` as a random sample of `N` voters with a probability of picking a Democrat ('1') equal to `p`\r\n",
        "X <- sample(0:1, N, replace=T, p=c(1-p,p))\r\n",
        "\r\n",
        "# Define `X_bar` as the average sampled proportion\r\n",
        "X_bar <- mean(X)\r\n",
        "\r\n",
        "\r\n",
        "# Calculate the standard error of the estimate. Print the result to the console.\r\n",
        "sqrt(X_bar*(1-X_bar)/N)\r\n"
      ],
      "execution_count": 23,
      "outputs": [
        {
          "output_type": "display_data",
          "data": {
            "text/plain": [
              "[1] 0.04983974"
            ],
            "text/latex": "0.0498397431775085",
            "text/markdown": "0.0498397431775085",
            "text/html": [
              "0.0498397431775085"
            ]
          },
          "metadata": {
            "tags": []
          }
        }
      ]
    },
    {
      "cell_type": "markdown",
      "metadata": {
        "id": "AIHX7yagpzx_"
      },
      "source": [
        "Exercise 8. Plotting the standard error\r\n",
        "\r\n",
        "The standard error estimates obtained from the Monte Carlo simulation, the theoretical prediction, and the estimate of the theoretical prediction are all very close, which tells us that the theory is working. This gives us a practical approach to knowing the typical error we will make if we predict  $p$ with  $\\overline{X}$\r\n",
        ". The theoretical result gives us an idea of how large a sample size is required to obtain the precision we need. Earlier we learned that the largest standard errors occur for $p=0.5$.\r\n",
        "\r\n",
        "Create a plot of the largest standard error for $N$  ranging from 100 to 5,000. Based on this plot, how large does the sample size have to be to have a standard error of about 1%?"
      ]
    },
    {
      "cell_type": "code",
      "metadata": {
        "colab": {
          "base_uri": "https://localhost:8080/",
          "height": 437
        },
        "id": "6MQJoITzqOA6",
        "outputId": "e86df72a-e768-45c0-fd1b-c6970e31d1b5"
      },
      "source": [
        "N <- seq(100, 5000, len = 100)\r\n",
        "p <- 0.5\r\n",
        "se <- sqrt(p*(1-p)/N)\r\n",
        "data.frame(N = N, se = se) %>%\r\n",
        "    ggplot(aes(N, se)) +\r\n",
        "    geom_line()\r\n"
      ],
      "execution_count": 27,
      "outputs": [
        {
          "output_type": "display_data",
          "data": {
            "image/png": "[encoded data removed]",
            "text/plain": [
              "plot without title"
            ]
          },
          "metadata": {
            "tags": [],
            "image/png": {
              "width": 420,
              "height": 420
            }
          }
        }
      ]
    },
    {
      "cell_type": "markdown",
      "metadata": {
        "id": "YB6ZnSm0qzh7"
      },
      "source": [
        "=> N = 2500 then standar err is 1%"
      ]
    },
    {
      "cell_type": "markdown",
      "metadata": {
        "id": "Y37PBA-eq-rk"
      },
      "source": [
        "Exercise 9. Distribution of X-hat\r\n",
        "For N, the central limit theorem tells us that the distribution of $\\overline{X}$\r\n",
        " is...\r\n"
      ]
    },
    {
      "cell_type": "markdown",
      "metadata": {
        "id": "i9ktZI6ErGj5"
      },
      "source": [
        "approximately normal with expected value $p$ and standard error : $\\sqrt{\\frac{p(1-p)}{N}}$"
      ]
    },
    {
      "cell_type": "markdown",
      "metadata": {
        "id": "nXXSAQr-rS3p"
      },
      "source": [
        "Exercise 10. Distribution of the errors\r\n",
        "\r\n",
        "We calculated a vector errors that contained, for each simulated sample, the difference between the actual value $p$  and our estimate $\\overline{X}$\r\n",
        ".\r\n",
        "\r\n",
        "The errors $\\overline{X}-p$\r\n",
        " are:"
      ]
    },
    {
      "cell_type": "markdown",
      "metadata": {
        "id": "TSgddU-urjzA"
      },
      "source": [
        "approximately normal with expected value 0 and standard error : $\\sqrt{\\frac{p(1-p)}{N}}$"
      ]
    },
    {
      "cell_type": "markdown",
      "metadata": {
        "id": "j02zQlNMrw0D"
      },
      "source": [
        "Exercise 11. Plotting the errors\r\n",
        "\r\n",
        "Make a qq-plot of the errors you generated previously to see if they follow a normal distribution."
      ]
    },
    {
      "cell_type": "markdown",
      "metadata": {
        "id": "U6dz1kIUr5kF"
      },
      "source": [
        "- Run the supplied code\r\n",
        "- Use the $qqnorm$ function to produce a qq-plot of the errors.\r\n",
        "- Use the $qqline$ function to plot a line showing a normal distribution."
      ]
    },
    {
      "cell_type": "code",
      "metadata": {
        "colab": {
          "base_uri": "https://localhost:8080/",
          "height": 437
        },
        "id": "V0ba53ZdrzE0",
        "outputId": "f1d5d123-e00b-483f-ac64-f7ee23b59f60"
      },
      "source": [
        "# Define `p` as the proportion of Democrats in the population being polled\r\n",
        "p <- 0.45\r\n",
        "\r\n",
        "# Define `N` as the number of people polled\r\n",
        "N <- 100\r\n",
        "\r\n",
        "# The variable `B` specifies the number of times we want the sample to be replicated\r\n",
        "B <- 10000\r\n",
        "\r\n",
        "# Use the `set.seed` function to make sure your answer matches the expected result after random sampling\r\n",
        "set.seed(1)\r\n",
        "\r\n",
        "# Generate `errors` by subtracting the estimate from the actual proportion of Democratic voters\r\n",
        "errors <- replicate(B, p - take_sample(p, N))\r\n",
        "\r\n",
        "# Generate a qq-plot of `errors` with a qq-line showing a normal distribution\r\n",
        "qqnorm(errors)\r\n",
        "qqline(errors)\r\n"
      ],
      "execution_count": 28,
      "outputs": [
        {
          "output_type": "display_data",
          "data": {
            "image/png": "[encoded data removed]",
            "text/plain": [
              "Plot with title “Normal Q-Q Plot”"
            ]
          },
          "metadata": {
            "tags": [],
            "image/png": {
              "width": 420,
              "height": 420
            }
          }
        }
      ]
    },
    {
      "cell_type": "markdown",
      "metadata": {
        "id": "2aGF7yvRsE33"
      },
      "source": [
        "Exercise 12. Estimating the probability of a specific value of X-bar\r\n",
        "\r\n",
        "If $p=0.45$ and $N=100$, use the central limit theorem to estimate the probability that $\\overline{X} >0.5$\r\n",
        "."
      ]
    },
    {
      "cell_type": "code",
      "metadata": {
        "colab": {
          "base_uri": "https://localhost:8080/",
          "height": 34
        },
        "id": "wjq2HxYjsPLD",
        "outputId": "5b9d6145-9608-41b2-e127-733c3bc7e3e9"
      },
      "source": [
        "# Define `p` as the proportion of Democrats in the population being polled\r\n",
        "p <- 0.45\r\n",
        "\r\n",
        "# Define `N` as the number of people polled\r\n",
        "N <- 100\r\n",
        "\r\n",
        "# Calculate the probability that the estimated proportion of Democrats in the population is greater than 0.5. Print this value to the console.\r\n",
        "1-pnorm(0.5,p,sd=sqrt(p*(1-p)/N))\r\n",
        "\r\n"
      ],
      "execution_count": 29,
      "outputs": [
        {
          "output_type": "display_data",
          "data": {
            "text/plain": [
              "[1] 0.1574393"
            ],
            "text/latex": "0.15743932066821",
            "text/markdown": "0.15743932066821",
            "text/html": [
              "0.15743932066821"
            ]
          },
          "metadata": {
            "tags": []
          }
        }
      ]
    },
    {
      "cell_type": "markdown",
      "metadata": {
        "id": "TE8Pgy_Dsarw"
      },
      "source": [
        "Exercise 13. Estimating the probability of a specific error size\r\n",
        "\r\n",
        "Assume you are in a practical situation and you don't know $p$. Take a sample of size $N=100$ and obtain a sample average of $\\overline{X}=0.51$\r\n",
        ".\r\n",
        "\r\n",
        "What is the CLT approximation for the probability that your error size is equal or larger than 0.01?"
      ]
    },
    {
      "cell_type": "code",
      "metadata": {
        "colab": {
          "base_uri": "https://localhost:8080/",
          "height": 34
        },
        "id": "A8kONDIZsljZ",
        "outputId": "4a9cf285-58e2-4e63-a472-5283e65c3dee"
      },
      "source": [
        "# Define `N` as the number of people polled\r\n",
        "N <-100\r\n",
        "\r\n",
        "# Define `X_hat` as the sample average\r\n",
        "X_hat <- 0.51\r\n",
        "\r\n",
        "# Define `se_hat` as the standard error of the sample average\r\n",
        "se_hat <- sqrt(X_hat*(1-X_hat)/N)\r\n",
        "\r\n",
        "# Calculate the probability that the error is 0.01 or larger\r\n",
        "1 - pnorm(.01, 0, se_hat) + pnorm(-0.01, 0, se_hat)\r\n"
      ],
      "execution_count": 30,
      "outputs": [
        {
          "output_type": "display_data",
          "data": {
            "text/plain": [
              "[1] 0.8414493"
            ],
            "text/latex": "0.841449288443339",
            "text/markdown": "0.841449288443339",
            "text/html": [
              "0.841449288443339"
            ]
          },
          "metadata": {
            "tags": []
          }
        }
      ]
    }
  ]
}