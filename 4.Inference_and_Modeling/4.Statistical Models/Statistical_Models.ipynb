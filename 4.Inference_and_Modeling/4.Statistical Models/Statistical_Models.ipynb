{
  "nbformat": 4,
  "nbformat_minor": 0,
  "metadata": {
    "colab": {
      "name": "Statistical Models.ipynb",
      "provenance": [],
      "collapsed_sections": []
    },
    "kernelspec": {
      "name": "ir",
      "display_name": "R"
    },
    "accelerator": "GPU"
  },
  "cells": [
    {
      "cell_type": "markdown",
      "metadata": {
        "id": "LY0ck6qH7pJB"
      },
      "source": [
        "#Overview"
      ]
    },
    {
      "cell_type": "markdown",
      "metadata": {
        "id": "CIOMXjqK7qor"
      },
      "source": [
        "- Understand how aggregating data from different sources, as poll aggregators do for poll data, can improve the precision of a prediction.\r\n",
        "- Understand how to fit a multilevel model to the data to forecast, for example, election results.\r\n",
        "- Explain why a simple aggregation of data is insufficient to combine results because of factors such as pollster bias.\r\n",
        "- Use a data-driven model to account for additional types of sampling variability such as pollster-to-pollster variability."
      ]
    },
    {
      "cell_type": "markdown",
      "metadata": {
        "id": "rXs0OeRd8cIH"
      },
      "source": [
        "##1.Poll Aggregators\r\n",
        "\r\n",
        "- Poll aggregators combine the results of many polls to simulate polls with a large sample size and therefore generate more precise estimates than individual polls.\r\n",
        "- Polls can be simulated with a Monte Carlo simulation and used to construct an estimate of the spread and confidence intervals.\r\n",
        "- The actual data science exercise of forecasting elections involves more complex statistical modeling, but these underlying ideas still apply.\r\n"
      ]
    },
    {
      "cell_type": "markdown",
      "metadata": {
        "id": "cYJRZq4W8mcY"
      },
      "source": [
        "Code: Simulating polls\r\n",
        "Note that to compute the exact 95% confidence interval, we would use qnorm(.975)xSE_hat instead of 2xSE_hat."
      ]
    },
    {
      "cell_type": "code",
      "metadata": {
        "colab": {
          "base_uri": "https://localhost:8080/",
          "height": 315
        },
        "id": "yiuX7hVW8oVx",
        "outputId": "00d961e0-3a45-4d7f-f7c5-1cfeb39ab699"
      },
      "source": [
        "d <- 0.039\r\n",
        "Ns <- c(1298, 533, 1342, 897, 774, 254, 812, 324, 1291, 1056, 2172, 516)\r\n",
        "p <- (d+1)/2\r\n",
        "\r\n",
        "# calculate confidence intervals of the spread\r\n",
        "confidence_intervals <- sapply(Ns, function(N){\r\n",
        "    X <- sample(c(0,1), size=N, replace=TRUE, prob = c(1-p, p))\r\n",
        "    X_hat <- mean(X)\r\n",
        "    SE_hat <- sqrt(X_hat*(1-X_hat)/N)\r\n",
        "    2*c(X_hat, X_hat - 2*SE_hat, X_hat + 2*SE_hat) - 1 #d_hat\r\n",
        "})\r\n",
        "\r\n",
        "# generate a data frame storing results\r\n",
        "polls <- data.frame(poll = 1:ncol(confidence_intervals),\r\n",
        "                    t(confidence_intervals), sample_size = Ns)\r\n",
        "names(polls) <- c(\"poll\", \"estimate\", \"low\", \"high\", \"sample_size\")\r\n",
        "polls"
      ],
      "execution_count": 59,
      "outputs": [
        {
          "output_type": "display_data",
          "data": {
            "text/plain": [
              "   poll estimate    low           high       sample_size\n",
              "1   1   0.020030817 -0.0354707836 0.07553242 1298       \n",
              "2   2   0.009380863 -0.0772449415 0.09600667  533       \n",
              "3   3   0.005961252 -0.0486328871 0.06055539 1342       \n",
              "4   4   0.030100334 -0.0366474636 0.09684813  897       \n",
              "5   5   0.085271318  0.0136446370 0.15689800  774       \n",
              "6   6   0.070866142 -0.0543095137 0.19604180  254       \n",
              "7   7   0.029556650 -0.0405989265 0.09971223  812       \n",
              "8   8   0.086419753 -0.0242756708 0.19711518  324       \n",
              "9   9   0.027110767 -0.0285318074 0.08275334 1291       \n",
              "10 10   0.022727273 -0.0388025756 0.08425712 1056       \n",
              "11 11   0.042357274 -0.0005183189 0.08523287 2172       \n",
              "12 12   0.112403101  0.0249159791 0.19989022  516       "
            ],
            "text/latex": "A data.frame: 12 × 5\n\\begin{tabular}{lllll}\n poll & estimate & low & high & sample\\_size\\\\\n <int> & <dbl> & <dbl> & <dbl> & <dbl>\\\\\n\\hline\n\t  1 & 0.020030817 & -0.0354707836 & 0.07553242 & 1298\\\\\n\t  2 & 0.009380863 & -0.0772449415 & 0.09600667 &  533\\\\\n\t  3 & 0.005961252 & -0.0486328871 & 0.06055539 & 1342\\\\\n\t  4 & 0.030100334 & -0.0366474636 & 0.09684813 &  897\\\\\n\t  5 & 0.085271318 &  0.0136446370 & 0.15689800 &  774\\\\\n\t  6 & 0.070866142 & -0.0543095137 & 0.19604180 &  254\\\\\n\t  7 & 0.029556650 & -0.0405989265 & 0.09971223 &  812\\\\\n\t  8 & 0.086419753 & -0.0242756708 & 0.19711518 &  324\\\\\n\t  9 & 0.027110767 & -0.0285318074 & 0.08275334 & 1291\\\\\n\t 10 & 0.022727273 & -0.0388025756 & 0.08425712 & 1056\\\\\n\t 11 & 0.042357274 & -0.0005183189 & 0.08523287 & 2172\\\\\n\t 12 & 0.112403101 &  0.0249159791 & 0.19989022 &  516\\\\\n\\end{tabular}\n",
            "text/markdown": "\nA data.frame: 12 × 5\n\n| poll &lt;int&gt; | estimate &lt;dbl&gt; | low &lt;dbl&gt; | high &lt;dbl&gt; | sample_size &lt;dbl&gt; |\n|---|---|---|---|---|\n|  1 | 0.020030817 | -0.0354707836 | 0.07553242 | 1298 |\n|  2 | 0.009380863 | -0.0772449415 | 0.09600667 |  533 |\n|  3 | 0.005961252 | -0.0486328871 | 0.06055539 | 1342 |\n|  4 | 0.030100334 | -0.0366474636 | 0.09684813 |  897 |\n|  5 | 0.085271318 |  0.0136446370 | 0.15689800 |  774 |\n|  6 | 0.070866142 | -0.0543095137 | 0.19604180 |  254 |\n|  7 | 0.029556650 | -0.0405989265 | 0.09971223 |  812 |\n|  8 | 0.086419753 | -0.0242756708 | 0.19711518 |  324 |\n|  9 | 0.027110767 | -0.0285318074 | 0.08275334 | 1291 |\n| 10 | 0.022727273 | -0.0388025756 | 0.08425712 | 1056 |\n| 11 | 0.042357274 | -0.0005183189 | 0.08523287 | 2172 |\n| 12 | 0.112403101 |  0.0249159791 | 0.19989022 |  516 |\n\n",
            "text/html": [
              "<table>\n",
              "<caption>A data.frame: 12 × 5</caption>\n",
              "<thead>\n",
              "\t<tr><th scope=col>poll</th><th scope=col>estimate</th><th scope=col>low</th><th scope=col>high</th><th scope=col>sample_size</th></tr>\n",
              "\t<tr><th scope=col>&lt;int&gt;</th><th scope=col>&lt;dbl&gt;</th><th scope=col>&lt;dbl&gt;</th><th scope=col>&lt;dbl&gt;</th><th scope=col>&lt;dbl&gt;</th></tr>\n",
              "</thead>\n",
              "<tbody>\n",
              "\t<tr><td> 1</td><td>0.020030817</td><td>-0.0354707836</td><td>0.07553242</td><td>1298</td></tr>\n",
              "\t<tr><td> 2</td><td>0.009380863</td><td>-0.0772449415</td><td>0.09600667</td><td> 533</td></tr>\n",
              "\t<tr><td> 3</td><td>0.005961252</td><td>-0.0486328871</td><td>0.06055539</td><td>1342</td></tr>\n",
              "\t<tr><td> 4</td><td>0.030100334</td><td>-0.0366474636</td><td>0.09684813</td><td> 897</td></tr>\n",
              "\t<tr><td> 5</td><td>0.085271318</td><td> 0.0136446370</td><td>0.15689800</td><td> 774</td></tr>\n",
              "\t<tr><td> 6</td><td>0.070866142</td><td>-0.0543095137</td><td>0.19604180</td><td> 254</td></tr>\n",
              "\t<tr><td> 7</td><td>0.029556650</td><td>-0.0405989265</td><td>0.09971223</td><td> 812</td></tr>\n",
              "\t<tr><td> 8</td><td>0.086419753</td><td>-0.0242756708</td><td>0.19711518</td><td> 324</td></tr>\n",
              "\t<tr><td> 9</td><td>0.027110767</td><td>-0.0285318074</td><td>0.08275334</td><td>1291</td></tr>\n",
              "\t<tr><td>10</td><td>0.022727273</td><td>-0.0388025756</td><td>0.08425712</td><td>1056</td></tr>\n",
              "\t<tr><td>11</td><td>0.042357274</td><td>-0.0005183189</td><td>0.08523287</td><td>2172</td></tr>\n",
              "\t<tr><td>12</td><td>0.112403101</td><td> 0.0249159791</td><td>0.19989022</td><td> 516</td></tr>\n",
              "</tbody>\n",
              "</table>\n"
            ]
          },
          "metadata": {
            "tags": []
          }
        }
      ]
    },
    {
      "cell_type": "markdown",
      "metadata": {
        "id": "YmoqNV9Z9kiG"
      },
      "source": [
        "Code: Calculating the spread of combined polls\r\n",
        "\r\n",
        "Note that to compute the exact 95% confidence interval, we would use qnorm(.975) instead of 1.96."
      ]
    },
    {
      "cell_type": "code",
      "metadata": {
        "colab": {
          "base_uri": "https://localhost:8080/",
          "height": 84
        },
        "id": "JFTTSRSk9mhw",
        "outputId": "f3198547-732b-4ae4-fdb5-a3ebc9425c76"
      },
      "source": [
        "d_hat <- polls %>%\r\n",
        "    summarize(avg = sum(estimate*sample_size) / sum(sample_size)) %>%\r\n",
        "    .$avg\r\n",
        "d_hat\r\n",
        "p_hat <- (1+d_hat)/2\r\n",
        "p_hat\r\n",
        "moe <- 2*1.96*sqrt(p_hat*(1-p_hat)/sum(polls$sample_size))   \r\n",
        "round(d_hat*100,2)\r\n",
        "round(moe*100, 3)"
      ],
      "execution_count": 63,
      "outputs": [
        {
          "output_type": "display_data",
          "data": {
            "text/plain": [
              "[1] 0.03647174"
            ],
            "text/latex": "0.036471736622593",
            "text/markdown": "0.036471736622593",
            "text/html": [
              "0.036471736622593"
            ]
          },
          "metadata": {
            "tags": []
          }
        },
        {
          "output_type": "display_data",
          "data": {
            "text/plain": [
              "[1] 0.5182359"
            ],
            "text/latex": "0.518235868311297",
            "text/markdown": "0.518235868311297",
            "text/html": [
              "0.518235868311297"
            ]
          },
          "metadata": {
            "tags": []
          }
        },
        {
          "output_type": "display_data",
          "data": {
            "text/plain": [
              "[1] 3.65"
            ],
            "text/latex": "3.65",
            "text/markdown": "3.65",
            "text/html": [
              "3.65"
            ]
          },
          "metadata": {
            "tags": []
          }
        },
        {
          "output_type": "display_data",
          "data": {
            "text/plain": [
              "[1] 1.845"
            ],
            "text/latex": "1.845",
            "text/markdown": "1.845",
            "text/html": [
              "1.845"
            ]
          },
          "metadata": {
            "tags": []
          }
        }
      ]
    },
    {
      "cell_type": "markdown",
      "metadata": {
        "id": "VDrXl9K--q7H"
      },
      "source": [
        "##2.Pollsters and Multilevel Models"
      ]
    },
    {
      "cell_type": "markdown",
      "metadata": {
        "id": "eVKQ9ccQ-vw0"
      },
      "source": [
        "- Different poll aggregators generate different models of election results from the same poll data. This is because they use different statistical models.\r\n",
        "- We will use actual polling data about the popular vote from the 2016 US presidential election to learn the principles of statistical modeling."
      ]
    },
    {
      "cell_type": "markdown",
      "metadata": {
        "id": "8X6uFNMW-62a"
      },
      "source": [
        "##3. Poll Data and Pollster Bias"
      ]
    },
    {
      "cell_type": "markdown",
      "metadata": {
        "id": "5WBY52KJ-9Nj"
      },
      "source": [
        "- We analyze real 2016 US polling data organized by FiveThirtyEight. We start by using reliable national polls taken within the week before the election to generate an urn model.\r\n",
        "- Consider $ p $ the proportion voting for Clinton and $ 1−p $ the proportion voting for Trump. We are interested in the spread $ d=2p−1 $.\r\n",
        "- Poll results are a random normal variable with expected value of the spread  $d$  and standard error $2\\sqrt{p(1-p)/N}$ .\r\n",
        "- Our initial estimate of the spread did not include the actual spread. Part of the reason is that different pollsters have different numbers of polls in our dataset, and each pollster has a bias.\r\n",
        "- $Pollster bias $reflects the fact that repeated polls by a given pollster have an expected value different from the actual spread and different from other pollsters. Each pollster has a different bias.\r\n",
        "- The urn model does not account for pollster bias. We will develop a more flexible data-driven model that can account for effects like bias."
      ]
    },
    {
      "cell_type": "markdown",
      "metadata": {
        "id": "x7i4vFzf_Z0J"
      },
      "source": [
        "Code: Generating simulated poll data"
      ]
    },
    {
      "cell_type": "code",
      "metadata": {
        "colab": {
          "base_uri": "https://localhost:8080/",
          "height": 487
        },
        "id": "ihrEUBkk_e7z",
        "outputId": "7ca667cb-878a-4c67-df53-ee63ac1dcebb"
      },
      "source": [
        "library(dslabs)\r\n",
        "data(polls_us_election_2016)\r\n",
        "names(polls_us_election_2016)\r\n",
        "\r\n",
        "# keep only national polls from week before election with a grade considered reliable\r\n",
        "polls <- polls_us_election_2016 %>%\r\n",
        "    filter(state == \"U.S.\" & enddate >= \"2016-10-31\" &\r\n",
        "               (grade %in% c(\"A+\", \"A\", \"A-\", \"B+\") | is.na(grade)))\r\n",
        "\r\n",
        "# add spread estimate\r\n",
        "polls <- polls %>%\r\n",
        "    mutate(spread = rawpoll_clinton/100 - rawpoll_trump/100)\r\n",
        "\r\n",
        "# compute estimated spread for combined polls\r\n",
        "d_hat <- polls %>%\r\n",
        "    summarize(d_hat = sum(spread * samplesize) / sum(samplesize)) %>%\r\n",
        "    .$d_hat\r\n",
        "\r\n",
        "# compute margin of error\r\n",
        "p_hat <- (d_hat+1)/2\r\n",
        "moe <- 1.96 * 2 * sqrt(p_hat*(1-p_hat)/sum(polls$samplesize))\r\n",
        "\r\n",
        "# histogram of the spread\r\n",
        "polls %>%\r\n",
        "    ggplot(aes(spread)) +\r\n",
        "    geom_histogram(color=\"black\", binwidth = .01,fill=\"blue\")"
      ],
      "execution_count": 65,
      "outputs": [
        {
          "output_type": "display_data",
          "data": {
            "text/plain": [
              " [1] \"state\"            \"startdate\"        \"enddate\"          \"pollster\"        \n",
              " [5] \"grade\"            \"samplesize\"       \"population\"       \"rawpoll_clinton\" \n",
              " [9] \"rawpoll_trump\"    \"rawpoll_johnson\"  \"rawpoll_mcmullin\" \"adjpoll_clinton\" \n",
              "[13] \"adjpoll_trump\"    \"adjpoll_johnson\"  \"adjpoll_mcmullin\""
            ],
            "text/latex": "\\begin{enumerate*}\n\\item 'state'\n\\item 'startdate'\n\\item 'enddate'\n\\item 'pollster'\n\\item 'grade'\n\\item 'samplesize'\n\\item 'population'\n\\item 'rawpoll\\_clinton'\n\\item 'rawpoll\\_trump'\n\\item 'rawpoll\\_johnson'\n\\item 'rawpoll\\_mcmullin'\n\\item 'adjpoll\\_clinton'\n\\item 'adjpoll\\_trump'\n\\item 'adjpoll\\_johnson'\n\\item 'adjpoll\\_mcmullin'\n\\end{enumerate*}\n",
            "text/markdown": "1. 'state'\n2. 'startdate'\n3. 'enddate'\n4. 'pollster'\n5. 'grade'\n6. 'samplesize'\n7. 'population'\n8. 'rawpoll_clinton'\n9. 'rawpoll_trump'\n10. 'rawpoll_johnson'\n11. 'rawpoll_mcmullin'\n12. 'adjpoll_clinton'\n13. 'adjpoll_trump'\n14. 'adjpoll_johnson'\n15. 'adjpoll_mcmullin'\n\n\n",
            "text/html": [
              "<style>\n",
              ".list-inline {list-style: none; margin:0; padding: 0}\n",
              ".list-inline>li {display: inline-block}\n",
              ".list-inline>li:not(:last-child)::after {content: \"\\00b7\"; padding: 0 .5ex}\n",
              "</style>\n",
              "<ol class=list-inline><li>'state'</li><li>'startdate'</li><li>'enddate'</li><li>'pollster'</li><li>'grade'</li><li>'samplesize'</li><li>'population'</li><li>'rawpoll_clinton'</li><li>'rawpoll_trump'</li><li>'rawpoll_johnson'</li><li>'rawpoll_mcmullin'</li><li>'adjpoll_clinton'</li><li>'adjpoll_trump'</li><li>'adjpoll_johnson'</li><li>'adjpoll_mcmullin'</li></ol>\n"
            ]
          },
          "metadata": {
            "tags": []
          }
        },
        {
          "output_type": "display_data",
          "data": {
            "image/png": "[encoded data removed]",
            "text/plain": [
              "plot without title"
            ]
          },
          "metadata": {
            "tags": [],
            "image/png": {
              "width": 420,
              "height": 420
            }
          }
        }
      ]
    },
    {
      "cell_type": "markdown",
      "metadata": {
        "id": "YpNnmcd0CYhA"
      },
      "source": [
        "Code: Investigating poll data and pollster bias"
      ]
    },
    {
      "cell_type": "code",
      "metadata": {
        "colab": {
          "base_uri": "https://localhost:8080/",
          "height": 830
        },
        "id": "OCsAcNK8CXtO",
        "outputId": "ad45329a-b984-4e7b-eafd-ccaced6f172c"
      },
      "source": [
        "# number of polls per pollster in week before election\r\n",
        "polls %>% group_by(pollster) %>% summarize(n())\r\n",
        "\r\n",
        "# plot results by pollsters with at least 6 polls\r\n",
        "polls %>% group_by(pollster) %>%\r\n",
        "    filter(n() >= 6) %>%\r\n",
        "    ggplot(aes(pollster, spread)) +\r\n",
        "    geom_point() +\r\n",
        "    theme(axis.text.x = element_text(angle = 90, hjust = 1))\r\n",
        "\r\n"
      ],
      "execution_count": 67,
      "outputs": [
        {
          "output_type": "stream",
          "text": [
            "`summarise()` ungrouping output (override with `.groups` argument)\n",
            "\n"
          ],
          "name": "stderr"
        },
        {
          "output_type": "display_data",
          "data": {
            "text/plain": [
              "   pollster                                                   n()\n",
              "1  ABC News/Washington Post                                   7  \n",
              "2  Angus Reid Global                                          1  \n",
              "3  CBS News/New York Times                                    2  \n",
              "4  Fox News/Anderson Robbins Research/Shaw & Company Research 2  \n",
              "5  IBD/TIPP                                                   8  \n",
              "6  Insights West                                              1  \n",
              "7  Ipsos                                                      6  \n",
              "8  Marist College                                             1  \n",
              "9  Monmouth University                                        1  \n",
              "10 Morning Consult                                            1  \n",
              "11 NBC News/Wall Street Journal                               1  \n",
              "12 RKM Research and Communications, Inc.                      1  \n",
              "13 Selzer & Company                                           1  \n",
              "14 The Times-Picayune/Lucid                                   8  \n",
              "15 USC Dornsife/LA Times                                      8  "
            ],
            "text/latex": "A tibble: 15 × 2\n\\begin{tabular}{ll}\n pollster & n()\\\\\n <fct> & <int>\\\\\n\\hline\n\t ABC News/Washington Post                                   & 7\\\\\n\t Angus Reid Global                                          & 1\\\\\n\t CBS News/New York Times                                    & 2\\\\\n\t Fox News/Anderson Robbins Research/Shaw \\& Company Research & 2\\\\\n\t IBD/TIPP                                                   & 8\\\\\n\t Insights West                                              & 1\\\\\n\t Ipsos                                                      & 6\\\\\n\t Marist College                                             & 1\\\\\n\t Monmouth University                                        & 1\\\\\n\t Morning Consult                                            & 1\\\\\n\t NBC News/Wall Street Journal                               & 1\\\\\n\t RKM Research and Communications, Inc.                      & 1\\\\\n\t Selzer \\& Company                                           & 1\\\\\n\t The Times-Picayune/Lucid                                   & 8\\\\\n\t USC Dornsife/LA Times                                      & 8\\\\\n\\end{tabular}\n",
            "text/markdown": "\nA tibble: 15 × 2\n\n| pollster &lt;fct&gt; | n() &lt;int&gt; |\n|---|---|\n| ABC News/Washington Post                                   | 7 |\n| Angus Reid Global                                          | 1 |\n| CBS News/New York Times                                    | 2 |\n| Fox News/Anderson Robbins Research/Shaw &amp; Company Research | 2 |\n| IBD/TIPP                                                   | 8 |\n| Insights West                                              | 1 |\n| Ipsos                                                      | 6 |\n| Marist College                                             | 1 |\n| Monmouth University                                        | 1 |\n| Morning Consult                                            | 1 |\n| NBC News/Wall Street Journal                               | 1 |\n| RKM Research and Communications, Inc.                      | 1 |\n| Selzer &amp; Company                                           | 1 |\n| The Times-Picayune/Lucid                                   | 8 |\n| USC Dornsife/LA Times                                      | 8 |\n\n",
            "text/html": [
              "<table>\n",
              "<caption>A tibble: 15 × 2</caption>\n",
              "<thead>\n",
              "\t<tr><th scope=col>pollster</th><th scope=col>n()</th></tr>\n",
              "\t<tr><th scope=col>&lt;fct&gt;</th><th scope=col>&lt;int&gt;</th></tr>\n",
              "</thead>\n",
              "<tbody>\n",
              "\t<tr><td>ABC News/Washington Post                                  </td><td>7</td></tr>\n",
              "\t<tr><td>Angus Reid Global                                         </td><td>1</td></tr>\n",
              "\t<tr><td>CBS News/New York Times                                   </td><td>2</td></tr>\n",
              "\t<tr><td>Fox News/Anderson Robbins Research/Shaw &amp; Company Research</td><td>2</td></tr>\n",
              "\t<tr><td>IBD/TIPP                                                  </td><td>8</td></tr>\n",
              "\t<tr><td>Insights West                                             </td><td>1</td></tr>\n",
              "\t<tr><td>Ipsos                                                     </td><td>6</td></tr>\n",
              "\t<tr><td>Marist College                                            </td><td>1</td></tr>\n",
              "\t<tr><td>Monmouth University                                       </td><td>1</td></tr>\n",
              "\t<tr><td>Morning Consult                                           </td><td>1</td></tr>\n",
              "\t<tr><td>NBC News/Wall Street Journal                              </td><td>1</td></tr>\n",
              "\t<tr><td>RKM Research and Communications, Inc.                     </td><td>1</td></tr>\n",
              "\t<tr><td><span style=white-space:pre-wrap>Selzer &amp; Company                                          </span></td><td>1</td></tr>\n",
              "\t<tr><td>The Times-Picayune/Lucid                                  </td><td>8</td></tr>\n",
              "\t<tr><td>USC Dornsife/LA Times                                     </td><td>8</td></tr>\n",
              "</tbody>\n",
              "</table>\n"
            ]
          },
          "metadata": {
            "tags": []
          }
        },
        {
          "output_type": "display_data",
          "data": {
            "image/png": "[encoded data removed]",
            "text/plain": [
              "plot without title"
            ]
          },
          "metadata": {
            "tags": [],
            "image/png": {
              "width": 420,
              "height": 420
            }
          }
        }
      ]
    },
    {
      "cell_type": "code",
      "metadata": {
        "colab": {
          "base_uri": "https://localhost:8080/",
          "height": 210
        },
        "id": "WYffknl9DWp2",
        "outputId": "d46ee2ad-bf22-4ea8-d761-7f20ade45b87"
      },
      "source": [
        "# standard errors within each pollster\r\n",
        "polls %>% group_by(pollster) %>%\r\n",
        "    filter(n() >= 6) %>%\r\n",
        "    summarize(se = 2 * sqrt(p_hat * (1-p_hat) / median(samplesize)))"
      ],
      "execution_count": 68,
      "outputs": [
        {
          "output_type": "stream",
          "text": [
            "`summarise()` ungrouping output (override with `.groups` argument)\n",
            "\n"
          ],
          "name": "stderr"
        },
        {
          "output_type": "display_data",
          "data": {
            "text/plain": [
              "  pollster                 se        \n",
              "1 ABC News/Washington Post 0.02654389\n",
              "2 IBD/TIPP                 0.03332069\n",
              "3 Ipsos                    0.02251943\n",
              "4 The Times-Picayune/Lucid 0.01963986\n",
              "5 USC Dornsife/LA Times    0.01831826"
            ],
            "text/latex": "A tibble: 5 × 2\n\\begin{tabular}{ll}\n pollster & se\\\\\n <fct> & <dbl>\\\\\n\\hline\n\t ABC News/Washington Post & 0.02654389\\\\\n\t IBD/TIPP                 & 0.03332069\\\\\n\t Ipsos                    & 0.02251943\\\\\n\t The Times-Picayune/Lucid & 0.01963986\\\\\n\t USC Dornsife/LA Times    & 0.01831826\\\\\n\\end{tabular}\n",
            "text/markdown": "\nA tibble: 5 × 2\n\n| pollster &lt;fct&gt; | se &lt;dbl&gt; |\n|---|---|\n| ABC News/Washington Post | 0.02654389 |\n| IBD/TIPP                 | 0.03332069 |\n| Ipsos                    | 0.02251943 |\n| The Times-Picayune/Lucid | 0.01963986 |\n| USC Dornsife/LA Times    | 0.01831826 |\n\n",
            "text/html": [
              "<table>\n",
              "<caption>A tibble: 5 × 2</caption>\n",
              "<thead>\n",
              "\t<tr><th scope=col>pollster</th><th scope=col>se</th></tr>\n",
              "\t<tr><th scope=col>&lt;fct&gt;</th><th scope=col>&lt;dbl&gt;</th></tr>\n",
              "</thead>\n",
              "<tbody>\n",
              "\t<tr><td>ABC News/Washington Post</td><td>0.02654389</td></tr>\n",
              "\t<tr><td>IBD/TIPP                </td><td>0.03332069</td></tr>\n",
              "\t<tr><td>Ipsos                   </td><td>0.02251943</td></tr>\n",
              "\t<tr><td>The Times-Picayune/Lucid</td><td>0.01963986</td></tr>\n",
              "\t<tr><td>USC Dornsife/LA Times   </td><td>0.01831826</td></tr>\n",
              "</tbody>\n",
              "</table>\n"
            ]
          },
          "metadata": {
            "tags": []
          }
        }
      ]
    },
    {
      "cell_type": "markdown",
      "metadata": {
        "id": "7jO7ZsYNDzoP"
      },
      "source": [
        "##4. Data-Driven Models"
      ]
    },
    {
      "cell_type": "markdown",
      "metadata": {
        "id": "xu8VdV7zD2VG"
      },
      "source": [
        "- Instead of using an urn model where each poll is a random draw from the same distribution of voters, we instead define a model using an urn that contains poll results from all possible pollsters.\r\n",
        "- We assume the expected value of this model is the actual spread  d=2p−1 .\r\n",
        "Our new standard error  σ  now factors in pollster-to-pollster variability. It can no longer be calculated from  p  or  d  and is an unknown parameter.\r\n",
        "- The central limit theorem still works to estimate the sample average of many polls  X1,...,XN  because the average of the sum of many random variables is a normally distributed random variable with expected value  d  and standard error  $σ/\\sqrt{N}$ .\r\n",
        "We can estimate the unobserved  $σ$  as the sample standard deviation, which is calculated with the sd function."
      ]
    },
    {
      "cell_type": "markdown",
      "metadata": {
        "id": "LR3FOjMAGFp0"
      },
      "source": [
        "Note that to compute the exact 95% confidence interval, we would use qnorm(.975) instead of 1.96."
      ]
    },
    {
      "cell_type": "code",
      "metadata": {
        "colab": {
          "base_uri": "https://localhost:8080/",
          "height": 515
        },
        "id": "EBCw9G7RGGrg",
        "outputId": "3391f22a-2961-4fef-8fc7-2fac7c403c88"
      },
      "source": [
        "# collect last result before the election for each pollster\r\n",
        "one_poll_per_pollster <- polls %>% group_by(pollster) %>%\r\n",
        "    filter(enddate == max(enddate)) %>%      # keep latest poll\r\n",
        "    ungroup()\r\n",
        "\r\n",
        "# histogram of spread estimates\r\n",
        "one_poll_per_pollster %>%\r\n",
        "    ggplot(aes(spread)) + geom_histogram(binwidth = 0.01)\r\n",
        "\r\n",
        "# construct 95% confidence interval\r\n",
        "results <- one_poll_per_pollster %>%\r\n",
        "    summarize(avg = mean(spread), se = sd(spread)/sqrt(length(spread))) %>%\r\n",
        "    mutate(start = avg - 1.96*se, end = avg + 1.96*se)\r\n",
        "round(results*100, 1)"
      ],
      "execution_count": 70,
      "outputs": [
        {
          "output_type": "display_data",
          "data": {
            "text/plain": [
              "  avg se  start end\n",
              "1 2.9 0.6 1.7   4.1"
            ],
            "text/latex": "A data.frame: 1 × 4\n\\begin{tabular}{llll}\n avg & se & start & end\\\\\n <dbl> & <dbl> & <dbl> & <dbl>\\\\\n\\hline\n\t 2.9 & 0.6 & 1.7 & 4.1\\\\\n\\end{tabular}\n",
            "text/markdown": "\nA data.frame: 1 × 4\n\n| avg &lt;dbl&gt; | se &lt;dbl&gt; | start &lt;dbl&gt; | end &lt;dbl&gt; |\n|---|---|---|---|\n| 2.9 | 0.6 | 1.7 | 4.1 |\n\n",
            "text/html": [
              "<table>\n",
              "<caption>A data.frame: 1 × 4</caption>\n",
              "<thead>\n",
              "\t<tr><th scope=col>avg</th><th scope=col>se</th><th scope=col>start</th><th scope=col>end</th></tr>\n",
              "\t<tr><th scope=col>&lt;dbl&gt;</th><th scope=col>&lt;dbl&gt;</th><th scope=col>&lt;dbl&gt;</th><th scope=col>&lt;dbl&gt;</th></tr>\n",
              "</thead>\n",
              "<tbody>\n",
              "\t<tr><td>2.9</td><td>0.6</td><td>1.7</td><td>4.1</td></tr>\n",
              "</tbody>\n",
              "</table>\n"
            ]
          },
          "metadata": {
            "tags": []
          }
        },
        {
          "output_type": "display_data",
          "data": {
            "image/png": "[encoded data removed]",
            "text/plain": [
              "plot without title"
            ]
          },
          "metadata": {
            "tags": [],
            "image/png": {
              "width": 420,
              "height": 420
            }
          }
        }
      ]
    },
    {
      "cell_type": "markdown",
      "metadata": {
        "id": "xXTsDkieGlb6"
      },
      "source": [
        "# Assessment 4.1: Statistical Models"
      ]
    },
    {
      "cell_type": "markdown",
      "metadata": {
        "id": "afuLXV41GvZU"
      },
      "source": [
        "Exercise 1 - Heights Revisited\r\n",
        "\r\n",
        "We have been using urn models to motivate the use of probability models. However, most data science applications are not related to data obtained from urns. More common are data that come from individuals. Probability plays a role because the data come from a random sample. The random sample is taken from a population and the urn serves as an analogy for the population.\r\n",
        "\r\n",
        "Let's revisit the heights dataset. For now, consider x to be the heights of all males in the data set. Mathematically speaking, x is our population. Using the urn analogy, we have an urn with the values of x in it.\r\n",
        "\r\n",
        "What are the population average and standard deviation of our population?"
      ]
    },
    {
      "cell_type": "code",
      "metadata": {
        "colab": {
          "base_uri": "https://localhost:8080/",
          "height": 50
        },
        "id": "fSL3KQZxGtkf",
        "outputId": "fcf0edac-add3-42fc-8eaf-36572c7a51e3"
      },
      "source": [
        "# Load the 'dslabs' package and data contained in 'heights'\r\n",
        "library(dslabs)\r\n",
        "data(heights)\r\n",
        "\r\n",
        "# Make a vector of heights from all males in the population\r\n",
        "x <- heights %>% filter(sex == \"Male\") %>%\r\n",
        "  .$height\r\n",
        "\r\n",
        "# Calculate the population average. Print this value to the console.\r\n",
        "mean(x)\r\n",
        "\r\n",
        "# Calculate the population standard deviation. Print this value to the console.\r\n",
        "sd(x)"
      ],
      "execution_count": 71,
      "outputs": [
        {
          "output_type": "display_data",
          "data": {
            "text/plain": [
              "[1] 69.31475"
            ],
            "text/latex": "69.3147549414356",
            "text/markdown": "69.3147549414356",
            "text/html": [
              "69.3147549414356"
            ]
          },
          "metadata": {
            "tags": []
          }
        },
        {
          "output_type": "display_data",
          "data": {
            "text/plain": [
              "[1] 3.611024"
            ],
            "text/latex": "3.6110236746673",
            "text/markdown": "3.6110236746673",
            "text/html": [
              "3.6110236746673"
            ]
          },
          "metadata": {
            "tags": []
          }
        }
      ]
    },
    {
      "cell_type": "markdown",
      "metadata": {
        "id": "bNU2yvFoG55q"
      },
      "source": [
        "Exercise 2 - Sample the population of heights\r\n",
        "\r\n",
        "Call the population average computed above $\\mu$  and the standard deviation $\\sigma$. Now take a sample of size 50, with replacement, and construct an estimate for $\\mu$  and $\\sigma$.\r\n"
      ]
    },
    {
      "cell_type": "code",
      "metadata": {
        "colab": {
          "base_uri": "https://localhost:8080/",
          "height": 134
        },
        "id": "faupi6N9Hl4E",
        "outputId": "97912dc6-80d3-431c-b141-8ec0865207c4"
      },
      "source": [
        "# The vector of all male heights in our population `x` has already been loaded for you. You can examine the first six elements using `head`.\r\n",
        "head(x)\r\n",
        "\r\n",
        "# Use the `set.seed` function to make sure your answer matches the expected result after random sampling\r\n",
        "set.seed(1)\r\n",
        "\r\n",
        "# Define `N` as the number of people measured\r\n",
        "N <- 50\r\n",
        "\r\n",
        "# Define `X` as a random sample from our population `x`\r\n",
        "X<- sample(x,size=N,replace=TRUE)\r\n",
        "X\r\n",
        "# Calculate the sample average. Print this value to the console.\r\n",
        "mean(X)\r\n",
        "\r\n",
        "# Calculate the sample standard deviation. Print this value to the console.\r\n",
        "sd(X)"
      ],
      "execution_count": 72,
      "outputs": [
        {
          "output_type": "display_data",
          "data": {
            "text/plain": [
              "[1] 75 70 68 74 61 67"
            ],
            "text/latex": "\\begin{enumerate*}\n\\item 75\n\\item 70\n\\item 68\n\\item 74\n\\item 61\n\\item 67\n\\end{enumerate*}\n",
            "text/markdown": "1. 75\n2. 70\n3. 68\n4. 74\n5. 61\n6. 67\n\n\n",
            "text/html": [
              "<style>\n",
              ".list-inline {list-style: none; margin:0; padding: 0}\n",
              ".list-inline>li {display: inline-block}\n",
              ".list-inline>li:not(:last-child)::after {content: \"\\00b7\"; padding: 0 .5ex}\n",
              "</style>\n",
              "<ol class=list-inline><li>75</li><li>70</li><li>68</li><li>74</li><li>61</li><li>67</li></ol>\n"
            ]
          },
          "metadata": {
            "tags": []
          }
        },
        {
          "output_type": "display_data",
          "data": {
            "text/plain": [
              " [1] 71.00000 69.00000 70.00000 66.92913 68.50000 79.05000 72.00000 72.00000\n",
              " [9] 69.00000 66.00000 69.00000 70.86614 72.00000 66.00000 70.00000 73.00000\n",
              "[17] 69.00000 76.00000 72.44000 72.44000 74.00000 74.00000 74.00000 63.00000\n",
              "[25] 69.00000 70.86614 68.50394 72.00000 70.00000 68.00000 70.00000 72.00000\n",
              "[33] 68.00000 67.00000 76.00000 70.00000 73.00000 68.00000 69.00000 77.16540\n",
              "[41] 72.00000 66.00000 67.50000 68.00000 72.00000 63.38583 73.00000 78.00000\n",
              "[49] 68.00000 68.00000"
            ],
            "text/latex": "\\begin{enumerate*}\n\\item 71\n\\item 69\n\\item 70\n\\item 66.9291338582677\n\\item 68.5\n\\item 79.05\n\\item 72\n\\item 72\n\\item 69\n\\item 66\n\\item 69\n\\item 70.8661417322835\n\\item 72\n\\item 66\n\\item 70\n\\item 73\n\\item 69\n\\item 76\n\\item 72.44\n\\item 72.44\n\\item 74\n\\item 74\n\\item 74\n\\item 63\n\\item 69\n\\item 70.8661417322835\n\\item 68.503937007874\n\\item 72\n\\item 70\n\\item 68\n\\item 70\n\\item 72\n\\item 68\n\\item 67\n\\item 76\n\\item 70\n\\item 73\n\\item 68\n\\item 69\n\\item 77.1654\n\\item 72\n\\item 66\n\\item 67.5\n\\item 68\n\\item 72\n\\item 63.3858267716535\n\\item 73\n\\item 78\n\\item 68\n\\item 68\n\\end{enumerate*}\n",
            "text/markdown": "1. 71\n2. 69\n3. 70\n4. 66.9291338582677\n5. 68.5\n6. 79.05\n7. 72\n8. 72\n9. 69\n10. 66\n11. 69\n12. 70.8661417322835\n13. 72\n14. 66\n15. 70\n16. 73\n17. 69\n18. 76\n19. 72.44\n20. 72.44\n21. 74\n22. 74\n23. 74\n24. 63\n25. 69\n26. 70.8661417322835\n27. 68.503937007874\n28. 72\n29. 70\n30. 68\n31. 70\n32. 72\n33. 68\n34. 67\n35. 76\n36. 70\n37. 73\n38. 68\n39. 69\n40. 77.1654\n41. 72\n42. 66\n43. 67.5\n44. 68\n45. 72\n46. 63.3858267716535\n47. 73\n48. 78\n49. 68\n50. 68\n\n\n",
            "text/html": [
              "<style>\n",
              ".list-inline {list-style: none; margin:0; padding: 0}\n",
              ".list-inline>li {display: inline-block}\n",
              ".list-inline>li:not(:last-child)::after {content: \"\\00b7\"; padding: 0 .5ex}\n",
              "</style>\n",
              "<ol class=list-inline><li>71</li><li>69</li><li>70</li><li>66.9291338582677</li><li>68.5</li><li>79.05</li><li>72</li><li>72</li><li>69</li><li>66</li><li>69</li><li>70.8661417322835</li><li>72</li><li>66</li><li>70</li><li>73</li><li>69</li><li>76</li><li>72.44</li><li>72.44</li><li>74</li><li>74</li><li>74</li><li>63</li><li>69</li><li>70.8661417322835</li><li>68.503937007874</li><li>72</li><li>70</li><li>68</li><li>70</li><li>72</li><li>68</li><li>67</li><li>76</li><li>70</li><li>73</li><li>68</li><li>69</li><li>77.1654</li><li>72</li><li>66</li><li>67.5</li><li>68</li><li>72</li><li>63.3858267716535</li><li>73</li><li>78</li><li>68</li><li>68</li></ol>\n"
            ]
          },
          "metadata": {
            "tags": []
          }
        },
        {
          "output_type": "display_data",
          "data": {
            "text/plain": [
              "[1] 70.47293"
            ],
            "text/latex": "70.4729316220472",
            "text/markdown": "70.4729316220472",
            "text/html": [
              "70.4729316220472"
            ]
          },
          "metadata": {
            "tags": []
          }
        },
        {
          "output_type": "display_data",
          "data": {
            "text/plain": [
              "[1] 3.426742"
            ],
            "text/latex": "3.42674223536957",
            "text/markdown": "3.42674223536957",
            "text/html": [
              "3.42674223536957"
            ]
          },
          "metadata": {
            "tags": []
          }
        }
      ]
    },
    {
      "cell_type": "markdown",
      "metadata": {
        "id": "EjgACWC1HzzA"
      },
      "source": [
        "Exercise 3 - Sample and Population Averages\r\n",
        "\r\n",
        "What does the central limit theory tell us about the sample average and how it is related to $\\mu$, the population average?"
      ]
    },
    {
      "cell_type": "markdown",
      "metadata": {
        "id": "2MXDmezuH7Uw"
      },
      "source": [
        "It is a random variable with expected value $\\mu$ and standard error $\\sigma/\\sqrt{N}$."
      ]
    },
    {
      "cell_type": "markdown",
      "metadata": {
        "id": "2FAnnMLIIKcK"
      },
      "source": [
        "Exercise 4 - Confidence Interval Calculation\r\n",
        "\r\n",
        "We will use $\\overline{X}$\r\n",
        " as our estimate of the heights in the population from our sample size $N$. We know from previous exercises that the standard estimate of our error $\\overline{X} -\\mu$\r\n",
        " is $\\sigma/\\sqrt{N}$.\r\n",
        "\r\n",
        "Construct a 95% confidence interval for $\\mu$."
      ]
    },
    {
      "cell_type": "code",
      "metadata": {
        "colab": {
          "base_uri": "https://localhost:8080/",
          "height": 101
        },
        "id": "Cc9wKO69IdHX",
        "outputId": "cf7811e2-bad4-4511-c6f1-d50967f30041"
      },
      "source": [
        "# Use the `set.seed` function to make sure your answer matches the expected result after random sampling\r\n",
        "set.seed(1)\r\n",
        "\r\n",
        "# Define `N` as the number of people measured\r\n",
        "N <- 50\r\n",
        "\r\n",
        "# Define `X` as a random sample from our population `x`\r\n",
        "X <- sample(x, N, replace = TRUE)\r\n",
        "# Define `se` as the standard error of the estimate. Print this value to the console.\r\n",
        "X_hat <- mean(X)\r\n",
        "se_hat <- sd(X)\r\n",
        "se <- se_hat/sqrt(N)\r\n",
        "se\r\n",
        "\r\n",
        "\r\n",
        "# Construct a 95% confidence interval for the population average based on our sample. Save the lower and then the upper confidence interval to a variable called `ci`.\r\n",
        "ci <- c(qnorm(0.025, mean(X), se), qnorm(0.975, mean(X), se))\r\n"
      ],
      "execution_count": 75,
      "outputs": [
        {
          "output_type": "display_data",
          "data": {
            "text/plain": [
              " [1] 71.00000 69.00000 70.00000 66.92913 68.50000 79.05000 72.00000 72.00000\n",
              " [9] 69.00000 66.00000 69.00000 70.86614 72.00000 66.00000 70.00000 73.00000\n",
              "[17] 69.00000 76.00000 72.44000 72.44000 74.00000 74.00000 74.00000 63.00000\n",
              "[25] 69.00000 70.86614 68.50394 72.00000 70.00000 68.00000 70.00000 72.00000\n",
              "[33] 68.00000 67.00000 76.00000 70.00000 73.00000 68.00000 69.00000 77.16540\n",
              "[41] 72.00000 66.00000 67.50000 68.00000 72.00000 63.38583 73.00000 78.00000\n",
              "[49] 68.00000 68.00000"
            ],
            "text/latex": "\\begin{enumerate*}\n\\item 71\n\\item 69\n\\item 70\n\\item 66.9291338582677\n\\item 68.5\n\\item 79.05\n\\item 72\n\\item 72\n\\item 69\n\\item 66\n\\item 69\n\\item 70.8661417322835\n\\item 72\n\\item 66\n\\item 70\n\\item 73\n\\item 69\n\\item 76\n\\item 72.44\n\\item 72.44\n\\item 74\n\\item 74\n\\item 74\n\\item 63\n\\item 69\n\\item 70.8661417322835\n\\item 68.503937007874\n\\item 72\n\\item 70\n\\item 68\n\\item 70\n\\item 72\n\\item 68\n\\item 67\n\\item 76\n\\item 70\n\\item 73\n\\item 68\n\\item 69\n\\item 77.1654\n\\item 72\n\\item 66\n\\item 67.5\n\\item 68\n\\item 72\n\\item 63.3858267716535\n\\item 73\n\\item 78\n\\item 68\n\\item 68\n\\end{enumerate*}\n",
            "text/markdown": "1. 71\n2. 69\n3. 70\n4. 66.9291338582677\n5. 68.5\n6. 79.05\n7. 72\n8. 72\n9. 69\n10. 66\n11. 69\n12. 70.8661417322835\n13. 72\n14. 66\n15. 70\n16. 73\n17. 69\n18. 76\n19. 72.44\n20. 72.44\n21. 74\n22. 74\n23. 74\n24. 63\n25. 69\n26. 70.8661417322835\n27. 68.503937007874\n28. 72\n29. 70\n30. 68\n31. 70\n32. 72\n33. 68\n34. 67\n35. 76\n36. 70\n37. 73\n38. 68\n39. 69\n40. 77.1654\n41. 72\n42. 66\n43. 67.5\n44. 68\n45. 72\n46. 63.3858267716535\n47. 73\n48. 78\n49. 68\n50. 68\n\n\n",
            "text/html": [
              "<style>\n",
              ".list-inline {list-style: none; margin:0; padding: 0}\n",
              ".list-inline>li {display: inline-block}\n",
              ".list-inline>li:not(:last-child)::after {content: \"\\00b7\"; padding: 0 .5ex}\n",
              "</style>\n",
              "<ol class=list-inline><li>71</li><li>69</li><li>70</li><li>66.9291338582677</li><li>68.5</li><li>79.05</li><li>72</li><li>72</li><li>69</li><li>66</li><li>69</li><li>70.8661417322835</li><li>72</li><li>66</li><li>70</li><li>73</li><li>69</li><li>76</li><li>72.44</li><li>72.44</li><li>74</li><li>74</li><li>74</li><li>63</li><li>69</li><li>70.8661417322835</li><li>68.503937007874</li><li>72</li><li>70</li><li>68</li><li>70</li><li>72</li><li>68</li><li>67</li><li>76</li><li>70</li><li>73</li><li>68</li><li>69</li><li>77.1654</li><li>72</li><li>66</li><li>67.5</li><li>68</li><li>72</li><li>63.3858267716535</li><li>73</li><li>78</li><li>68</li><li>68</li></ol>\n"
            ]
          },
          "metadata": {
            "tags": []
          }
        },
        {
          "output_type": "display_data",
          "data": {
            "text/plain": [
              "[1] 0.4846145"
            ],
            "text/latex": "0.484614534401634",
            "text/markdown": "0.484614534401634",
            "text/html": [
              "0.484614534401634"
            ]
          },
          "metadata": {
            "tags": []
          }
        }
      ]
    },
    {
      "cell_type": "markdown",
      "metadata": {
        "id": "vQMktOJbJIRF"
      },
      "source": [
        "Exercise 5 - Monte Carlo Simulation for Heights\r\n",
        "\r\n",
        "Now run a Monte Carlo simulation in which you compute 10,000 confidence intervals as you have just done. What proportion of these intervals include $\\mu$?"
      ]
    },
    {
      "cell_type": "code",
      "metadata": {
        "colab": {
          "base_uri": "https://localhost:8080/",
          "height": 34
        },
        "id": "TN-_eCh9JNe8",
        "outputId": "993b9850-9234-4ec4-d704-4a13d4fd01ed"
      },
      "source": [
        "# Define `mu` as the population average\r\n",
        "mu <- mean(x)\r\n",
        "\r\n",
        "# Use the `set.seed` function to make sure your answer matches the expected result after random sampling\r\n",
        "set.seed(1)\r\n",
        "\r\n",
        "# Define `N` as the number of people measured\r\n",
        "N <- 50\r\n",
        "\r\n",
        "# Define `B` as the number of times to run the model\r\n",
        "B <- 10000\r\n",
        "\r\n",
        "# Define an object `res` that contains a logical vector for simulated intervals that contain mu\r\n",
        "res <- replicate(B,{\r\n",
        "  X<- sample(x,N,replace=TRUE)\r\n",
        "  X_hat <- mean(X)\r\n",
        "  se_hat <- sd(X)\r\n",
        "  se <- se_hat/sqrt(N)\r\n",
        "  interval <- c(qnorm(0.025, mean(X), se) , qnorm(0.975, mean(X), se))\r\n",
        "  between(mu, interval[1], interval[2])\r\n",
        "})\r\n",
        "mean(res)\r\n",
        "# Calculate the proportion of results in `res` that include mu. Print this value to the console."
      ],
      "execution_count": 76,
      "outputs": [
        {
          "output_type": "display_data",
          "data": {
            "text/plain": [
              "[1] 0.9479"
            ],
            "text/latex": "0.9479",
            "text/markdown": "0.9479",
            "text/html": [
              "0.9479"
            ]
          },
          "metadata": {
            "tags": []
          }
        }
      ]
    },
    {
      "cell_type": "markdown",
      "metadata": {
        "id": "ew8runtUJjYp"
      },
      "source": [
        "Exercise 6 - Visualizing Polling Bias\r\n",
        "\r\n",
        "\r\n",
        "In this section, we used visualization to motivate the presence of pollster bias in election polls. Here we will examine that bias more rigorously. Lets consider two pollsters that conducted daily polls and look at national polls for the month before the election.\r\n",
        "\r\n",
        "Is there a poll bias? Make a plot of the spreads for each poll."
      ]
    },
    {
      "cell_type": "code",
      "metadata": {
        "colab": {
          "base_uri": "https://localhost:8080/",
          "height": 487
        },
        "id": "n5Ad71cPJl_Z",
        "outputId": "2cefb3cc-dc67-40cc-ee9f-1f4342a205f8"
      },
      "source": [
        "# Load the libraries and data you need for the following exercises\r\n",
        "library(dslabs)\r\n",
        "library(dplyr)\r\n",
        "library(ggplot2)\r\n",
        "data(\"polls_us_election_2016\")\r\n",
        "\r\n",
        "# These lines of code filter for the polls we want and calculate the spreads\r\n",
        "polls <- polls_us_election_2016 %>% \r\n",
        "  filter(pollster %in% c(\"Rasmussen Reports/Pulse Opinion Research\",\"The Times-Picayune/Lucid\") &\r\n",
        "           enddate >= \"2016-10-15\" &\r\n",
        "           state == \"U.S.\") %>% \r\n",
        "  mutate(spread = rawpoll_clinton/100 - rawpoll_trump/100) \r\n",
        "names(polls)\r\n",
        "# Make a boxplot with points of the spread for each pollster\r\n",
        "polls %>% ggplot(aes(pollster,spread))+geom_boxplot()+geom_point()"
      ],
      "execution_count": 78,
      "outputs": [
        {
          "output_type": "display_data",
          "data": {
            "text/plain": [
              " [1] \"state\"            \"startdate\"        \"enddate\"          \"pollster\"        \n",
              " [5] \"grade\"            \"samplesize\"       \"population\"       \"rawpoll_clinton\" \n",
              " [9] \"rawpoll_trump\"    \"rawpoll_johnson\"  \"rawpoll_mcmullin\" \"adjpoll_clinton\" \n",
              "[13] \"adjpoll_trump\"    \"adjpoll_johnson\"  \"adjpoll_mcmullin\" \"spread\"          "
            ],
            "text/latex": "\\begin{enumerate*}\n\\item 'state'\n\\item 'startdate'\n\\item 'enddate'\n\\item 'pollster'\n\\item 'grade'\n\\item 'samplesize'\n\\item 'population'\n\\item 'rawpoll\\_clinton'\n\\item 'rawpoll\\_trump'\n\\item 'rawpoll\\_johnson'\n\\item 'rawpoll\\_mcmullin'\n\\item 'adjpoll\\_clinton'\n\\item 'adjpoll\\_trump'\n\\item 'adjpoll\\_johnson'\n\\item 'adjpoll\\_mcmullin'\n\\item 'spread'\n\\end{enumerate*}\n",
            "text/markdown": "1. 'state'\n2. 'startdate'\n3. 'enddate'\n4. 'pollster'\n5. 'grade'\n6. 'samplesize'\n7. 'population'\n8. 'rawpoll_clinton'\n9. 'rawpoll_trump'\n10. 'rawpoll_johnson'\n11. 'rawpoll_mcmullin'\n12. 'adjpoll_clinton'\n13. 'adjpoll_trump'\n14. 'adjpoll_johnson'\n15. 'adjpoll_mcmullin'\n16. 'spread'\n\n\n",
            "text/html": [
              "<style>\n",
              ".list-inline {list-style: none; margin:0; padding: 0}\n",
              ".list-inline>li {display: inline-block}\n",
              ".list-inline>li:not(:last-child)::after {content: \"\\00b7\"; padding: 0 .5ex}\n",
              "</style>\n",
              "<ol class=list-inline><li>'state'</li><li>'startdate'</li><li>'enddate'</li><li>'pollster'</li><li>'grade'</li><li>'samplesize'</li><li>'population'</li><li>'rawpoll_clinton'</li><li>'rawpoll_trump'</li><li>'rawpoll_johnson'</li><li>'rawpoll_mcmullin'</li><li>'adjpoll_clinton'</li><li>'adjpoll_trump'</li><li>'adjpoll_johnson'</li><li>'adjpoll_mcmullin'</li><li>'spread'</li></ol>\n"
            ]
          },
          "metadata": {
            "tags": []
          }
        },
        {
          "output_type": "display_data",
          "data": {
            "image/png": "[encoded data removed]",
            "text/plain": [
              "plot without title"
            ]
          },
          "metadata": {
            "tags": [],
            "image/png": {
              "width": 420,
              "height": 420
            }
          }
        }
      ]
    },
    {
      "cell_type": "markdown",
      "metadata": {
        "id": "qItD682xK_Yx"
      },
      "source": [
        "Exercise 7 - Defining Pollster Bias\r\n",
        "\r\n",
        "The data do seem to suggest there is a difference between the pollsters. However, these data are subject to variability. Perhaps the differences we observe are due to chance. Under the urn model, both pollsters should have the same expected value: the election day difference,d .\r\n",
        "\r\n",
        "We will model the observed data $Y_{ij}$ in the following way:\r\n",
        "$Y_{ij}=d+b_{i}+ε_{ij}$\r\n",
        "\r\n",
        "with $i=1,2$ indexing the two pollsters, $b_{i}$ the bias for pollster i , and $ε_{ij}$ poll to poll chance variability. We assume the ε are independent from each other, have expected value 0 and standard deviation $\\sigma_{i}$ regardless of j.\r\n",
        "\r\n",
        "Which of the following statements best reflects what we need to know to determine if our data fit the urn model?"
      ]
    },
    {
      "cell_type": "markdown",
      "metadata": {
        "id": "BDe24s77NPgn"
      },
      "source": [
        "Is $b_{1} ≠ b_{2}$?"
      ]
    },
    {
      "cell_type": "markdown",
      "metadata": {
        "id": "jVDNR1DVOEvM"
      },
      "source": [
        "Exercise 8 - Derive Expected Value\r\n",
        "\r\n",
        "We modelled the observed data $Y_{ij}$ as:\r\n",
        "$Y_{ij}=d+b_{i}+ε_{ij}$\r\n",
        "\r\n",
        "On the right side of this model, only $ε_{ij}$ is a random variable. The other two values are constants.\r\n",
        "\r\n",
        "What is the expected value of $Y_{1j}$?"
      ]
    },
    {
      "cell_type": "markdown",
      "metadata": {
        "id": "-dlqnl4tO0sv"
      },
      "source": [
        "$d+b_{1}$"
      ]
    },
    {
      "cell_type": "markdown",
      "metadata": {
        "id": "1nfLj1-JPPMT"
      },
      "source": [
        "Exercise 9 - Expected Value and Standard Error of Poll 1\r\n",
        "\r\n",
        "Suppose we define $\\overline{Y_{1}}$\r\n",
        " as the average of poll results from the first poll and $\\sigma_{1}$ as the standard deviation of the first poll.\r\n",
        "\r\n",
        "What is the expected value and standard error of  $\\overline{Y_{1}}$\r\n",
        "?"
      ]
    },
    {
      "cell_type": "markdown",
      "metadata": {
        "id": "mTTV7fewPkBM"
      },
      "source": [
        "\r\n",
        "The expected value is $d+b_{1}$ and the standard error is $\\sigma_1/\\sqrt{N_{1}}$"
      ]
    },
    {
      "cell_type": "markdown",
      "metadata": {
        "id": "T4ijZ64QQHaZ"
      },
      "source": [
        "Exercise 10 - Expected Value and Standard Error of Poll 2\r\n",
        "\r\n",
        "Suppose we define $\\overline{Y_{2}}$\r\n",
        " as the average of poll results from the first poll and $\\sigma_{2}$ as the standard deviation of the first poll.\r\n",
        "\r\n",
        "What is the expected value and standard error of  $\\overline{Y_{2}}$\r\n",
        "?"
      ]
    },
    {
      "cell_type": "markdown",
      "metadata": {
        "id": "gyC3lar0QYAi"
      },
      "source": [
        "\r\n",
        "The expected value is $d+b_{2}$ and the standard error is $\\sigma_2/\\sqrt{N_{2}}$"
      ]
    },
    {
      "cell_type": "markdown",
      "metadata": {
        "id": "Ob9cMM59RqG6"
      },
      "source": [
        "Exercise 11 - Difference in Expected Values Between Polls\r\n",
        "\r\n",
        "Using what we learned by answering the previous questions, what is the expected value of  $\\overline{Y_{2}}-\\overline{Y_{1}}$ \r\n",
        "?"
      ]
    },
    {
      "cell_type": "markdown",
      "metadata": {
        "id": "0-dBqL4YR6H0"
      },
      "source": [
        "$b_{2}-b_{1}$"
      ]
    },
    {
      "cell_type": "markdown",
      "metadata": {
        "id": "AlbQ2YBcSl0t"
      },
      "source": [
        "Exercise 12 - Standard Error of the Difference Between Polls\r\n",
        "\r\n",
        "Using what we learned by answering the questions above, what is the standard error of $\\overline{Y_{2}}-\\overline{Y_{1}}$\r\n",
        "?"
      ]
    },
    {
      "cell_type": "markdown",
      "metadata": {
        "id": "_Flc76LASsxx"
      },
      "source": [
        "$\\sqrt{\\frac{\\sigma_{2}^{2}}{N_{2}}+\\frac{\\sigma_{1}^{2}}{N_{1}}}$"
      ]
    },
    {
      "cell_type": "markdown",
      "metadata": {
        "id": "69vgdmcgTaCb"
      },
      "source": [
        "Exercise 13 - Compute the Estimates\r\n",
        "\r\n",
        "The answer to the previous question depends on $\\sigma_{1}$\r\n",
        " and $\\sigma_{2}$\r\n",
        ", which we don't know. We learned that we can estimate these values using the sample standard deviation.\r\n",
        "\r\n",
        "Compute the estimates of $\\sigma_{1}$\r\n",
        " and $\\sigma_{2}$\r\n",
        "."
      ]
    },
    {
      "cell_type": "code",
      "metadata": {
        "colab": {
          "base_uri": "https://localhost:8080/",
          "height": 1000
        },
        "id": "0y9pr0GvTpJQ",
        "outputId": "fadcdfe7-4d88-4eb0-9729-fea7ab97b386"
      },
      "source": [
        "# Create an object called `sigma` that contains a column for `pollster` and a column for `s`, the standard deviation of the spread\r\n",
        "polls %>% group_by(pollster)\r\n",
        "sigma <- polls %>% group_by(pollster) %>% summarize(s = sd(spread))\r\n",
        "\r\n",
        "# Print the contents of sigma to the console\r\n",
        "sigma"
      ],
      "execution_count": 80,
      "outputs": [
        {
          "output_type": "display_data",
          "data": {
            "text/plain": [
              "   state startdate  enddate    pollster                                 grade\n",
              "1  U.S.  2016-11-05 2016-11-07 The Times-Picayune/Lucid                 NA   \n",
              "2  U.S.  2016-11-02 2016-11-06 Rasmussen Reports/Pulse Opinion Research C+   \n",
              "3  U.S.  2016-11-01 2016-11-03 Rasmussen Reports/Pulse Opinion Research C+   \n",
              "4  U.S.  2016-11-04 2016-11-06 The Times-Picayune/Lucid                 NA   \n",
              "5  U.S.  2016-10-31 2016-11-02 Rasmussen Reports/Pulse Opinion Research C+   \n",
              "6  U.S.  2016-11-03 2016-11-05 The Times-Picayune/Lucid                 NA   \n",
              "7  U.S.  2016-10-27 2016-10-31 Rasmussen Reports/Pulse Opinion Research C+   \n",
              "8  U.S.  2016-10-30 2016-11-01 Rasmussen Reports/Pulse Opinion Research C+   \n",
              "9  U.S.  2016-11-02 2016-11-04 The Times-Picayune/Lucid                 NA   \n",
              "10 U.S.  2016-11-01 2016-11-03 The Times-Picayune/Lucid                 NA   \n",
              "11 U.S.  2016-10-31 2016-11-02 The Times-Picayune/Lucid                 NA   \n",
              "12 U.S.  2016-10-25 2016-10-27 Rasmussen Reports/Pulse Opinion Research C+   \n",
              "13 U.S.  2016-10-30 2016-11-01 The Times-Picayune/Lucid                 NA   \n",
              "14 U.S.  2016-10-20 2016-10-24 Rasmussen Reports/Pulse Opinion Research C+   \n",
              "15 U.S.  2016-10-24 2016-10-26 Rasmussen Reports/Pulse Opinion Research C+   \n",
              "16 U.S.  2016-10-26 2016-10-30 Rasmussen Reports/Pulse Opinion Research C+   \n",
              "17 U.S.  2016-10-29 2016-10-31 The Times-Picayune/Lucid                 NA   \n",
              "18 U.S.  2016-10-23 2016-10-25 Rasmussen Reports/Pulse Opinion Research C+   \n",
              "19 U.S.  2016-10-28 2016-10-30 The Times-Picayune/Lucid                 NA   \n",
              "20 U.S.  2016-10-27 2016-10-29 The Times-Picayune/Lucid                 NA   \n",
              "21 U.S.  2016-10-26 2016-10-28 The Times-Picayune/Lucid                 NA   \n",
              "22 U.S.  2016-10-13 2016-10-17 Rasmussen Reports/Pulse Opinion Research C+   \n",
              "23 U.S.  2016-10-18 2016-10-20 Rasmussen Reports/Pulse Opinion Research C+   \n",
              "24 U.S.  2016-10-25 2016-10-27 The Times-Picayune/Lucid                 NA   \n",
              "25 U.S.  2016-10-17 2016-10-19 Rasmussen Reports/Pulse Opinion Research C+   \n",
              "26 U.S.  2016-10-24 2016-10-26 The Times-Picayune/Lucid                 NA   \n",
              "27 U.S.  2016-10-19 2016-10-23 Rasmussen Reports/Pulse Opinion Research C+   \n",
              "28 U.S.  2016-10-16 2016-10-18 Rasmussen Reports/Pulse Opinion Research C+   \n",
              "29 U.S.  2016-10-23 2016-10-25 The Times-Picayune/Lucid                 NA   \n",
              "30 U.S.  2016-10-22 2016-10-24 The Times-Picayune/Lucid                 NA   \n",
              "31 U.S.  2016-10-21 2016-10-23 The Times-Picayune/Lucid                 NA   \n",
              "32 U.S.  2016-10-20 2016-10-22 The Times-Picayune/Lucid                 NA   \n",
              "33 U.S.  2016-10-19 2016-10-21 The Times-Picayune/Lucid                 NA   \n",
              "34 U.S.  2016-10-12 2016-10-16 Rasmussen Reports/Pulse Opinion Research C+   \n",
              "35 U.S.  2016-10-18 2016-10-20 The Times-Picayune/Lucid                 NA   \n",
              "36 U.S.  2016-10-17 2016-10-19 The Times-Picayune/Lucid                 NA   \n",
              "37 U.S.  2016-10-16 2016-10-18 The Times-Picayune/Lucid                 NA   \n",
              "38 U.S.  2016-10-15 2016-10-17 The Times-Picayune/Lucid                 NA   \n",
              "39 U.S.  2016-10-14 2016-10-16 The Times-Picayune/Lucid                 NA   \n",
              "40 U.S.  2016-10-13 2016-10-15 The Times-Picayune/Lucid                 NA   \n",
              "   samplesize population rawpoll_clinton rawpoll_trump rawpoll_johnson\n",
              "1  2521       lv         45              40            5              \n",
              "2  1500       lv         45              43            4              \n",
              "3  1500       lv         44              44            4              \n",
              "4  2584       lv         45              40            5              \n",
              "5  1500       lv         42              45            4              \n",
              "6  2526       lv         45              40            5              \n",
              "7  1500       lv         44              44            5              \n",
              "8  1500       lv         44              44            5              \n",
              "9  2561       lv         45              39            5              \n",
              "10 2627       lv         44              39            6              \n",
              "11 2620       lv         44              39            6              \n",
              "12 1500       lv         45              45            3              \n",
              "13 2617       lv         43              40            6              \n",
              "14 1500       lv         43              42            5              \n",
              "15 1500       lv         45              44            4              \n",
              "16 1500       lv         45              42            5              \n",
              "17 2600       lv         42              40            5              \n",
              "18 1500       lv         44              43            4              \n",
              "19 2599       lv         42              41            5              \n",
              "20 2617       lv         42              41            5              \n",
              "21 2617       lv         43              40            6              \n",
              "22 1500       lv         42              41            7              \n",
              "23 1500       lv         41              43            5              \n",
              "24 2627       lv         43              40            6              \n",
              "25 1500       lv         40              43            6              \n",
              "26 2602       lv         43              39            6              \n",
              "27 1500       lv         41              43            5              \n",
              "28 1500       lv         42              42            7              \n",
              "29 2600       lv         43              39            6              \n",
              "30 2609       lv         44              38            6              \n",
              "31 2615       lv         43              38            7              \n",
              "32 2593       lv         43              37            7              \n",
              "33 2438       lv         43              37            7              \n",
              "34 1500       lv         43              41            5              \n",
              "35 2127       lv         45              37            6              \n",
              "36 1822       lv         47              35            6              \n",
              "37 1639       lv         46              36            6              \n",
              "38 1641       lv         45              36            7              \n",
              "39 1640       lv         43              38            7              \n",
              "40 1647       lv         45              37            7              \n",
              "   rawpoll_mcmullin adjpoll_clinton adjpoll_trump adjpoll_johnson\n",
              "1  NA               45.13966        42.26495      3.679914       \n",
              "2  NA               45.56041        43.13745      4.418502       \n",
              "3  NA               44.66353        44.28981      4.331246       \n",
              "4  NA               45.22830        42.30433      3.770880       \n",
              "5  NA               42.67626        45.41689      4.239500       \n",
              "6  NA               45.31041        42.34422      3.779955       \n",
              "7  NA               44.67792        44.98535      4.871296       \n",
              "8  NA               44.68157        44.56407      5.138172       \n",
              "9  NA               45.37288        41.39494      3.764886       \n",
              "10 NA               44.41354        41.49658      4.692698       \n",
              "11 NA               44.42627        41.62366      4.600952       \n",
              "12 NA               45.65689        46.62687      2.531338       \n",
              "13 NA               43.43158        42.77084      4.499624       \n",
              "14 NA               43.57005        44.38086      4.068651       \n",
              "15 NA               45.62489        45.85622      3.438910       \n",
              "16 NA               45.66885        43.19125      4.760954       \n",
              "17 NA               42.43340        42.96991      3.366840       \n",
              "18 NA               44.58836        45.05244      3.337899       \n",
              "19 NA               42.42793        44.19212      3.232749       \n",
              "20 NA               42.41886        44.39802      3.122407       \n",
              "21 NA               43.41575        43.60957      4.008354       \n",
              "22 NA               42.73020        44.23240      5.362859       \n",
              "23 NA               41.60032        45.80689      3.709935       \n",
              "24 NA               43.40690        43.83364      3.892791       \n",
              "25 NA               40.62938        45.93498      4.620259       \n",
              "26 NA               43.37489        43.06299      3.800363       \n",
              "27 NA               41.57372        45.52355      3.960570       \n",
              "28 NA               42.66180        45.06035      5.533850       \n",
              "29 NA               43.33837        43.25921      3.699352       \n",
              "30 NA               44.32004        42.43754      3.564065       \n",
              "31 NA               43.32005        42.58764      4.430103       \n",
              "32 NA               43.32373        41.73032      4.322022       \n",
              "33 NA               43.33401        41.87731      4.191071       \n",
              "34 NA               43.76579        44.29939      3.285496       \n",
              "35 NA               45.35033        42.01366      3.071387       \n",
              "36 NA               47.37939        40.14175      2.981712       \n",
              "37 NA               46.41181        41.26712      2.895303       \n",
              "38 NA               45.43769        41.37117      3.806019       \n",
              "39 NA               43.48021        43.43917      3.724312       \n",
              "40 NA               45.51580        42.50616      3.646948       \n",
              "   adjpoll_mcmullin spread\n",
              "1  NA                0.05 \n",
              "2  NA                0.02 \n",
              "3  NA                0.00 \n",
              "4  NA                0.05 \n",
              "5  NA               -0.03 \n",
              "6  NA                0.05 \n",
              "7  NA                0.00 \n",
              "8  NA                0.00 \n",
              "9  NA                0.06 \n",
              "10 NA                0.05 \n",
              "11 NA                0.05 \n",
              "12 NA                0.00 \n",
              "13 NA                0.03 \n",
              "14 NA                0.01 \n",
              "15 NA                0.01 \n",
              "16 NA                0.03 \n",
              "17 NA                0.02 \n",
              "18 NA                0.01 \n",
              "19 NA                0.01 \n",
              "20 NA                0.01 \n",
              "21 NA                0.03 \n",
              "22 NA                0.01 \n",
              "23 NA               -0.02 \n",
              "24 NA                0.03 \n",
              "25 NA               -0.03 \n",
              "26 NA                0.04 \n",
              "27 NA               -0.02 \n",
              "28 NA                0.00 \n",
              "29 NA                0.04 \n",
              "30 NA                0.06 \n",
              "31 NA                0.05 \n",
              "32 NA                0.06 \n",
              "33 NA                0.06 \n",
              "34 NA                0.02 \n",
              "35 NA                0.08 \n",
              "36 NA                0.12 \n",
              "37 NA                0.10 \n",
              "38 NA                0.09 \n",
              "39 NA                0.05 \n",
              "40 NA                0.08 "
            ],
            "text/latex": "A grouped\\_df: 40 × 16\n\\begin{tabular}{llllllllllllllll}\n state & startdate & enddate & pollster & grade & samplesize & population & rawpoll\\_clinton & rawpoll\\_trump & rawpoll\\_johnson & rawpoll\\_mcmullin & adjpoll\\_clinton & adjpoll\\_trump & adjpoll\\_johnson & adjpoll\\_mcmullin & spread\\\\\n <fct> & <date> & <date> & <fct> & <fct> & <int> & <chr> & <dbl> & <dbl> & <dbl> & <dbl> & <dbl> & <dbl> & <dbl> & <dbl> & <dbl>\\\\\n\\hline\n\t U.S. & 2016-11-05 & 2016-11-07 & The Times-Picayune/Lucid                 & NA & 2521 & lv & 45 & 40 & 5 & NA & 45.13966 & 42.26495 & 3.679914 & NA &  0.05\\\\\n\t U.S. & 2016-11-02 & 2016-11-06 & Rasmussen Reports/Pulse Opinion Research & C+ & 1500 & lv & 45 & 43 & 4 & NA & 45.56041 & 43.13745 & 4.418502 & NA &  0.02\\\\\n\t U.S. & 2016-11-01 & 2016-11-03 & Rasmussen Reports/Pulse Opinion Research & C+ & 1500 & lv & 44 & 44 & 4 & NA & 44.66353 & 44.28981 & 4.331246 & NA &  0.00\\\\\n\t U.S. & 2016-11-04 & 2016-11-06 & The Times-Picayune/Lucid                 & NA & 2584 & lv & 45 & 40 & 5 & NA & 45.22830 & 42.30433 & 3.770880 & NA &  0.05\\\\\n\t U.S. & 2016-10-31 & 2016-11-02 & Rasmussen Reports/Pulse Opinion Research & C+ & 1500 & lv & 42 & 45 & 4 & NA & 42.67626 & 45.41689 & 4.239500 & NA & -0.03\\\\\n\t U.S. & 2016-11-03 & 2016-11-05 & The Times-Picayune/Lucid                 & NA & 2526 & lv & 45 & 40 & 5 & NA & 45.31041 & 42.34422 & 3.779955 & NA &  0.05\\\\\n\t U.S. & 2016-10-27 & 2016-10-31 & Rasmussen Reports/Pulse Opinion Research & C+ & 1500 & lv & 44 & 44 & 5 & NA & 44.67792 & 44.98535 & 4.871296 & NA &  0.00\\\\\n\t U.S. & 2016-10-30 & 2016-11-01 & Rasmussen Reports/Pulse Opinion Research & C+ & 1500 & lv & 44 & 44 & 5 & NA & 44.68157 & 44.56407 & 5.138172 & NA &  0.00\\\\\n\t U.S. & 2016-11-02 & 2016-11-04 & The Times-Picayune/Lucid                 & NA & 2561 & lv & 45 & 39 & 5 & NA & 45.37288 & 41.39494 & 3.764886 & NA &  0.06\\\\\n\t U.S. & 2016-11-01 & 2016-11-03 & The Times-Picayune/Lucid                 & NA & 2627 & lv & 44 & 39 & 6 & NA & 44.41354 & 41.49658 & 4.692698 & NA &  0.05\\\\\n\t U.S. & 2016-10-31 & 2016-11-02 & The Times-Picayune/Lucid                 & NA & 2620 & lv & 44 & 39 & 6 & NA & 44.42627 & 41.62366 & 4.600952 & NA &  0.05\\\\\n\t U.S. & 2016-10-25 & 2016-10-27 & Rasmussen Reports/Pulse Opinion Research & C+ & 1500 & lv & 45 & 45 & 3 & NA & 45.65689 & 46.62687 & 2.531338 & NA &  0.00\\\\\n\t U.S. & 2016-10-30 & 2016-11-01 & The Times-Picayune/Lucid                 & NA & 2617 & lv & 43 & 40 & 6 & NA & 43.43158 & 42.77084 & 4.499624 & NA &  0.03\\\\\n\t U.S. & 2016-10-20 & 2016-10-24 & Rasmussen Reports/Pulse Opinion Research & C+ & 1500 & lv & 43 & 42 & 5 & NA & 43.57005 & 44.38086 & 4.068651 & NA &  0.01\\\\\n\t U.S. & 2016-10-24 & 2016-10-26 & Rasmussen Reports/Pulse Opinion Research & C+ & 1500 & lv & 45 & 44 & 4 & NA & 45.62489 & 45.85622 & 3.438910 & NA &  0.01\\\\\n\t U.S. & 2016-10-26 & 2016-10-30 & Rasmussen Reports/Pulse Opinion Research & C+ & 1500 & lv & 45 & 42 & 5 & NA & 45.66885 & 43.19125 & 4.760954 & NA &  0.03\\\\\n\t U.S. & 2016-10-29 & 2016-10-31 & The Times-Picayune/Lucid                 & NA & 2600 & lv & 42 & 40 & 5 & NA & 42.43340 & 42.96991 & 3.366840 & NA &  0.02\\\\\n\t U.S. & 2016-10-23 & 2016-10-25 & Rasmussen Reports/Pulse Opinion Research & C+ & 1500 & lv & 44 & 43 & 4 & NA & 44.58836 & 45.05244 & 3.337899 & NA &  0.01\\\\\n\t U.S. & 2016-10-28 & 2016-10-30 & The Times-Picayune/Lucid                 & NA & 2599 & lv & 42 & 41 & 5 & NA & 42.42793 & 44.19212 & 3.232749 & NA &  0.01\\\\\n\t U.S. & 2016-10-27 & 2016-10-29 & The Times-Picayune/Lucid                 & NA & 2617 & lv & 42 & 41 & 5 & NA & 42.41886 & 44.39802 & 3.122407 & NA &  0.01\\\\\n\t U.S. & 2016-10-26 & 2016-10-28 & The Times-Picayune/Lucid                 & NA & 2617 & lv & 43 & 40 & 6 & NA & 43.41575 & 43.60957 & 4.008354 & NA &  0.03\\\\\n\t U.S. & 2016-10-13 & 2016-10-17 & Rasmussen Reports/Pulse Opinion Research & C+ & 1500 & lv & 42 & 41 & 7 & NA & 42.73020 & 44.23240 & 5.362859 & NA &  0.01\\\\\n\t U.S. & 2016-10-18 & 2016-10-20 & Rasmussen Reports/Pulse Opinion Research & C+ & 1500 & lv & 41 & 43 & 5 & NA & 41.60032 & 45.80689 & 3.709935 & NA & -0.02\\\\\n\t U.S. & 2016-10-25 & 2016-10-27 & The Times-Picayune/Lucid                 & NA & 2627 & lv & 43 & 40 & 6 & NA & 43.40690 & 43.83364 & 3.892791 & NA &  0.03\\\\\n\t U.S. & 2016-10-17 & 2016-10-19 & Rasmussen Reports/Pulse Opinion Research & C+ & 1500 & lv & 40 & 43 & 6 & NA & 40.62938 & 45.93498 & 4.620259 & NA & -0.03\\\\\n\t U.S. & 2016-10-24 & 2016-10-26 & The Times-Picayune/Lucid                 & NA & 2602 & lv & 43 & 39 & 6 & NA & 43.37489 & 43.06299 & 3.800363 & NA &  0.04\\\\\n\t U.S. & 2016-10-19 & 2016-10-23 & Rasmussen Reports/Pulse Opinion Research & C+ & 1500 & lv & 41 & 43 & 5 & NA & 41.57372 & 45.52355 & 3.960570 & NA & -0.02\\\\\n\t U.S. & 2016-10-16 & 2016-10-18 & Rasmussen Reports/Pulse Opinion Research & C+ & 1500 & lv & 42 & 42 & 7 & NA & 42.66180 & 45.06035 & 5.533850 & NA &  0.00\\\\\n\t U.S. & 2016-10-23 & 2016-10-25 & The Times-Picayune/Lucid                 & NA & 2600 & lv & 43 & 39 & 6 & NA & 43.33837 & 43.25921 & 3.699352 & NA &  0.04\\\\\n\t U.S. & 2016-10-22 & 2016-10-24 & The Times-Picayune/Lucid                 & NA & 2609 & lv & 44 & 38 & 6 & NA & 44.32004 & 42.43754 & 3.564065 & NA &  0.06\\\\\n\t U.S. & 2016-10-21 & 2016-10-23 & The Times-Picayune/Lucid                 & NA & 2615 & lv & 43 & 38 & 7 & NA & 43.32005 & 42.58764 & 4.430103 & NA &  0.05\\\\\n\t U.S. & 2016-10-20 & 2016-10-22 & The Times-Picayune/Lucid                 & NA & 2593 & lv & 43 & 37 & 7 & NA & 43.32373 & 41.73032 & 4.322022 & NA &  0.06\\\\\n\t U.S. & 2016-10-19 & 2016-10-21 & The Times-Picayune/Lucid                 & NA & 2438 & lv & 43 & 37 & 7 & NA & 43.33401 & 41.87731 & 4.191071 & NA &  0.06\\\\\n\t U.S. & 2016-10-12 & 2016-10-16 & Rasmussen Reports/Pulse Opinion Research & C+ & 1500 & lv & 43 & 41 & 5 & NA & 43.76579 & 44.29939 & 3.285496 & NA &  0.02\\\\\n\t U.S. & 2016-10-18 & 2016-10-20 & The Times-Picayune/Lucid                 & NA & 2127 & lv & 45 & 37 & 6 & NA & 45.35033 & 42.01366 & 3.071387 & NA &  0.08\\\\\n\t U.S. & 2016-10-17 & 2016-10-19 & The Times-Picayune/Lucid                 & NA & 1822 & lv & 47 & 35 & 6 & NA & 47.37939 & 40.14175 & 2.981712 & NA &  0.12\\\\\n\t U.S. & 2016-10-16 & 2016-10-18 & The Times-Picayune/Lucid                 & NA & 1639 & lv & 46 & 36 & 6 & NA & 46.41181 & 41.26712 & 2.895303 & NA &  0.10\\\\\n\t U.S. & 2016-10-15 & 2016-10-17 & The Times-Picayune/Lucid                 & NA & 1641 & lv & 45 & 36 & 7 & NA & 45.43769 & 41.37117 & 3.806019 & NA &  0.09\\\\\n\t U.S. & 2016-10-14 & 2016-10-16 & The Times-Picayune/Lucid                 & NA & 1640 & lv & 43 & 38 & 7 & NA & 43.48021 & 43.43917 & 3.724312 & NA &  0.05\\\\\n\t U.S. & 2016-10-13 & 2016-10-15 & The Times-Picayune/Lucid                 & NA & 1647 & lv & 45 & 37 & 7 & NA & 45.51580 & 42.50616 & 3.646948 & NA &  0.08\\\\\n\\end{tabular}\n",
            "text/markdown": "\nA grouped_df: 40 × 16\n\n| state &lt;fct&gt; | startdate &lt;date&gt; | enddate &lt;date&gt; | pollster &lt;fct&gt; | grade &lt;fct&gt; | samplesize &lt;int&gt; | population &lt;chr&gt; | rawpoll_clinton &lt;dbl&gt; | rawpoll_trump &lt;dbl&gt; | rawpoll_johnson &lt;dbl&gt; | rawpoll_mcmullin &lt;dbl&gt; | adjpoll_clinton &lt;dbl&gt; | adjpoll_trump &lt;dbl&gt; | adjpoll_johnson &lt;dbl&gt; | adjpoll_mcmullin &lt;dbl&gt; | spread &lt;dbl&gt; |\n|---|---|---|---|---|---|---|---|---|---|---|---|---|---|---|---|\n| U.S. | 2016-11-05 | 2016-11-07 | The Times-Picayune/Lucid                 | NA | 2521 | lv | 45 | 40 | 5 | NA | 45.13966 | 42.26495 | 3.679914 | NA |  0.05 |\n| U.S. | 2016-11-02 | 2016-11-06 | Rasmussen Reports/Pulse Opinion Research | C+ | 1500 | lv | 45 | 43 | 4 | NA | 45.56041 | 43.13745 | 4.418502 | NA |  0.02 |\n| U.S. | 2016-11-01 | 2016-11-03 | Rasmussen Reports/Pulse Opinion Research | C+ | 1500 | lv | 44 | 44 | 4 | NA | 44.66353 | 44.28981 | 4.331246 | NA |  0.00 |\n| U.S. | 2016-11-04 | 2016-11-06 | The Times-Picayune/Lucid                 | NA | 2584 | lv | 45 | 40 | 5 | NA | 45.22830 | 42.30433 | 3.770880 | NA |  0.05 |\n| U.S. | 2016-10-31 | 2016-11-02 | Rasmussen Reports/Pulse Opinion Research | C+ | 1500 | lv | 42 | 45 | 4 | NA | 42.67626 | 45.41689 | 4.239500 | NA | -0.03 |\n| U.S. | 2016-11-03 | 2016-11-05 | The Times-Picayune/Lucid                 | NA | 2526 | lv | 45 | 40 | 5 | NA | 45.31041 | 42.34422 | 3.779955 | NA |  0.05 |\n| U.S. | 2016-10-27 | 2016-10-31 | Rasmussen Reports/Pulse Opinion Research | C+ | 1500 | lv | 44 | 44 | 5 | NA | 44.67792 | 44.98535 | 4.871296 | NA |  0.00 |\n| U.S. | 2016-10-30 | 2016-11-01 | Rasmussen Reports/Pulse Opinion Research | C+ | 1500 | lv | 44 | 44 | 5 | NA | 44.68157 | 44.56407 | 5.138172 | NA |  0.00 |\n| U.S. | 2016-11-02 | 2016-11-04 | The Times-Picayune/Lucid                 | NA | 2561 | lv | 45 | 39 | 5 | NA | 45.37288 | 41.39494 | 3.764886 | NA |  0.06 |\n| U.S. | 2016-11-01 | 2016-11-03 | The Times-Picayune/Lucid                 | NA | 2627 | lv | 44 | 39 | 6 | NA | 44.41354 | 41.49658 | 4.692698 | NA |  0.05 |\n| U.S. | 2016-10-31 | 2016-11-02 | The Times-Picayune/Lucid                 | NA | 2620 | lv | 44 | 39 | 6 | NA | 44.42627 | 41.62366 | 4.600952 | NA |  0.05 |\n| U.S. | 2016-10-25 | 2016-10-27 | Rasmussen Reports/Pulse Opinion Research | C+ | 1500 | lv | 45 | 45 | 3 | NA | 45.65689 | 46.62687 | 2.531338 | NA |  0.00 |\n| U.S. | 2016-10-30 | 2016-11-01 | The Times-Picayune/Lucid                 | NA | 2617 | lv | 43 | 40 | 6 | NA | 43.43158 | 42.77084 | 4.499624 | NA |  0.03 |\n| U.S. | 2016-10-20 | 2016-10-24 | Rasmussen Reports/Pulse Opinion Research | C+ | 1500 | lv | 43 | 42 | 5 | NA | 43.57005 | 44.38086 | 4.068651 | NA |  0.01 |\n| U.S. | 2016-10-24 | 2016-10-26 | Rasmussen Reports/Pulse Opinion Research | C+ | 1500 | lv | 45 | 44 | 4 | NA | 45.62489 | 45.85622 | 3.438910 | NA |  0.01 |\n| U.S. | 2016-10-26 | 2016-10-30 | Rasmussen Reports/Pulse Opinion Research | C+ | 1500 | lv | 45 | 42 | 5 | NA | 45.66885 | 43.19125 | 4.760954 | NA |  0.03 |\n| U.S. | 2016-10-29 | 2016-10-31 | The Times-Picayune/Lucid                 | NA | 2600 | lv | 42 | 40 | 5 | NA | 42.43340 | 42.96991 | 3.366840 | NA |  0.02 |\n| U.S. | 2016-10-23 | 2016-10-25 | Rasmussen Reports/Pulse Opinion Research | C+ | 1500 | lv | 44 | 43 | 4 | NA | 44.58836 | 45.05244 | 3.337899 | NA |  0.01 |\n| U.S. | 2016-10-28 | 2016-10-30 | The Times-Picayune/Lucid                 | NA | 2599 | lv | 42 | 41 | 5 | NA | 42.42793 | 44.19212 | 3.232749 | NA |  0.01 |\n| U.S. | 2016-10-27 | 2016-10-29 | The Times-Picayune/Lucid                 | NA | 2617 | lv | 42 | 41 | 5 | NA | 42.41886 | 44.39802 | 3.122407 | NA |  0.01 |\n| U.S. | 2016-10-26 | 2016-10-28 | The Times-Picayune/Lucid                 | NA | 2617 | lv | 43 | 40 | 6 | NA | 43.41575 | 43.60957 | 4.008354 | NA |  0.03 |\n| U.S. | 2016-10-13 | 2016-10-17 | Rasmussen Reports/Pulse Opinion Research | C+ | 1500 | lv | 42 | 41 | 7 | NA | 42.73020 | 44.23240 | 5.362859 | NA |  0.01 |\n| U.S. | 2016-10-18 | 2016-10-20 | Rasmussen Reports/Pulse Opinion Research | C+ | 1500 | lv | 41 | 43 | 5 | NA | 41.60032 | 45.80689 | 3.709935 | NA | -0.02 |\n| U.S. | 2016-10-25 | 2016-10-27 | The Times-Picayune/Lucid                 | NA | 2627 | lv | 43 | 40 | 6 | NA | 43.40690 | 43.83364 | 3.892791 | NA |  0.03 |\n| U.S. | 2016-10-17 | 2016-10-19 | Rasmussen Reports/Pulse Opinion Research | C+ | 1500 | lv | 40 | 43 | 6 | NA | 40.62938 | 45.93498 | 4.620259 | NA | -0.03 |\n| U.S. | 2016-10-24 | 2016-10-26 | The Times-Picayune/Lucid                 | NA | 2602 | lv | 43 | 39 | 6 | NA | 43.37489 | 43.06299 | 3.800363 | NA |  0.04 |\n| U.S. | 2016-10-19 | 2016-10-23 | Rasmussen Reports/Pulse Opinion Research | C+ | 1500 | lv | 41 | 43 | 5 | NA | 41.57372 | 45.52355 | 3.960570 | NA | -0.02 |\n| U.S. | 2016-10-16 | 2016-10-18 | Rasmussen Reports/Pulse Opinion Research | C+ | 1500 | lv | 42 | 42 | 7 | NA | 42.66180 | 45.06035 | 5.533850 | NA |  0.00 |\n| U.S. | 2016-10-23 | 2016-10-25 | The Times-Picayune/Lucid                 | NA | 2600 | lv | 43 | 39 | 6 | NA | 43.33837 | 43.25921 | 3.699352 | NA |  0.04 |\n| U.S. | 2016-10-22 | 2016-10-24 | The Times-Picayune/Lucid                 | NA | 2609 | lv | 44 | 38 | 6 | NA | 44.32004 | 42.43754 | 3.564065 | NA |  0.06 |\n| U.S. | 2016-10-21 | 2016-10-23 | The Times-Picayune/Lucid                 | NA | 2615 | lv | 43 | 38 | 7 | NA | 43.32005 | 42.58764 | 4.430103 | NA |  0.05 |\n| U.S. | 2016-10-20 | 2016-10-22 | The Times-Picayune/Lucid                 | NA | 2593 | lv | 43 | 37 | 7 | NA | 43.32373 | 41.73032 | 4.322022 | NA |  0.06 |\n| U.S. | 2016-10-19 | 2016-10-21 | The Times-Picayune/Lucid                 | NA | 2438 | lv | 43 | 37 | 7 | NA | 43.33401 | 41.87731 | 4.191071 | NA |  0.06 |\n| U.S. | 2016-10-12 | 2016-10-16 | Rasmussen Reports/Pulse Opinion Research | C+ | 1500 | lv | 43 | 41 | 5 | NA | 43.76579 | 44.29939 | 3.285496 | NA |  0.02 |\n| U.S. | 2016-10-18 | 2016-10-20 | The Times-Picayune/Lucid                 | NA | 2127 | lv | 45 | 37 | 6 | NA | 45.35033 | 42.01366 | 3.071387 | NA |  0.08 |\n| U.S. | 2016-10-17 | 2016-10-19 | The Times-Picayune/Lucid                 | NA | 1822 | lv | 47 | 35 | 6 | NA | 47.37939 | 40.14175 | 2.981712 | NA |  0.12 |\n| U.S. | 2016-10-16 | 2016-10-18 | The Times-Picayune/Lucid                 | NA | 1639 | lv | 46 | 36 | 6 | NA | 46.41181 | 41.26712 | 2.895303 | NA |  0.10 |\n| U.S. | 2016-10-15 | 2016-10-17 | The Times-Picayune/Lucid                 | NA | 1641 | lv | 45 | 36 | 7 | NA | 45.43769 | 41.37117 | 3.806019 | NA |  0.09 |\n| U.S. | 2016-10-14 | 2016-10-16 | The Times-Picayune/Lucid                 | NA | 1640 | lv | 43 | 38 | 7 | NA | 43.48021 | 43.43917 | 3.724312 | NA |  0.05 |\n| U.S. | 2016-10-13 | 2016-10-15 | The Times-Picayune/Lucid                 | NA | 1647 | lv | 45 | 37 | 7 | NA | 45.51580 | 42.50616 | 3.646948 | NA |  0.08 |\n\n",
            "text/html": [
              "<table>\n",
              "<caption>A grouped_df: 40 × 16</caption>\n",
              "<thead>\n",
              "\t<tr><th scope=col>state</th><th scope=col>startdate</th><th scope=col>enddate</th><th scope=col>pollster</th><th scope=col>grade</th><th scope=col>samplesize</th><th scope=col>population</th><th scope=col>rawpoll_clinton</th><th scope=col>rawpoll_trump</th><th scope=col>rawpoll_johnson</th><th scope=col>rawpoll_mcmullin</th><th scope=col>adjpoll_clinton</th><th scope=col>adjpoll_trump</th><th scope=col>adjpoll_johnson</th><th scope=col>adjpoll_mcmullin</th><th scope=col>spread</th></tr>\n",
              "\t<tr><th scope=col>&lt;fct&gt;</th><th scope=col>&lt;date&gt;</th><th scope=col>&lt;date&gt;</th><th scope=col>&lt;fct&gt;</th><th scope=col>&lt;fct&gt;</th><th scope=col>&lt;int&gt;</th><th scope=col>&lt;chr&gt;</th><th scope=col>&lt;dbl&gt;</th><th scope=col>&lt;dbl&gt;</th><th scope=col>&lt;dbl&gt;</th><th scope=col>&lt;dbl&gt;</th><th scope=col>&lt;dbl&gt;</th><th scope=col>&lt;dbl&gt;</th><th scope=col>&lt;dbl&gt;</th><th scope=col>&lt;dbl&gt;</th><th scope=col>&lt;dbl&gt;</th></tr>\n",
              "</thead>\n",
              "<tbody>\n",
              "\t<tr><td>U.S.</td><td>2016-11-05</td><td>2016-11-07</td><td>The Times-Picayune/Lucid                </td><td>NA</td><td>2521</td><td>lv</td><td>45</td><td>40</td><td>5</td><td>NA</td><td>45.13966</td><td>42.26495</td><td>3.679914</td><td>NA</td><td> 0.05</td></tr>\n",
              "\t<tr><td>U.S.</td><td>2016-11-02</td><td>2016-11-06</td><td>Rasmussen Reports/Pulse Opinion Research</td><td>C+</td><td>1500</td><td>lv</td><td>45</td><td>43</td><td>4</td><td>NA</td><td>45.56041</td><td>43.13745</td><td>4.418502</td><td>NA</td><td> 0.02</td></tr>\n",
              "\t<tr><td>U.S.</td><td>2016-11-01</td><td>2016-11-03</td><td>Rasmussen Reports/Pulse Opinion Research</td><td>C+</td><td>1500</td><td>lv</td><td>44</td><td>44</td><td>4</td><td>NA</td><td>44.66353</td><td>44.28981</td><td>4.331246</td><td>NA</td><td> 0.00</td></tr>\n",
              "\t<tr><td>U.S.</td><td>2016-11-04</td><td>2016-11-06</td><td>The Times-Picayune/Lucid                </td><td>NA</td><td>2584</td><td>lv</td><td>45</td><td>40</td><td>5</td><td>NA</td><td>45.22830</td><td>42.30433</td><td>3.770880</td><td>NA</td><td> 0.05</td></tr>\n",
              "\t<tr><td>U.S.</td><td>2016-10-31</td><td>2016-11-02</td><td>Rasmussen Reports/Pulse Opinion Research</td><td>C+</td><td>1500</td><td>lv</td><td>42</td><td>45</td><td>4</td><td>NA</td><td>42.67626</td><td>45.41689</td><td>4.239500</td><td>NA</td><td>-0.03</td></tr>\n",
              "\t<tr><td>U.S.</td><td>2016-11-03</td><td>2016-11-05</td><td>The Times-Picayune/Lucid                </td><td>NA</td><td>2526</td><td>lv</td><td>45</td><td>40</td><td>5</td><td>NA</td><td>45.31041</td><td>42.34422</td><td>3.779955</td><td>NA</td><td> 0.05</td></tr>\n",
              "\t<tr><td>U.S.</td><td>2016-10-27</td><td>2016-10-31</td><td>Rasmussen Reports/Pulse Opinion Research</td><td>C+</td><td>1500</td><td>lv</td><td>44</td><td>44</td><td>5</td><td>NA</td><td>44.67792</td><td>44.98535</td><td>4.871296</td><td>NA</td><td> 0.00</td></tr>\n",
              "\t<tr><td>U.S.</td><td>2016-10-30</td><td>2016-11-01</td><td>Rasmussen Reports/Pulse Opinion Research</td><td>C+</td><td>1500</td><td>lv</td><td>44</td><td>44</td><td>5</td><td>NA</td><td>44.68157</td><td>44.56407</td><td>5.138172</td><td>NA</td><td> 0.00</td></tr>\n",
              "\t<tr><td>U.S.</td><td>2016-11-02</td><td>2016-11-04</td><td>The Times-Picayune/Lucid                </td><td>NA</td><td>2561</td><td>lv</td><td>45</td><td>39</td><td>5</td><td>NA</td><td>45.37288</td><td>41.39494</td><td>3.764886</td><td>NA</td><td> 0.06</td></tr>\n",
              "\t<tr><td>U.S.</td><td>2016-11-01</td><td>2016-11-03</td><td>The Times-Picayune/Lucid                </td><td>NA</td><td>2627</td><td>lv</td><td>44</td><td>39</td><td>6</td><td>NA</td><td>44.41354</td><td>41.49658</td><td>4.692698</td><td>NA</td><td> 0.05</td></tr>\n",
              "\t<tr><td>U.S.</td><td>2016-10-31</td><td>2016-11-02</td><td>The Times-Picayune/Lucid                </td><td>NA</td><td>2620</td><td>lv</td><td>44</td><td>39</td><td>6</td><td>NA</td><td>44.42627</td><td>41.62366</td><td>4.600952</td><td>NA</td><td> 0.05</td></tr>\n",
              "\t<tr><td>U.S.</td><td>2016-10-25</td><td>2016-10-27</td><td>Rasmussen Reports/Pulse Opinion Research</td><td>C+</td><td>1500</td><td>lv</td><td>45</td><td>45</td><td>3</td><td>NA</td><td>45.65689</td><td>46.62687</td><td>2.531338</td><td>NA</td><td> 0.00</td></tr>\n",
              "\t<tr><td>U.S.</td><td>2016-10-30</td><td>2016-11-01</td><td>The Times-Picayune/Lucid                </td><td>NA</td><td>2617</td><td>lv</td><td>43</td><td>40</td><td>6</td><td>NA</td><td>43.43158</td><td>42.77084</td><td>4.499624</td><td>NA</td><td> 0.03</td></tr>\n",
              "\t<tr><td>U.S.</td><td>2016-10-20</td><td>2016-10-24</td><td>Rasmussen Reports/Pulse Opinion Research</td><td>C+</td><td>1500</td><td>lv</td><td>43</td><td>42</td><td>5</td><td>NA</td><td>43.57005</td><td>44.38086</td><td>4.068651</td><td>NA</td><td> 0.01</td></tr>\n",
              "\t<tr><td>U.S.</td><td>2016-10-24</td><td>2016-10-26</td><td>Rasmussen Reports/Pulse Opinion Research</td><td>C+</td><td>1500</td><td>lv</td><td>45</td><td>44</td><td>4</td><td>NA</td><td>45.62489</td><td>45.85622</td><td>3.438910</td><td>NA</td><td> 0.01</td></tr>\n",
              "\t<tr><td>U.S.</td><td>2016-10-26</td><td>2016-10-30</td><td>Rasmussen Reports/Pulse Opinion Research</td><td>C+</td><td>1500</td><td>lv</td><td>45</td><td>42</td><td>5</td><td>NA</td><td>45.66885</td><td>43.19125</td><td>4.760954</td><td>NA</td><td> 0.03</td></tr>\n",
              "\t<tr><td>U.S.</td><td>2016-10-29</td><td>2016-10-31</td><td>The Times-Picayune/Lucid                </td><td>NA</td><td>2600</td><td>lv</td><td>42</td><td>40</td><td>5</td><td>NA</td><td>42.43340</td><td>42.96991</td><td>3.366840</td><td>NA</td><td> 0.02</td></tr>\n",
              "\t<tr><td>U.S.</td><td>2016-10-23</td><td>2016-10-25</td><td>Rasmussen Reports/Pulse Opinion Research</td><td>C+</td><td>1500</td><td>lv</td><td>44</td><td>43</td><td>4</td><td>NA</td><td>44.58836</td><td>45.05244</td><td>3.337899</td><td>NA</td><td> 0.01</td></tr>\n",
              "\t<tr><td>U.S.</td><td>2016-10-28</td><td>2016-10-30</td><td>The Times-Picayune/Lucid                </td><td>NA</td><td>2599</td><td>lv</td><td>42</td><td>41</td><td>5</td><td>NA</td><td>42.42793</td><td>44.19212</td><td>3.232749</td><td>NA</td><td> 0.01</td></tr>\n",
              "\t<tr><td>U.S.</td><td>2016-10-27</td><td>2016-10-29</td><td>The Times-Picayune/Lucid                </td><td>NA</td><td>2617</td><td>lv</td><td>42</td><td>41</td><td>5</td><td>NA</td><td>42.41886</td><td>44.39802</td><td>3.122407</td><td>NA</td><td> 0.01</td></tr>\n",
              "\t<tr><td>U.S.</td><td>2016-10-26</td><td>2016-10-28</td><td>The Times-Picayune/Lucid                </td><td>NA</td><td>2617</td><td>lv</td><td>43</td><td>40</td><td>6</td><td>NA</td><td>43.41575</td><td>43.60957</td><td>4.008354</td><td>NA</td><td> 0.03</td></tr>\n",
              "\t<tr><td>U.S.</td><td>2016-10-13</td><td>2016-10-17</td><td>Rasmussen Reports/Pulse Opinion Research</td><td>C+</td><td>1500</td><td>lv</td><td>42</td><td>41</td><td>7</td><td>NA</td><td>42.73020</td><td>44.23240</td><td>5.362859</td><td>NA</td><td> 0.01</td></tr>\n",
              "\t<tr><td>U.S.</td><td>2016-10-18</td><td>2016-10-20</td><td>Rasmussen Reports/Pulse Opinion Research</td><td>C+</td><td>1500</td><td>lv</td><td>41</td><td>43</td><td>5</td><td>NA</td><td>41.60032</td><td>45.80689</td><td>3.709935</td><td>NA</td><td>-0.02</td></tr>\n",
              "\t<tr><td>U.S.</td><td>2016-10-25</td><td>2016-10-27</td><td>The Times-Picayune/Lucid                </td><td>NA</td><td>2627</td><td>lv</td><td>43</td><td>40</td><td>6</td><td>NA</td><td>43.40690</td><td>43.83364</td><td>3.892791</td><td>NA</td><td> 0.03</td></tr>\n",
              "\t<tr><td>U.S.</td><td>2016-10-17</td><td>2016-10-19</td><td>Rasmussen Reports/Pulse Opinion Research</td><td>C+</td><td>1500</td><td>lv</td><td>40</td><td>43</td><td>6</td><td>NA</td><td>40.62938</td><td>45.93498</td><td>4.620259</td><td>NA</td><td>-0.03</td></tr>\n",
              "\t<tr><td>U.S.</td><td>2016-10-24</td><td>2016-10-26</td><td>The Times-Picayune/Lucid                </td><td>NA</td><td>2602</td><td>lv</td><td>43</td><td>39</td><td>6</td><td>NA</td><td>43.37489</td><td>43.06299</td><td>3.800363</td><td>NA</td><td> 0.04</td></tr>\n",
              "\t<tr><td>U.S.</td><td>2016-10-19</td><td>2016-10-23</td><td>Rasmussen Reports/Pulse Opinion Research</td><td>C+</td><td>1500</td><td>lv</td><td>41</td><td>43</td><td>5</td><td>NA</td><td>41.57372</td><td>45.52355</td><td>3.960570</td><td>NA</td><td>-0.02</td></tr>\n",
              "\t<tr><td>U.S.</td><td>2016-10-16</td><td>2016-10-18</td><td>Rasmussen Reports/Pulse Opinion Research</td><td>C+</td><td>1500</td><td>lv</td><td>42</td><td>42</td><td>7</td><td>NA</td><td>42.66180</td><td>45.06035</td><td>5.533850</td><td>NA</td><td> 0.00</td></tr>\n",
              "\t<tr><td>U.S.</td><td>2016-10-23</td><td>2016-10-25</td><td>The Times-Picayune/Lucid                </td><td>NA</td><td>2600</td><td>lv</td><td>43</td><td>39</td><td>6</td><td>NA</td><td>43.33837</td><td>43.25921</td><td>3.699352</td><td>NA</td><td> 0.04</td></tr>\n",
              "\t<tr><td>U.S.</td><td>2016-10-22</td><td>2016-10-24</td><td>The Times-Picayune/Lucid                </td><td>NA</td><td>2609</td><td>lv</td><td>44</td><td>38</td><td>6</td><td>NA</td><td>44.32004</td><td>42.43754</td><td>3.564065</td><td>NA</td><td> 0.06</td></tr>\n",
              "\t<tr><td>U.S.</td><td>2016-10-21</td><td>2016-10-23</td><td>The Times-Picayune/Lucid                </td><td>NA</td><td>2615</td><td>lv</td><td>43</td><td>38</td><td>7</td><td>NA</td><td>43.32005</td><td>42.58764</td><td>4.430103</td><td>NA</td><td> 0.05</td></tr>\n",
              "\t<tr><td>U.S.</td><td>2016-10-20</td><td>2016-10-22</td><td>The Times-Picayune/Lucid                </td><td>NA</td><td>2593</td><td>lv</td><td>43</td><td>37</td><td>7</td><td>NA</td><td>43.32373</td><td>41.73032</td><td>4.322022</td><td>NA</td><td> 0.06</td></tr>\n",
              "\t<tr><td>U.S.</td><td>2016-10-19</td><td>2016-10-21</td><td>The Times-Picayune/Lucid                </td><td>NA</td><td>2438</td><td>lv</td><td>43</td><td>37</td><td>7</td><td>NA</td><td>43.33401</td><td>41.87731</td><td>4.191071</td><td>NA</td><td> 0.06</td></tr>\n",
              "\t<tr><td>U.S.</td><td>2016-10-12</td><td>2016-10-16</td><td>Rasmussen Reports/Pulse Opinion Research</td><td>C+</td><td>1500</td><td>lv</td><td>43</td><td>41</td><td>5</td><td>NA</td><td>43.76579</td><td>44.29939</td><td>3.285496</td><td>NA</td><td> 0.02</td></tr>\n",
              "\t<tr><td>U.S.</td><td>2016-10-18</td><td>2016-10-20</td><td>The Times-Picayune/Lucid                </td><td>NA</td><td>2127</td><td>lv</td><td>45</td><td>37</td><td>6</td><td>NA</td><td>45.35033</td><td>42.01366</td><td>3.071387</td><td>NA</td><td> 0.08</td></tr>\n",
              "\t<tr><td>U.S.</td><td>2016-10-17</td><td>2016-10-19</td><td>The Times-Picayune/Lucid                </td><td>NA</td><td>1822</td><td>lv</td><td>47</td><td>35</td><td>6</td><td>NA</td><td>47.37939</td><td>40.14175</td><td>2.981712</td><td>NA</td><td> 0.12</td></tr>\n",
              "\t<tr><td>U.S.</td><td>2016-10-16</td><td>2016-10-18</td><td>The Times-Picayune/Lucid                </td><td>NA</td><td>1639</td><td>lv</td><td>46</td><td>36</td><td>6</td><td>NA</td><td>46.41181</td><td>41.26712</td><td>2.895303</td><td>NA</td><td> 0.10</td></tr>\n",
              "\t<tr><td>U.S.</td><td>2016-10-15</td><td>2016-10-17</td><td>The Times-Picayune/Lucid                </td><td>NA</td><td>1641</td><td>lv</td><td>45</td><td>36</td><td>7</td><td>NA</td><td>45.43769</td><td>41.37117</td><td>3.806019</td><td>NA</td><td> 0.09</td></tr>\n",
              "\t<tr><td>U.S.</td><td>2016-10-14</td><td>2016-10-16</td><td>The Times-Picayune/Lucid                </td><td>NA</td><td>1640</td><td>lv</td><td>43</td><td>38</td><td>7</td><td>NA</td><td>43.48021</td><td>43.43917</td><td>3.724312</td><td>NA</td><td> 0.05</td></tr>\n",
              "\t<tr><td>U.S.</td><td>2016-10-13</td><td>2016-10-15</td><td>The Times-Picayune/Lucid                </td><td>NA</td><td>1647</td><td>lv</td><td>45</td><td>37</td><td>7</td><td>NA</td><td>45.51580</td><td>42.50616</td><td>3.646948</td><td>NA</td><td> 0.08</td></tr>\n",
              "</tbody>\n",
              "</table>\n"
            ]
          },
          "metadata": {
            "tags": []
          }
        },
        {
          "output_type": "stream",
          "text": [
            "`summarise()` ungrouping output (override with `.groups` argument)\n",
            "\n"
          ],
          "name": "stderr"
        },
        {
          "output_type": "display_data",
          "data": {
            "text/plain": [
              "  pollster                                 s         \n",
              "1 Rasmussen Reports/Pulse Opinion Research 0.01768945\n",
              "2 The Times-Picayune/Lucid                 0.02678078"
            ],
            "text/latex": "A tibble: 2 × 2\n\\begin{tabular}{ll}\n pollster & s\\\\\n <fct> & <dbl>\\\\\n\\hline\n\t Rasmussen Reports/Pulse Opinion Research & 0.01768945\\\\\n\t The Times-Picayune/Lucid                 & 0.02678078\\\\\n\\end{tabular}\n",
            "text/markdown": "\nA tibble: 2 × 2\n\n| pollster &lt;fct&gt; | s &lt;dbl&gt; |\n|---|---|\n| Rasmussen Reports/Pulse Opinion Research | 0.01768945 |\n| The Times-Picayune/Lucid                 | 0.02678078 |\n\n",
            "text/html": [
              "<table>\n",
              "<caption>A tibble: 2 × 2</caption>\n",
              "<thead>\n",
              "\t<tr><th scope=col>pollster</th><th scope=col>s</th></tr>\n",
              "\t<tr><th scope=col>&lt;fct&gt;</th><th scope=col>&lt;dbl&gt;</th></tr>\n",
              "</thead>\n",
              "<tbody>\n",
              "\t<tr><td>Rasmussen Reports/Pulse Opinion Research</td><td>0.01768945</td></tr>\n",
              "\t<tr><td>The Times-Picayune/Lucid                </td><td>0.02678078</td></tr>\n",
              "</tbody>\n",
              "</table>\n"
            ]
          },
          "metadata": {
            "tags": []
          }
        }
      ]
    },
    {
      "cell_type": "markdown",
      "metadata": {
        "id": "ASB6QeoUT8q2"
      },
      "source": [
        "Exercise 14 - Probability Distribution of the Spread\r\n",
        "\r\n",
        "What does the central limit theorem tell us about the distribution of the differences between the pollster averages, $\\overline{Y_{2}}- \\overline{Y_{1}}$ \r\n",
        "?"
      ]
    },
    {
      "cell_type": "markdown",
      "metadata": {
        "id": "9Q6Ik1x_UM4m"
      },
      "source": [
        "If we assume $N_{2}$\r\n",
        " and $N_{1}$\r\n",
        " are large enough,  $\\overline{Y_{2}}$\r\n",
        " and  $\\overline{Y_{1}}$\r\n",
        ", and their difference, are approximately normal."
      ]
    },
    {
      "cell_type": "markdown",
      "metadata": {
        "id": "2SD2IWnAVxqZ"
      },
      "source": [
        "Exercise 15 - Calculate the 95% Confidence Interval of the Spreads\r\n",
        "\r\n",
        "We have constructed a random variable that has expected value $b_{2}-b_{1}$\r\n",
        ", the pollster bias difference. If our model holds, then this random variable has an approximately normal distribution. The standard error of this random variable depends on $\\sigma_{1}$\r\n",
        " and $\\sigma_{2\r\n",
        " }$\r\n",
        ", but we can use the sample standard deviations we computed earlier. We have everything we need to answer our initial question: is  $b_{2}-b_{1}$\r\n",
        " different from 0?\r\n",
        "\r\n",
        "Construct a 95% confidence interval for the difference \r\n",
        "  $b_{2}$and $b_{1}$\r\n",
        ". Does this interval contain zero?\r\n"
      ]
    },
    {
      "cell_type": "code",
      "metadata": {
        "colab": {
          "base_uri": "https://localhost:8080/",
          "height": 201
        },
        "id": "LoVD90QdVw13",
        "outputId": "4e0f959f-06e3-405d-f204-541db6c10fb3"
      },
      "source": [
        "# The `polls` data have already been loaded for you. Use the `head` function to examine them.\r\n",
        "#head(polls)\r\n",
        "\r\n",
        "# Create an object called `res` that summarizes the average, standard deviation, and number of polls for the two pollsters.\r\n",
        "res <- polls %>% group_by(pollster) %>% summarize(avg=mean(spread), s = sd(spread), N=n())\r\n",
        "res\r\n",
        "\r\n",
        "\r\n",
        "# Store the difference between the larger average and the smaller in a variable called `estimate`. Print this value to the console.\r\n",
        "estimate <- max(res$avg)-min(res$avg)\r\n",
        "estimate\r\n",
        "\r\n",
        "\r\n",
        "\r\n",
        "# Store the standard error of the estimates as a variable called `se_hat`. Print this value to the console.\r\n",
        "se_hat <- sqrt(res$s[2]^2/res$N[2] + res$s[1]^2/res$N[1])\r\n",
        "se_hat\r\n",
        "\r\n",
        "\r\n",
        "# Calculate the 95% confidence interval of the spreads. Save the lower and then the upper confidence interval to a variable called `ci`.\r\n",
        "ci <- c(estimate - qnorm(0.975)*se_hat, estimate + qnorm(0.975)*se_hat)\r\n",
        "ci\r\n"
      ],
      "execution_count": 83,
      "outputs": [
        {
          "output_type": "stream",
          "text": [
            "`summarise()` ungrouping output (override with `.groups` argument)\n",
            "\n"
          ],
          "name": "stderr"
        },
        {
          "output_type": "display_data",
          "data": {
            "text/plain": [
              "  pollster                                 avg        s          N \n",
              "1 Rasmussen Reports/Pulse Opinion Research 0.00062500 0.01768945 16\n",
              "2 The Times-Picayune/Lucid                 0.05291667 0.02678078 24"
            ],
            "text/latex": "A tibble: 2 × 4\n\\begin{tabular}{llll}\n pollster & avg & s & N\\\\\n <fct> & <dbl> & <dbl> & <int>\\\\\n\\hline\n\t Rasmussen Reports/Pulse Opinion Research & 0.00062500 & 0.01768945 & 16\\\\\n\t The Times-Picayune/Lucid                 & 0.05291667 & 0.02678078 & 24\\\\\n\\end{tabular}\n",
            "text/markdown": "\nA tibble: 2 × 4\n\n| pollster &lt;fct&gt; | avg &lt;dbl&gt; | s &lt;dbl&gt; | N &lt;int&gt; |\n|---|---|---|---|\n| Rasmussen Reports/Pulse Opinion Research | 0.00062500 | 0.01768945 | 16 |\n| The Times-Picayune/Lucid                 | 0.05291667 | 0.02678078 | 24 |\n\n",
            "text/html": [
              "<table>\n",
              "<caption>A tibble: 2 × 4</caption>\n",
              "<thead>\n",
              "\t<tr><th scope=col>pollster</th><th scope=col>avg</th><th scope=col>s</th><th scope=col>N</th></tr>\n",
              "\t<tr><th scope=col>&lt;fct&gt;</th><th scope=col>&lt;dbl&gt;</th><th scope=col>&lt;dbl&gt;</th><th scope=col>&lt;int&gt;</th></tr>\n",
              "</thead>\n",
              "<tbody>\n",
              "\t<tr><td>Rasmussen Reports/Pulse Opinion Research</td><td>0.00062500</td><td>0.01768945</td><td>16</td></tr>\n",
              "\t<tr><td>The Times-Picayune/Lucid                </td><td>0.05291667</td><td>0.02678078</td><td>24</td></tr>\n",
              "</tbody>\n",
              "</table>\n"
            ]
          },
          "metadata": {
            "tags": []
          }
        },
        {
          "output_type": "display_data",
          "data": {
            "text/plain": [
              "[1] 0.05229167"
            ],
            "text/latex": "0.0522916666666667",
            "text/markdown": "0.0522916666666667",
            "text/html": [
              "0.0522916666666667"
            ]
          },
          "metadata": {
            "tags": []
          }
        },
        {
          "output_type": "display_data",
          "data": {
            "text/plain": [
              "[1] 0.007031433"
            ],
            "text/latex": "0.0070314328344452",
            "text/markdown": "0.0070314328344452",
            "text/html": [
              "0.0070314328344452"
            ]
          },
          "metadata": {
            "tags": []
          }
        },
        {
          "output_type": "display_data",
          "data": {
            "text/plain": [
              "[1] 0.03851031 0.06607302"
            ],
            "text/latex": "\\begin{enumerate*}\n\\item 0.0385103115514417\n\\item 0.0660730217818916\n\\end{enumerate*}\n",
            "text/markdown": "1. 0.0385103115514417\n2. 0.0660730217818916\n\n\n",
            "text/html": [
              "<style>\n",
              ".list-inline {list-style: none; margin:0; padding: 0}\n",
              ".list-inline>li {display: inline-block}\n",
              ".list-inline>li:not(:last-child)::after {content: \"\\00b7\"; padding: 0 .5ex}\n",
              "</style>\n",
              "<ol class=list-inline><li>0.0385103115514417</li><li>0.0660730217818916</li></ol>\n"
            ]
          },
          "metadata": {
            "tags": []
          }
        }
      ]
    },
    {
      "cell_type": "markdown",
      "metadata": {
        "id": "a33Njh69UdA-"
      },
      "source": [
        "Exercise 16 - Calculate the P-value\r\n",
        "\r\n",
        "\r\n",
        "The confidence interval tells us there is relatively strong pollster effect resulting in a difference of about 5%. Random variability does not seem to explain it.\r\n",
        "\r\n",
        "Compute a p-value to relay the fact that chance does not explain the observed pollster effect."
      ]
    },
    {
      "cell_type": "code",
      "metadata": {
        "colab": {
          "base_uri": "https://localhost:8080/",
          "height": 167
        },
        "id": "JXbpDXERZdtw",
        "outputId": "29b52abd-ff5f-4cac-9ea4-6efeafdebf62"
      },
      "source": [
        "# We made an object `res` to summarize the average, standard deviation, and number of polls for the two pollsters.\r\n",
        "res <- polls %>% group_by(pollster) %>% \r\n",
        "  summarize(avg = mean(spread), s = sd(spread), N = n()) \r\n",
        "res\r\n",
        "# The variables `estimate` and `se_hat` contain the spread estimates and standard error, respectively.\r\n",
        "estimate <- res$avg[2] - res$avg[1]\r\n",
        "se_hat <- sqrt(res$s[2]^2/res$N[2] + res$s[1]^2/res$N[1])\r\n",
        "\r\n",
        "# Calculate the p-value\r\n",
        "2 * (1 - pnorm(estimate / se_hat, 0, 1))"
      ],
      "execution_count": 85,
      "outputs": [
        {
          "output_type": "stream",
          "text": [
            "`summarise()` ungrouping output (override with `.groups` argument)\n",
            "\n"
          ],
          "name": "stderr"
        },
        {
          "output_type": "display_data",
          "data": {
            "text/plain": [
              "  pollster                                 avg        s          N \n",
              "1 Rasmussen Reports/Pulse Opinion Research 0.00062500 0.01768945 16\n",
              "2 The Times-Picayune/Lucid                 0.05291667 0.02678078 24"
            ],
            "text/latex": "A tibble: 2 × 4\n\\begin{tabular}{llll}\n pollster & avg & s & N\\\\\n <fct> & <dbl> & <dbl> & <int>\\\\\n\\hline\n\t Rasmussen Reports/Pulse Opinion Research & 0.00062500 & 0.01768945 & 16\\\\\n\t The Times-Picayune/Lucid                 & 0.05291667 & 0.02678078 & 24\\\\\n\\end{tabular}\n",
            "text/markdown": "\nA tibble: 2 × 4\n\n| pollster &lt;fct&gt; | avg &lt;dbl&gt; | s &lt;dbl&gt; | N &lt;int&gt; |\n|---|---|---|---|\n| Rasmussen Reports/Pulse Opinion Research | 0.00062500 | 0.01768945 | 16 |\n| The Times-Picayune/Lucid                 | 0.05291667 | 0.02678078 | 24 |\n\n",
            "text/html": [
              "<table>\n",
              "<caption>A tibble: 2 × 4</caption>\n",
              "<thead>\n",
              "\t<tr><th scope=col>pollster</th><th scope=col>avg</th><th scope=col>s</th><th scope=col>N</th></tr>\n",
              "\t<tr><th scope=col>&lt;fct&gt;</th><th scope=col>&lt;dbl&gt;</th><th scope=col>&lt;dbl&gt;</th><th scope=col>&lt;int&gt;</th></tr>\n",
              "</thead>\n",
              "<tbody>\n",
              "\t<tr><td>Rasmussen Reports/Pulse Opinion Research</td><td>0.00062500</td><td>0.01768945</td><td>16</td></tr>\n",
              "\t<tr><td>The Times-Picayune/Lucid                </td><td>0.05291667</td><td>0.02678078</td><td>24</td></tr>\n",
              "</tbody>\n",
              "</table>\n"
            ]
          },
          "metadata": {
            "tags": []
          }
        },
        {
          "output_type": "display_data",
          "data": {
            "text/plain": [
              "[1] 1.030287e-13"
            ],
            "text/latex": "1.03028696685215e-13",
            "text/markdown": "1.03028696685215e-13",
            "text/html": [
              "1.03028696685215e-13"
            ]
          },
          "metadata": {
            "tags": []
          }
        }
      ]
    },
    {
      "cell_type": "markdown",
      "metadata": {
        "id": "PgjPz0gjaREm"
      },
      "source": [
        "Exercise 17 - Comparing Within-Poll and Between-Poll Variability\r\n",
        "\r\n",
        "We compute statistic called the t-statistic by dividing our estimate of $b_{2}-b_{1}$\r\n",
        " by its estimated standard error:\r\n",
        "$\\frac{\\overline{Y_{2}}-\\overline{Y_{1}}}{\\sqrt{s_{2}^{2}/N_{2}+s_{1}^{2}/N_{1}}}$\r\n",
        " \r\n",
        "Later we learn will learn of another approximation for the distribution of this statistic for values of $N_{1}$\r\n",
        " and $N_{2}$\r\n",
        " that aren't large enough for the CLT.\r\n",
        "\r\n",
        "Note that our data has more than two pollsters. We can also test for pollster effect using all pollsters, not just two. The idea is to compare the variability across polls to variability within polls. We can construct statistics to test for effects and approximate their distribution. The area of statistics that does this is called Analysis of Variance or ANOVA. We do not cover it here, but ANOVA provides a very useful set of tools to answer questions such as: is there a pollster effect?\r\n",
        "\r\n",
        "Compute the average and standard deviation for each pollster and examine the variability across the averages and how it compares to the variability within the pollsters, summarized by the standard deviation."
      ]
    },
    {
      "cell_type": "code",
      "metadata": {
        "colab": {
          "base_uri": "https://localhost:8080/",
          "height": 330
        },
        "id": "rcR9tp8xbDdn",
        "outputId": "b307f766-2d70-4ad4-a73c-c5d327a667f2"
      },
      "source": [
        "# Execute the following lines of code to filter the polling data and calculate the spread\r\n",
        "polls <- polls_us_election_2016 %>% \r\n",
        "  filter(enddate >= \"2016-10-15\" &\r\n",
        "           state == \"U.S.\") %>%\r\n",
        "  group_by(pollster) %>%\r\n",
        "  filter(n() >= 5) %>% \r\n",
        "  mutate(spread = rawpoll_clinton/100 - rawpoll_trump/100) %>%\r\n",
        "  ungroup()\r\n",
        "\r\n",
        "# Create an object called `var` that contains columns for the pollster, mean spread, and standard deviation. Print the contents of this object to the console.\r\n",
        "var <- polls %>% group_by(pollster) %>% summarize(avg = mean(spread), s = sd(spread))\r\n",
        "var\r\n",
        "\r\n",
        "\r\n"
      ],
      "execution_count": 86,
      "outputs": [
        {
          "output_type": "stream",
          "text": [
            "`summarise()` ungrouping output (override with `.groups` argument)\n",
            "\n"
          ],
          "name": "stderr"
        },
        {
          "output_type": "display_data",
          "data": {
            "text/plain": [
              "   pollster                                 avg          s          \n",
              "1  ABC News/Washington Post                  0.037333333 0.033904628\n",
              "2  CVOTER International                      0.027895455 0.017975499\n",
              "3  Google Consumer Surveys                   0.030280000 0.018476390\n",
              "4  Gravis Marketing                          0.016000000 0.015165751\n",
              "5  IBD/TIPP                                  0.001047619 0.016832933\n",
              "6  Ipsos                                     0.055272727 0.019464698\n",
              "7  Morning Consult                           0.041428571 0.014638501\n",
              "8  Rasmussen Reports/Pulse Opinion Research  0.000625000 0.017689451\n",
              "9  The Times-Picayune/Lucid                  0.052916667 0.026780779\n",
              "10 USC Dornsife/LA Times                    -0.021320833 0.020661474\n",
              "11 YouGov                                    0.039800000 0.007085196"
            ],
            "text/latex": "A tibble: 11 × 3\n\\begin{tabular}{lll}\n pollster & avg & s\\\\\n <fct> & <dbl> & <dbl>\\\\\n\\hline\n\t ABC News/Washington Post                 &  0.037333333 & 0.033904628\\\\\n\t CVOTER International                     &  0.027895455 & 0.017975499\\\\\n\t Google Consumer Surveys                  &  0.030280000 & 0.018476390\\\\\n\t Gravis Marketing                         &  0.016000000 & 0.015165751\\\\\n\t IBD/TIPP                                 &  0.001047619 & 0.016832933\\\\\n\t Ipsos                                    &  0.055272727 & 0.019464698\\\\\n\t Morning Consult                          &  0.041428571 & 0.014638501\\\\\n\t Rasmussen Reports/Pulse Opinion Research &  0.000625000 & 0.017689451\\\\\n\t The Times-Picayune/Lucid                 &  0.052916667 & 0.026780779\\\\\n\t USC Dornsife/LA Times                    & -0.021320833 & 0.020661474\\\\\n\t YouGov                                   &  0.039800000 & 0.007085196\\\\\n\\end{tabular}\n",
            "text/markdown": "\nA tibble: 11 × 3\n\n| pollster &lt;fct&gt; | avg &lt;dbl&gt; | s &lt;dbl&gt; |\n|---|---|---|\n| ABC News/Washington Post                 |  0.037333333 | 0.033904628 |\n| CVOTER International                     |  0.027895455 | 0.017975499 |\n| Google Consumer Surveys                  |  0.030280000 | 0.018476390 |\n| Gravis Marketing                         |  0.016000000 | 0.015165751 |\n| IBD/TIPP                                 |  0.001047619 | 0.016832933 |\n| Ipsos                                    |  0.055272727 | 0.019464698 |\n| Morning Consult                          |  0.041428571 | 0.014638501 |\n| Rasmussen Reports/Pulse Opinion Research |  0.000625000 | 0.017689451 |\n| The Times-Picayune/Lucid                 |  0.052916667 | 0.026780779 |\n| USC Dornsife/LA Times                    | -0.021320833 | 0.020661474 |\n| YouGov                                   |  0.039800000 | 0.007085196 |\n\n",
            "text/html": [
              "<table>\n",
              "<caption>A tibble: 11 × 3</caption>\n",
              "<thead>\n",
              "\t<tr><th scope=col>pollster</th><th scope=col>avg</th><th scope=col>s</th></tr>\n",
              "\t<tr><th scope=col>&lt;fct&gt;</th><th scope=col>&lt;dbl&gt;</th><th scope=col>&lt;dbl&gt;</th></tr>\n",
              "</thead>\n",
              "<tbody>\n",
              "\t<tr><td>ABC News/Washington Post                </td><td> 0.037333333</td><td>0.033904628</td></tr>\n",
              "\t<tr><td>CVOTER International                    </td><td> 0.027895455</td><td>0.017975499</td></tr>\n",
              "\t<tr><td>Google Consumer Surveys                 </td><td> 0.030280000</td><td>0.018476390</td></tr>\n",
              "\t<tr><td>Gravis Marketing                        </td><td> 0.016000000</td><td>0.015165751</td></tr>\n",
              "\t<tr><td>IBD/TIPP                                </td><td> 0.001047619</td><td>0.016832933</td></tr>\n",
              "\t<tr><td>Ipsos                                   </td><td> 0.055272727</td><td>0.019464698</td></tr>\n",
              "\t<tr><td>Morning Consult                         </td><td> 0.041428571</td><td>0.014638501</td></tr>\n",
              "\t<tr><td>Rasmussen Reports/Pulse Opinion Research</td><td> 0.000625000</td><td>0.017689451</td></tr>\n",
              "\t<tr><td>The Times-Picayune/Lucid                </td><td> 0.052916667</td><td>0.026780779</td></tr>\n",
              "\t<tr><td>USC Dornsife/LA Times                   </td><td>-0.021320833</td><td>0.020661474</td></tr>\n",
              "\t<tr><td>YouGov                                  </td><td> 0.039800000</td><td>0.007085196</td></tr>\n",
              "</tbody>\n",
              "</table>\n"
            ]
          },
          "metadata": {
            "tags": []
          }
        }
      ]
    }
  ]
}