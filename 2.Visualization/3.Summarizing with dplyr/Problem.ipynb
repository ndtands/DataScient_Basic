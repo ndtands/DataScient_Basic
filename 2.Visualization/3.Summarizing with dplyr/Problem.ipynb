{
  "nbformat": 4,
  "nbformat_minor": 0,
  "metadata": {
    "colab": {
      "name": "Problem.ipynb",
      "provenance": [],
      "collapsed_sections": []
    },
    "kernelspec": {
      "name": "ir",
      "display_name": "R"
    },
    "accelerator": "GPU"
  },
  "cells": [
    {
      "cell_type": "markdown",
      "metadata": {
        "id": "fkeo4GHXfizy"
      },
      "source": [
        "#Practice Exercise. National Center for Health Statistics\n",
        "Exercise 1. Blood pressure 1"
      ]
    },
    {
      "cell_type": "code",
      "metadata": {
        "colab": {
          "base_uri": "https://localhost:8080/",
          "height": 335
        },
        "id": "kMc_u2KIfg4q",
        "outputId": "de792d68-ba24-4cf2-957c-0ebb77e55f63"
      },
      "source": [
        "install.packages(\"NHANES\")\n",
        "library(dplyr)\n",
        "library(NHANES)\n",
        "head(NHANES)\n",
        "## fill in what is needed\n",
        "tab <- NHANES %>% filter(AgeDecade==\" 20-29\" & Gender==\"female\")"
      ],
      "execution_count": 24,
      "outputs": [
        {
          "output_type": "stream",
          "text": [
            "Installing package into ‘/usr/local/lib/R/site-library’\n",
            "(as ‘lib’ is unspecified)\n",
            "\n"
          ],
          "name": "stderr"
        },
        {
          "output_type": "display_data",
          "data": {
            "text/plain": [
              "  ID    SurveyYr Gender Age AgeDecade AgeMonths Race1 Race3 Education   \n",
              "1 51624 2009_10  male   34   30-39    409       White NA    High School \n",
              "2 51624 2009_10  male   34   30-39    409       White NA    High School \n",
              "3 51624 2009_10  male   34   30-39    409       White NA    High School \n",
              "4 51625 2009_10  male    4   0-9       49       Other NA    NA          \n",
              "5 51630 2009_10  female 49   40-49    596       White NA    Some College\n",
              "6 51638 2009_10  male    9   0-9      115       White NA    NA          \n",
              "  MaritalStatus ⋯ RegularMarij AgeRegMarij HardDrugs SexEver SexAge\n",
              "1 Married       ⋯ No           NA          Yes       Yes     16    \n",
              "2 Married       ⋯ No           NA          Yes       Yes     16    \n",
              "3 Married       ⋯ No           NA          Yes       Yes     16    \n",
              "4 NA            ⋯ NA           NA          NA        NA      NA    \n",
              "5 LivePartner   ⋯ No           NA          Yes       Yes     12    \n",
              "6 NA            ⋯ NA           NA          NA        NA      NA    \n",
              "  SexNumPartnLife SexNumPartYear SameSex SexOrientation PregnantNow\n",
              "1  8               1             No      Heterosexual   NA         \n",
              "2  8               1             No      Heterosexual   NA         \n",
              "3  8               1             No      Heterosexual   NA         \n",
              "4 NA              NA             NA      NA             NA         \n",
              "5 10               1             Yes     Heterosexual   NA         \n",
              "6 NA              NA             NA      NA             NA         "
            ],
            "text/latex": "A tibble: 6 × 76\n\\begin{tabular}{lllllllllllllllllllll}\n ID & SurveyYr & Gender & Age & AgeDecade & AgeMonths & Race1 & Race3 & Education & MaritalStatus & ⋯ & RegularMarij & AgeRegMarij & HardDrugs & SexEver & SexAge & SexNumPartnLife & SexNumPartYear & SameSex & SexOrientation & PregnantNow\\\\\n <int> & <fct> & <fct> & <int> & <fct> & <int> & <fct> & <fct> & <fct> & <fct> & ⋯ & <fct> & <int> & <fct> & <fct> & <int> & <int> & <int> & <fct> & <fct> & <fct>\\\\\n\\hline\n\t 51624 & 2009\\_10 & male   & 34 &  30-39 & 409 & White & NA & High School  & Married     & ⋯ & No & NA & Yes & Yes & 16 &  8 &  1 & No  & Heterosexual & NA\\\\\n\t 51624 & 2009\\_10 & male   & 34 &  30-39 & 409 & White & NA & High School  & Married     & ⋯ & No & NA & Yes & Yes & 16 &  8 &  1 & No  & Heterosexual & NA\\\\\n\t 51624 & 2009\\_10 & male   & 34 &  30-39 & 409 & White & NA & High School  & Married     & ⋯ & No & NA & Yes & Yes & 16 &  8 &  1 & No  & Heterosexual & NA\\\\\n\t 51625 & 2009\\_10 & male   &  4 &  0-9   &  49 & Other & NA & NA           & NA          & ⋯ & NA & NA & NA  & NA  & NA & NA & NA & NA  & NA           & NA\\\\\n\t 51630 & 2009\\_10 & female & 49 &  40-49 & 596 & White & NA & Some College & LivePartner & ⋯ & No & NA & Yes & Yes & 12 & 10 &  1 & Yes & Heterosexual & NA\\\\\n\t 51638 & 2009\\_10 & male   &  9 &  0-9   & 115 & White & NA & NA           & NA          & ⋯ & NA & NA & NA  & NA  & NA & NA & NA & NA  & NA           & NA\\\\\n\\end{tabular}\n",
            "text/markdown": "\nA tibble: 6 × 76\n\n| ID &lt;int&gt; | SurveyYr &lt;fct&gt; | Gender &lt;fct&gt; | Age &lt;int&gt; | AgeDecade &lt;fct&gt; | AgeMonths &lt;int&gt; | Race1 &lt;fct&gt; | Race3 &lt;fct&gt; | Education &lt;fct&gt; | MaritalStatus &lt;fct&gt; | ⋯ ⋯ | RegularMarij &lt;fct&gt; | AgeRegMarij &lt;int&gt; | HardDrugs &lt;fct&gt; | SexEver &lt;fct&gt; | SexAge &lt;int&gt; | SexNumPartnLife &lt;int&gt; | SexNumPartYear &lt;int&gt; | SameSex &lt;fct&gt; | SexOrientation &lt;fct&gt; | PregnantNow &lt;fct&gt; |\n|---|---|---|---|---|---|---|---|---|---|---|---|---|---|---|---|---|---|---|---|---|\n| 51624 | 2009_10 | male   | 34 |  30-39 | 409 | White | NA | High School  | Married     | ⋯ | No | NA | Yes | Yes | 16 |  8 |  1 | No  | Heterosexual | NA |\n| 51624 | 2009_10 | male   | 34 |  30-39 | 409 | White | NA | High School  | Married     | ⋯ | No | NA | Yes | Yes | 16 |  8 |  1 | No  | Heterosexual | NA |\n| 51624 | 2009_10 | male   | 34 |  30-39 | 409 | White | NA | High School  | Married     | ⋯ | No | NA | Yes | Yes | 16 |  8 |  1 | No  | Heterosexual | NA |\n| 51625 | 2009_10 | male   |  4 |  0-9   |  49 | Other | NA | NA           | NA          | ⋯ | NA | NA | NA  | NA  | NA | NA | NA | NA  | NA           | NA |\n| 51630 | 2009_10 | female | 49 |  40-49 | 596 | White | NA | Some College | LivePartner | ⋯ | No | NA | Yes | Yes | 12 | 10 |  1 | Yes | Heterosexual | NA |\n| 51638 | 2009_10 | male   |  9 |  0-9   | 115 | White | NA | NA           | NA          | ⋯ | NA | NA | NA  | NA  | NA | NA | NA | NA  | NA           | NA |\n\n",
            "text/html": [
              "<table>\n",
              "<caption>A tibble: 6 × 76</caption>\n",
              "<thead>\n",
              "\t<tr><th scope=col>ID</th><th scope=col>SurveyYr</th><th scope=col>Gender</th><th scope=col>Age</th><th scope=col>AgeDecade</th><th scope=col>AgeMonths</th><th scope=col>Race1</th><th scope=col>Race3</th><th scope=col>Education</th><th scope=col>MaritalStatus</th><th scope=col>⋯</th><th scope=col>RegularMarij</th><th scope=col>AgeRegMarij</th><th scope=col>HardDrugs</th><th scope=col>SexEver</th><th scope=col>SexAge</th><th scope=col>SexNumPartnLife</th><th scope=col>SexNumPartYear</th><th scope=col>SameSex</th><th scope=col>SexOrientation</th><th scope=col>PregnantNow</th></tr>\n",
              "\t<tr><th scope=col>&lt;int&gt;</th><th scope=col>&lt;fct&gt;</th><th scope=col>&lt;fct&gt;</th><th scope=col>&lt;int&gt;</th><th scope=col>&lt;fct&gt;</th><th scope=col>&lt;int&gt;</th><th scope=col>&lt;fct&gt;</th><th scope=col>&lt;fct&gt;</th><th scope=col>&lt;fct&gt;</th><th scope=col>&lt;fct&gt;</th><th scope=col>⋯</th><th scope=col>&lt;fct&gt;</th><th scope=col>&lt;int&gt;</th><th scope=col>&lt;fct&gt;</th><th scope=col>&lt;fct&gt;</th><th scope=col>&lt;int&gt;</th><th scope=col>&lt;int&gt;</th><th scope=col>&lt;int&gt;</th><th scope=col>&lt;fct&gt;</th><th scope=col>&lt;fct&gt;</th><th scope=col>&lt;fct&gt;</th></tr>\n",
              "</thead>\n",
              "<tbody>\n",
              "\t<tr><td>51624</td><td>2009_10</td><td>male  </td><td>34</td><td> 30-39</td><td>409</td><td>White</td><td>NA</td><td>High School </td><td>Married    </td><td>⋯</td><td>No</td><td>NA</td><td>Yes</td><td>Yes</td><td>16</td><td> 8</td><td> 1</td><td>No </td><td>Heterosexual</td><td>NA</td></tr>\n",
              "\t<tr><td>51624</td><td>2009_10</td><td>male  </td><td>34</td><td> 30-39</td><td>409</td><td>White</td><td>NA</td><td>High School </td><td>Married    </td><td>⋯</td><td>No</td><td>NA</td><td>Yes</td><td>Yes</td><td>16</td><td> 8</td><td> 1</td><td>No </td><td>Heterosexual</td><td>NA</td></tr>\n",
              "\t<tr><td>51624</td><td>2009_10</td><td>male  </td><td>34</td><td> 30-39</td><td>409</td><td>White</td><td>NA</td><td>High School </td><td>Married    </td><td>⋯</td><td>No</td><td>NA</td><td>Yes</td><td>Yes</td><td>16</td><td> 8</td><td> 1</td><td>No </td><td>Heterosexual</td><td>NA</td></tr>\n",
              "\t<tr><td>51625</td><td>2009_10</td><td>male  </td><td> 4</td><td> 0-9  </td><td> 49</td><td>Other</td><td>NA</td><td>NA          </td><td>NA         </td><td>⋯</td><td>NA</td><td>NA</td><td>NA </td><td>NA </td><td>NA</td><td>NA</td><td>NA</td><td>NA </td><td>NA          </td><td>NA</td></tr>\n",
              "\t<tr><td>51630</td><td>2009_10</td><td>female</td><td>49</td><td> 40-49</td><td>596</td><td>White</td><td>NA</td><td>Some College</td><td>LivePartner</td><td>⋯</td><td>No</td><td>NA</td><td>Yes</td><td>Yes</td><td>12</td><td>10</td><td> 1</td><td>Yes</td><td>Heterosexual</td><td>NA</td></tr>\n",
              "\t<tr><td>51638</td><td>2009_10</td><td>male  </td><td> 9</td><td> 0-9  </td><td>115</td><td>White</td><td>NA</td><td>NA          </td><td>NA         </td><td>⋯</td><td>NA</td><td>NA</td><td>NA </td><td>NA </td><td>NA</td><td>NA</td><td>NA</td><td>NA </td><td>NA          </td><td>NA</td></tr>\n",
              "</tbody>\n",
              "</table>\n"
            ]
          },
          "metadata": {
            "tags": []
          }
        }
      ]
    },
    {
      "cell_type": "markdown",
      "metadata": {
        "id": "Bbmuactqfhkn"
      },
      "source": [
        "Exercise 2. Blood pressure 2\n"
      ]
    },
    {
      "cell_type": "code",
      "metadata": {
        "colab": {
          "base_uri": "https://localhost:8080/",
          "height": 95
        },
        "id": "xr8WPdFCf9hV",
        "outputId": "59322b31-7021-4224-a01c-e510c697ef45"
      },
      "source": [
        "\n",
        "## complete this line of code.\n",
        "ref <- NHANES %>% filter(AgeDecade == \" 20-29\" & Gender == \"female\") %>%summarize(average = mean(BPSysAve,na.rm=TRUE),standard_deviation=sd(BPSysAve,na.rm=TRUE))\n",
        "ref"
      ],
      "execution_count": 26,
      "outputs": [
        {
          "output_type": "display_data",
          "data": {
            "text/plain": [
              "  average  standard_deviation\n",
              "1 108.4224 10.14668          "
            ],
            "text/latex": "A tibble: 1 × 2\n\\begin{tabular}{ll}\n average & standard\\_deviation\\\\\n <dbl> & <dbl>\\\\\n\\hline\n\t 108.4224 & 10.14668\\\\\n\\end{tabular}\n",
            "text/markdown": "\nA tibble: 1 × 2\n\n| average &lt;dbl&gt; | standard_deviation &lt;dbl&gt; |\n|---|---|\n| 108.4224 | 10.14668 |\n\n",
            "text/html": [
              "<table>\n",
              "<caption>A tibble: 1 × 2</caption>\n",
              "<thead>\n",
              "\t<tr><th scope=col>average</th><th scope=col>standard_deviation</th></tr>\n",
              "\t<tr><th scope=col>&lt;dbl&gt;</th><th scope=col>&lt;dbl&gt;</th></tr>\n",
              "</thead>\n",
              "<tbody>\n",
              "\t<tr><td>108.4224</td><td>10.14668</td></tr>\n",
              "</tbody>\n",
              "</table>\n"
            ]
          },
          "metadata": {
            "tags": []
          }
        }
      ]
    },
    {
      "cell_type": "markdown",
      "metadata": {
        "id": "OmU_MzhcgLi2"
      },
      "source": [
        "Exercise 3. Summarizing averages"
      ]
    },
    {
      "cell_type": "code",
      "metadata": {
        "colab": {
          "base_uri": "https://localhost:8080/",
          "height": 34
        },
        "id": "akFQT5aKgMH0",
        "outputId": "23c9681b-8888-44f4-85a0-41fc131d3012"
      },
      "source": [
        "library(dplyr)\n",
        "library(NHANES)\n",
        "data(NHANES)\n",
        "## modify the code we wrote for previous exercise.\n",
        "ref_avg <- NHANES %>%\n",
        "  filter(AgeDecade == \" 20-29\" & Gender == \"female\") %>%\n",
        "  summarize(average = mean(BPSysAve, na.rm = TRUE), \n",
        "            standard_deviation = sd(BPSysAve, na.rm=TRUE))%>%pull(average)\n",
        "ref_avg"
      ],
      "execution_count": 27,
      "outputs": [
        {
          "output_type": "display_data",
          "data": {
            "text/plain": [
              "[1] 108.4224"
            ],
            "text/latex": "108.42242703533",
            "text/markdown": "108.42242703533",
            "text/html": [
              "108.42242703533"
            ]
          },
          "metadata": {
            "tags": []
          }
        }
      ]
    },
    {
      "cell_type": "markdown",
      "metadata": {
        "id": "ZVn9YPaggXRQ"
      },
      "source": [
        "Exercise 4. Min and max"
      ]
    },
    {
      "cell_type": "code",
      "metadata": {
        "colab": {
          "base_uri": "https://localhost:8080/",
          "height": 95
        },
        "id": "a9LRdLDHgX6a",
        "outputId": "eaa992b2-1595-472b-dc69-97860f729c7c"
      },
      "source": [
        "data(NHANES)\n",
        "## complete the line\n",
        "NHANES %>%\n",
        "      filter(AgeDecade == \" 20-29\"  & Gender == \"female\") %>%\n",
        "      summarize(minbp=min(BPSysAve,na.rm=TRUE),maxbp=max(BPSysAve,na.rm=TRUE))\n"
      ],
      "execution_count": 28,
      "outputs": [
        {
          "output_type": "display_data",
          "data": {
            "text/plain": [
              "  minbp maxbp\n",
              "1 84    179  "
            ],
            "text/latex": "A tibble: 1 × 2\n\\begin{tabular}{ll}\n minbp & maxbp\\\\\n <int> & <int>\\\\\n\\hline\n\t 84 & 179\\\\\n\\end{tabular}\n",
            "text/markdown": "\nA tibble: 1 × 2\n\n| minbp &lt;int&gt; | maxbp &lt;int&gt; |\n|---|---|\n| 84 | 179 |\n\n",
            "text/html": [
              "<table>\n",
              "<caption>A tibble: 1 × 2</caption>\n",
              "<thead>\n",
              "\t<tr><th scope=col>minbp</th><th scope=col>maxbp</th></tr>\n",
              "\t<tr><th scope=col>&lt;int&gt;</th><th scope=col>&lt;int&gt;</th></tr>\n",
              "</thead>\n",
              "<tbody>\n",
              "\t<tr><td>84</td><td>179</td></tr>\n",
              "</tbody>\n",
              "</table>\n"
            ]
          },
          "metadata": {
            "tags": []
          }
        }
      ]
    },
    {
      "cell_type": "markdown",
      "metadata": {
        "id": "sFX00PVogc-4"
      },
      "source": [
        "Exercise 5. group_by"
      ]
    },
    {
      "cell_type": "code",
      "metadata": {
        "colab": {
          "base_uri": "https://localhost:8080/",
          "height": 290
        },
        "id": "5cy2OZ19ggPK",
        "outputId": "896fb726-5820-4d0c-b73e-6660ed47f3b8"
      },
      "source": [
        "##complete the line with group_by and summarize\n",
        "NHANES %>%\n",
        "      filter(Gender == \"female\") %>%group_by(AgeDecade) %>%\n",
        "      summarize(average=mean(BPSysAve,na.rm=TRUE),standard_deviation=sd(BPSysAve,na.rm=TRUE))"
      ],
      "execution_count": 29,
      "outputs": [
        {
          "output_type": "stream",
          "text": [
            "`summarise()` ungrouping output (override with `.groups` argument)\n",
            "\n"
          ],
          "name": "stderr"
        },
        {
          "output_type": "display_data",
          "data": {
            "text/plain": [
              "  AgeDecade average   standard_deviation\n",
              "1  0-9       99.95041  9.071798         \n",
              "2  10-19    104.27466  9.461431         \n",
              "3  20-29    108.42243 10.146681         \n",
              "4  30-39    111.25512 12.314790         \n",
              "5  40-49    115.49385 14.530054         \n",
              "6  50-59    121.84245 16.179333         \n",
              "7  60-69    127.17787 17.125713         \n",
              "8  70+      133.51652 19.841781         \n",
              "9 NA        141.54839 22.908521         "
            ],
            "text/latex": "A tibble: 9 × 3\n\\begin{tabular}{lll}\n AgeDecade & average & standard\\_deviation\\\\\n <fct> & <dbl> & <dbl>\\\\\n\\hline\n\t  0-9   &  99.95041 &  9.071798\\\\\n\t  10-19 & 104.27466 &  9.461431\\\\\n\t  20-29 & 108.42243 & 10.146681\\\\\n\t  30-39 & 111.25512 & 12.314790\\\\\n\t  40-49 & 115.49385 & 14.530054\\\\\n\t  50-59 & 121.84245 & 16.179333\\\\\n\t  60-69 & 127.17787 & 17.125713\\\\\n\t  70+   & 133.51652 & 19.841781\\\\\n\t NA     & 141.54839 & 22.908521\\\\\n\\end{tabular}\n",
            "text/markdown": "\nA tibble: 9 × 3\n\n| AgeDecade &lt;fct&gt; | average &lt;dbl&gt; | standard_deviation &lt;dbl&gt; |\n|---|---|---|\n|  0-9   |  99.95041 |  9.071798 |\n|  10-19 | 104.27466 |  9.461431 |\n|  20-29 | 108.42243 | 10.146681 |\n|  30-39 | 111.25512 | 12.314790 |\n|  40-49 | 115.49385 | 14.530054 |\n|  50-59 | 121.84245 | 16.179333 |\n|  60-69 | 127.17787 | 17.125713 |\n|  70+   | 133.51652 | 19.841781 |\n| NA     | 141.54839 | 22.908521 |\n\n",
            "text/html": [
              "<table>\n",
              "<caption>A tibble: 9 × 3</caption>\n",
              "<thead>\n",
              "\t<tr><th scope=col>AgeDecade</th><th scope=col>average</th><th scope=col>standard_deviation</th></tr>\n",
              "\t<tr><th scope=col>&lt;fct&gt;</th><th scope=col>&lt;dbl&gt;</th><th scope=col>&lt;dbl&gt;</th></tr>\n",
              "</thead>\n",
              "<tbody>\n",
              "\t<tr><td> 0-9  </td><td> 99.95041</td><td> 9.071798</td></tr>\n",
              "\t<tr><td> 10-19</td><td>104.27466</td><td> 9.461431</td></tr>\n",
              "\t<tr><td> 20-29</td><td>108.42243</td><td>10.146681</td></tr>\n",
              "\t<tr><td> 30-39</td><td>111.25512</td><td>12.314790</td></tr>\n",
              "\t<tr><td> 40-49</td><td>115.49385</td><td>14.530054</td></tr>\n",
              "\t<tr><td> 50-59</td><td>121.84245</td><td>16.179333</td></tr>\n",
              "\t<tr><td> 60-69</td><td>127.17787</td><td>17.125713</td></tr>\n",
              "\t<tr><td> 70+  </td><td>133.51652</td><td>19.841781</td></tr>\n",
              "\t<tr><td>NA    </td><td>141.54839</td><td>22.908521</td></tr>\n",
              "</tbody>\n",
              "</table>\n"
            ]
          },
          "metadata": {
            "tags": []
          }
        }
      ]
    },
    {
      "cell_type": "markdown",
      "metadata": {
        "id": "lbiHw4qWgrpt"
      },
      "source": [
        "Exercise 6. group_by example 2"
      ]
    },
    {
      "cell_type": "code",
      "metadata": {
        "colab": {
          "base_uri": "https://localhost:8080/",
          "height": 290
        },
        "id": "uKDmeH4pgtd9",
        "outputId": "3372d16b-0c53-4c10-c9b3-aa9b3c16d702"
      },
      "source": [
        "NHANES %>% \n",
        "      filter(Gender == \"male\") %>% group_by(AgeDecade) %>% summarize(average=mean(BPSysAve,na.rm=TRUE),standard_deviation = sd(BPSysAve,na.rm=TRUE))\n"
      ],
      "execution_count": 30,
      "outputs": [
        {
          "output_type": "stream",
          "text": [
            "`summarise()` ungrouping output (override with `.groups` argument)\n",
            "\n"
          ],
          "name": "stderr"
        },
        {
          "output_type": "display_data",
          "data": {
            "text/plain": [
              "  AgeDecade average   standard_deviation\n",
              "1  0-9       97.41912  8.317367         \n",
              "2  10-19    109.59789 11.227769         \n",
              "3  20-29    117.85084 11.274795         \n",
              "4  30-39    119.40063 12.306656         \n",
              "5  40-49    120.78390 13.968338         \n",
              "6  50-59    125.75000 17.760536         \n",
              "7  60-69    126.88578 17.478117         \n",
              "8  70+      130.20172 18.657475         \n",
              "9 NA        136.40000 23.534731         "
            ],
            "text/latex": "A tibble: 9 × 3\n\\begin{tabular}{lll}\n AgeDecade & average & standard\\_deviation\\\\\n <fct> & <dbl> & <dbl>\\\\\n\\hline\n\t  0-9   &  97.41912 &  8.317367\\\\\n\t  10-19 & 109.59789 & 11.227769\\\\\n\t  20-29 & 117.85084 & 11.274795\\\\\n\t  30-39 & 119.40063 & 12.306656\\\\\n\t  40-49 & 120.78390 & 13.968338\\\\\n\t  50-59 & 125.75000 & 17.760536\\\\\n\t  60-69 & 126.88578 & 17.478117\\\\\n\t  70+   & 130.20172 & 18.657475\\\\\n\t NA     & 136.40000 & 23.534731\\\\\n\\end{tabular}\n",
            "text/markdown": "\nA tibble: 9 × 3\n\n| AgeDecade &lt;fct&gt; | average &lt;dbl&gt; | standard_deviation &lt;dbl&gt; |\n|---|---|---|\n|  0-9   |  97.41912 |  8.317367 |\n|  10-19 | 109.59789 | 11.227769 |\n|  20-29 | 117.85084 | 11.274795 |\n|  30-39 | 119.40063 | 12.306656 |\n|  40-49 | 120.78390 | 13.968338 |\n|  50-59 | 125.75000 | 17.760536 |\n|  60-69 | 126.88578 | 17.478117 |\n|  70+   | 130.20172 | 18.657475 |\n| NA     | 136.40000 | 23.534731 |\n\n",
            "text/html": [
              "<table>\n",
              "<caption>A tibble: 9 × 3</caption>\n",
              "<thead>\n",
              "\t<tr><th scope=col>AgeDecade</th><th scope=col>average</th><th scope=col>standard_deviation</th></tr>\n",
              "\t<tr><th scope=col>&lt;fct&gt;</th><th scope=col>&lt;dbl&gt;</th><th scope=col>&lt;dbl&gt;</th></tr>\n",
              "</thead>\n",
              "<tbody>\n",
              "\t<tr><td> 0-9  </td><td> 97.41912</td><td> 8.317367</td></tr>\n",
              "\t<tr><td> 10-19</td><td>109.59789</td><td>11.227769</td></tr>\n",
              "\t<tr><td> 20-29</td><td>117.85084</td><td>11.274795</td></tr>\n",
              "\t<tr><td> 30-39</td><td>119.40063</td><td>12.306656</td></tr>\n",
              "\t<tr><td> 40-49</td><td>120.78390</td><td>13.968338</td></tr>\n",
              "\t<tr><td> 50-59</td><td>125.75000</td><td>17.760536</td></tr>\n",
              "\t<tr><td> 60-69</td><td>126.88578</td><td>17.478117</td></tr>\n",
              "\t<tr><td> 70+  </td><td>130.20172</td><td>18.657475</td></tr>\n",
              "\t<tr><td>NA    </td><td>136.40000</td><td>23.534731</td></tr>\n",
              "</tbody>\n",
              "</table>\n"
            ]
          },
          "metadata": {
            "tags": []
          }
        }
      ]
    },
    {
      "cell_type": "markdown",
      "metadata": {
        "id": "TjTB3Y0wgzoh"
      },
      "source": [
        "Exercise 7. group_by example 3"
      ]
    },
    {
      "cell_type": "code",
      "metadata": {
        "colab": {
          "base_uri": "https://localhost:8080/",
          "height": 490
        },
        "id": "NUQ8wzAxg2T7",
        "outputId": "2513cea9-e08f-4032-c98d-a7df2a515fb3"
      },
      "source": [
        "library(NHANES)\n",
        "data(NHANES)\n",
        "NHANES %>%\n",
        "       group_by(AgeDecade,Gender) %>% summarize(average=mean(BPSysAve,na.rm=TRUE),standard_deviation = sd(BPSysAve,na.rm=TRUE))"
      ],
      "execution_count": 31,
      "outputs": [
        {
          "output_type": "stream",
          "text": [
            "`summarise()` regrouping output by 'AgeDecade' (override with `.groups` argument)\n",
            "\n"
          ],
          "name": "stderr"
        },
        {
          "output_type": "display_data",
          "data": {
            "text/plain": [
              "   AgeDecade Gender average   standard_deviation\n",
              "1   0-9      female  99.95041  9.071798         \n",
              "2   0-9      male    97.41912  8.317367         \n",
              "3   10-19    female 104.27466  9.461431         \n",
              "4   10-19    male   109.59789 11.227769         \n",
              "5   20-29    female 108.42243 10.146681         \n",
              "6   20-29    male   117.85084 11.274795         \n",
              "7   30-39    female 111.25512 12.314790         \n",
              "8   30-39    male   119.40063 12.306656         \n",
              "9   40-49    female 115.49385 14.530054         \n",
              "10  40-49    male   120.78390 13.968338         \n",
              "11  50-59    female 121.84245 16.179333         \n",
              "12  50-59    male   125.75000 17.760536         \n",
              "13  60-69    female 127.17787 17.125713         \n",
              "14  60-69    male   126.88578 17.478117         \n",
              "15  70+      female 133.51652 19.841781         \n",
              "16  70+      male   130.20172 18.657475         \n",
              "17 NA        female 141.54839 22.908521         \n",
              "18 NA        male   136.40000 23.534731         "
            ],
            "text/latex": "A grouped\\_df: 18 × 4\n\\begin{tabular}{llll}\n AgeDecade & Gender & average & standard\\_deviation\\\\\n <fct> & <fct> & <dbl> & <dbl>\\\\\n\\hline\n\t  0-9   & female &  99.95041 &  9.071798\\\\\n\t  0-9   & male   &  97.41912 &  8.317367\\\\\n\t  10-19 & female & 104.27466 &  9.461431\\\\\n\t  10-19 & male   & 109.59789 & 11.227769\\\\\n\t  20-29 & female & 108.42243 & 10.146681\\\\\n\t  20-29 & male   & 117.85084 & 11.274795\\\\\n\t  30-39 & female & 111.25512 & 12.314790\\\\\n\t  30-39 & male   & 119.40063 & 12.306656\\\\\n\t  40-49 & female & 115.49385 & 14.530054\\\\\n\t  40-49 & male   & 120.78390 & 13.968338\\\\\n\t  50-59 & female & 121.84245 & 16.179333\\\\\n\t  50-59 & male   & 125.75000 & 17.760536\\\\\n\t  60-69 & female & 127.17787 & 17.125713\\\\\n\t  60-69 & male   & 126.88578 & 17.478117\\\\\n\t  70+   & female & 133.51652 & 19.841781\\\\\n\t  70+   & male   & 130.20172 & 18.657475\\\\\n\t NA     & female & 141.54839 & 22.908521\\\\\n\t NA     & male   & 136.40000 & 23.534731\\\\\n\\end{tabular}\n",
            "text/markdown": "\nA grouped_df: 18 × 4\n\n| AgeDecade &lt;fct&gt; | Gender &lt;fct&gt; | average &lt;dbl&gt; | standard_deviation &lt;dbl&gt; |\n|---|---|---|---|\n|  0-9   | female |  99.95041 |  9.071798 |\n|  0-9   | male   |  97.41912 |  8.317367 |\n|  10-19 | female | 104.27466 |  9.461431 |\n|  10-19 | male   | 109.59789 | 11.227769 |\n|  20-29 | female | 108.42243 | 10.146681 |\n|  20-29 | male   | 117.85084 | 11.274795 |\n|  30-39 | female | 111.25512 | 12.314790 |\n|  30-39 | male   | 119.40063 | 12.306656 |\n|  40-49 | female | 115.49385 | 14.530054 |\n|  40-49 | male   | 120.78390 | 13.968338 |\n|  50-59 | female | 121.84245 | 16.179333 |\n|  50-59 | male   | 125.75000 | 17.760536 |\n|  60-69 | female | 127.17787 | 17.125713 |\n|  60-69 | male   | 126.88578 | 17.478117 |\n|  70+   | female | 133.51652 | 19.841781 |\n|  70+   | male   | 130.20172 | 18.657475 |\n| NA     | female | 141.54839 | 22.908521 |\n| NA     | male   | 136.40000 | 23.534731 |\n\n",
            "text/html": [
              "<table>\n",
              "<caption>A grouped_df: 18 × 4</caption>\n",
              "<thead>\n",
              "\t<tr><th scope=col>AgeDecade</th><th scope=col>Gender</th><th scope=col>average</th><th scope=col>standard_deviation</th></tr>\n",
              "\t<tr><th scope=col>&lt;fct&gt;</th><th scope=col>&lt;fct&gt;</th><th scope=col>&lt;dbl&gt;</th><th scope=col>&lt;dbl&gt;</th></tr>\n",
              "</thead>\n",
              "<tbody>\n",
              "\t<tr><td> 0-9  </td><td>female</td><td> 99.95041</td><td> 9.071798</td></tr>\n",
              "\t<tr><td> 0-9  </td><td>male  </td><td> 97.41912</td><td> 8.317367</td></tr>\n",
              "\t<tr><td> 10-19</td><td>female</td><td>104.27466</td><td> 9.461431</td></tr>\n",
              "\t<tr><td> 10-19</td><td>male  </td><td>109.59789</td><td>11.227769</td></tr>\n",
              "\t<tr><td> 20-29</td><td>female</td><td>108.42243</td><td>10.146681</td></tr>\n",
              "\t<tr><td> 20-29</td><td>male  </td><td>117.85084</td><td>11.274795</td></tr>\n",
              "\t<tr><td> 30-39</td><td>female</td><td>111.25512</td><td>12.314790</td></tr>\n",
              "\t<tr><td> 30-39</td><td>male  </td><td>119.40063</td><td>12.306656</td></tr>\n",
              "\t<tr><td> 40-49</td><td>female</td><td>115.49385</td><td>14.530054</td></tr>\n",
              "\t<tr><td> 40-49</td><td>male  </td><td>120.78390</td><td>13.968338</td></tr>\n",
              "\t<tr><td> 50-59</td><td>female</td><td>121.84245</td><td>16.179333</td></tr>\n",
              "\t<tr><td> 50-59</td><td>male  </td><td>125.75000</td><td>17.760536</td></tr>\n",
              "\t<tr><td> 60-69</td><td>female</td><td>127.17787</td><td>17.125713</td></tr>\n",
              "\t<tr><td> 60-69</td><td>male  </td><td>126.88578</td><td>17.478117</td></tr>\n",
              "\t<tr><td> 70+  </td><td>female</td><td>133.51652</td><td>19.841781</td></tr>\n",
              "\t<tr><td> 70+  </td><td>male  </td><td>130.20172</td><td>18.657475</td></tr>\n",
              "\t<tr><td>NA    </td><td>female</td><td>141.54839</td><td>22.908521</td></tr>\n",
              "\t<tr><td>NA    </td><td>male  </td><td>136.40000</td><td>23.534731</td></tr>\n",
              "</tbody>\n",
              "</table>\n"
            ]
          },
          "metadata": {
            "tags": []
          }
        }
      ]
    },
    {
      "cell_type": "markdown",
      "metadata": {
        "id": "9kkHCGD7g9H9"
      },
      "source": [
        "Exercise 8. Arrange"
      ]
    },
    {
      "cell_type": "code",
      "metadata": {
        "colab": {
          "base_uri": "https://localhost:8080/",
          "height": 210
        },
        "id": "MJNA1rDSg_MW",
        "outputId": "2e31915c-e467-4736-a3b8-1fbbb750da4f"
      },
      "source": [
        "library(dplyr)\n",
        "library(NHANES)\n",
        "data(NHANES)\n",
        "NHANES %>%\n",
        "      filter(AgeDecade ==\" 40-49\" & Gender == \"male\")  %>% group_by(Race1) %>% summarize(average=mean(BPSysAve,na.rm=TRUE),standard_deviation = sd(BPSysAve,na.rm=TRUE))%>% arrange(average)"
      ],
      "execution_count": 33,
      "outputs": [
        {
          "output_type": "stream",
          "text": [
            "`summarise()` ungrouping output (override with `.groups` argument)\n",
            "\n"
          ],
          "name": "stderr"
        },
        {
          "output_type": "display_data",
          "data": {
            "text/plain": [
              "  Race1    average  standard_deviation\n",
              "1 White    119.9188 13.42355          \n",
              "2 Other    120.4000 16.20241          \n",
              "3 Hispanic 121.6098 11.06770          \n",
              "4 Mexican  121.8500 13.93756          \n",
              "5 Black    125.8387 17.06707          "
            ],
            "text/latex": "A tibble: 5 × 3\n\\begin{tabular}{lll}\n Race1 & average & standard\\_deviation\\\\\n <fct> & <dbl> & <dbl>\\\\\n\\hline\n\t White    & 119.9188 & 13.42355\\\\\n\t Other    & 120.4000 & 16.20241\\\\\n\t Hispanic & 121.6098 & 11.06770\\\\\n\t Mexican  & 121.8500 & 13.93756\\\\\n\t Black    & 125.8387 & 17.06707\\\\\n\\end{tabular}\n",
            "text/markdown": "\nA tibble: 5 × 3\n\n| Race1 &lt;fct&gt; | average &lt;dbl&gt; | standard_deviation &lt;dbl&gt; |\n|---|---|---|\n| White    | 119.9188 | 13.42355 |\n| Other    | 120.4000 | 16.20241 |\n| Hispanic | 121.6098 | 11.06770 |\n| Mexican  | 121.8500 | 13.93756 |\n| Black    | 125.8387 | 17.06707 |\n\n",
            "text/html": [
              "<table>\n",
              "<caption>A tibble: 5 × 3</caption>\n",
              "<thead>\n",
              "\t<tr><th scope=col>Race1</th><th scope=col>average</th><th scope=col>standard_deviation</th></tr>\n",
              "\t<tr><th scope=col>&lt;fct&gt;</th><th scope=col>&lt;dbl&gt;</th><th scope=col>&lt;dbl&gt;</th></tr>\n",
              "</thead>\n",
              "<tbody>\n",
              "\t<tr><td>White   </td><td>119.9188</td><td>13.42355</td></tr>\n",
              "\t<tr><td>Other   </td><td>120.4000</td><td>16.20241</td></tr>\n",
              "\t<tr><td>Hispanic</td><td>121.6098</td><td>11.06770</td></tr>\n",
              "\t<tr><td>Mexican </td><td>121.8500</td><td>13.93756</td></tr>\n",
              "\t<tr><td>Black   </td><td>125.8387</td><td>17.06707</td></tr>\n",
              "</tbody>\n",
              "</table>\n"
            ]
          },
          "metadata": {
            "tags": []
          }
        }
      ]
    }
  ]
}