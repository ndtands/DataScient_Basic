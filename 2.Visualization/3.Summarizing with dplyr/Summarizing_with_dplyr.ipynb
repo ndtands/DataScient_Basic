{
  "nbformat": 4,
  "nbformat_minor": 0,
  "metadata": {
    "colab": {
      "name": "Summarizing_with_dplyr.ipynb",
      "provenance": [],
      "collapsed_sections": []
    },
    "kernelspec": {
      "name": "ir",
      "display_name": "R"
    },
    "accelerator": "GPU"
  },
  "cells": [
    {
      "cell_type": "markdown",
      "metadata": {
        "id": "VpL97Dh3aoh-"
      },
      "source": [
        "##dplyr\n",
        "- summarize() from the dplyr/tidyverse package computes summary statistics from the data frame. It returns a data frame whose column names are defined within the function call.\n",
        "\n",
        "- summarize() can compute any summary function that operates on vectors and returns a single value, but it cannot operate on functions that return multiple values.\n",
        "- Like most dplyr functions, summarize() is aware of variable names within data frames and can use them directly."
      ]
    },
    {
      "cell_type": "code",
      "metadata": {
        "colab": {
          "base_uri": "https://localhost:8080/"
        },
        "id": "x3MQOwNhdHHp",
        "outputId": "54baad9d-1e9a-4ab3-daa2-2cf6b4a1b014"
      },
      "source": [
        "install.packages(\"dslabs\")\n",
        "library(tidyverse)\n",
        "library(dslabs)\n",
        "data(heights)\n",
        "\n",
        "# compute average and standard deviation for males\n",
        "s <- heights %>%\n",
        "    filter(sex == \"Male\") %>%\n",
        "    summarize(average = mean(height), standard_deviation = sd(height))\n",
        "  "
      ],
      "execution_count": 2,
      "outputs": [
        {
          "output_type": "stream",
          "text": [
            "Installing package into ‘/usr/local/lib/R/site-library’\n",
            "(as ‘lib’ is unspecified)\n",
            "\n"
          ],
          "name": "stderr"
        }
      ]
    },
    {
      "cell_type": "code",
      "metadata": {
        "colab": {
          "base_uri": "https://localhost:8080/",
          "height": 129
        },
        "id": "Xtn_L9S6dStg",
        "outputId": "d0b13b3c-8c7c-4863-d45b-74b1ce855846"
      },
      "source": [
        "# access average and standard deviation from summary table\n",
        "s$average\n",
        "s$standard_deviation\n",
        "\n",
        "# compute median, min and max\n",
        "heights %>%\n",
        "    filter(sex == \"Male\") %>%\n",
        "    summarize(median = median(height),\n",
        "              minimum = min(height),\n",
        "              maximum = max(height))\n"
      ],
      "execution_count": 3,
      "outputs": [
        {
          "output_type": "display_data",
          "data": {
            "text/plain": [
              "[1] 69.31475"
            ],
            "text/latex": "69.3147549414356",
            "text/markdown": "69.3147549414356",
            "text/html": [
              "69.3147549414356"
            ]
          },
          "metadata": {
            "tags": []
          }
        },
        {
          "output_type": "display_data",
          "data": {
            "text/plain": [
              "[1] 3.611024"
            ],
            "text/latex": "3.6110236746673",
            "text/markdown": "3.6110236746673",
            "text/html": [
              "3.6110236746673"
            ]
          },
          "metadata": {
            "tags": []
          }
        },
        {
          "output_type": "display_data",
          "data": {
            "text/plain": [
              "  median minimum maximum \n",
              "1 69     50      82.67717"
            ],
            "text/latex": "A data.frame: 1 × 3\n\\begin{tabular}{lll}\n median & minimum & maximum\\\\\n <dbl> & <dbl> & <dbl>\\\\\n\\hline\n\t 69 & 50 & 82.67717\\\\\n\\end{tabular}\n",
            "text/markdown": "\nA data.frame: 1 × 3\n\n| median &lt;dbl&gt; | minimum &lt;dbl&gt; | maximum &lt;dbl&gt; |\n|---|---|---|\n| 69 | 50 | 82.67717 |\n\n",
            "text/html": [
              "<table>\n",
              "<caption>A data.frame: 1 × 3</caption>\n",
              "<thead>\n",
              "\t<tr><th scope=col>median</th><th scope=col>minimum</th><th scope=col>maximum</th></tr>\n",
              "\t<tr><th scope=col>&lt;dbl&gt;</th><th scope=col>&lt;dbl&gt;</th><th scope=col>&lt;dbl&gt;</th></tr>\n",
              "</thead>\n",
              "<tbody>\n",
              "\t<tr><td>69</td><td>50</td><td>82.67717</td></tr>\n",
              "</tbody>\n",
              "</table>\n"
            ]
          },
          "metadata": {
            "tags": []
          }
        }
      ]
    },
    {
      "cell_type": "code",
      "metadata": {
        "colab": {
          "base_uri": "https://localhost:8080/",
          "height": 186
        },
        "id": "MyJK2ma5dYSr",
        "outputId": "1ab94e12-2ed4-435d-b7f0-7b36903d2054"
      },
      "source": [
        "# alternative way to get min, median, max in base R\n",
        "quantile(heights$height, c(0, 0.5, 1))\n",
        "\n",
        "# NOTE: The following code will NOT generate an error if using dplyr 1.0 or later\n",
        "\n",
        "# generates an error: summarize can only take functions that return a single value\n",
        "heights %>%\n",
        "    filter(sex == \"Male\") %>%\n",
        "    summarize(range = quantile(height, c(0, 0.5, 1)))"
      ],
      "execution_count": 4,
      "outputs": [
        {
          "output_type": "display_data",
          "data": {
            "text/plain": [
              "      0%      50%     100% \n",
              "50.00000 68.50000 82.67717 "
            ],
            "text/latex": "\\begin{description*}\n\\item[0\\textbackslash{}\\%] 50\n\\item[50\\textbackslash{}\\%] 68.5\n\\item[100\\textbackslash{}\\%] 82.6771653543307\n\\end{description*}\n",
            "text/markdown": "0%\n:   5050%\n:   68.5100%\n:   82.6771653543307\n\n",
            "text/html": [
              "<style>\n",
              ".dl-inline {width: auto; margin:0; padding: 0}\n",
              ".dl-inline>dt, .dl-inline>dd {float: none; width: auto; display: inline-block}\n",
              ".dl-inline>dt::after {content: \":\\0020\"; padding-right: .5ex}\n",
              ".dl-inline>dt:not(:first-of-type) {padding-left: .5ex}\n",
              "</style><dl class=dl-inline><dt>0%</dt><dd>50</dd><dt>50%</dt><dd>68.5</dd><dt>100%</dt><dd>82.6771653543307</dd></dl>\n"
            ]
          },
          "metadata": {
            "tags": []
          }
        },
        {
          "output_type": "display_data",
          "data": {
            "text/plain": [
              "  range   \n",
              "1 50.00000\n",
              "2 69.00000\n",
              "3 82.67717"
            ],
            "text/latex": "A data.frame: 3 × 1\n\\begin{tabular}{l}\n range\\\\\n <dbl>\\\\\n\\hline\n\t 50.00000\\\\\n\t 69.00000\\\\\n\t 82.67717\\\\\n\\end{tabular}\n",
            "text/markdown": "\nA data.frame: 3 × 1\n\n| range &lt;dbl&gt; |\n|---|\n| 50.00000 |\n| 69.00000 |\n| 82.67717 |\n\n",
            "text/html": [
              "<table>\n",
              "<caption>A data.frame: 3 × 1</caption>\n",
              "<thead>\n",
              "\t<tr><th scope=col>range</th></tr>\n",
              "\t<tr><th scope=col>&lt;dbl&gt;</th></tr>\n",
              "</thead>\n",
              "<tbody>\n",
              "\t<tr><td>50.00000</td></tr>\n",
              "\t<tr><td>69.00000</td></tr>\n",
              "\t<tr><td>82.67717</td></tr>\n",
              "</tbody>\n",
              "</table>\n"
            ]
          },
          "metadata": {
            "tags": []
          }
        }
      ]
    },
    {
      "cell_type": "markdown",
      "metadata": {
        "id": "v0Ay4TjrddXZ"
      },
      "source": [
        "## The Dot Placeholder\n",
        "- The dot operator allows you to access values stored in data that is being piped in using the %>% character. The dot is a placeholder for the data being passed in through the pipe.\n",
        "- The dot operator allows dplyr functions to return single vectors or numbers instead of only data frames.\n",
        "- us_murder_rate %>% .$rate is equivalent to us_murder_rate$rate.\n",
        "- Note that an equivalent way to extract a single column using the pipe is us_murder_rate %>% pull(rate). The pull() function will be used in later course material."
      ]
    },
    {
      "cell_type": "code",
      "metadata": {
        "colab": {
          "base_uri": "https://localhost:8080/",
          "height": 95
        },
        "id": "k__GnwjTd0KF",
        "outputId": "03c0e8df-60ae-49d1-a2d2-81a7e0117afd"
      },
      "source": [
        "murders <- murders %>% mutate(murder_rate = total/population*100000)\n",
        "summarize(murders, mean(murder_rate))\n",
        "\n"
      ],
      "execution_count": 6,
      "outputs": [
        {
          "output_type": "display_data",
          "data": {
            "text/plain": [
              "  mean(murder_rate)\n",
              "1 2.779125         "
            ],
            "text/latex": "A data.frame: 1 × 1\n\\begin{tabular}{l}\n mean(murder\\_rate)\\\\\n <dbl>\\\\\n\\hline\n\t 2.779125\\\\\n\\end{tabular}\n",
            "text/markdown": "\nA data.frame: 1 × 1\n\n| mean(murder_rate) &lt;dbl&gt; |\n|---|\n| 2.779125 |\n\n",
            "text/html": [
              "<table>\n",
              "<caption>A data.frame: 1 × 1</caption>\n",
              "<thead>\n",
              "\t<tr><th scope=col>mean(murder_rate)</th></tr>\n",
              "\t<tr><th scope=col>&lt;dbl&gt;</th></tr>\n",
              "</thead>\n",
              "<tbody>\n",
              "\t<tr><td>2.779125</td></tr>\n",
              "</tbody>\n",
              "</table>\n"
            ]
          },
          "metadata": {
            "tags": []
          }
        }
      ]
    },
    {
      "cell_type": "code",
      "metadata": {
        "colab": {
          "base_uri": "https://localhost:8080/",
          "height": 146
        },
        "id": "mxMu9MM5d9H4",
        "outputId": "71cf5b2a-6e03-42f8-f5af-bee4da63ab90"
      },
      "source": [
        "# calculate US murder rate, generating a data frame\n",
        "us_murder_rate <- murders %>%\n",
        "    summarize(rate = sum(total) / sum(population) * 100000)\n",
        "    us_murder_rate\n",
        "\n",
        "# extract the numeric US murder rate with the dot operator\n",
        "us_murder_rate %>% .$rate\n",
        "\n"
      ],
      "execution_count": 8,
      "outputs": [
        {
          "output_type": "display_data",
          "data": {
            "text/plain": [
              "  rate    \n",
              "1 3.034555"
            ],
            "text/latex": "A data.frame: 1 × 1\n\\begin{tabular}{l}\n rate\\\\\n <dbl>\\\\\n\\hline\n\t 3.034555\\\\\n\\end{tabular}\n",
            "text/markdown": "\nA data.frame: 1 × 1\n\n| rate &lt;dbl&gt; |\n|---|\n| 3.034555 |\n\n",
            "text/html": [
              "<table>\n",
              "<caption>A data.frame: 1 × 1</caption>\n",
              "<thead>\n",
              "\t<tr><th scope=col>rate</th></tr>\n",
              "\t<tr><th scope=col>&lt;dbl&gt;</th></tr>\n",
              "</thead>\n",
              "<tbody>\n",
              "\t<tr><td>3.034555</td></tr>\n",
              "</tbody>\n",
              "</table>\n"
            ]
          },
          "metadata": {
            "tags": []
          }
        },
        {
          "output_type": "display_data",
          "data": {
            "text/plain": [
              "[1] 3.034555"
            ],
            "text/latex": "3.03455486317059",
            "text/markdown": "3.03455486317059",
            "text/html": [
              "3.03455486317059"
            ]
          },
          "metadata": {
            "tags": []
          }
        }
      ]
    },
    {
      "cell_type": "code",
      "metadata": {
        "id": "lwtID5i9eAo0"
      },
      "source": [
        "# calculate and extract the murder rate with one pipe\n",
        "us_murder_rate <- murders %>%\n",
        "    summarize(rate = sum(total) / sum(population) * 100000) %>%\n",
        "    .$rate"
      ],
      "execution_count": 9,
      "outputs": []
    },
    {
      "cell_type": "markdown",
      "metadata": {
        "id": "Msy0G5htePjU"
      },
      "source": [
        "##Group By\n",
        "- The group_by() function from dplyr  converts a data frame to a grouped data frame, creating groups using one or more variables.\n",
        "- summarize() and some other dplyr functions will behave differently on grouped data frames.\n",
        "- Using summarize() on a grouped data frame computes the summary statistics for each of the separate groups."
      ]
    },
    {
      "cell_type": "code",
      "metadata": {
        "id": "bMOKiTUIea96"
      },
      "source": [
        "# libraries and data\n",
        "library(tidyverse)\n",
        "library(dslabs)\n",
        "data(heights)\n",
        "data(murders)\n"
      ],
      "execution_count": 10,
      "outputs": []
    },
    {
      "cell_type": "code",
      "metadata": {
        "colab": {
          "base_uri": "https://localhost:8080/",
          "height": 150
        },
        "id": "Rw6OdYFRedRM",
        "outputId": "39a26936-4a0f-43db-c60d-a16774727c2a"
      },
      "source": [
        "# compute separate average and standard deviation for male/female heights\n",
        "heights %>%\n",
        "    group_by(sex) %>%\n",
        "    summarize(average = mean(height), standard_deviation = sd(height))\n"
      ],
      "execution_count": 11,
      "outputs": [
        {
          "output_type": "stream",
          "text": [
            "`summarise()` ungrouping output (override with `.groups` argument)\n",
            "\n"
          ],
          "name": "stderr"
        },
        {
          "output_type": "display_data",
          "data": {
            "text/plain": [
              "  sex    average  standard_deviation\n",
              "1 Female 64.93942 3.760656          \n",
              "2 Male   69.31475 3.611024          "
            ],
            "text/latex": "A tibble: 2 × 3\n\\begin{tabular}{lll}\n sex & average & standard\\_deviation\\\\\n <fct> & <dbl> & <dbl>\\\\\n\\hline\n\t Female & 64.93942 & 3.760656\\\\\n\t Male   & 69.31475 & 3.611024\\\\\n\\end{tabular}\n",
            "text/markdown": "\nA tibble: 2 × 3\n\n| sex &lt;fct&gt; | average &lt;dbl&gt; | standard_deviation &lt;dbl&gt; |\n|---|---|---|\n| Female | 64.93942 | 3.760656 |\n| Male   | 69.31475 | 3.611024 |\n\n",
            "text/html": [
              "<table>\n",
              "<caption>A tibble: 2 × 3</caption>\n",
              "<thead>\n",
              "\t<tr><th scope=col>sex</th><th scope=col>average</th><th scope=col>standard_deviation</th></tr>\n",
              "\t<tr><th scope=col>&lt;fct&gt;</th><th scope=col>&lt;dbl&gt;</th><th scope=col>&lt;dbl&gt;</th></tr>\n",
              "</thead>\n",
              "<tbody>\n",
              "\t<tr><td>Female</td><td>64.93942</td><td>3.760656</td></tr>\n",
              "\t<tr><td>Male  </td><td>69.31475</td><td>3.611024</td></tr>\n",
              "</tbody>\n",
              "</table>\n"
            ]
          },
          "metadata": {
            "tags": []
          }
        }
      ]
    },
    {
      "cell_type": "code",
      "metadata": {
        "colab": {
          "base_uri": "https://localhost:8080/",
          "height": 190
        },
        "id": "BB-4MJx-ehAZ",
        "outputId": "bde017ed-4491-4772-d30a-c1cedec1ccb7"
      },
      "source": [
        "# compute median murder rate in 4 regions of country\n",
        "murders <- murders %>%\n",
        "    mutate(murder_rate = total/population * 100000)\n",
        "murders %>%\n",
        "    group_by(region) %>%\n",
        "    summarize(median_rate = median(murder_rate))"
      ],
      "execution_count": 12,
      "outputs": [
        {
          "output_type": "stream",
          "text": [
            "`summarise()` ungrouping output (override with `.groups` argument)\n",
            "\n"
          ],
          "name": "stderr"
        },
        {
          "output_type": "display_data",
          "data": {
            "text/plain": [
              "  region        median_rate\n",
              "1 Northeast     1.802179   \n",
              "2 South         3.398069   \n",
              "3 North Central 1.971105   \n",
              "4 West          1.292453   "
            ],
            "text/latex": "A tibble: 4 × 2\n\\begin{tabular}{ll}\n region & median\\_rate\\\\\n <fct> & <dbl>\\\\\n\\hline\n\t Northeast     & 1.802179\\\\\n\t South         & 3.398069\\\\\n\t North Central & 1.971105\\\\\n\t West          & 1.292453\\\\\n\\end{tabular}\n",
            "text/markdown": "\nA tibble: 4 × 2\n\n| region &lt;fct&gt; | median_rate &lt;dbl&gt; |\n|---|---|\n| Northeast     | 1.802179 |\n| South         | 3.398069 |\n| North Central | 1.971105 |\n| West          | 1.292453 |\n\n",
            "text/html": [
              "<table>\n",
              "<caption>A tibble: 4 × 2</caption>\n",
              "<thead>\n",
              "\t<tr><th scope=col>region</th><th scope=col>median_rate</th></tr>\n",
              "\t<tr><th scope=col>&lt;fct&gt;</th><th scope=col>&lt;dbl&gt;</th></tr>\n",
              "</thead>\n",
              "<tbody>\n",
              "\t<tr><td>Northeast    </td><td>1.802179</td></tr>\n",
              "\t<tr><td>South        </td><td>3.398069</td></tr>\n",
              "\t<tr><td>North Central</td><td>1.971105</td></tr>\n",
              "\t<tr><td>West         </td><td>1.292453</td></tr>\n",
              "</tbody>\n",
              "</table>\n"
            ]
          },
          "metadata": {
            "tags": []
          }
        }
      ]
    },
    {
      "cell_type": "markdown",
      "metadata": {
        "id": "65LTv1Jyepme"
      },
      "source": [
        "##Sorting data Tables\n",
        "- The arrange() function from dplyr sorts a data frame by a given column.\n",
        "- By default, arrange() sorts in ascending order (lowest to highest). To instead sort in descending order, use the function desc() inside of arrange().\n",
        "- You can arrange() by multiple levels: within equivalent values of the first level, observations are sorted by the second level, and so on.\n",
        "- The top_n() function shows the top results ranked by a given variable, but the results are not ordered. You can combine top_n() with arrange() to return the top results in order."
      ]
    },
    {
      "cell_type": "code",
      "metadata": {
        "id": "b2H6RJUKezk7"
      },
      "source": [
        "# libraries and data\n",
        "library(tidyverse)\n",
        "library(dslabs)\n",
        "data(murders)"
      ],
      "execution_count": 13,
      "outputs": []
    },
    {
      "cell_type": "code",
      "metadata": {
        "id": "fWSNh6BSe4GJ"
      },
      "source": [
        "\n",
        "# set up murders object\n",
        "murders <- murders %>%\n",
        "    mutate(murder_rate = total/population * 100000)\n"
      ],
      "execution_count": 14,
      "outputs": []
    },
    {
      "cell_type": "code",
      "metadata": {
        "colab": {
          "base_uri": "https://localhost:8080/",
          "height": 195
        },
        "id": "OkO98Pede5yD",
        "outputId": "bb2c80e6-f164-4f54-aef3-3f642a5c90de"
      },
      "source": [
        "    \n",
        "# arrange by population column, smallest to largest\n",
        "murders %>% arrange(population) %>% head()\n"
      ],
      "execution_count": 15,
      "outputs": [
        {
          "output_type": "display_data",
          "data": {
            "text/plain": [
              "  state                abb region        population total murder_rate\n",
              "1 Wyoming              WY  West          563626      5     0.8871131 \n",
              "2 District of Columbia DC  South         601723     99    16.4527532 \n",
              "3 Vermont              VT  Northeast     625741      2     0.3196211 \n",
              "4 North Dakota         ND  North Central 672591      4     0.5947151 \n",
              "5 Alaska               AK  West          710231     19     2.6751860 \n",
              "6 South Dakota         SD  North Central 814180      8     0.9825837 "
            ],
            "text/latex": "A data.frame: 6 × 6\n\\begin{tabular}{r|llllll}\n  & state & abb & region & population & total & murder\\_rate\\\\\n  & <chr> & <chr> & <fct> & <dbl> & <dbl> & <dbl>\\\\\n\\hline\n\t1 & Wyoming              & WY & West          & 563626 &  5 &  0.8871131\\\\\n\t2 & District of Columbia & DC & South         & 601723 & 99 & 16.4527532\\\\\n\t3 & Vermont              & VT & Northeast     & 625741 &  2 &  0.3196211\\\\\n\t4 & North Dakota         & ND & North Central & 672591 &  4 &  0.5947151\\\\\n\t5 & Alaska               & AK & West          & 710231 & 19 &  2.6751860\\\\\n\t6 & South Dakota         & SD & North Central & 814180 &  8 &  0.9825837\\\\\n\\end{tabular}\n",
            "text/markdown": "\nA data.frame: 6 × 6\n\n| <!--/--> | state &lt;chr&gt; | abb &lt;chr&gt; | region &lt;fct&gt; | population &lt;dbl&gt; | total &lt;dbl&gt; | murder_rate &lt;dbl&gt; |\n|---|---|---|---|---|---|---|\n| 1 | Wyoming              | WY | West          | 563626 |  5 |  0.8871131 |\n| 2 | District of Columbia | DC | South         | 601723 | 99 | 16.4527532 |\n| 3 | Vermont              | VT | Northeast     | 625741 |  2 |  0.3196211 |\n| 4 | North Dakota         | ND | North Central | 672591 |  4 |  0.5947151 |\n| 5 | Alaska               | AK | West          | 710231 | 19 |  2.6751860 |\n| 6 | South Dakota         | SD | North Central | 814180 |  8 |  0.9825837 |\n\n",
            "text/html": [
              "<table>\n",
              "<caption>A data.frame: 6 × 6</caption>\n",
              "<thead>\n",
              "\t<tr><th></th><th scope=col>state</th><th scope=col>abb</th><th scope=col>region</th><th scope=col>population</th><th scope=col>total</th><th scope=col>murder_rate</th></tr>\n",
              "\t<tr><th></th><th scope=col>&lt;chr&gt;</th><th scope=col>&lt;chr&gt;</th><th scope=col>&lt;fct&gt;</th><th scope=col>&lt;dbl&gt;</th><th scope=col>&lt;dbl&gt;</th><th scope=col>&lt;dbl&gt;</th></tr>\n",
              "</thead>\n",
              "<tbody>\n",
              "\t<tr><th scope=row>1</th><td>Wyoming             </td><td>WY</td><td>West         </td><td>563626</td><td> 5</td><td> 0.8871131</td></tr>\n",
              "\t<tr><th scope=row>2</th><td>District of Columbia</td><td>DC</td><td>South        </td><td>601723</td><td>99</td><td>16.4527532</td></tr>\n",
              "\t<tr><th scope=row>3</th><td>Vermont             </td><td>VT</td><td>Northeast    </td><td>625741</td><td> 2</td><td> 0.3196211</td></tr>\n",
              "\t<tr><th scope=row>4</th><td>North Dakota        </td><td>ND</td><td>North Central</td><td>672591</td><td> 4</td><td> 0.5947151</td></tr>\n",
              "\t<tr><th scope=row>5</th><td>Alaska              </td><td>AK</td><td>West         </td><td>710231</td><td>19</td><td> 2.6751860</td></tr>\n",
              "\t<tr><th scope=row>6</th><td>South Dakota        </td><td>SD</td><td>North Central</td><td>814180</td><td> 8</td><td> 0.9825837</td></tr>\n",
              "</tbody>\n",
              "</table>\n"
            ]
          },
          "metadata": {
            "tags": []
          }
        }
      ]
    },
    {
      "cell_type": "code",
      "metadata": {
        "colab": {
          "base_uri": "https://localhost:8080/",
          "height": 195
        },
        "id": "ih5OuY7Te8BM",
        "outputId": "f3675d08-d9a8-43a7-db6c-1abf44999b78"
      },
      "source": [
        "\n",
        "# arrange by murder rate, smallest to largest\n",
        "murders %>% arrange(murder_rate) %>% head()\n"
      ],
      "execution_count": 16,
      "outputs": [
        {
          "output_type": "display_data",
          "data": {
            "text/plain": [
              "  state         abb region        population total murder_rate\n",
              "1 Vermont       VT  Northeast      625741     2    0.3196211  \n",
              "2 New Hampshire NH  Northeast     1316470     5    0.3798036  \n",
              "3 Hawaii        HI  West          1360301     7    0.5145920  \n",
              "4 North Dakota  ND  North Central  672591     4    0.5947151  \n",
              "5 Iowa          IA  North Central 3046355    21    0.6893484  \n",
              "6 Idaho         ID  West          1567582    12    0.7655102  "
            ],
            "text/latex": "A data.frame: 6 × 6\n\\begin{tabular}{r|llllll}\n  & state & abb & region & population & total & murder\\_rate\\\\\n  & <chr> & <chr> & <fct> & <dbl> & <dbl> & <dbl>\\\\\n\\hline\n\t1 & Vermont       & VT & Northeast     &  625741 &  2 & 0.3196211\\\\\n\t2 & New Hampshire & NH & Northeast     & 1316470 &  5 & 0.3798036\\\\\n\t3 & Hawaii        & HI & West          & 1360301 &  7 & 0.5145920\\\\\n\t4 & North Dakota  & ND & North Central &  672591 &  4 & 0.5947151\\\\\n\t5 & Iowa          & IA & North Central & 3046355 & 21 & 0.6893484\\\\\n\t6 & Idaho         & ID & West          & 1567582 & 12 & 0.7655102\\\\\n\\end{tabular}\n",
            "text/markdown": "\nA data.frame: 6 × 6\n\n| <!--/--> | state &lt;chr&gt; | abb &lt;chr&gt; | region &lt;fct&gt; | population &lt;dbl&gt; | total &lt;dbl&gt; | murder_rate &lt;dbl&gt; |\n|---|---|---|---|---|---|---|\n| 1 | Vermont       | VT | Northeast     |  625741 |  2 | 0.3196211 |\n| 2 | New Hampshire | NH | Northeast     | 1316470 |  5 | 0.3798036 |\n| 3 | Hawaii        | HI | West          | 1360301 |  7 | 0.5145920 |\n| 4 | North Dakota  | ND | North Central |  672591 |  4 | 0.5947151 |\n| 5 | Iowa          | IA | North Central | 3046355 | 21 | 0.6893484 |\n| 6 | Idaho         | ID | West          | 1567582 | 12 | 0.7655102 |\n\n",
            "text/html": [
              "<table>\n",
              "<caption>A data.frame: 6 × 6</caption>\n",
              "<thead>\n",
              "\t<tr><th></th><th scope=col>state</th><th scope=col>abb</th><th scope=col>region</th><th scope=col>population</th><th scope=col>total</th><th scope=col>murder_rate</th></tr>\n",
              "\t<tr><th></th><th scope=col>&lt;chr&gt;</th><th scope=col>&lt;chr&gt;</th><th scope=col>&lt;fct&gt;</th><th scope=col>&lt;dbl&gt;</th><th scope=col>&lt;dbl&gt;</th><th scope=col>&lt;dbl&gt;</th></tr>\n",
              "</thead>\n",
              "<tbody>\n",
              "\t<tr><th scope=row>1</th><td>Vermont      </td><td>VT</td><td>Northeast    </td><td> 625741</td><td> 2</td><td>0.3196211</td></tr>\n",
              "\t<tr><th scope=row>2</th><td>New Hampshire</td><td>NH</td><td>Northeast    </td><td>1316470</td><td> 5</td><td>0.3798036</td></tr>\n",
              "\t<tr><th scope=row>3</th><td>Hawaii       </td><td>HI</td><td>West         </td><td>1360301</td><td> 7</td><td>0.5145920</td></tr>\n",
              "\t<tr><th scope=row>4</th><td>North Dakota </td><td>ND</td><td>North Central</td><td> 672591</td><td> 4</td><td>0.5947151</td></tr>\n",
              "\t<tr><th scope=row>5</th><td>Iowa         </td><td>IA</td><td>North Central</td><td>3046355</td><td>21</td><td>0.6893484</td></tr>\n",
              "\t<tr><th scope=row>6</th><td>Idaho        </td><td>ID</td><td>West         </td><td>1567582</td><td>12</td><td>0.7655102</td></tr>\n",
              "</tbody>\n",
              "</table>\n"
            ]
          },
          "metadata": {
            "tags": []
          }
        }
      ]
    },
    {
      "cell_type": "code",
      "metadata": {
        "colab": {
          "base_uri": "https://localhost:8080/",
          "height": 195
        },
        "id": "gtNK5Es3e_np",
        "outputId": "25965795-6fc1-4ba7-b416-ef278a73e385"
      },
      "source": [
        "\n",
        "# arrange by murder rate in descending order\n",
        "murders %>% arrange(desc(murder_rate)) %>% head()\n"
      ],
      "execution_count": 17,
      "outputs": [
        {
          "output_type": "display_data",
          "data": {
            "text/plain": [
              "  state                abb region        population total murder_rate\n",
              "1 District of Columbia DC  South          601723     99   16.452753  \n",
              "2 Louisiana            LA  South         4533372    351    7.742581  \n",
              "3 Missouri             MO  North Central 5988927    321    5.359892  \n",
              "4 Maryland             MD  South         5773552    293    5.074866  \n",
              "5 South Carolina       SC  South         4625364    207    4.475323  \n",
              "6 Delaware             DE  South          897934     38    4.231937  "
            ],
            "text/latex": "A data.frame: 6 × 6\n\\begin{tabular}{r|llllll}\n  & state & abb & region & population & total & murder\\_rate\\\\\n  & <chr> & <chr> & <fct> & <dbl> & <dbl> & <dbl>\\\\\n\\hline\n\t1 & District of Columbia & DC & South         &  601723 &  99 & 16.452753\\\\\n\t2 & Louisiana            & LA & South         & 4533372 & 351 &  7.742581\\\\\n\t3 & Missouri             & MO & North Central & 5988927 & 321 &  5.359892\\\\\n\t4 & Maryland             & MD & South         & 5773552 & 293 &  5.074866\\\\\n\t5 & South Carolina       & SC & South         & 4625364 & 207 &  4.475323\\\\\n\t6 & Delaware             & DE & South         &  897934 &  38 &  4.231937\\\\\n\\end{tabular}\n",
            "text/markdown": "\nA data.frame: 6 × 6\n\n| <!--/--> | state &lt;chr&gt; | abb &lt;chr&gt; | region &lt;fct&gt; | population &lt;dbl&gt; | total &lt;dbl&gt; | murder_rate &lt;dbl&gt; |\n|---|---|---|---|---|---|---|\n| 1 | District of Columbia | DC | South         |  601723 |  99 | 16.452753 |\n| 2 | Louisiana            | LA | South         | 4533372 | 351 |  7.742581 |\n| 3 | Missouri             | MO | North Central | 5988927 | 321 |  5.359892 |\n| 4 | Maryland             | MD | South         | 5773552 | 293 |  5.074866 |\n| 5 | South Carolina       | SC | South         | 4625364 | 207 |  4.475323 |\n| 6 | Delaware             | DE | South         |  897934 |  38 |  4.231937 |\n\n",
            "text/html": [
              "<table>\n",
              "<caption>A data.frame: 6 × 6</caption>\n",
              "<thead>\n",
              "\t<tr><th></th><th scope=col>state</th><th scope=col>abb</th><th scope=col>region</th><th scope=col>population</th><th scope=col>total</th><th scope=col>murder_rate</th></tr>\n",
              "\t<tr><th></th><th scope=col>&lt;chr&gt;</th><th scope=col>&lt;chr&gt;</th><th scope=col>&lt;fct&gt;</th><th scope=col>&lt;dbl&gt;</th><th scope=col>&lt;dbl&gt;</th><th scope=col>&lt;dbl&gt;</th></tr>\n",
              "</thead>\n",
              "<tbody>\n",
              "\t<tr><th scope=row>1</th><td>District of Columbia</td><td>DC</td><td>South        </td><td> 601723</td><td> 99</td><td>16.452753</td></tr>\n",
              "\t<tr><th scope=row>2</th><td>Louisiana           </td><td>LA</td><td>South        </td><td>4533372</td><td>351</td><td> 7.742581</td></tr>\n",
              "\t<tr><th scope=row>3</th><td>Missouri            </td><td>MO</td><td>North Central</td><td>5988927</td><td>321</td><td> 5.359892</td></tr>\n",
              "\t<tr><th scope=row>4</th><td>Maryland            </td><td>MD</td><td>South        </td><td>5773552</td><td>293</td><td> 5.074866</td></tr>\n",
              "\t<tr><th scope=row>5</th><td>South Carolina      </td><td>SC</td><td>South        </td><td>4625364</td><td>207</td><td> 4.475323</td></tr>\n",
              "\t<tr><th scope=row>6</th><td>Delaware            </td><td>DE</td><td>South        </td><td> 897934</td><td> 38</td><td> 4.231937</td></tr>\n",
              "</tbody>\n",
              "</table>\n"
            ]
          },
          "metadata": {
            "tags": []
          }
        }
      ]
    },
    {
      "cell_type": "code",
      "metadata": {
        "colab": {
          "base_uri": "https://localhost:8080/",
          "height": 195
        },
        "id": "tcBfjtUgfBqo",
        "outputId": "76ebba0a-9844-4eb7-e30d-69661f97af96"
      },
      "source": [
        "\n",
        "# arrange by region alphabetically, then by murder rate within each region\n",
        "murders %>% arrange(region, murder_rate) %>% head()\n"
      ],
      "execution_count": 18,
      "outputs": [
        {
          "output_type": "display_data",
          "data": {
            "text/plain": [
              "  state         abb region    population total murder_rate\n",
              "1 Vermont       VT  Northeast   625741     2   0.3196211  \n",
              "2 New Hampshire NH  Northeast  1316470     5   0.3798036  \n",
              "3 Maine         ME  Northeast  1328361    11   0.8280881  \n",
              "4 Rhode Island  RI  Northeast  1052567    16   1.5200933  \n",
              "5 Massachusetts MA  Northeast  6547629   118   1.8021791  \n",
              "6 New York      NY  Northeast 19378102   517   2.6679599  "
            ],
            "text/latex": "A data.frame: 6 × 6\n\\begin{tabular}{r|llllll}\n  & state & abb & region & population & total & murder\\_rate\\\\\n  & <chr> & <chr> & <fct> & <dbl> & <dbl> & <dbl>\\\\\n\\hline\n\t1 & Vermont       & VT & Northeast &   625741 &   2 & 0.3196211\\\\\n\t2 & New Hampshire & NH & Northeast &  1316470 &   5 & 0.3798036\\\\\n\t3 & Maine         & ME & Northeast &  1328361 &  11 & 0.8280881\\\\\n\t4 & Rhode Island  & RI & Northeast &  1052567 &  16 & 1.5200933\\\\\n\t5 & Massachusetts & MA & Northeast &  6547629 & 118 & 1.8021791\\\\\n\t6 & New York      & NY & Northeast & 19378102 & 517 & 2.6679599\\\\\n\\end{tabular}\n",
            "text/markdown": "\nA data.frame: 6 × 6\n\n| <!--/--> | state &lt;chr&gt; | abb &lt;chr&gt; | region &lt;fct&gt; | population &lt;dbl&gt; | total &lt;dbl&gt; | murder_rate &lt;dbl&gt; |\n|---|---|---|---|---|---|---|\n| 1 | Vermont       | VT | Northeast |   625741 |   2 | 0.3196211 |\n| 2 | New Hampshire | NH | Northeast |  1316470 |   5 | 0.3798036 |\n| 3 | Maine         | ME | Northeast |  1328361 |  11 | 0.8280881 |\n| 4 | Rhode Island  | RI | Northeast |  1052567 |  16 | 1.5200933 |\n| 5 | Massachusetts | MA | Northeast |  6547629 | 118 | 1.8021791 |\n| 6 | New York      | NY | Northeast | 19378102 | 517 | 2.6679599 |\n\n",
            "text/html": [
              "<table>\n",
              "<caption>A data.frame: 6 × 6</caption>\n",
              "<thead>\n",
              "\t<tr><th></th><th scope=col>state</th><th scope=col>abb</th><th scope=col>region</th><th scope=col>population</th><th scope=col>total</th><th scope=col>murder_rate</th></tr>\n",
              "\t<tr><th></th><th scope=col>&lt;chr&gt;</th><th scope=col>&lt;chr&gt;</th><th scope=col>&lt;fct&gt;</th><th scope=col>&lt;dbl&gt;</th><th scope=col>&lt;dbl&gt;</th><th scope=col>&lt;dbl&gt;</th></tr>\n",
              "</thead>\n",
              "<tbody>\n",
              "\t<tr><th scope=row>1</th><td>Vermont      </td><td>VT</td><td>Northeast</td><td>  625741</td><td>  2</td><td>0.3196211</td></tr>\n",
              "\t<tr><th scope=row>2</th><td>New Hampshire</td><td>NH</td><td>Northeast</td><td> 1316470</td><td>  5</td><td>0.3798036</td></tr>\n",
              "\t<tr><th scope=row>3</th><td>Maine        </td><td>ME</td><td>Northeast</td><td> 1328361</td><td> 11</td><td>0.8280881</td></tr>\n",
              "\t<tr><th scope=row>4</th><td>Rhode Island </td><td>RI</td><td>Northeast</td><td> 1052567</td><td> 16</td><td>1.5200933</td></tr>\n",
              "\t<tr><th scope=row>5</th><td>Massachusetts</td><td>MA</td><td>Northeast</td><td> 6547629</td><td>118</td><td>1.8021791</td></tr>\n",
              "\t<tr><th scope=row>6</th><td>New York     </td><td>NY</td><td>Northeast</td><td>19378102</td><td>517</td><td>2.6679599</td></tr>\n",
              "</tbody>\n",
              "</table>\n"
            ]
          },
          "metadata": {
            "tags": []
          }
        }
      ]
    },
    {
      "cell_type": "code",
      "metadata": {
        "colab": {
          "base_uri": "https://localhost:8080/",
          "height": 275
        },
        "id": "FxAwqrpUfIuW",
        "outputId": "6da512d1-3868-4c34-fc4a-6c244caa6136"
      },
      "source": [
        "\n",
        "# show the top 10 states with highest murder rate, not ordered by rate\n",
        "murders %>% top_n(10, murder_rate)\n"
      ],
      "execution_count": 19,
      "outputs": [
        {
          "output_type": "display_data",
          "data": {
            "text/plain": [
              "   state                abb region        population total murder_rate\n",
              "1  Arizona              AZ  West          6392017    232    3.629527  \n",
              "2  Delaware             DE  South          897934     38    4.231937  \n",
              "3  District of Columbia DC  South          601723     99   16.452753  \n",
              "4  Georgia              GA  South         9920000    376    3.790323  \n",
              "5  Louisiana            LA  South         4533372    351    7.742581  \n",
              "6  Maryland             MD  South         5773552    293    5.074866  \n",
              "7  Michigan             MI  North Central 9883640    413    4.178622  \n",
              "8  Mississippi          MS  South         2967297    120    4.044085  \n",
              "9  Missouri             MO  North Central 5988927    321    5.359892  \n",
              "10 South Carolina       SC  South         4625364    207    4.475323  "
            ],
            "text/latex": "A data.frame: 10 × 6\n\\begin{tabular}{llllll}\n state & abb & region & population & total & murder\\_rate\\\\\n <chr> & <chr> & <fct> & <dbl> & <dbl> & <dbl>\\\\\n\\hline\n\t Arizona              & AZ & West          & 6392017 & 232 &  3.629527\\\\\n\t Delaware             & DE & South         &  897934 &  38 &  4.231937\\\\\n\t District of Columbia & DC & South         &  601723 &  99 & 16.452753\\\\\n\t Georgia              & GA & South         & 9920000 & 376 &  3.790323\\\\\n\t Louisiana            & LA & South         & 4533372 & 351 &  7.742581\\\\\n\t Maryland             & MD & South         & 5773552 & 293 &  5.074866\\\\\n\t Michigan             & MI & North Central & 9883640 & 413 &  4.178622\\\\\n\t Mississippi          & MS & South         & 2967297 & 120 &  4.044085\\\\\n\t Missouri             & MO & North Central & 5988927 & 321 &  5.359892\\\\\n\t South Carolina       & SC & South         & 4625364 & 207 &  4.475323\\\\\n\\end{tabular}\n",
            "text/markdown": "\nA data.frame: 10 × 6\n\n| state &lt;chr&gt; | abb &lt;chr&gt; | region &lt;fct&gt; | population &lt;dbl&gt; | total &lt;dbl&gt; | murder_rate &lt;dbl&gt; |\n|---|---|---|---|---|---|\n| Arizona              | AZ | West          | 6392017 | 232 |  3.629527 |\n| Delaware             | DE | South         |  897934 |  38 |  4.231937 |\n| District of Columbia | DC | South         |  601723 |  99 | 16.452753 |\n| Georgia              | GA | South         | 9920000 | 376 |  3.790323 |\n| Louisiana            | LA | South         | 4533372 | 351 |  7.742581 |\n| Maryland             | MD | South         | 5773552 | 293 |  5.074866 |\n| Michigan             | MI | North Central | 9883640 | 413 |  4.178622 |\n| Mississippi          | MS | South         | 2967297 | 120 |  4.044085 |\n| Missouri             | MO | North Central | 5988927 | 321 |  5.359892 |\n| South Carolina       | SC | South         | 4625364 | 207 |  4.475323 |\n\n",
            "text/html": [
              "<table>\n",
              "<caption>A data.frame: 10 × 6</caption>\n",
              "<thead>\n",
              "\t<tr><th scope=col>state</th><th scope=col>abb</th><th scope=col>region</th><th scope=col>population</th><th scope=col>total</th><th scope=col>murder_rate</th></tr>\n",
              "\t<tr><th scope=col>&lt;chr&gt;</th><th scope=col>&lt;chr&gt;</th><th scope=col>&lt;fct&gt;</th><th scope=col>&lt;dbl&gt;</th><th scope=col>&lt;dbl&gt;</th><th scope=col>&lt;dbl&gt;</th></tr>\n",
              "</thead>\n",
              "<tbody>\n",
              "\t<tr><td>Arizona             </td><td>AZ</td><td>West         </td><td>6392017</td><td>232</td><td> 3.629527</td></tr>\n",
              "\t<tr><td>Delaware            </td><td>DE</td><td>South        </td><td> 897934</td><td> 38</td><td> 4.231937</td></tr>\n",
              "\t<tr><td>District of Columbia</td><td>DC</td><td>South        </td><td> 601723</td><td> 99</td><td>16.452753</td></tr>\n",
              "\t<tr><td>Georgia             </td><td>GA</td><td>South        </td><td>9920000</td><td>376</td><td> 3.790323</td></tr>\n",
              "\t<tr><td>Louisiana           </td><td>LA</td><td>South        </td><td>4533372</td><td>351</td><td> 7.742581</td></tr>\n",
              "\t<tr><td>Maryland            </td><td>MD</td><td>South        </td><td>5773552</td><td>293</td><td> 5.074866</td></tr>\n",
              "\t<tr><td>Michigan            </td><td>MI</td><td>North Central</td><td>9883640</td><td>413</td><td> 4.178622</td></tr>\n",
              "\t<tr><td>Mississippi         </td><td>MS</td><td>South        </td><td>2967297</td><td>120</td><td> 4.044085</td></tr>\n",
              "\t<tr><td>Missouri            </td><td>MO</td><td>North Central</td><td>5988927</td><td>321</td><td> 5.359892</td></tr>\n",
              "\t<tr><td>South Carolina      </td><td>SC</td><td>South        </td><td>4625364</td><td>207</td><td> 4.475323</td></tr>\n",
              "</tbody>\n",
              "</table>\n"
            ]
          },
          "metadata": {
            "tags": []
          }
        }
      ]
    },
    {
      "cell_type": "code",
      "metadata": {
        "colab": {
          "base_uri": "https://localhost:8080/",
          "height": 310
        },
        "id": "9pWeFZQ7fKpW",
        "outputId": "35be84d1-c475-47ef-b1de-7708d5aac326"
      },
      "source": [
        "\n",
        "# show the top 10 states with highest murder rate, ordered by rate\n",
        "murders %>% arrange(desc(murder_rate)) %>% top_n(10)"
      ],
      "execution_count": 20,
      "outputs": [
        {
          "output_type": "stream",
          "text": [
            "Selecting by murder_rate\n",
            "\n"
          ],
          "name": "stderr"
        },
        {
          "output_type": "display_data",
          "data": {
            "text/plain": [
              "   state                abb region        population total murder_rate\n",
              "1  District of Columbia DC  South          601723     99   16.452753  \n",
              "2  Louisiana            LA  South         4533372    351    7.742581  \n",
              "3  Missouri             MO  North Central 5988927    321    5.359892  \n",
              "4  Maryland             MD  South         5773552    293    5.074866  \n",
              "5  South Carolina       SC  South         4625364    207    4.475323  \n",
              "6  Delaware             DE  South          897934     38    4.231937  \n",
              "7  Michigan             MI  North Central 9883640    413    4.178622  \n",
              "8  Mississippi          MS  South         2967297    120    4.044085  \n",
              "9  Georgia              GA  South         9920000    376    3.790323  \n",
              "10 Arizona              AZ  West          6392017    232    3.629527  "
            ],
            "text/latex": "A data.frame: 10 × 6\n\\begin{tabular}{llllll}\n state & abb & region & population & total & murder\\_rate\\\\\n <chr> & <chr> & <fct> & <dbl> & <dbl> & <dbl>\\\\\n\\hline\n\t District of Columbia & DC & South         &  601723 &  99 & 16.452753\\\\\n\t Louisiana            & LA & South         & 4533372 & 351 &  7.742581\\\\\n\t Missouri             & MO & North Central & 5988927 & 321 &  5.359892\\\\\n\t Maryland             & MD & South         & 5773552 & 293 &  5.074866\\\\\n\t South Carolina       & SC & South         & 4625364 & 207 &  4.475323\\\\\n\t Delaware             & DE & South         &  897934 &  38 &  4.231937\\\\\n\t Michigan             & MI & North Central & 9883640 & 413 &  4.178622\\\\\n\t Mississippi          & MS & South         & 2967297 & 120 &  4.044085\\\\\n\t Georgia              & GA & South         & 9920000 & 376 &  3.790323\\\\\n\t Arizona              & AZ & West          & 6392017 & 232 &  3.629527\\\\\n\\end{tabular}\n",
            "text/markdown": "\nA data.frame: 10 × 6\n\n| state &lt;chr&gt; | abb &lt;chr&gt; | region &lt;fct&gt; | population &lt;dbl&gt; | total &lt;dbl&gt; | murder_rate &lt;dbl&gt; |\n|---|---|---|---|---|---|\n| District of Columbia | DC | South         |  601723 |  99 | 16.452753 |\n| Louisiana            | LA | South         | 4533372 | 351 |  7.742581 |\n| Missouri             | MO | North Central | 5988927 | 321 |  5.359892 |\n| Maryland             | MD | South         | 5773552 | 293 |  5.074866 |\n| South Carolina       | SC | South         | 4625364 | 207 |  4.475323 |\n| Delaware             | DE | South         |  897934 |  38 |  4.231937 |\n| Michigan             | MI | North Central | 9883640 | 413 |  4.178622 |\n| Mississippi          | MS | South         | 2967297 | 120 |  4.044085 |\n| Georgia              | GA | South         | 9920000 | 376 |  3.790323 |\n| Arizona              | AZ | West          | 6392017 | 232 |  3.629527 |\n\n",
            "text/html": [
              "<table>\n",
              "<caption>A data.frame: 10 × 6</caption>\n",
              "<thead>\n",
              "\t<tr><th scope=col>state</th><th scope=col>abb</th><th scope=col>region</th><th scope=col>population</th><th scope=col>total</th><th scope=col>murder_rate</th></tr>\n",
              "\t<tr><th scope=col>&lt;chr&gt;</th><th scope=col>&lt;chr&gt;</th><th scope=col>&lt;fct&gt;</th><th scope=col>&lt;dbl&gt;</th><th scope=col>&lt;dbl&gt;</th><th scope=col>&lt;dbl&gt;</th></tr>\n",
              "</thead>\n",
              "<tbody>\n",
              "\t<tr><td>District of Columbia</td><td>DC</td><td>South        </td><td> 601723</td><td> 99</td><td>16.452753</td></tr>\n",
              "\t<tr><td>Louisiana           </td><td>LA</td><td>South        </td><td>4533372</td><td>351</td><td> 7.742581</td></tr>\n",
              "\t<tr><td>Missouri            </td><td>MO</td><td>North Central</td><td>5988927</td><td>321</td><td> 5.359892</td></tr>\n",
              "\t<tr><td>Maryland            </td><td>MD</td><td>South        </td><td>5773552</td><td>293</td><td> 5.074866</td></tr>\n",
              "\t<tr><td>South Carolina      </td><td>SC</td><td>South        </td><td>4625364</td><td>207</td><td> 4.475323</td></tr>\n",
              "\t<tr><td>Delaware            </td><td>DE</td><td>South        </td><td> 897934</td><td> 38</td><td> 4.231937</td></tr>\n",
              "\t<tr><td>Michigan            </td><td>MI</td><td>North Central</td><td>9883640</td><td>413</td><td> 4.178622</td></tr>\n",
              "\t<tr><td>Mississippi         </td><td>MS</td><td>South        </td><td>2967297</td><td>120</td><td> 4.044085</td></tr>\n",
              "\t<tr><td>Georgia             </td><td>GA</td><td>South        </td><td>9920000</td><td>376</td><td> 3.790323</td></tr>\n",
              "\t<tr><td>Arizona             </td><td>AZ</td><td>West         </td><td>6392017</td><td>232</td><td> 3.629527</td></tr>\n",
              "</tbody>\n",
              "</table>\n"
            ]
          },
          "metadata": {
            "tags": []
          }
        }
      ]
    }
  ]
}