{
  "nbformat": 4,
  "nbformat_minor": 0,
  "metadata": {
    "colab": {
      "name": "Introduction_to_Data_Visualization_Principles_1.ipynb",
      "provenance": [],
      "collapsed_sections": []
    },
    "kernelspec": {
      "name": "ir",
      "display_name": "R"
    },
    "accelerator": "GPU"
  },
  "cells": [
    {
      "cell_type": "markdown",
      "metadata": {
        "id": "sF1p4XdNUgZ7"
      },
      "source": [
        "# Introduction to Data Visualization Principles\n",
        "- We aim to provide some general guidelines for effective data visualization.\n",
        "- We show examples of plot styles to avoid, discuss how to improve them, and use these examples to explain research-based principles for effective visualization.\n",
        "- When choosing a visualization approach, keep your goal and audience in mind."
      ]
    },
    {
      "cell_type": "markdown",
      "metadata": {
        "id": "HU-eGDwAVSoX"
      },
      "source": [
        "#Encoding Data Using Visual Cues\n",
        "- Visual cues for encoding data include position, length, angle, area, brightness and color hue.\n",
        "- Position and length are the preferred way to display quantities, followed by angles, which are preferred over area. Brightness and color are even harder to quantify but can sometimes be useful.\n",
        "- Pie charts represent visual cues as both angles and area, while donut charts use only area. Humans are not good at visually quantifying angles and are even worse at quantifying area. Therefore pie and donut charts should be avoided - use a bar plot instead. If you must make a pie chart, include percentages as labels.\n",
        "- Bar plots represent visual cues as position and length. Humans are good at visually quantifying linear measures, making bar plots a strong alternative to pie or donut charts."
      ]
    },
    {
      "cell_type": "markdown",
      "metadata": {
        "id": "LcfXONIcVdV7"
      },
      "source": [
        "#Know When to Include Zero\n",
        "- When using bar plots, always start at 0. It is deceptive not to start at 0 because bar plots imply length is proportional to the quantity displayed. Cutting off the y-axis can make differences look bigger than they actually are.\n",
        "- When using position rather than length, it is not necessary to include 0 (scatterplot, dot plot, boxplot)."
      ]
    },
    {
      "cell_type": "markdown",
      "metadata": {
        "id": "66ZN37FaVoSe"
      },
      "source": [
        "#Do Not Distort Quantities\n",
        "- Make sure your visualizations encode the correct quantities.\n",
        "- For example, if you are using a plot that relies on circle area, make sure the area (rather than the radius) is proportional to the quantity."
      ]
    },
    {
      "cell_type": "markdown",
      "metadata": {
        "id": "JP0ltXB4WEjc"
      },
      "source": [
        "#Order by a Meaningful Value\n",
        "- It is easiest to visually extract information from a plot when categories are ordered by a meaningful value. The exact value on which to order will depend on your data and the message you wish to convey with your plot.\n",
        "- The default ordering for categories is alphabetical if the categories are strings or by factor level if factors. However, we rarely want alphabetical order."
      ]
    },
    {
      "cell_type": "code",
      "metadata": {
        "id": "uT9nljovWuHC"
      },
      "source": [
        "# Exercise\n",
        "Exercise 1: Customizing plots - Pie charts\n",
        "\n",
        "Pie charts are appropriate:\n",
        "Never. Barplots and tables are always better."
      ],
      "execution_count": null,
      "outputs": []
    }
  ]
}