{
  "nbformat": 4,
  "nbformat_minor": 0,
  "metadata": {
    "colab": {
      "name": " Exploratory_Data_Analysis.ipynb",
      "provenance": [],
      "collapsed_sections": []
    },
    "kernelspec": {
      "name": "ir",
      "display_name": "R"
    },
    "accelerator": "GPU"
  },
  "cells": [
    {
      "cell_type": "markdown",
      "metadata": {
        "id": "RUhY4gRaciZ0"
      },
      "source": [
        "- If a distribution is not normal, it cannot be summarized with only the mean and standard deviation. Provide a histogram, smooth density or boxplot instead.\n",
        "- A plot can force us to see unexpected results that make us question the quality or implications of our data."
      ]
    },
    {
      "cell_type": "markdown",
      "metadata": {
        "id": "K-ed4vKfcpZ2"
      },
      "source": [
        "##Assessment: Robust Summaries with Outliers"
      ]
    },
    {
      "cell_type": "markdown",
      "metadata": {
        "id": "dlf2kSaBrcqO"
      },
      "source": [
        "##Exercise 1. Exploring the Galton Dataset - Average and Median"
      ]
    },
    {
      "cell_type": "code",
      "metadata": {
        "colab": {
          "base_uri": "https://localhost:8080/",
          "height": 322
        },
        "id": "u7yr6Jf2rfcA",
        "outputId": "e6add00d-c1fe-427b-d76a-05e55beb1d22"
      },
      "source": [
        "install.packages(\"HistData\")\n",
        "library(HistData)\n",
        "data(Galton)\n",
        "x <- Galton$child\n",
        "x\n",
        "mean(x)\n",
        "median(x)"
      ],
      "execution_count": 5,
      "outputs": [
        {
          "output_type": "stream",
          "text": [
            "Installing package into ‘/usr/local/lib/R/site-library’\n",
            "(as ‘lib’ is unspecified)\n",
            "\n"
          ],
          "name": "stderr"
        },
        {
          "output_type": "display_data",
          "data": {
            "text/plain": [
              "  [1] 61.7 61.7 61.7 61.7 61.7 62.2 62.2 62.2 62.2 62.2 62.2 62.2 63.2 63.2 63.2\n",
              " [16] 63.2 63.2 63.2 63.2 63.2 63.2 63.2 63.2 63.2 63.2 63.2 63.2 63.2 63.2 63.2\n",
              " [31] 63.2 63.2 63.2 63.2 63.2 63.2 63.2 63.2 63.2 63.2 63.2 63.2 63.2 63.2 64.2\n",
              " [46] 64.2 64.2 64.2 64.2 64.2 64.2 64.2 64.2 64.2 64.2 64.2 64.2 64.2 64.2 64.2\n",
              " [61] 64.2 64.2 64.2 64.2 64.2 64.2 64.2 64.2 64.2 64.2 64.2 64.2 64.2 64.2 64.2\n",
              " [76] 64.2 64.2 64.2 64.2 64.2 64.2 64.2 64.2 64.2 64.2 64.2 64.2 64.2 64.2 64.2\n",
              " [91] 64.2 64.2 64.2 64.2 64.2 64.2 64.2 64.2 64.2 64.2 64.2 64.2 64.2 65.2 65.2\n",
              "[106] 65.2 65.2 65.2 65.2 65.2 65.2 65.2 65.2 65.2 65.2 65.2 65.2 65.2 65.2 65.2\n",
              "[121] 65.2 65.2 65.2 65.2 65.2 65.2 65.2 65.2 65.2 65.2 65.2 65.2 65.2 65.2 65.2\n",
              "[136] 65.2 65.2 65.2 65.2 65.2 65.2 65.2 65.2 65.2 65.2 65.2 65.2 65.2 65.2 65.2\n",
              "[151] 65.2 66.2 66.2 66.2 66.2 66.2 66.2 66.2 66.2 66.2 66.2 66.2 66.2 66.2 66.2\n",
              "[166] 66.2 66.2 66.2 66.2 66.2 66.2 66.2 66.2 66.2 66.2 66.2 66.2 66.2 66.2 66.2\n",
              "[181] 66.2 66.2 66.2 66.2 66.2 66.2 66.2 66.2 66.2 66.2 66.2 66.2 66.2 66.2 66.2\n",
              "[196] 66.2 66.2 66.2 66.2 66.2 66.2 66.2 66.2 66.2 66.2 66.2 66.2 66.2 66.2 66.2\n",
              "[211] 66.2 66.2 66.2 66.2 66.2 66.2 66.2 66.2 66.2 66.2 66.2 66.2 66.2 66.2 66.2\n",
              "[226] 66.2 66.2 66.2 66.2 66.2 66.2 66.2 66.2 66.2 66.2 66.2 66.2 66.2 66.2 66.2\n",
              "[241] 66.2 66.2 66.2 66.2 66.2 66.2 66.2 66.2 66.2 66.2 66.2 66.2 66.2 66.2 66.2\n",
              "[256] 66.2 66.2 66.2 66.2 66.2 66.2 66.2 66.2 66.2 66.2 66.2 66.2 66.2 67.2 67.2\n",
              "[271] 67.2 67.2 67.2 67.2 67.2 67.2 67.2 67.2 67.2 67.2 67.2 67.2 67.2 67.2 67.2\n",
              "[286] 67.2 67.2 67.2 67.2 67.2 67.2 67.2 67.2 67.2 67.2 67.2 67.2 67.2 67.2 67.2\n",
              "[301] 67.2 67.2 67.2 67.2 67.2 67.2 67.2 67.2 67.2 67.2 67.2 67.2 67.2 67.2 67.2\n",
              "[316] 67.2 67.2 67.2 67.2 67.2 67.2 67.2 67.2 67.2 67.2 67.2 67.2 67.2 67.2 67.2\n",
              "[331] 67.2 67.2 67.2 67.2 67.2 67.2 67.2 67.2 67.2 67.2 67.2 67.2 67.2 67.2 67.2\n",
              "[346] 67.2 67.2 67.2 67.2 67.2 67.2 67.2 67.2 67.2 67.2 67.2 67.2 67.2 67.2 67.2\n",
              "[361] 67.2 67.2 67.2 67.2 67.2 67.2 67.2 67.2 67.2 67.2 67.2 67.2 67.2 67.2 67.2\n",
              "[376] 67.2 67.2 67.2 67.2 67.2 67.2 67.2 67.2 67.2 67.2 67.2 67.2 67.2 67.2 67.2\n",
              "[391] 67.2 67.2 67.2 67.2 67.2 67.2 67.2 67.2 67.2 67.2 67.2 67.2 67.2 67.2 67.2\n",
              "[406] 67.2 68.2 68.2 68.2 68.2 68.2 68.2 68.2 68.2 68.2 68.2 68.2 68.2 68.2 68.2\n",
              "[421] 68.2 68.2 68.2 68.2 68.2 68.2 68.2 68.2 68.2 68.2 68.2 68.2 68.2 68.2 68.2\n",
              "[436] 68.2 68.2 68.2 68.2 68.2 68.2 68.2 68.2 68.2 68.2 68.2 68.2 68.2 68.2 68.2\n",
              "[451] 68.2 68.2 68.2 68.2 68.2 68.2 68.2 68.2 68.2 68.2 68.2 68.2 68.2 68.2 68.2\n",
              "[466] 68.2 68.2 68.2 68.2 68.2 68.2 68.2 68.2 68.2 68.2 68.2 68.2 68.2 68.2 68.2\n",
              "[481] 68.2 68.2 68.2 68.2 68.2 68.2 68.2 68.2 68.2 68.2 68.2 68.2 68.2 68.2 68.2\n",
              "[496] 68.2 68.2 68.2 68.2 68.2 68.2 68.2 68.2 68.2 68.2 68.2 68.2 68.2 68.2 68.2\n",
              "[511] 68.2 68.2 68.2 68.2 68.2 68.2 68.2 68.2 68.2 68.2 68.2 68.2 68.2 68.2 68.2\n",
              "[526] 68.2 69.2 69.2 69.2 69.2 69.2 69.2 69.2 69.2 69.2 69.2 69.2 69.2 69.2 69.2\n",
              "[541] 69.2 69.2 69.2 69.2 69.2 69.2 69.2 69.2 69.2 69.2 69.2 69.2 69.2 69.2 69.2\n",
              "[556] 69.2 69.2 69.2 69.2 69.2 69.2 69.2 69.2 69.2 69.2 69.2 69.2 69.2 69.2 69.2\n",
              "[571] 69.2 69.2 69.2 69.2 69.2 69.2 69.2 69.2 69.2 69.2 69.2 69.2 69.2 69.2 69.2\n",
              "[586] 69.2 69.2 69.2 69.2 69.2 69.2 69.2 69.2 69.2 69.2 69.2 69.2 69.2 69.2 69.2\n",
              "[601] 69.2 69.2 69.2 69.2 69.2 69.2 69.2 69.2 69.2 69.2 69.2 69.2 69.2 69.2 69.2\n",
              "[616] 69.2 69.2 69.2 69.2 69.2 69.2 69.2 69.2 69.2 69.2 69.2 69.2 69.2 69.2 69.2\n",
              "[631] 69.2 69.2 69.2 69.2 69.2 69.2 69.2 69.2 69.2 69.2 69.2 69.2 69.2 69.2 69.2\n",
              "[646] 69.2 69.2 69.2 69.2 69.2 69.2 69.2 69.2 69.2 69.2 69.2 69.2 69.2 69.2 69.2\n",
              "[661] 69.2 69.2 69.2 69.2 69.2 69.2 69.2 69.2 69.2 69.2 69.2 69.2 69.2 69.2 69.2\n",
              "[676] 69.2 69.2 69.2 69.2 69.2 69.2 69.2 69.2 69.2 69.2 69.2 69.2 69.2 69.2 69.2\n",
              "[691] 69.2 69.2 69.2 70.2 70.2 70.2 70.2 70.2 70.2 70.2 70.2 70.2 70.2 70.2 70.2\n",
              "[706] 70.2 70.2 70.2 70.2 70.2 70.2 70.2 70.2 70.2 70.2 70.2 70.2 70.2 70.2 70.2\n",
              "[721] 70.2 70.2 70.2 70.2 70.2 70.2 70.2 70.2 70.2 70.2 70.2 70.2 70.2 70.2 70.2\n",
              "[736] 70.2 70.2 70.2 70.2 70.2 70.2 70.2 70.2 70.2 70.2 70.2 70.2 70.2 70.2 70.2\n",
              "[751] 70.2 70.2 70.2 70.2 70.2 70.2 70.2 70.2 70.2 70.2 70.2 70.2 70.2 70.2 70.2\n",
              "[766] 70.2 70.2 70.2 70.2 70.2 70.2 70.2 70.2 70.2 70.2 70.2 70.2 70.2 70.2 70.2\n",
              "[781] 70.2 70.2 70.2 70.2 70.2 70.2 70.2 70.2 70.2 70.2 70.2 70.2 71.2 71.2 71.2\n",
              "[796] 71.2 71.2 71.2 71.2 71.2 71.2 71.2 71.2 71.2 71.2 71.2 71.2 71.2 71.2 71.2\n",
              "[811] 71.2 71.2 71.2 71.2 71.2 71.2 71.2 71.2 71.2 71.2 71.2 71.2 71.2 71.2 71.2\n",
              "[826] 71.2 71.2 71.2 71.2 71.2 71.2 71.2 71.2 71.2 71.2 71.2 71.2 71.2 71.2 71.2\n",
              "[841] 71.2 71.2 71.2 71.2 71.2 71.2 71.2 71.2 71.2 71.2 71.2 71.2 71.2 71.2 71.2\n",
              "[856] 71.2 72.2 72.2 72.2 72.2 72.2 72.2 72.2 72.2 72.2 72.2 72.2 72.2 72.2 72.2\n",
              "[871] 72.2 72.2 72.2 72.2 72.2 72.2 72.2 72.2 72.2 72.2 72.2 72.2 72.2 72.2 72.2\n",
              "[886] 72.2 72.2 72.2 72.2 72.2 72.2 72.2 72.2 72.2 72.2 72.2 72.2 73.2 73.2 73.2\n",
              "[901] 73.2 73.2 73.2 73.2 73.2 73.2 73.2 73.2 73.2 73.2 73.2 73.2 73.2 73.2 73.7\n",
              "[916] 73.7 73.7 73.7 73.7 73.7 73.7 73.7 73.7 73.7 73.7 73.7 73.7 73.7"
            ],
            "text/latex": "\\begin{enumerate*}\n\\item 61.7\n\\item 61.7\n\\item 61.7\n\\item 61.7\n\\item 61.7\n\\item 62.2\n\\item 62.2\n\\item 62.2\n\\item 62.2\n\\item 62.2\n\\item 62.2\n\\item 62.2\n\\item 63.2\n\\item 63.2\n\\item 63.2\n\\item 63.2\n\\item 63.2\n\\item 63.2\n\\item 63.2\n\\item 63.2\n\\item 63.2\n\\item 63.2\n\\item 63.2\n\\item 63.2\n\\item 63.2\n\\item 63.2\n\\item 63.2\n\\item 63.2\n\\item 63.2\n\\item 63.2\n\\item 63.2\n\\item 63.2\n\\item 63.2\n\\item 63.2\n\\item 63.2\n\\item 63.2\n\\item 63.2\n\\item 63.2\n\\item 63.2\n\\item 63.2\n\\item 63.2\n\\item 63.2\n\\item 63.2\n\\item 63.2\n\\item 64.2\n\\item 64.2\n\\item 64.2\n\\item 64.2\n\\item 64.2\n\\item 64.2\n\\item 64.2\n\\item 64.2\n\\item 64.2\n\\item 64.2\n\\item 64.2\n\\item 64.2\n\\item 64.2\n\\item 64.2\n\\item 64.2\n\\item 64.2\n\\item 64.2\n\\item 64.2\n\\item 64.2\n\\item 64.2\n\\item 64.2\n\\item 64.2\n\\item 64.2\n\\item 64.2\n\\item 64.2\n\\item 64.2\n\\item 64.2\n\\item 64.2\n\\item 64.2\n\\item 64.2\n\\item 64.2\n\\item 64.2\n\\item 64.2\n\\item 64.2\n\\item 64.2\n\\item 64.2\n\\item 64.2\n\\item 64.2\n\\item 64.2\n\\item 64.2\n\\item 64.2\n\\item 64.2\n\\item 64.2\n\\item 64.2\n\\item 64.2\n\\item 64.2\n\\item 64.2\n\\item 64.2\n\\item 64.2\n\\item 64.2\n\\item 64.2\n\\item 64.2\n\\item 64.2\n\\item 64.2\n\\item 64.2\n\\item 64.2\n\\item 64.2\n\\item 64.2\n\\item 64.2\n\\item 65.2\n\\item 65.2\n\\item 65.2\n\\item 65.2\n\\item 65.2\n\\item 65.2\n\\item 65.2\n\\item 65.2\n\\item 65.2\n\\item 65.2\n\\item 65.2\n\\item 65.2\n\\item 65.2\n\\item 65.2\n\\item 65.2\n\\item 65.2\n\\item 65.2\n\\item 65.2\n\\item 65.2\n\\item 65.2\n\\item 65.2\n\\item 65.2\n\\item 65.2\n\\item 65.2\n\\item 65.2\n\\item 65.2\n\\item 65.2\n\\item 65.2\n\\item 65.2\n\\item 65.2\n\\item 65.2\n\\item 65.2\n\\item 65.2\n\\item 65.2\n\\item 65.2\n\\item 65.2\n\\item 65.2\n\\item 65.2\n\\item 65.2\n\\item 65.2\n\\item 65.2\n\\item 65.2\n\\item 65.2\n\\item 65.2\n\\item 65.2\n\\item 65.2\n\\item 65.2\n\\item 65.2\n\\item 66.2\n\\item 66.2\n\\item 66.2\n\\item 66.2\n\\item 66.2\n\\item 66.2\n\\item 66.2\n\\item 66.2\n\\item 66.2\n\\item 66.2\n\\item 66.2\n\\item 66.2\n\\item 66.2\n\\item 66.2\n\\item 66.2\n\\item 66.2\n\\item 66.2\n\\item 66.2\n\\item 66.2\n\\item 66.2\n\\item 66.2\n\\item 66.2\n\\item 66.2\n\\item 66.2\n\\item 66.2\n\\item 66.2\n\\item 66.2\n\\item 66.2\n\\item 66.2\n\\item 66.2\n\\item 66.2\n\\item 66.2\n\\item 66.2\n\\item 66.2\n\\item 66.2\n\\item 66.2\n\\item 66.2\n\\item 66.2\n\\item 66.2\n\\item 66.2\n\\item 66.2\n\\item 66.2\n\\item 66.2\n\\item 66.2\n\\item 66.2\n\\item 66.2\n\\item 66.2\n\\item 66.2\n\\item 66.2\n\\item ⋯\n\\item 70.2\n\\item 70.2\n\\item 70.2\n\\item 70.2\n\\item 70.2\n\\item 70.2\n\\item 70.2\n\\item 70.2\n\\item 70.2\n\\item 70.2\n\\item 70.2\n\\item 70.2\n\\item 70.2\n\\item 70.2\n\\item 70.2\n\\item 70.2\n\\item 70.2\n\\item 70.2\n\\item 70.2\n\\item 70.2\n\\item 70.2\n\\item 70.2\n\\item 70.2\n\\item 70.2\n\\item 70.2\n\\item 70.2\n\\item 70.2\n\\item 70.2\n\\item 70.2\n\\item 70.2\n\\item 70.2\n\\item 70.2\n\\item 70.2\n\\item 70.2\n\\item 70.2\n\\item 70.2\n\\item 70.2\n\\item 70.2\n\\item 70.2\n\\item 70.2\n\\item 70.2\n\\item 70.2\n\\item 70.2\n\\item 70.2\n\\item 70.2\n\\item 70.2\n\\item 70.2\n\\item 70.2\n\\item 70.2\n\\item 70.2\n\\item 70.2\n\\item 70.2\n\\item 70.2\n\\item 70.2\n\\item 70.2\n\\item 70.2\n\\item 70.2\n\\item 70.2\n\\item 70.2\n\\item 70.2\n\\item 70.2\n\\item 70.2\n\\item 70.2\n\\item 70.2\n\\item 71.2\n\\item 71.2\n\\item 71.2\n\\item 71.2\n\\item 71.2\n\\item 71.2\n\\item 71.2\n\\item 71.2\n\\item 71.2\n\\item 71.2\n\\item 71.2\n\\item 71.2\n\\item 71.2\n\\item 71.2\n\\item 71.2\n\\item 71.2\n\\item 71.2\n\\item 71.2\n\\item 71.2\n\\item 71.2\n\\item 71.2\n\\item 71.2\n\\item 71.2\n\\item 71.2\n\\item 71.2\n\\item 71.2\n\\item 71.2\n\\item 71.2\n\\item 71.2\n\\item 71.2\n\\item 71.2\n\\item 71.2\n\\item 71.2\n\\item 71.2\n\\item 71.2\n\\item 71.2\n\\item 71.2\n\\item 71.2\n\\item 71.2\n\\item 71.2\n\\item 71.2\n\\item 71.2\n\\item 71.2\n\\item 71.2\n\\item 71.2\n\\item 71.2\n\\item 71.2\n\\item 71.2\n\\item 71.2\n\\item 71.2\n\\item 71.2\n\\item 71.2\n\\item 71.2\n\\item 71.2\n\\item 71.2\n\\item 71.2\n\\item 71.2\n\\item 71.2\n\\item 71.2\n\\item 71.2\n\\item 71.2\n\\item 71.2\n\\item 71.2\n\\item 71.2\n\\item 72.2\n\\item 72.2\n\\item 72.2\n\\item 72.2\n\\item 72.2\n\\item 72.2\n\\item 72.2\n\\item 72.2\n\\item 72.2\n\\item 72.2\n\\item 72.2\n\\item 72.2\n\\item 72.2\n\\item 72.2\n\\item 72.2\n\\item 72.2\n\\item 72.2\n\\item 72.2\n\\item 72.2\n\\item 72.2\n\\item 72.2\n\\item 72.2\n\\item 72.2\n\\item 72.2\n\\item 72.2\n\\item 72.2\n\\item 72.2\n\\item 72.2\n\\item 72.2\n\\item 72.2\n\\item 72.2\n\\item 72.2\n\\item 72.2\n\\item 72.2\n\\item 72.2\n\\item 72.2\n\\item 72.2\n\\item 72.2\n\\item 72.2\n\\item 72.2\n\\item 72.2\n\\item 73.2\n\\item 73.2\n\\item 73.2\n\\item 73.2\n\\item 73.2\n\\item 73.2\n\\item 73.2\n\\item 73.2\n\\item 73.2\n\\item 73.2\n\\item 73.2\n\\item 73.2\n\\item 73.2\n\\item 73.2\n\\item 73.2\n\\item 73.2\n\\item 73.2\n\\item 73.7\n\\item 73.7\n\\item 73.7\n\\item 73.7\n\\item 73.7\n\\item 73.7\n\\item 73.7\n\\item 73.7\n\\item 73.7\n\\item 73.7\n\\item 73.7\n\\item 73.7\n\\item 73.7\n\\item 73.7\n\\end{enumerate*}\n",
            "text/markdown": "1. 61.7\n2. 61.7\n3. 61.7\n4. 61.7\n5. 61.7\n6. 62.2\n7. 62.2\n8. 62.2\n9. 62.2\n10. 62.2\n11. 62.2\n12. 62.2\n13. 63.2\n14. 63.2\n15. 63.2\n16. 63.2\n17. 63.2\n18. 63.2\n19. 63.2\n20. 63.2\n21. 63.2\n22. 63.2\n23. 63.2\n24. 63.2\n25. 63.2\n26. 63.2\n27. 63.2\n28. 63.2\n29. 63.2\n30. 63.2\n31. 63.2\n32. 63.2\n33. 63.2\n34. 63.2\n35. 63.2\n36. 63.2\n37. 63.2\n38. 63.2\n39. 63.2\n40. 63.2\n41. 63.2\n42. 63.2\n43. 63.2\n44. 63.2\n45. 64.2\n46. 64.2\n47. 64.2\n48. 64.2\n49. 64.2\n50. 64.2\n51. 64.2\n52. 64.2\n53. 64.2\n54. 64.2\n55. 64.2\n56. 64.2\n57. 64.2\n58. 64.2\n59. 64.2\n60. 64.2\n61. 64.2\n62. 64.2\n63. 64.2\n64. 64.2\n65. 64.2\n66. 64.2\n67. 64.2\n68. 64.2\n69. 64.2\n70. 64.2\n71. 64.2\n72. 64.2\n73. 64.2\n74. 64.2\n75. 64.2\n76. 64.2\n77. 64.2\n78. 64.2\n79. 64.2\n80. 64.2\n81. 64.2\n82. 64.2\n83. 64.2\n84. 64.2\n85. 64.2\n86. 64.2\n87. 64.2\n88. 64.2\n89. 64.2\n90. 64.2\n91. 64.2\n92. 64.2\n93. 64.2\n94. 64.2\n95. 64.2\n96. 64.2\n97. 64.2\n98. 64.2\n99. 64.2\n100. 64.2\n101. 64.2\n102. 64.2\n103. 64.2\n104. 65.2\n105. 65.2\n106. 65.2\n107. 65.2\n108. 65.2\n109. 65.2\n110. 65.2\n111. 65.2\n112. 65.2\n113. 65.2\n114. 65.2\n115. 65.2\n116. 65.2\n117. 65.2\n118. 65.2\n119. 65.2\n120. 65.2\n121. 65.2\n122. 65.2\n123. 65.2\n124. 65.2\n125. 65.2\n126. 65.2\n127. 65.2\n128. 65.2\n129. 65.2\n130. 65.2\n131. 65.2\n132. 65.2\n133. 65.2\n134. 65.2\n135. 65.2\n136. 65.2\n137. 65.2\n138. 65.2\n139. 65.2\n140. 65.2\n141. 65.2\n142. 65.2\n143. 65.2\n144. 65.2\n145. 65.2\n146. 65.2\n147. 65.2\n148. 65.2\n149. 65.2\n150. 65.2\n151. 65.2\n152. 66.2\n153. 66.2\n154. 66.2\n155. 66.2\n156. 66.2\n157. 66.2\n158. 66.2\n159. 66.2\n160. 66.2\n161. 66.2\n162. 66.2\n163. 66.2\n164. 66.2\n165. 66.2\n166. 66.2\n167. 66.2\n168. 66.2\n169. 66.2\n170. 66.2\n171. 66.2\n172. 66.2\n173. 66.2\n174. 66.2\n175. 66.2\n176. 66.2\n177. 66.2\n178. 66.2\n179. 66.2\n180. 66.2\n181. 66.2\n182. 66.2\n183. 66.2\n184. 66.2\n185. 66.2\n186. 66.2\n187. 66.2\n188. 66.2\n189. 66.2\n190. 66.2\n191. 66.2\n192. 66.2\n193. 66.2\n194. 66.2\n195. 66.2\n196. 66.2\n197. 66.2\n198. 66.2\n199. 66.2\n200. 66.2\n201. ⋯\n202. 70.2\n203. 70.2\n204. 70.2\n205. 70.2\n206. 70.2\n207. 70.2\n208. 70.2\n209. 70.2\n210. 70.2\n211. 70.2\n212. 70.2\n213. 70.2\n214. 70.2\n215. 70.2\n216. 70.2\n217. 70.2\n218. 70.2\n219. 70.2\n220. 70.2\n221. 70.2\n222. 70.2\n223. 70.2\n224. 70.2\n225. 70.2\n226. 70.2\n227. 70.2\n228. 70.2\n229. 70.2\n230. 70.2\n231. 70.2\n232. 70.2\n233. 70.2\n234. 70.2\n235. 70.2\n236. 70.2\n237. 70.2\n238. 70.2\n239. 70.2\n240. 70.2\n241. 70.2\n242. 70.2\n243. 70.2\n244. 70.2\n245. 70.2\n246. 70.2\n247. 70.2\n248. 70.2\n249. 70.2\n250. 70.2\n251. 70.2\n252. 70.2\n253. 70.2\n254. 70.2\n255. 70.2\n256. 70.2\n257. 70.2\n258. 70.2\n259. 70.2\n260. 70.2\n261. 70.2\n262. 70.2\n263. 70.2\n264. 70.2\n265. 70.2\n266. 71.2\n267. 71.2\n268. 71.2\n269. 71.2\n270. 71.2\n271. 71.2\n272. 71.2\n273. 71.2\n274. 71.2\n275. 71.2\n276. 71.2\n277. 71.2\n278. 71.2\n279. 71.2\n280. 71.2\n281. 71.2\n282. 71.2\n283. 71.2\n284. 71.2\n285. 71.2\n286. 71.2\n287. 71.2\n288. 71.2\n289. 71.2\n290. 71.2\n291. 71.2\n292. 71.2\n293. 71.2\n294. 71.2\n295. 71.2\n296. 71.2\n297. 71.2\n298. 71.2\n299. 71.2\n300. 71.2\n301. 71.2\n302. 71.2\n303. 71.2\n304. 71.2\n305. 71.2\n306. 71.2\n307. 71.2\n308. 71.2\n309. 71.2\n310. 71.2\n311. 71.2\n312. 71.2\n313. 71.2\n314. 71.2\n315. 71.2\n316. 71.2\n317. 71.2\n318. 71.2\n319. 71.2\n320. 71.2\n321. 71.2\n322. 71.2\n323. 71.2\n324. 71.2\n325. 71.2\n326. 71.2\n327. 71.2\n328. 71.2\n329. 71.2\n330. 72.2\n331. 72.2\n332. 72.2\n333. 72.2\n334. 72.2\n335. 72.2\n336. 72.2\n337. 72.2\n338. 72.2\n339. 72.2\n340. 72.2\n341. 72.2\n342. 72.2\n343. 72.2\n344. 72.2\n345. 72.2\n346. 72.2\n347. 72.2\n348. 72.2\n349. 72.2\n350. 72.2\n351. 72.2\n352. 72.2\n353. 72.2\n354. 72.2\n355. 72.2\n356. 72.2\n357. 72.2\n358. 72.2\n359. 72.2\n360. 72.2\n361. 72.2\n362. 72.2\n363. 72.2\n364. 72.2\n365. 72.2\n366. 72.2\n367. 72.2\n368. 72.2\n369. 72.2\n370. 72.2\n371. 73.2\n372. 73.2\n373. 73.2\n374. 73.2\n375. 73.2\n376. 73.2\n377. 73.2\n378. 73.2\n379. 73.2\n380. 73.2\n381. 73.2\n382. 73.2\n383. 73.2\n384. 73.2\n385. 73.2\n386. 73.2\n387. 73.2\n388. 73.7\n389. 73.7\n390. 73.7\n391. 73.7\n392. 73.7\n393. 73.7\n394. 73.7\n395. 73.7\n396. 73.7\n397. 73.7\n398. 73.7\n399. 73.7\n400. 73.7\n401. 73.7\n\n\n",
            "text/html": [
              "<style>\n",
              ".list-inline {list-style: none; margin:0; padding: 0}\n",
              ".list-inline>li {display: inline-block}\n",
              ".list-inline>li:not(:last-child)::after {content: \"\\00b7\"; padding: 0 .5ex}\n",
              "</style>\n",
              "<ol class=list-inline><li>61.7</li><li>61.7</li><li>61.7</li><li>61.7</li><li>61.7</li><li>62.2</li><li>62.2</li><li>62.2</li><li>62.2</li><li>62.2</li><li>62.2</li><li>62.2</li><li>63.2</li><li>63.2</li><li>63.2</li><li>63.2</li><li>63.2</li><li>63.2</li><li>63.2</li><li>63.2</li><li>63.2</li><li>63.2</li><li>63.2</li><li>63.2</li><li>63.2</li><li>63.2</li><li>63.2</li><li>63.2</li><li>63.2</li><li>63.2</li><li>63.2</li><li>63.2</li><li>63.2</li><li>63.2</li><li>63.2</li><li>63.2</li><li>63.2</li><li>63.2</li><li>63.2</li><li>63.2</li><li>63.2</li><li>63.2</li><li>63.2</li><li>63.2</li><li>64.2</li><li>64.2</li><li>64.2</li><li>64.2</li><li>64.2</li><li>64.2</li><li>64.2</li><li>64.2</li><li>64.2</li><li>64.2</li><li>64.2</li><li>64.2</li><li>64.2</li><li>64.2</li><li>64.2</li><li>64.2</li><li>64.2</li><li>64.2</li><li>64.2</li><li>64.2</li><li>64.2</li><li>64.2</li><li>64.2</li><li>64.2</li><li>64.2</li><li>64.2</li><li>64.2</li><li>64.2</li><li>64.2</li><li>64.2</li><li>64.2</li><li>64.2</li><li>64.2</li><li>64.2</li><li>64.2</li><li>64.2</li><li>64.2</li><li>64.2</li><li>64.2</li><li>64.2</li><li>64.2</li><li>64.2</li><li>64.2</li><li>64.2</li><li>64.2</li><li>64.2</li><li>64.2</li><li>64.2</li><li>64.2</li><li>64.2</li><li>64.2</li><li>64.2</li><li>64.2</li><li>64.2</li><li>64.2</li><li>64.2</li><li>64.2</li><li>64.2</li><li>64.2</li><li>65.2</li><li>65.2</li><li>65.2</li><li>65.2</li><li>65.2</li><li>65.2</li><li>65.2</li><li>65.2</li><li>65.2</li><li>65.2</li><li>65.2</li><li>65.2</li><li>65.2</li><li>65.2</li><li>65.2</li><li>65.2</li><li>65.2</li><li>65.2</li><li>65.2</li><li>65.2</li><li>65.2</li><li>65.2</li><li>65.2</li><li>65.2</li><li>65.2</li><li>65.2</li><li>65.2</li><li>65.2</li><li>65.2</li><li>65.2</li><li>65.2</li><li>65.2</li><li>65.2</li><li>65.2</li><li>65.2</li><li>65.2</li><li>65.2</li><li>65.2</li><li>65.2</li><li>65.2</li><li>65.2</li><li>65.2</li><li>65.2</li><li>65.2</li><li>65.2</li><li>65.2</li><li>65.2</li><li>65.2</li><li>66.2</li><li>66.2</li><li>66.2</li><li>66.2</li><li>66.2</li><li>66.2</li><li>66.2</li><li>66.2</li><li>66.2</li><li>66.2</li><li>66.2</li><li>66.2</li><li>66.2</li><li>66.2</li><li>66.2</li><li>66.2</li><li>66.2</li><li>66.2</li><li>66.2</li><li>66.2</li><li>66.2</li><li>66.2</li><li>66.2</li><li>66.2</li><li>66.2</li><li>66.2</li><li>66.2</li><li>66.2</li><li>66.2</li><li>66.2</li><li>66.2</li><li>66.2</li><li>66.2</li><li>66.2</li><li>66.2</li><li>66.2</li><li>66.2</li><li>66.2</li><li>66.2</li><li>66.2</li><li>66.2</li><li>66.2</li><li>66.2</li><li>66.2</li><li>66.2</li><li>66.2</li><li>66.2</li><li>66.2</li><li>66.2</li><li>⋯</li><li>70.2</li><li>70.2</li><li>70.2</li><li>70.2</li><li>70.2</li><li>70.2</li><li>70.2</li><li>70.2</li><li>70.2</li><li>70.2</li><li>70.2</li><li>70.2</li><li>70.2</li><li>70.2</li><li>70.2</li><li>70.2</li><li>70.2</li><li>70.2</li><li>70.2</li><li>70.2</li><li>70.2</li><li>70.2</li><li>70.2</li><li>70.2</li><li>70.2</li><li>70.2</li><li>70.2</li><li>70.2</li><li>70.2</li><li>70.2</li><li>70.2</li><li>70.2</li><li>70.2</li><li>70.2</li><li>70.2</li><li>70.2</li><li>70.2</li><li>70.2</li><li>70.2</li><li>70.2</li><li>70.2</li><li>70.2</li><li>70.2</li><li>70.2</li><li>70.2</li><li>70.2</li><li>70.2</li><li>70.2</li><li>70.2</li><li>70.2</li><li>70.2</li><li>70.2</li><li>70.2</li><li>70.2</li><li>70.2</li><li>70.2</li><li>70.2</li><li>70.2</li><li>70.2</li><li>70.2</li><li>70.2</li><li>70.2</li><li>70.2</li><li>70.2</li><li>71.2</li><li>71.2</li><li>71.2</li><li>71.2</li><li>71.2</li><li>71.2</li><li>71.2</li><li>71.2</li><li>71.2</li><li>71.2</li><li>71.2</li><li>71.2</li><li>71.2</li><li>71.2</li><li>71.2</li><li>71.2</li><li>71.2</li><li>71.2</li><li>71.2</li><li>71.2</li><li>71.2</li><li>71.2</li><li>71.2</li><li>71.2</li><li>71.2</li><li>71.2</li><li>71.2</li><li>71.2</li><li>71.2</li><li>71.2</li><li>71.2</li><li>71.2</li><li>71.2</li><li>71.2</li><li>71.2</li><li>71.2</li><li>71.2</li><li>71.2</li><li>71.2</li><li>71.2</li><li>71.2</li><li>71.2</li><li>71.2</li><li>71.2</li><li>71.2</li><li>71.2</li><li>71.2</li><li>71.2</li><li>71.2</li><li>71.2</li><li>71.2</li><li>71.2</li><li>71.2</li><li>71.2</li><li>71.2</li><li>71.2</li><li>71.2</li><li>71.2</li><li>71.2</li><li>71.2</li><li>71.2</li><li>71.2</li><li>71.2</li><li>71.2</li><li>72.2</li><li>72.2</li><li>72.2</li><li>72.2</li><li>72.2</li><li>72.2</li><li>72.2</li><li>72.2</li><li>72.2</li><li>72.2</li><li>72.2</li><li>72.2</li><li>72.2</li><li>72.2</li><li>72.2</li><li>72.2</li><li>72.2</li><li>72.2</li><li>72.2</li><li>72.2</li><li>72.2</li><li>72.2</li><li>72.2</li><li>72.2</li><li>72.2</li><li>72.2</li><li>72.2</li><li>72.2</li><li>72.2</li><li>72.2</li><li>72.2</li><li>72.2</li><li>72.2</li><li>72.2</li><li>72.2</li><li>72.2</li><li>72.2</li><li>72.2</li><li>72.2</li><li>72.2</li><li>72.2</li><li>73.2</li><li>73.2</li><li>73.2</li><li>73.2</li><li>73.2</li><li>73.2</li><li>73.2</li><li>73.2</li><li>73.2</li><li>73.2</li><li>73.2</li><li>73.2</li><li>73.2</li><li>73.2</li><li>73.2</li><li>73.2</li><li>73.2</li><li>73.7</li><li>73.7</li><li>73.7</li><li>73.7</li><li>73.7</li><li>73.7</li><li>73.7</li><li>73.7</li><li>73.7</li><li>73.7</li><li>73.7</li><li>73.7</li><li>73.7</li><li>73.7</li></ol>\n"
            ]
          },
          "metadata": {
            "tags": []
          }
        },
        {
          "output_type": "display_data",
          "data": {
            "text/plain": [
              "[1] 68.08847"
            ],
            "text/latex": "68.0884698275862",
            "text/markdown": "68.0884698275862",
            "text/html": [
              "68.0884698275862"
            ]
          },
          "metadata": {
            "tags": []
          }
        },
        {
          "output_type": "display_data",
          "data": {
            "text/plain": [
              "[1] 68.2"
            ],
            "text/latex": "68.2",
            "text/markdown": "68.2",
            "text/html": [
              "68.2"
            ]
          },
          "metadata": {
            "tags": []
          }
        }
      ]
    },
    {
      "cell_type": "markdown",
      "metadata": {
        "id": "UxKc7m1prrTp"
      },
      "source": [
        "##Exercise 2. Exploring the Galton Dataset - SD and MAD"
      ]
    },
    {
      "cell_type": "code",
      "metadata": {
        "colab": {
          "base_uri": "https://localhost:8080/",
          "height": 50
        },
        "id": "GiapkoFcrtKb",
        "outputId": "aee84d1b-4f1c-4baf-b766-2d2a8ede1b7e"
      },
      "source": [
        "library(HistData)\n",
        "data(Galton)\n",
        "x <- Galton$child\n",
        "sd(x)\n",
        "#median absolute deviation (MAD)\n",
        "mad(x)"
      ],
      "execution_count": 3,
      "outputs": [
        {
          "output_type": "display_data",
          "data": {
            "text/plain": [
              "[1] 2.517941"
            ],
            "text/latex": "2.51794136627677",
            "text/markdown": "2.51794136627677",
            "text/html": [
              "2.51794136627677"
            ]
          },
          "metadata": {
            "tags": []
          }
        },
        {
          "output_type": "display_data",
          "data": {
            "text/plain": [
              "[1] 2.9652"
            ],
            "text/latex": "2.9652",
            "text/markdown": "2.9652",
            "text/html": [
              "2.9652"
            ]
          },
          "metadata": {
            "tags": []
          }
        }
      ]
    },
    {
      "cell_type": "markdown",
      "metadata": {
        "id": "YuWeMV5pr7dg"
      },
      "source": [
        "##Exercise 3. Error impact on average"
      ]
    },
    {
      "cell_type": "code",
      "metadata": {
        "colab": {
          "base_uri": "https://localhost:8080/",
          "height": 34
        },
        "id": "d4HB-RqvruZ6",
        "outputId": "f6507179-653b-4e1f-ea9e-33c8e2c2ffe2"
      },
      "source": [
        "library(HistData)\n",
        "data(Galton)\n",
        "x <- Galton$child\n",
        "x_with_error <- x\n",
        "x_with_error[1] <- x_with_error[1]*10\n",
        "mean(x_with_error)- mean(x)"
      ],
      "execution_count": 4,
      "outputs": [
        {
          "output_type": "display_data",
          "data": {
            "text/plain": [
              "[1] 0.5983836"
            ],
            "text/latex": "0.59838362068966",
            "text/markdown": "0.59838362068966",
            "text/html": [
              "0.59838362068966"
            ]
          },
          "metadata": {
            "tags": []
          }
        }
      ]
    },
    {
      "cell_type": "markdown",
      "metadata": {
        "id": "w20zCl_9snX5"
      },
      "source": [
        "#Exercise 4. Error impact on SD"
      ]
    },
    {
      "cell_type": "code",
      "metadata": {
        "colab": {
          "base_uri": "https://localhost:8080/",
          "height": 34
        },
        "id": "9hK7JEtosm-c",
        "outputId": "cae13a2c-9fdf-4348-e42a-e23ba69f2fd4"
      },
      "source": [
        "x_with_error <- x\n",
        "x_with_error[1] <- x_with_error[1]*10\n",
        "sd(x_with_error)-sd(x)"
      ],
      "execution_count": 6,
      "outputs": [
        {
          "output_type": "display_data",
          "data": {
            "text/plain": [
              "[1] 15.6746"
            ],
            "text/latex": "15.6746036534738",
            "text/markdown": "15.6746036534738",
            "text/html": [
              "15.6746036534738"
            ]
          },
          "metadata": {
            "tags": []
          }
        }
      ]
    },
    {
      "cell_type": "markdown",
      "metadata": {
        "id": "AuJzmbB3srMJ"
      },
      "source": [
        "##Exercise 5. Error impact on median"
      ]
    },
    {
      "cell_type": "code",
      "metadata": {
        "colab": {
          "base_uri": "https://localhost:8080/",
          "height": 34
        },
        "id": "4jWTljursu_Y",
        "outputId": "549a89c4-29b6-452a-8fad-4617603c895d"
      },
      "source": [
        "x_with_error <- x\n",
        "x_with_error[1] <- x_with_error[1]*10\n",
        "median(x_with_error)-median(x)"
      ],
      "execution_count": 7,
      "outputs": [
        {
          "output_type": "display_data",
          "data": {
            "text/plain": [
              "[1] 0"
            ],
            "text/latex": "0",
            "text/markdown": "0",
            "text/html": [
              "0"
            ]
          },
          "metadata": {
            "tags": []
          }
        }
      ]
    },
    {
      "cell_type": "markdown",
      "metadata": {
        "id": "UqFHtGkqsx9C"
      },
      "source": [
        "##Exercise 6. Error impact on MAD"
      ]
    },
    {
      "cell_type": "code",
      "metadata": {
        "colab": {
          "base_uri": "https://localhost:8080/",
          "height": 34
        },
        "id": "VD-IzfXas087",
        "outputId": "9f794de7-956f-43aa-af56-4e4208bf1462"
      },
      "source": [
        "x_with_error <- x\n",
        "x_with_error[1] <- x_with_error[1]*10\n",
        "mad(x_with_error)-mad(x)"
      ],
      "execution_count": 8,
      "outputs": [
        {
          "output_type": "display_data",
          "data": {
            "text/plain": [
              "[1] 0"
            ],
            "text/latex": "0",
            "text/markdown": "0",
            "text/html": [
              "0"
            ]
          },
          "metadata": {
            "tags": []
          }
        }
      ]
    },
    {
      "cell_type": "markdown",
      "metadata": {
        "id": "E-lrF9VqtE7c"
      },
      "source": [
        "##Exercise 7. Usefulness of EDA"
      ]
    },
    {
      "cell_type": "code",
      "metadata": {
        "id": "S1HpeZc6tF65"
      },
      "source": [
        "How could you use exploratory data analysis to detect that an error was made?\n",
        "Ans: A boxplot, histogram, or qq-plot would reveal a clear outlier.\n"
      ],
      "execution_count": null,
      "outputs": []
    },
    {
      "cell_type": "markdown",
      "metadata": {
        "id": "TczHW_T1tOHz"
      },
      "source": [
        "##Exercise 8. Using EDA to explore changes\n",
        "- We have seen how the average can be affected by outliers. But how large can this effect get? This of course depends on the size of the outlier and the size of the dataset.\n",
        "\n",
        "- To see how outliers can affect the average of a dataset, let's write a simple function that takes the size of the outlier as input and returns the average."
      ]
    },
    {
      "cell_type": "code",
      "metadata": {
        "colab": {
          "base_uri": "https://localhost:8080/",
          "height": 50
        },
        "id": "-pWrANY3tP2J",
        "outputId": "12e9a2ab-bf33-454c-b21d-f771636f4fd9"
      },
      "source": [
        "x <- Galton$child\n",
        "error_avg <- function(k){\n",
        "    x[1] <- k\n",
        "    mean(x)\n",
        "}\n",
        "error_avg(10000)\n",
        "error_avg(-10000)\n"
      ],
      "execution_count": 9,
      "outputs": [
        {
          "output_type": "display_data",
          "data": {
            "text/plain": [
              "[1] 78.79784"
            ],
            "text/latex": "78.7978448275862",
            "text/markdown": "78.7978448275862",
            "text/html": [
              "78.7978448275862"
            ]
          },
          "metadata": {
            "tags": []
          }
        },
        {
          "output_type": "display_data",
          "data": {
            "text/plain": [
              "[1] 57.24612"
            ],
            "text/latex": "57.2461206896552",
            "text/markdown": "57.2461206896552",
            "text/html": [
              "57.2461206896552"
            ]
          },
          "metadata": {
            "tags": []
          }
        }
      ]
    },
    {
      "cell_type": "markdown",
      "metadata": {
        "id": "qdwcgadqtdD0"
      },
      "source": [
        ""
      ]
    }
  ]
}