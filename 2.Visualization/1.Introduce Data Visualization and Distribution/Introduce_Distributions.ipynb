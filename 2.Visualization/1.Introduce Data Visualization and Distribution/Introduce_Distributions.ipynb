{
  "nbformat": 4,
  "nbformat_minor": 0,
  "metadata": {
    "colab": {
      "name": "Introduce_Distributions.ipynb",
      "provenance": [],
      "collapsed_sections": []
    },
    "kernelspec": {
      "name": "ir",
      "display_name": "R"
    },
    "accelerator": "GPU"
  },
  "cells": [
    {
      "cell_type": "markdown",
      "metadata": {
        "id": "BKRp6tJNu8kG"
      },
      "source": [
        "## Describel Heights to ET\n",
        "- A distribution is a function or description tha shows the possible values og a variable and how often those values occur.\n",
        "- For categorical variables, the distribution describes the proportions of each category.\n",
        "- A frequency table is the simplest way to show a categorical distribution. Use prop.table() to convert a table of counts to a frequency table. Barplots display the distribution of categorical variables and are a way to visualize the information in frequency tables.\n",
        "- For continuous numerical data, reporting the frequency of each unique entry is not an effective summary as many or most values are unique. Instead, a distribution function is required.\n",
        "- The cumulative distribution function (CDF) is a function that reports the proportion of data below a value  a  for all values of  a :  F(a)=Pr(x≤a) .\n",
        "- The proportion of observations between any two values  a  and  b  can be computed from the CDF as  F(b)−F(a) .\n",
        "- A histogram divides data into non-overlapping bins of the same size and plots the counts of number of values that fall in that interval."
      ]
    },
    {
      "cell_type": "code",
      "metadata": {
        "colab": {
          "base_uri": "https://localhost:8080/",
          "height": 70
        },
        "id": "bLX6jmVzvYrI",
        "outputId": "a9ba8555-a08a-4d42-927b-5e21e8320e84"
      },
      "source": [
        "# make a table of category proportions\n",
        "prop.table(table(heights$sex))"
      ],
      "execution_count": null,
      "outputs": [
        {
          "output_type": "display_data",
          "data": {
            "text/plain": [
              "\n",
              "   Female      Male \n",
              "0.2266667 0.7733333 "
            ]
          },
          "metadata": {
            "tags": []
          }
        }
      ]
    },
    {
      "cell_type": "markdown",
      "metadata": {
        "id": "IdK8eA0GPnDY"
      },
      "source": [
        "##Cumulative Distribution Function\n",
        "- Every continuous distribution has a cumulative distribution function (CDF). The CDF defines the proportion of the data below a given value  a  for all values of  a :\n",
        "        F(a)=Pr(x≤a) \n",
        "      \n",
        "- Any continuous dataset has a CDF, not only normal distributions. For example, the male heights data we used in the previous section has this CDF.\n",
        "- The CDF is essential for calculating probabilities related to continuous data. In a continuous dataset, the probability of a specific exact value is not informative because most entries are unique. For example, in the student heights data, only one individual reported a height of 68.8976377952726 inches, but many students rounded similar heights to 69 inches. If we computed exact value probabilities, we would find that being exactly 69 inches is much more likely than being a non-integer exact height, which does not match our understanding that height is continuous. We can instead use the CDF to obtain a useful summary, such as the probability that a student is between 68.5 and 69.5 inches. \n",
        "- For datasets that are not normal, the CDF can be calculated manually by defining a function to compute the probability above. This function can then be applied to a range of values across the range of the dataset to calculate a CDF. Given a dataset my_data, the CDF can be calculated and plotted like this:"
      ]
    },
    {
      "cell_type": "code",
      "metadata": {
        "id": "ESFpw0IYQLD7"
      },
      "source": [
        "a <- seq(min(my_data), max(my_data), length = 100)    # define range of values spanning the dataset\n",
        "cdf_function <- function(x) {    # computes prob. for a single value\n",
        "    mean(my_data <= x)\n",
        "}\n",
        "cdf_values <- sapply(a, cdf_function)\n",
        "plot(a, cdf_values)"
      ],
      "execution_count": null,
      "outputs": []
    },
    {
      "cell_type": "markdown",
      "metadata": {
        "id": "HRq3KB_LQQbD"
      },
      "source": [
        "- The CDF defines that proportion of data below a cutoff  a . To define the proportion of values above  a , we compute:\n",
        "\n",
        "      1−F(a) \n",
        "- To define the proportion of values between  a  and  b , we compute:\n",
        "\n",
        "      F(b)−F(a) \n",
        "- Note that the CDF can help compute probabilities. The probability of observing a randomly chosen value between  a  and  b  is equal to the proportion of values between  a  and  b , which we compute with the CDF.\n",
        "\n"
      ]
    },
    {
      "cell_type": "markdown",
      "metadata": {
        "id": "H8PD1_UwQeNB"
      },
      "source": [
        "## Smooth Density Plots\n",
        "- Smooth density plots can be thought of as histograms where the bin width is extremely or infinitely small. The smoothing function makes estimates of the true continuous trend of the data given the available sample of data points.\n",
        "- The degree of smoothness can be controlled by an argument in the plotting function. (We will learn functions for plotting later.)\n",
        "- While the histogram is an assumption-free summary, the smooth density plot is shaped by assumptions and choices you make as a data analyst.\n",
        "- The y-axis is scaled so that the area under the density curve sums to 1. This means that interpreting values on the y-axis is not straightforward. - To determine the proportion of data in between two values, compute the area under the smooth density curve in the region between those values.\n",
        "An advantage of smooth densities over histograms is that densities are easier to compare visually.\n",
        "-A further note on histograms: \n",
        "Note that the choice of binwidth has a determinative effect on shape. There is no \"correct\" choice for binwidth, and you can sometimes gain insights into the data by experimenting with binwidths."
      ]
    },
    {
      "cell_type": "markdown",
      "metadata": {
        "id": "A_kb9JwHRDpO"
      },
      "source": [
        "## Assessment: Distributions\n",
        "ezz"
      ]
    },
    {
      "cell_type": "markdown",
      "metadata": {
        "id": "ESZyZldySJBF"
      },
      "source": [
        "## Normal Distribution\n",
        "- The normal distribution:\n",
        "    - Is centered around one value, the mean\n",
        "    - Is symmetric around the mean\n",
        "    - Is defined completely by its mean ( μ ) and standard deviation (  σ  )\n",
        "    - Always has the same proportion of observations within a given distance of the mean (for example, 95% within 2  σ )\n",
        "- The standard deviation is the average distance between a value and the mean value.\n",
        "- Calculate the mean using the mean() function.\n",
        "- Calculate the standard deviation using the sd() function or manually. \n",
        "- Standard units describe how many standard deviations a value is away from the mean. The z-score, or number of standard deviations an observation  x  is away from the mean  μ :\n",
        "      Z=(x−μ)/σ\n",
        "- Compute standard units with the scale() function.\n",
        "- Important: to calculate the proportion of values that meet a certain condition, use the mean() function on a logical vector. Because TRUE is converted to 1 and FALSE is converted to 0, taking the mean of this vector yields the proportion of TRUE.\n",
        "- Equation for the normal distribution\n",
        "The normal distribution is mathematically defined by the following formula for any mean  μ  and standard deviation  σ :\n",
        "        "
      ]
    },
    {
      "cell_type": "code",
      "metadata": {
        "id": "6ZHLKp6bTy4I"
      },
      "source": [
        ""
      ],
      "execution_count": null,
      "outputs": []
    },
    {
      "cell_type": "code",
      "metadata": {
        "colab": {
          "base_uri": "https://localhost:8080/",
          "height": 103
        },
        "id": "Oi5iokBUUFUd",
        "outputId": "c85adbfd-ba6a-4920-c1d7-c7d22e62c0f7"
      },
      "source": [
        "install.packages(\"dslabs\")\n",
        "# define x as vector of male heights\n",
        "library(tidyverse)\n",
        "library(dslabs)\n",
        "data(heights)\n",
        "index <- heights$sex==\"Male\"\n",
        "x <- heights$height[index]\n",
        "\n",
        "# calculate the mean and standard deviation manually\n",
        "average <- sum(x)/length(x)\n",
        "SD <- sqrt(sum((x - average)^2)/length(x))\n",
        "\n",
        "# built-in mean and sd functions - note that the audio and printed values disagree\n",
        "average <- mean(x)\n",
        "SD <- sd(x)\n",
        "c(average = average, SD = SD)\n",
        "\n",
        "# calculate standard units\n",
        "z <- scale(x)\n",
        "\n",
        "# calculate proportion of values within 2 SD of mean\n",
        "mean(abs(z) < 2)"
      ],
      "execution_count": 3,
      "outputs": [
        {
          "output_type": "stream",
          "text": [
            "Installing package into ‘/usr/local/lib/R/site-library’\n",
            "(as ‘lib’ is unspecified)\n",
            "\n"
          ],
          "name": "stderr"
        },
        {
          "output_type": "display_data",
          "data": {
            "text/plain": [
              "  average        SD \n",
              "69.314755  3.611024 "
            ],
            "text/latex": "\\begin{description*}\n\\item[average] 69.3147549414356\n\\item[SD] 3.6110236746673\n\\end{description*}\n",
            "text/markdown": "average\n:   69.3147549414356SD\n:   3.6110236746673\n\n",
            "text/html": [
              "<style>\n",
              ".dl-inline {width: auto; margin:0; padding: 0}\n",
              ".dl-inline>dt, .dl-inline>dd {float: none; width: auto; display: inline-block}\n",
              ".dl-inline>dt::after {content: \":\\0020\"; padding-right: .5ex}\n",
              ".dl-inline>dt:not(:first-of-type) {padding-left: .5ex}\n",
              "</style><dl class=dl-inline><dt>average</dt><dd>69.3147549414356</dd><dt>SD</dt><dd>3.6110236746673</dd></dl>\n"
            ]
          },
          "metadata": {
            "tags": []
          }
        },
        {
          "output_type": "display_data",
          "data": {
            "text/plain": [
              "[1] 0.9495074"
            ],
            "text/latex": "0.949507389162562",
            "text/markdown": "0.949507389162562",
            "text/html": [
              "0.949507389162562"
            ]
          },
          "metadata": {
            "tags": []
          }
        }
      ]
    },
    {
      "cell_type": "markdown",
      "metadata": {
        "id": "QH3DDCIaUHl9"
      },
      "source": [
        "- Note about the sd function\n",
        "The built-in R function sd() calculates the standard deviation, but it divides by length(x)-1 instead of length(x). When the length of the list is large, this difference is negligible and you can use the built-in sd() function. Otherwise, you should compute  σ  by hand. For this course series, assume that you should use the sd() function unless you are told not to do so."
      ]
    },
    {
      "cell_type": "markdown",
      "metadata": {
        "id": "sXD7BioWVOs1"
      },
      "source": [
        "## Normal Distribution: Standard Units and Z-scores\n",
        "1. Standard units\n",
        "- For data that are approximately normal, standard units describe the number of standard deviations an observation is from the mean. Standard units are denoted by the variable  z  and are also known as z-scores.\n",
        "\n",
        "- For any value  x  from a normal distribution with mean  μ  and standard deviation  σ , the value in standard units is:\n",
        "\n",
        "      z=(x−μ)/σ \n",
        "- Standard units are useful for many reasons. Note that the formula for the normal distribution is simplified by substituting  z  in the exponent:\n",
        "\n",
        "- When  z=0 , the normal distribution is at a maximum, the mean  μ . The function is defined to be symmetric around  z=0 .\n",
        "\n",
        "- The normal distribution of z-scores is called the standard normal distribution and is defined by  μ=0  and  σ=1 .\n",
        "\n",
        "- Z-scores are useful to quickly evaluate whether an observation is average or extreme. Z-scores near 0 are average. Z-scores above 2 or below -2 are significantly above or below the mean, and z-scores above 3 or below -3 are extremely rare. \n",
        "\n",
        "- We will learn more about benchmark z-score values and their corresponding probabilities below.\n",
        "2. Code: Converting to standard units\n",
        "- The scale function converts a vector of approximately normally distributed values into z-scores.\n",
        "      z <- scale(x)\n",
        "- You can compute the proportion of observations that are within 2 standard deviations of the mean like this:\n",
        "\n",
        "      mean(abs(z) < 2)\n"
      ]
    },
    {
      "cell_type": "markdown",
      "metadata": {
        "id": "xwpNj2PxWGiL"
      },
      "source": [
        "## The Normal CDF and pnorm\n",
        "- The normal distribution has a mathematically defined CDF which can be computed in R with the function pnorm().\n",
        "- pnorm(a, avg, s) gives the value of the cumulative distribution function  F(a)  for the normal distribution defined by average avg and standard d eviation s.\n",
        "- We say that a random quantity is normally distributed with average avg and standard deviation s if the approximation pnorm(a, avg, s) holds for all values of a.\n",
        "- If we are willing to use the normal approximation for height, we can estimate the distribution simply from the mean and standard deviation of our values.\n",
        "- If we treat the height data as discrete rather than categorical, we see that the data are not very useful because integer values are more common than expected due to rounding. This is called discretization.\n",
        "- With rounded data, the normal approximation is particularly useful when computing probabilities of intervals of length 1 that include exactly one integer."
      ]
    },
    {
      "cell_type": "code",
      "metadata": {
        "id": "_8_gjXQRWT0M"
      },
      "source": [
        "#1.Code: Using pnorm to calculate probabilities\n",
        "#Given male heights x:\n",
        "library(tidyverse)\n",
        "library(dslabs)\n",
        "data(heights)\n"
      ],
      "execution_count": 5,
      "outputs": []
    },
    {
      "cell_type": "code",
      "metadata": {
        "colab": {
          "base_uri": "https://localhost:8080/",
          "height": 34
        },
        "id": "NMGWy1DvWpXV",
        "outputId": "c09dd5bf-c512-46b0-81da-bc163a606308"
      },
      "source": [
        "x <- heights %>% filter(sex==\"Male\") %>% pull(height)\n",
        "#We can estimate the probability that a male is taller than 70.5 inches with:\n",
        "1 - pnorm(70.5, mean(x), sd(x))\n"
      ],
      "execution_count": 6,
      "outputs": [
        {
          "output_type": "display_data",
          "data": {
            "text/plain": [
              "[1] 0.371369"
            ],
            "text/latex": "0.371369013278474",
            "text/markdown": "0.371369013278474",
            "text/html": [
              "0.371369013278474"
            ]
          },
          "metadata": {
            "tags": []
          }
        }
      ]
    },
    {
      "cell_type": "code",
      "metadata": {
        "colab": {
          "base_uri": "https://localhost:8080/",
          "height": 437
        },
        "id": "nnxm65v4WrbB",
        "outputId": "2843faec-4451-4235-d942-2745af6d3050"
      },
      "source": [
        "#2.Code: Discretization and the normal approximation\n",
        "# plot distribution of exact heights in data\n",
        "plot(prop.table(table(x)), xlab = \"a = Height in inches\", ylab = \"Pr(x = a)\")\n",
        "\n"
      ],
      "execution_count": 7,
      "outputs": [
        {
          "output_type": "display_data",
          "data": {
            "image/png": "[encoded data removed]",
            "text/plain": [
              "plot without title"
            ]
          },
          "metadata": {
            "tags": [],
            "image/png": {
              "width": 420,
              "height": 420
            }
          }
        }
      ]
    },
    {
      "cell_type": "code",
      "metadata": {
        "colab": {
          "base_uri": "https://localhost:8080/",
          "height": 67
        },
        "id": "D9Lh19qBWuBT",
        "outputId": "ee712d49-860d-483d-bda7-905f9a174e5b"
      },
      "source": [
        "# probabilities in actual data over length 1 ranges containing an integer\n",
        "mean(x <= 68.5) - mean(x <= 67.5)\n",
        "mean(x <= 69.5) - mean(x <= 68.5)\n",
        "mean(x <= 70.5) - mean(x <= 69.5)\n"
      ],
      "execution_count": 8,
      "outputs": [
        {
          "output_type": "display_data",
          "data": {
            "text/plain": [
              "[1] 0.114532"
            ],
            "text/latex": "0.114532019704433",
            "text/markdown": "0.114532019704433",
            "text/html": [
              "0.114532019704433"
            ]
          },
          "metadata": {
            "tags": []
          }
        },
        {
          "output_type": "display_data",
          "data": {
            "text/plain": [
              "[1] 0.1194581"
            ],
            "text/latex": "0.119458128078818",
            "text/markdown": "0.119458128078818",
            "text/html": [
              "0.119458128078818"
            ]
          },
          "metadata": {
            "tags": []
          }
        },
        {
          "output_type": "display_data",
          "data": {
            "text/plain": [
              "[1] 0.1219212"
            ],
            "text/latex": "0.12192118226601",
            "text/markdown": "0.12192118226601",
            "text/html": [
              "0.12192118226601"
            ]
          },
          "metadata": {
            "tags": []
          }
        }
      ]
    },
    {
      "cell_type": "code",
      "metadata": {
        "colab": {
          "base_uri": "https://localhost:8080/",
          "height": 67
        },
        "id": "4jBj-CkTWwxn",
        "outputId": "f81628bb-d690-4ddd-ffd8-4c50c1eea451"
      },
      "source": [
        "# probabilities in normal approximation match well\n",
        "pnorm(68.5, mean(x), sd(x)) - pnorm(67.5, mean(x), sd(x))\n",
        "pnorm(69.5, mean(x), sd(x)) - pnorm(68.5, mean(x), sd(x))\n",
        "pnorm(70.5, mean(x), sd(x)) - pnorm(69.5, mean(x), sd(x))\n"
      ],
      "execution_count": 12,
      "outputs": [
        {
          "output_type": "display_data",
          "data": {
            "text/plain": [
              "[1] 0.1031077"
            ],
            "text/latex": "0.103107700722601",
            "text/markdown": "0.103107700722601",
            "text/html": [
              "0.103107700722601"
            ]
          },
          "metadata": {
            "tags": []
          }
        },
        {
          "output_type": "display_data",
          "data": {
            "text/plain": [
              "[1] 0.1097121"
            ],
            "text/latex": "0.109712077150593",
            "text/markdown": "0.109712077150593",
            "text/html": [
              "0.109712077150593"
            ]
          },
          "metadata": {
            "tags": []
          }
        },
        {
          "output_type": "display_data",
          "data": {
            "text/plain": [
              "[1] 0.1081743"
            ],
            "text/latex": "0.108174271080828",
            "text/markdown": "0.108174271080828",
            "text/html": [
              "0.108174271080828"
            ]
          },
          "metadata": {
            "tags": []
          }
        }
      ]
    },
    {
      "cell_type": "code",
      "metadata": {
        "colab": {
          "base_uri": "https://localhost:8080/",
          "height": 50
        },
        "id": "MdHNI9b0W1h8",
        "outputId": "e2d2a176-8ce3-40ea-fb31-b5fa3ea34444"
      },
      "source": [
        "# probabilities in actual data over other ranges don't match normal approx as well\n",
        "mean(x <= 70.9) - mean(x <= 70.1)\n",
        "pnorm(70.9, mean(x), sd(x)) - pnorm(70.1, mean(x), sd(x))"
      ],
      "execution_count": 11,
      "outputs": [
        {
          "output_type": "display_data",
          "data": {
            "text/plain": [
              "[1] 0.02216749"
            ],
            "text/latex": "0.0221674876847291",
            "text/markdown": "0.0221674876847291",
            "text/html": [
              "0.0221674876847291"
            ]
          },
          "metadata": {
            "tags": []
          }
        },
        {
          "output_type": "display_data",
          "data": {
            "text/plain": [
              "[1] 0.08359562"
            ],
            "text/latex": "0.0835956178162536",
            "text/markdown": "0.0835956178162536",
            "text/html": [
              "0.0835956178162536"
            ]
          },
          "metadata": {
            "tags": []
          }
        }
      ]
    },
    {
      "cell_type": "markdown",
      "metadata": {
        "id": "1AfEIdZOWkx1"
      },
      "source": [
        "##Assessment: Normal distribution"
      ]
    },
    {
      "cell_type": "markdown",
      "metadata": {
        "id": "dFAAW2bdXcTg"
      },
      "source": [
        "##Question 1\n",
        "- What proportion of the data is between 69 and 72 inches (taller than 69 but shorter or equal to 72)? A proportion is between 0 and 1.\n",
        "- Use the mean function in your code. Remember that you can use mean to compute the proportion of entries of a logical vector that are TRUE."
      ]
    },
    {
      "cell_type": "code",
      "metadata": {
        "colab": {
          "base_uri": "https://localhost:8080/",
          "height": 34
        },
        "id": "u_LcpVUFWmEX",
        "outputId": "52194a93-25aa-4603-e7f5-5397a81af333"
      },
      "source": [
        "library(dslabs)\n",
        "data(heights)\n",
        "x <- heights$height[heights$sex == \"Male\"]\n",
        "mean(x>69 & x<=72)"
      ],
      "execution_count": 13,
      "outputs": [
        {
          "output_type": "display_data",
          "data": {
            "text/plain": [
              "[1] 0.3337438"
            ],
            "text/latex": "0.333743842364532",
            "text/markdown": "0.333743842364532",
            "text/html": [
              "0.333743842364532"
            ]
          },
          "metadata": {
            "tags": []
          }
        }
      ]
    },
    {
      "cell_type": "markdown",
      "metadata": {
        "id": "laXM80obXk5Z"
      },
      "source": [
        "##Exercise 2. Averages and Standard Deviations"
      ]
    },
    {
      "cell_type": "code",
      "metadata": {
        "colab": {
          "base_uri": "https://localhost:8080/",
          "height": 34
        },
        "id": "CgVKNqzLXqcQ",
        "outputId": "eb3155fe-385a-43cc-a1e3-d30b009f98d9"
      },
      "source": [
        "library(dslabs)\n",
        "data(heights)\n",
        "x <- heights$height[heights$sex==\"Male\"]\n",
        "avg <- mean(x)\n",
        "stdev <- sd(x)\n",
        "pnorm(72,avg,stdev)-pnorm(69,avg,stdev)"
      ],
      "execution_count": 14,
      "outputs": [
        {
          "output_type": "display_data",
          "data": {
            "text/plain": [
              "[1] 0.3061779"
            ],
            "text/latex": "0.30617793713267",
            "text/markdown": "0.30617793713267",
            "text/html": [
              "0.30617793713267"
            ]
          },
          "metadata": {
            "tags": []
          }
        }
      ]
    },
    {
      "cell_type": "markdown",
      "metadata": {
        "id": "tWguRvuCXs4j"
      },
      "source": [
        "##Exercise 3. Approximations"
      ]
    },
    {
      "cell_type": "code",
      "metadata": {
        "colab": {
          "base_uri": "https://localhost:8080/",
          "height": 34
        },
        "id": "eP2EUf8kXxFG",
        "outputId": "589d43e5-5baf-4c46-dbf3-2526616e015f"
      },
      "source": [
        "library(dslabs)\n",
        "data(heights)\n",
        "x <- heights$height[heights$sex == \"Male\"]\n",
        "exact <- mean(x > 79 & x <= 81)\n",
        "approx <- pnorm(81,mean(x),sd(x))-pnorm(79,mean(x),sd(x))\n",
        "exact/approx"
      ],
      "execution_count": 15,
      "outputs": [
        {
          "output_type": "display_data",
          "data": {
            "text/plain": [
              "[1] 1.614261"
            ],
            "text/latex": "1.61426142046631",
            "text/markdown": "1.61426142046631",
            "text/html": [
              "1.61426142046631"
            ]
          },
          "metadata": {
            "tags": []
          }
        }
      ]
    },
    {
      "cell_type": "markdown",
      "metadata": {
        "id": "OONPyWH6X5VF"
      },
      "source": [
        "##Exercise 4. Seven footers and the NBA"
      ]
    },
    {
      "cell_type": "code",
      "metadata": {
        "colab": {
          "base_uri": "https://localhost:8080/",
          "height": 34
        },
        "id": "YZMWzdjfX6Ti",
        "outputId": "e4c160d8-8b1c-42ef-87fc-a6eb87243cab"
      },
      "source": [
        "# use pnorm to calculate the proportion over 7 feet (7*12 inches)\n",
        "1 - pnorm(12*7,69,3)"
      ],
      "execution_count": 16,
      "outputs": [
        {
          "output_type": "display_data",
          "data": {
            "text/plain": [
              "[1] 2.866516e-07"
            ],
            "text/latex": "2.86651571923535e-07",
            "text/markdown": "2.86651571923535e-07",
            "text/html": [
              "2.86651571923535e-07"
            ]
          },
          "metadata": {
            "tags": []
          }
        }
      ]
    },
    {
      "cell_type": "markdown",
      "metadata": {
        "id": "VhE77lVEX9Ih"
      },
      "source": [
        "##Exercise 5. Estimating the number seven footers"
      ]
    },
    {
      "cell_type": "code",
      "metadata": {
        "colab": {
          "base_uri": "https://localhost:8080/",
          "height": 34
        },
        "id": "1JeVZtEYYBwO",
        "outputId": "5f3d5304-b227-4aa4-80ba-7e0dbe646e30"
      },
      "source": [
        "p <- 1-pnorm(7*12,69,3)\n",
        "round(p * 10^9)"
      ],
      "execution_count": 17,
      "outputs": [
        {
          "output_type": "display_data",
          "data": {
            "text/plain": [
              "[1] 287"
            ],
            "text/latex": "287",
            "text/markdown": "287",
            "text/html": [
              "287"
            ]
          },
          "metadata": {
            "tags": []
          }
        }
      ]
    },
    {
      "cell_type": "markdown",
      "metadata": {
        "id": "v5F32C8QYE2V"
      },
      "source": [
        "##Exercise 6. How many seven footers are in the NBA?"
      ]
    },
    {
      "cell_type": "code",
      "metadata": {
        "colab": {
          "base_uri": "https://localhost:8080/",
          "height": 34
        },
        "id": "HPEeHHawYHXR",
        "outputId": "148a05af-c670-4e0e-bd48-0e944188dde6"
      },
      "source": [
        "p <- 1-pnorm(12*7,69,3)\n",
        "N <- round(p*10^9)\n",
        "10/N"
      ],
      "execution_count": 18,
      "outputs": [
        {
          "output_type": "display_data",
          "data": {
            "text/plain": [
              "[1] 0.03484321"
            ],
            "text/latex": "0.0348432055749129",
            "text/markdown": "0.0348432055749129",
            "text/html": [
              "0.0348432055749129"
            ]
          },
          "metadata": {
            "tags": []
          }
        }
      ]
    },
    {
      "cell_type": "markdown",
      "metadata": {
        "id": "fsGK-WbCYb18"
      },
      "source": [
        "##Exercise 7. Lebron James' height"
      ]
    },
    {
      "cell_type": "code",
      "metadata": {
        "colab": {
          "base_uri": "https://localhost:8080/",
          "height": 34
        },
        "id": "bGzL3vmFYdq4",
        "outputId": "cd6936a8-4b61-4351-e22d-1554a944b907"
      },
      "source": [
        "## Change the solution to previous answer\n",
        "p <- 1 - pnorm(6*12+8, 69, 3)\n",
        "N <- round(p * 10^9)\n",
        "150/N"
      ],
      "execution_count": 19,
      "outputs": [
        {
          "output_type": "display_data",
          "data": {
            "text/plain": [
              "[1] 0.001220842"
            ],
            "text/latex": "0.0012208422183517",
            "text/markdown": "0.0012208422183517",
            "text/html": [
              "0.0012208422183517"
            ]
          },
          "metadata": {
            "tags": []
          }
        }
      ]
    }
  ]
}