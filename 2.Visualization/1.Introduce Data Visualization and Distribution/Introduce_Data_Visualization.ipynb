{
  "nbformat": 4,
  "nbformat_minor": 0,
  "metadata": {
    "colab": {
      "name": "Introduce_Data_Visualization.ipynb",
      "provenance": [],
      "collapsed_sections": []
    },
    "kernelspec": {
      "name": "ir",
      "display_name": "R"
    },
    "accelerator": "GPU"
  },
  "cells": [
    {
      "cell_type": "code",
      "metadata": {
        "colab": {
          "base_uri": "https://localhost:8080/",
          "height": 248
        },
        "id": "IoOMZ21CrVFH",
        "outputId": "867fa467-347f-4414-c608-7fcec30b85c0"
      },
      "source": [
        "install.packages(\"dslabs\")\n",
        "library(dslabs)\n",
        "data(murders)\n",
        "head(murders)"
      ],
      "execution_count": 2,
      "outputs": [
        {
          "output_type": "stream",
          "text": [
            "Installing package into ‘/usr/local/lib/R/site-library’\n",
            "(as ‘lib’ is unspecified)\n",
            "\n"
          ],
          "name": "stderr"
        },
        {
          "output_type": "display_data",
          "data": {
            "text/plain": [
              "  state      abb region population total\n",
              "1 Alabama    AL  South   4779736    135 \n",
              "2 Alaska     AK  West     710231     19 \n",
              "3 Arizona    AZ  West    6392017    232 \n",
              "4 Arkansas   AR  South   2915918     93 \n",
              "5 California CA  West   37253956   1257 \n",
              "6 Colorado   CO  West    5029196     65 "
            ],
            "text/latex": "A data.frame: 6 × 5\n\\begin{tabular}{r|lllll}\n  & state & abb & region & population & total\\\\\n  & <chr> & <chr> & <fct> & <dbl> & <dbl>\\\\\n\\hline\n\t1 & Alabama    & AL & South &  4779736 &  135\\\\\n\t2 & Alaska     & AK & West  &   710231 &   19\\\\\n\t3 & Arizona    & AZ & West  &  6392017 &  232\\\\\n\t4 & Arkansas   & AR & South &  2915918 &   93\\\\\n\t5 & California & CA & West  & 37253956 & 1257\\\\\n\t6 & Colorado   & CO & West  &  5029196 &   65\\\\\n\\end{tabular}\n",
            "text/markdown": "\nA data.frame: 6 × 5\n\n| <!--/--> | state &lt;chr&gt; | abb &lt;chr&gt; | region &lt;fct&gt; | population &lt;dbl&gt; | total &lt;dbl&gt; |\n|---|---|---|---|---|---|\n| 1 | Alabama    | AL | South |  4779736 |  135 |\n| 2 | Alaska     | AK | West  |   710231 |   19 |\n| 3 | Arizona    | AZ | West  |  6392017 |  232 |\n| 4 | Arkansas   | AR | South |  2915918 |   93 |\n| 5 | California | CA | West  | 37253956 | 1257 |\n| 6 | Colorado   | CO | West  |  5029196 |   65 |\n\n",
            "text/html": [
              "<table>\n",
              "<caption>A data.frame: 6 × 5</caption>\n",
              "<thead>\n",
              "\t<tr><th></th><th scope=col>state</th><th scope=col>abb</th><th scope=col>region</th><th scope=col>population</th><th scope=col>total</th></tr>\n",
              "\t<tr><th></th><th scope=col>&lt;chr&gt;</th><th scope=col>&lt;chr&gt;</th><th scope=col>&lt;fct&gt;</th><th scope=col>&lt;dbl&gt;</th><th scope=col>&lt;dbl&gt;</th></tr>\n",
              "</thead>\n",
              "<tbody>\n",
              "\t<tr><th scope=row>1</th><td>Alabama   </td><td>AL</td><td>South</td><td> 4779736</td><td> 135</td></tr>\n",
              "\t<tr><th scope=row>2</th><td>Alaska    </td><td>AK</td><td>West </td><td>  710231</td><td>  19</td></tr>\n",
              "\t<tr><th scope=row>3</th><td>Arizona   </td><td>AZ</td><td>West </td><td> 6392017</td><td> 232</td></tr>\n",
              "\t<tr><th scope=row>4</th><td>Arkansas  </td><td>AR</td><td>South</td><td> 2915918</td><td>  93</td></tr>\n",
              "\t<tr><th scope=row>5</th><td>California</td><td>CA</td><td>West </td><td>37253956</td><td>1257</td></tr>\n",
              "\t<tr><th scope=row>6</th><td>Colorado  </td><td>CO</td><td>West </td><td> 5029196</td><td>  65</td></tr>\n",
              "</tbody>\n",
              "</table>\n"
            ]
          },
          "metadata": {
            "tags": []
          }
        }
      ]
    },
    {
      "cell_type": "markdown",
      "metadata": {
        "id": "XgYX4IWurfKF"
      },
      "source": [
        "## Data tyoe \n",
        "- Categorical data are variables that are defined by a small number of groups.\n",
        "    - Ordinal categorical data have an inherent order to the categories (mild/medium/hot, for example).\n",
        "    - Non-ordinal categorical data have no order to the categories.\n",
        "- Numerical data take a variety of numeric values.\n",
        "    - Continuous variables can take any value.\n",
        "    - Discrete variables are limited to sets of specific values."
      ]
    },
    {
      "cell_type": "code",
      "metadata": {
        "colab": {
          "base_uri": "https://localhost:8080/",
          "height": 50
        },
        "id": "c5E6Q1iKrz8i",
        "outputId": "c7e33a94-b940-4c23-91e7-147915cb1ce8"
      },
      "source": [
        "library(dslabs)\n",
        "data(heights)\n",
        "x <- heights$height\n",
        "length(x)\n",
        "#Check unique\n",
        "length(unique(x))"
      ],
      "execution_count": 3,
      "outputs": [
        {
          "output_type": "display_data",
          "data": {
            "text/plain": [
              "[1] 1050"
            ],
            "text/latex": "1050",
            "text/markdown": "1050",
            "text/html": [
              "1050"
            ]
          },
          "metadata": {
            "tags": []
          }
        },
        {
          "output_type": "display_data",
          "data": {
            "text/plain": [
              "[1] 139"
            ],
            "text/latex": "139",
            "text/markdown": "139",
            "text/html": [
              "139"
            ]
          },
          "metadata": {
            "tags": []
          }
        }
      ]
    },
    {
      "cell_type": "code",
      "metadata": {
        "colab": {
          "base_uri": "https://localhost:8080/",
          "height": 70
        },
        "id": "t8v_jTv4s-hx",
        "outputId": "f31befe3-88a7-419e-e835-accf665d7a0f"
      },
      "source": [
        "head(table(x))"
      ],
      "execution_count": 5,
      "outputs": [
        {
          "output_type": "display_data",
          "data": {
            "text/plain": [
              "x\n",
              "   50    51    52    53 53.77    54 \n",
              "    2     1     2     1     1     1 "
            ]
          },
          "metadata": {
            "tags": []
          }
        }
      ]
    },
    {
      "cell_type": "code",
      "metadata": {
        "colab": {
          "base_uri": "https://localhost:8080/",
          "height": 34
        },
        "id": "pZ_YGN-euKaA",
        "outputId": "652f14b1-4c98-4712-9fc2-21ced539bc94"
      },
      "source": [
        "tab <- table(heights$height)\n",
        "sum(tab==1)"
      ],
      "execution_count": 7,
      "outputs": [
        {
          "output_type": "display_data",
          "data": {
            "text/plain": [
              "[1] 63"
            ],
            "text/latex": "63",
            "text/markdown": "63",
            "text/html": [
              "63"
            ]
          },
          "metadata": {
            "tags": []
          }
        }
      ]
    },
    {
      "cell_type": "markdown",
      "metadata": {
        "id": "5mB2uXouuc7t"
      },
      "source": [
        "\n",
        "## Exercise 6. Data types - heights\n",
        "Since there are a finite number of reported heights and technically the height can be considered ordinal, which of the following is true:"
      ]
    },
    {
      "cell_type": "markdown",
      "metadata": {
        "id": "B1Mb0SUlufz1"
      },
      "source": [
        "\n",
        "It is more effective to consider heights to be numerical given the number of unique values we observe and the fact that if we keep collecting data even more will be observed."
      ]
    },
    {
      "cell_type": "markdown",
      "metadata": {
        "id": "dkOwOcdZuhTr"
      },
      "source": [
        ""
      ]
    }
  ]
}