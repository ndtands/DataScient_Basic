{
  "nbformat": 4,
  "nbformat_minor": 0,
  "metadata": {
    "colab": {
      "name": "Quantiles_percentiles_and_boxplots.ipynb",
      "provenance": [],
      "collapsed_sections": []
    },
    "kernelspec": {
      "name": "ir",
      "display_name": "R"
    },
    "accelerator": "GPU"
  },
  "cells": [
    {
      "cell_type": "markdown",
      "metadata": {
        "id": "uv0irUp7Y_Pf"
      },
      "source": [
        "##Definition of quantiles"
      ]
    },
    {
      "cell_type": "markdown",
      "metadata": {
        "id": "7k8733agZDAO"
      },
      "source": [
        "1. Definition of quantiles\n",
        "- Quantiles are cutoff points that divide a dataset into intervals with set probabilities. The  q th quantile is the value at which  q % of the observations are equal to or less than that value.\n",
        "\n",
        "2. Using the quantile function\n",
        "- Given a dataset data and desired quantile q, you can find the qth quantile of data with:\n",
        "\n",
        "      quantile(data,q)\n",
        "3. Percentiles\n",
        "- Percentiles are the quantiles that divide a dataset into 100 intervals each with 1% probability. You can determine all percentiles of a dataset data like this:\n",
        "      p <- seq(0.01, 0.99, 0.01)\n",
        "      quantile(data, p)\n",
        "4. Quartiles\n",
        "- Quartiles divide a dataset into 4 parts each with 25% probability. They are equal to the 25th, 50th and 75th percentiles. The 25th percentile is also known as the 1st quartile, the 50th percentile is also known as the median, and the 75th percentile is also known as the 3rd quartile.\n",
        "-The summary() function returns the minimum, quartiles and maximum of a vector."
      ]
    },
    {
      "cell_type": "code",
      "metadata": {
        "colab": {
          "base_uri": "https://localhost:8080/",
          "height": 105
        },
        "id": "TZV9c_t6Zf0k",
        "outputId": "a81b6edf-9b93-487a-d1eb-73c2203b70b1"
      },
      "source": [
        "install.packages(\"dslabs\")\n",
        "#Load the heights dataset from the dslabs package:\n",
        "library(dslabs)\n",
        "data(heights)\n",
        "#Use summary() on the heights$height variable to find the quartiles:\n",
        "summary(heights$height)\n"
      ],
      "execution_count": 21,
      "outputs": [
        {
          "output_type": "stream",
          "text": [
            "Installing package into ‘/usr/local/lib/R/site-library’\n",
            "(as ‘lib’ is unspecified)\n",
            "\n"
          ],
          "name": "stderr"
        },
        {
          "output_type": "display_data",
          "data": {
            "text/plain": [
              "   Min. 1st Qu.  Median    Mean 3rd Qu.    Max. \n",
              "  50.00   66.00   68.50   68.32   71.00   82.68 "
            ]
          },
          "metadata": {
            "tags": []
          }
        }
      ]
    },
    {
      "cell_type": "code",
      "metadata": {
        "colab": {
          "base_uri": "https://localhost:8080/",
          "height": 168
        },
        "id": "KlQ_Iuy4Zxm8",
        "outputId": "d6642f83-138a-4324-bab5-b90deb0013f6"
      },
      "source": [
        "#Find the percentiles of heights$height:\n",
        "p <- seq(0.01, 0.99, 0.01)\n",
        "percentiles <- quantile(heights$height, p)\n",
        "percentiles"
      ],
      "execution_count": 24,
      "outputs": [
        {
          "output_type": "display_data",
          "data": {
            "text/plain": [
              "      1%       2%       3%       4%       5%       6%       7%       8% \n",
              "59.00000 60.00000 60.00000 61.00000 62.00000 62.00000 62.28869 63.00000 \n",
              "      9%      10%      11%      12%      13%      14%      15%      16% \n",
              "63.00000 63.00000 63.77953 64.00000 64.00000 64.00000 64.17321 64.96000 \n",
              "     17%      18%      19%      20%      21%      22%      23%      24% \n",
              "65.00000 65.00000 65.00000 65.00000 65.00000 65.94457 66.00000 66.00000 \n",
              "     25%      26%      27%      28%      29%      30%      31%      32% \n",
              "66.00000 66.00000 66.00000 66.00000 66.50000 66.92000 66.92913 67.00000 \n",
              "     33%      34%      35%      36%      37%      38%      39%      40% \n",
              "67.00000 67.00000 67.00000 67.00000 67.00000 67.00000 67.32200 67.71650 \n",
              "     41%      42%      43%      44%      45%      46%      47%      48% \n",
              "67.72540 68.00000 68.00000 68.00000 68.00000 68.00000 68.00000 68.00000 \n",
              "     49%      50%      51%      52%      53%      54%      55%      56% \n",
              "68.11024 68.50000 68.89000 68.89764 69.00000 69.00000 69.00000 69.00000 \n",
              "     57%      58%      59%      60%      61%      62%      63%      64% \n",
              "69.00000 69.00000 69.00000 69.00000 69.60000 70.00000 70.00000 70.00000 \n",
              "     65%      66%      67%      68%      69%      70%      71%      72% \n",
              "70.00000 70.00000 70.00000 70.00000 70.00000 70.07874 70.73700 70.86614 \n",
              "     73%      74%      75%      76%      77%      78%      79%      80% \n",
              "71.00000 71.00000 71.00000 71.00000 71.00000 71.11000 72.00000 72.00000 \n",
              "     81%      82%      83%      84%      85%      86%      87%      88% \n",
              "72.00000 72.00000 72.00000 72.00000 72.00000 72.00000 72.00000 72.44011 \n",
              "     89%      90%      91%      92%      93%      94%      95%      96% \n",
              "72.83465 73.00000 73.00000 74.00000 74.00000 74.00000 74.80315 75.00000 \n",
              "     97%      98%      99% \n",
              "75.00000 76.00000 78.00000 "
            ],
            "text/latex": "\\begin{description*}\n\\item[1\\textbackslash{}\\%] 59\n\\item[2\\textbackslash{}\\%] 60\n\\item[3\\textbackslash{}\\%] 60\n\\item[4\\textbackslash{}\\%] 61\n\\item[5\\textbackslash{}\\%] 62\n\\item[6\\textbackslash{}\\%] 62\n\\item[7\\textbackslash{}\\%] 62.2886929133858\n\\item[8\\textbackslash{}\\%] 63\n\\item[9\\textbackslash{}\\%] 63\n\\item[10\\textbackslash{}\\%] 63\n\\item[11\\textbackslash{}\\%] 63.7795275590551\n\\item[12\\textbackslash{}\\%] 64\n\\item[13\\textbackslash{}\\%] 64\n\\item[14\\textbackslash{}\\%] 64\n\\item[15\\textbackslash{}\\%] 64.1732099212598\n\\item[16\\textbackslash{}\\%] 64.96\n\\item[17\\textbackslash{}\\%] 65\n\\item[18\\textbackslash{}\\%] 65\n\\item[19\\textbackslash{}\\%] 65\n\\item[20\\textbackslash{}\\%] 65\n\\item[21\\textbackslash{}\\%] 65\n\\item[22\\textbackslash{}\\%] 65.9445669291339\n\\item[23\\textbackslash{}\\%] 66\n\\item[24\\textbackslash{}\\%] 66\n\\item[25\\textbackslash{}\\%] 66\n\\item[26\\textbackslash{}\\%] 66\n\\item[27\\textbackslash{}\\%] 66\n\\item[28\\textbackslash{}\\%] 66\n\\item[29\\textbackslash{}\\%] 66.5\n\\item[30\\textbackslash{}\\%] 66.92\n\\item[31\\textbackslash{}\\%] 66.9291338582677\n\\item[32\\textbackslash{}\\%] 67\n\\item[33\\textbackslash{}\\%] 67\n\\item[34\\textbackslash{}\\%] 67\n\\item[35\\textbackslash{}\\%] 67\n\\item[36\\textbackslash{}\\%] 67\n\\item[37\\textbackslash{}\\%] 67\n\\item[38\\textbackslash{}\\%] 67\n\\item[39\\textbackslash{}\\%] 67.322\n\\item[40\\textbackslash{}\\%] 67.7165\n\\item[41\\textbackslash{}\\%] 67.7254\n\\item[42\\textbackslash{}\\%] 68\n\\item[43\\textbackslash{}\\%] 68\n\\item[44\\textbackslash{}\\%] 68\n\\item[45\\textbackslash{}\\%] 68\n\\item[46\\textbackslash{}\\%] 68\n\\item[47\\textbackslash{}\\%] 68\n\\item[48\\textbackslash{}\\%] 68\n\\item[49\\textbackslash{}\\%] 68.1102362204724\n\\item[50\\textbackslash{}\\%] 68.5\n\\item[51\\textbackslash{}\\%] 68.89\n\\item[52\\textbackslash{}\\%] 68.8976377975433\n\\item[53\\textbackslash{}\\%] 69\n\\item[54\\textbackslash{}\\%] 69\n\\item[55\\textbackslash{}\\%] 69\n\\item[56\\textbackslash{}\\%] 69\n\\item[57\\textbackslash{}\\%] 69\n\\item[58\\textbackslash{}\\%] 69\n\\item[59\\textbackslash{}\\%] 69\n\\item[60\\textbackslash{}\\%] 69\n\\item[61\\textbackslash{}\\%] 69.6\n\\item[62\\textbackslash{}\\%] 70\n\\item[63\\textbackslash{}\\%] 70\n\\item[64\\textbackslash{}\\%] 70\n\\item[65\\textbackslash{}\\%] 70\n\\item[66\\textbackslash{}\\%] 70\n\\item[67\\textbackslash{}\\%] 70\n\\item[68\\textbackslash{}\\%] 70\n\\item[69\\textbackslash{}\\%] 70\n\\item[70\\textbackslash{}\\%] 70.0787401574803\n\\item[71\\textbackslash{}\\%] 70.737\n\\item[72\\textbackslash{}\\%] 70.8661417322835\n\\item[73\\textbackslash{}\\%] 71\n\\item[74\\textbackslash{}\\%] 71\n\\item[75\\textbackslash{}\\%] 71\n\\item[76\\textbackslash{}\\%] 71\n\\item[77\\textbackslash{}\\%] 71\n\\item[78\\textbackslash{}\\%] 71.11\n\\item[79\\textbackslash{}\\%] 72\n\\item[80\\textbackslash{}\\%] 72\n\\item[81\\textbackslash{}\\%] 72\n\\item[82\\textbackslash{}\\%] 72\n\\item[83\\textbackslash{}\\%] 72\n\\item[84\\textbackslash{}\\%] 72\n\\item[85\\textbackslash{}\\%] 72\n\\item[86\\textbackslash{}\\%] 72\n\\item[87\\textbackslash{}\\%] 72\n\\item[88\\textbackslash{}\\%] 72.4401133858268\n\\item[89\\textbackslash{}\\%] 72.8346456692913\n\\item[90\\textbackslash{}\\%] 73\n\\item[91\\textbackslash{}\\%] 73\n\\item[92\\textbackslash{}\\%] 74\n\\item[93\\textbackslash{}\\%] 74\n\\item[94\\textbackslash{}\\%] 74\n\\item[95\\textbackslash{}\\%] 74.8031496062992\n\\item[96\\textbackslash{}\\%] 75\n\\item[97\\textbackslash{}\\%] 75\n\\item[98\\textbackslash{}\\%] 76\n\\item[99\\textbackslash{}\\%] 78\n\\end{description*}\n",
            "text/markdown": "1%\n:   592%\n:   603%\n:   604%\n:   615%\n:   626%\n:   627%\n:   62.28869291338588%\n:   639%\n:   6310%\n:   6311%\n:   63.779527559055112%\n:   6413%\n:   6414%\n:   6415%\n:   64.173209921259816%\n:   64.9617%\n:   6518%\n:   6519%\n:   6520%\n:   6521%\n:   6522%\n:   65.944566929133923%\n:   6624%\n:   6625%\n:   6626%\n:   6627%\n:   6628%\n:   6629%\n:   66.530%\n:   66.9231%\n:   66.929133858267732%\n:   6733%\n:   6734%\n:   6735%\n:   6736%\n:   6737%\n:   6738%\n:   6739%\n:   67.32240%\n:   67.716541%\n:   67.725442%\n:   6843%\n:   6844%\n:   6845%\n:   6846%\n:   6847%\n:   6848%\n:   6849%\n:   68.110236220472450%\n:   68.551%\n:   68.8952%\n:   68.897637797543353%\n:   6954%\n:   6955%\n:   6956%\n:   6957%\n:   6958%\n:   6959%\n:   6960%\n:   6961%\n:   69.662%\n:   7063%\n:   7064%\n:   7065%\n:   7066%\n:   7067%\n:   7068%\n:   7069%\n:   7070%\n:   70.078740157480371%\n:   70.73772%\n:   70.866141732283573%\n:   7174%\n:   7175%\n:   7176%\n:   7177%\n:   7178%\n:   71.1179%\n:   7280%\n:   7281%\n:   7282%\n:   7283%\n:   7284%\n:   7285%\n:   7286%\n:   7287%\n:   7288%\n:   72.440113385826889%\n:   72.834645669291390%\n:   7391%\n:   7392%\n:   7493%\n:   7494%\n:   7495%\n:   74.803149606299296%\n:   7597%\n:   7598%\n:   7699%\n:   78\n\n",
            "text/html": [
              "<style>\n",
              ".dl-inline {width: auto; margin:0; padding: 0}\n",
              ".dl-inline>dt, .dl-inline>dd {float: none; width: auto; display: inline-block}\n",
              ".dl-inline>dt::after {content: \":\\0020\"; padding-right: .5ex}\n",
              ".dl-inline>dt:not(:first-of-type) {padding-left: .5ex}\n",
              "</style><dl class=dl-inline><dt>1%</dt><dd>59</dd><dt>2%</dt><dd>60</dd><dt>3%</dt><dd>60</dd><dt>4%</dt><dd>61</dd><dt>5%</dt><dd>62</dd><dt>6%</dt><dd>62</dd><dt>7%</dt><dd>62.2886929133858</dd><dt>8%</dt><dd>63</dd><dt>9%</dt><dd>63</dd><dt>10%</dt><dd>63</dd><dt>11%</dt><dd>63.7795275590551</dd><dt>12%</dt><dd>64</dd><dt>13%</dt><dd>64</dd><dt>14%</dt><dd>64</dd><dt>15%</dt><dd>64.1732099212598</dd><dt>16%</dt><dd>64.96</dd><dt>17%</dt><dd>65</dd><dt>18%</dt><dd>65</dd><dt>19%</dt><dd>65</dd><dt>20%</dt><dd>65</dd><dt>21%</dt><dd>65</dd><dt>22%</dt><dd>65.9445669291339</dd><dt>23%</dt><dd>66</dd><dt>24%</dt><dd>66</dd><dt>25%</dt><dd>66</dd><dt>26%</dt><dd>66</dd><dt>27%</dt><dd>66</dd><dt>28%</dt><dd>66</dd><dt>29%</dt><dd>66.5</dd><dt>30%</dt><dd>66.92</dd><dt>31%</dt><dd>66.9291338582677</dd><dt>32%</dt><dd>67</dd><dt>33%</dt><dd>67</dd><dt>34%</dt><dd>67</dd><dt>35%</dt><dd>67</dd><dt>36%</dt><dd>67</dd><dt>37%</dt><dd>67</dd><dt>38%</dt><dd>67</dd><dt>39%</dt><dd>67.322</dd><dt>40%</dt><dd>67.7165</dd><dt>41%</dt><dd>67.7254</dd><dt>42%</dt><dd>68</dd><dt>43%</dt><dd>68</dd><dt>44%</dt><dd>68</dd><dt>45%</dt><dd>68</dd><dt>46%</dt><dd>68</dd><dt>47%</dt><dd>68</dd><dt>48%</dt><dd>68</dd><dt>49%</dt><dd>68.1102362204724</dd><dt>50%</dt><dd>68.5</dd><dt>51%</dt><dd>68.89</dd><dt>52%</dt><dd>68.8976377975433</dd><dt>53%</dt><dd>69</dd><dt>54%</dt><dd>69</dd><dt>55%</dt><dd>69</dd><dt>56%</dt><dd>69</dd><dt>57%</dt><dd>69</dd><dt>58%</dt><dd>69</dd><dt>59%</dt><dd>69</dd><dt>60%</dt><dd>69</dd><dt>61%</dt><dd>69.6</dd><dt>62%</dt><dd>70</dd><dt>63%</dt><dd>70</dd><dt>64%</dt><dd>70</dd><dt>65%</dt><dd>70</dd><dt>66%</dt><dd>70</dd><dt>67%</dt><dd>70</dd><dt>68%</dt><dd>70</dd><dt>69%</dt><dd>70</dd><dt>70%</dt><dd>70.0787401574803</dd><dt>71%</dt><dd>70.737</dd><dt>72%</dt><dd>70.8661417322835</dd><dt>73%</dt><dd>71</dd><dt>74%</dt><dd>71</dd><dt>75%</dt><dd>71</dd><dt>76%</dt><dd>71</dd><dt>77%</dt><dd>71</dd><dt>78%</dt><dd>71.11</dd><dt>79%</dt><dd>72</dd><dt>80%</dt><dd>72</dd><dt>81%</dt><dd>72</dd><dt>82%</dt><dd>72</dd><dt>83%</dt><dd>72</dd><dt>84%</dt><dd>72</dd><dt>85%</dt><dd>72</dd><dt>86%</dt><dd>72</dd><dt>87%</dt><dd>72</dd><dt>88%</dt><dd>72.4401133858268</dd><dt>89%</dt><dd>72.8346456692913</dd><dt>90%</dt><dd>73</dd><dt>91%</dt><dd>73</dd><dt>92%</dt><dd>74</dd><dt>93%</dt><dd>74</dd><dt>94%</dt><dd>74</dd><dt>95%</dt><dd>74.8031496062992</dd><dt>96%</dt><dd>75</dd><dt>97%</dt><dd>75</dd><dt>98%</dt><dd>76</dd><dt>99%</dt><dd>78</dd></dl>\n"
            ]
          },
          "metadata": {
            "tags": []
          }
        }
      ]
    },
    {
      "cell_type": "code",
      "metadata": {
        "colab": {
          "base_uri": "https://localhost:8080/",
          "height": 50
        },
        "id": "TWguklbDZ2F1",
        "outputId": "1d473c5a-5ad9-4f09-c906-4659ee5b362a"
      },
      "source": [
        "#Confirm that the 25th and 75th percentiles match the 1st and 3rd quartiles. Note that quantile() returns a named vector. \n",
        "#You can access the 25th and 75th percentiles like this (adapt the code for other percentile values):\n",
        "percentiles[names(percentiles) == \"25%\"]\n",
        "percentiles[names(percentiles) == \"75%\"]"
      ],
      "execution_count": 23,
      "outputs": [
        {
          "output_type": "display_data",
          "data": {
            "text/plain": [
              "25% \n",
              " 66 "
            ],
            "text/latex": "\\textbf{25\\textbackslash{}\\%:} 66",
            "text/markdown": "**25%:** 66",
            "text/html": [
              "<strong>25%:</strong> 66"
            ]
          },
          "metadata": {
            "tags": []
          }
        },
        {
          "output_type": "display_data",
          "data": {
            "text/plain": [
              "75% \n",
              " 71 "
            ],
            "text/latex": "\\textbf{75\\textbackslash{}\\%:} 71",
            "text/markdown": "**75%:** 71",
            "text/html": [
              "<strong>75%:</strong> 71"
            ]
          },
          "metadata": {
            "tags": []
          }
        }
      ]
    },
    {
      "cell_type": "markdown",
      "metadata": {
        "id": "bxzMPzwiaJCw"
      },
      "source": [
        "##Finding quantiles with qnorm\n",
        "1. Definition of qnorm\n",
        "- The qnorm() function gives the theoretical value of a quantile with probability p of observing a value equal to or less than that quantile value given a normal distribution with mean mu and standard deviation sigma:\n",
        "\n",
        "      qnorm(p, mu, sigma)\n",
        "- By default, mu=0 and sigma=1. Therefore, calling qnorm() with no arguments gives quantiles for the standard normal distribution.\n",
        "\n",
        "      qnorm(p)\n",
        "- Recall that quantiles are defined such that p is the probability of a random observation less than or equal to the quantile.\n",
        "\n",
        "2. Relation to pnorm\n",
        "- The pnorm() function gives the probability that a value from a standard normal distribution will be less than or equal to a z-score value z. Consider:\n",
        "\n",
        "      pnorm(-1.96)  ≈0.025 \n",
        "- The result of pnorm() is the quantile. Note that:\n",
        "\n",
        "      qnorm(0.025)  ≈−1.96 \n",
        "- qnorm() and pnorm() are inverse functions:\n",
        "\n",
        "      pnorm(qnorm(0.025))  =0.025 \n",
        "3. Theoretical quantiles\n",
        "- You can use qnorm() to determine the theoretical quantiles of a dataset: that is, the theoretical value of quantiles assuming that a dataset follows a normal distribution. Run the qnorm() function with the desired probabilities p, mean mu and standard deviation sigma. \n",
        "\n",
        "- Suppose male heights follow a normal distribution with a mean of 69 inches and standard deviation of 3 inches. The theoretical quantiles are:\n",
        "\n",
        "      p <- seq(0.01, 0.99, 0.01)\n",
        "      theoretical_quantiles <- qnorm(p, 69, 3)\n",
        "- Theoretical quantiles can be compared to sample quantiles determined with the quantile function in order to evaluate whether the sample follows a normal distribution."
      ]
    },
    {
      "cell_type": "markdown",
      "metadata": {
        "id": "QC6rODERaleW"
      },
      "source": [
        "##Quantile-Quantile Plots\n",
        "- Quantile-quantile plots, or QQ-plots, are used to check whether distributions are well-approximated by a normal distribution.\n",
        "- Given a proportion  p , the quantile  q  is the value such that the proportion of values in the data below  q  is  p .\n",
        "- In a QQ-plot, the sample quantiles in the observed data are compared to the theoretical quantiles expected from the normal distribution. If the data are well-approximated by the normal distribution, then the points on the QQ-plot will fall near the identity line (sample = theoretical).\n",
        "- Calculate sample quantiles (observed quantiles) using the quantile() function.\n",
        "- Calculate theoretical quantiles with the qnorm() function. qnorm() will calculate quantiles for the standard normal distribution ( μ=0,σ=1 ) by default, but it can calculate quantiles for any normal distribution given mean() and sd() arguments. We will learn more about qnorm() in the probability course.\n",
        "- Note that we will learn alternate ways to make QQ-plots with less code later in the series."
      ]
    },
    {
      "cell_type": "code",
      "metadata": {
        "id": "YZjVk-Wja2ep"
      },
      "source": [
        "# define x and z\n",
        "library(tidyverse)\n",
        "library(dslabs)\n",
        "data(heights)\n",
        "index <- heights$sex==\"Male\"\n",
        "x <- heights$height[index]\n",
        "z <- scale(x)"
      ],
      "execution_count": 26,
      "outputs": []
    },
    {
      "cell_type": "code",
      "metadata": {
        "colab": {
          "base_uri": "https://localhost:8080/",
          "height": 34
        },
        "id": "qmZeyB2ia8YV",
        "outputId": "7a80042d-47e7-4024-eecd-5cf5de22c009"
      },
      "source": [
        "# proportion of data below 69.5\n",
        "mean(x <= 69.5)\n"
      ],
      "execution_count": 27,
      "outputs": [
        {
          "output_type": "display_data",
          "data": {
            "text/plain": [
              "[1] 0.5147783"
            ],
            "text/latex": "0.514778325123153",
            "text/markdown": "0.514778325123153",
            "text/html": [
              "0.514778325123153"
            ]
          },
          "metadata": {
            "tags": []
          }
        }
      ]
    },
    {
      "cell_type": "code",
      "metadata": {
        "id": "Eer18UYga_K7"
      },
      "source": [
        "# calculate observed and theoretical quantiles\n",
        "p <- seq(0.05, 0.95, 0.05)\n",
        "observed_quantiles <- quantile(x, p)\n",
        "theoretical_quantiles <- qnorm(p, mean = mean(x), sd = sd(x))\n"
      ],
      "execution_count": 28,
      "outputs": []
    },
    {
      "cell_type": "code",
      "metadata": {
        "colab": {
          "base_uri": "https://localhost:8080/",
          "height": 437
        },
        "id": "if0AuARcbCLT",
        "outputId": "c4bb4dda-50a0-4c9d-d52c-2bc3188788a5"
      },
      "source": [
        "# make QQ-plot\n",
        "plot(theoretical_quantiles, observed_quantiles)\n",
        "abline(0,1)\n"
      ],
      "execution_count": 29,
      "outputs": [
        {
          "output_type": "display_data",
          "data": {
            "image/png": "[encoded data removed]",
            "text/plain": [
              "plot without title"
            ]
          },
          "metadata": {
            "tags": [],
            "image/png": {
              "width": 420,
              "height": 420
            }
          }
        }
      ]
    },
    {
      "cell_type": "code",
      "metadata": {
        "colab": {
          "base_uri": "https://localhost:8080/",
          "height": 437
        },
        "id": "26JC-u5pbFLG",
        "outputId": "49ae87ee-7af3-45fb-dafe-fcdd67b1c736"
      },
      "source": [
        "# make QQ-plot with scaled values\n",
        "observed_quantiles <- quantile(z, p)\n",
        "theoretical_quantiles <- qnorm(p)\n",
        "plot(theoretical_quantiles, observed_quantiles)\n",
        "abline(0,1)"
      ],
      "execution_count": 30,
      "outputs": [
        {
          "output_type": "display_data",
          "data": {
            "image/png": "[encoded data removed]",
            "text/plain": [
              "plot without title"
            ]
          },
          "metadata": {
            "tags": [],
            "image/png": {
              "width": 420,
              "height": 420
            }
          }
        }
      ]
    },
    {
      "cell_type": "markdown",
      "metadata": {
        "id": "SkZduGW-bIya"
      },
      "source": [
        "##Percentiles\n",
        "- Percentiles are the quantiles obtained when defining  p  as  0.01,0.02,...,0.99 . They summarize the values at which a certain percent of the observations are equal to or less than that value.\n",
        "- The 50th percentile is also known as the median.\n",
        "- The quartiles are the 25th, 50th and 75th percentiles."
      ]
    },
    {
      "cell_type": "markdown",
      "metadata": {
        "id": "4bSGZdyUbQP3"
      },
      "source": [
        "##Boxplots\n",
        "- When data do not follow a normal distribution and cannot be succinctly summarized by only the mean and standard deviation, an alternative is to report a five-number summary: range (ignoring outliers) and the quartiles (25th, 50th, 75th percentile).\n",
        "- In a boxplot, the box is defined by the 25th and 75th percentiles and the median is a horizontal line through the box. The whiskers show the range excluding outliers, and outliers are plotted separately as individual points.\n",
        "- The interquartile range is the distance between the 25th and 75th percentiles.\n",
        "- Boxplots are particularly useful when comparing multiple distributions."
      ]
    },
    {
      "cell_type": "markdown",
      "metadata": {
        "id": "0tRhU2Nqbcxj"
      },
      "source": [
        "#Exercise\n"
      ]
    },
    {
      "cell_type": "markdown",
      "metadata": {
        "id": "l8MwXqjJbgrp"
      },
      "source": [
        "##Exercise 1. Vector lengths"
      ]
    },
    {
      "cell_type": "code",
      "metadata": {
        "colab": {
          "base_uri": "https://localhost:8080/",
          "height": 50
        },
        "id": "Q0W9_8lEbjyC",
        "outputId": "34cf531b-8dfa-41c6-ce81-1182d3115a5b"
      },
      "source": [
        "library(dslabs)\n",
        "data(heights)\n",
        "male <- heights$height[heights$sex==\"Male\"]\n",
        "female <- heights$height[heights$sex==\"Female\"]\n",
        "length(male)\n",
        "length(female)"
      ],
      "execution_count": 31,
      "outputs": [
        {
          "output_type": "display_data",
          "data": {
            "text/plain": [
              "[1] 812"
            ],
            "text/latex": "812",
            "text/markdown": "812",
            "text/html": [
              "812"
            ]
          },
          "metadata": {
            "tags": []
          }
        },
        {
          "output_type": "display_data",
          "data": {
            "text/plain": [
              "[1] 238"
            ],
            "text/latex": "238",
            "text/markdown": "238",
            "text/html": [
              "238"
            ]
          },
          "metadata": {
            "tags": []
          }
        }
      ]
    },
    {
      "cell_type": "markdown",
      "metadata": {
        "id": "6cFRlbdublt4"
      },
      "source": [
        "##Exercise 2. Percentiles"
      ]
    },
    {
      "cell_type": "code",
      "metadata": {
        "colab": {
          "base_uri": "https://localhost:8080/",
          "height": 175
        },
        "id": "_4Cs2c11bqLl",
        "outputId": "021b9db1-c615-4e2f-f63b-580e88a37a35"
      },
      "source": [
        "library(dslabs)\n",
        "data(heights)\n",
        "male <- heights$height[heights$sex==\"Male\"]\n",
        "female <- heights$height[heights$sex==\"Female\"]\n",
        "female_percentiles <- quantile(female,seq(0.1,0.9,0.2))\n",
        "male_percentiles <- quantile(male,seq(0.1,0.9,0.2))\n",
        "df <- data.frame(female = female_percentiles, male = male_percentiles)\n",
        "df"
      ],
      "execution_count": 32,
      "outputs": [
        {
          "output_type": "display_data",
          "data": {
            "text/plain": [
              "    female   male    \n",
              "10% 61.00000 65.00000\n",
              "30% 63.00000 68.00000\n",
              "50% 64.98031 69.00000\n",
              "70% 66.46417 71.00000\n",
              "90% 69.00000 73.22751"
            ],
            "text/latex": "A data.frame: 5 × 2\n\\begin{tabular}{r|ll}\n  & female & male\\\\\n  & <dbl> & <dbl>\\\\\n\\hline\n\t10\\% & 61.00000 & 65.00000\\\\\n\t30\\% & 63.00000 & 68.00000\\\\\n\t50\\% & 64.98031 & 69.00000\\\\\n\t70\\% & 66.46417 & 71.00000\\\\\n\t90\\% & 69.00000 & 73.22751\\\\\n\\end{tabular}\n",
            "text/markdown": "\nA data.frame: 5 × 2\n\n| <!--/--> | female &lt;dbl&gt; | male &lt;dbl&gt; |\n|---|---|---|\n| 10% | 61.00000 | 65.00000 |\n| 30% | 63.00000 | 68.00000 |\n| 50% | 64.98031 | 69.00000 |\n| 70% | 66.46417 | 71.00000 |\n| 90% | 69.00000 | 73.22751 |\n\n",
            "text/html": [
              "<table>\n",
              "<caption>A data.frame: 5 × 2</caption>\n",
              "<thead>\n",
              "\t<tr><th></th><th scope=col>female</th><th scope=col>male</th></tr>\n",
              "\t<tr><th></th><th scope=col>&lt;dbl&gt;</th><th scope=col>&lt;dbl&gt;</th></tr>\n",
              "</thead>\n",
              "<tbody>\n",
              "\t<tr><th scope=row>10%</th><td>61.00000</td><td>65.00000</td></tr>\n",
              "\t<tr><th scope=row>30%</th><td>63.00000</td><td>68.00000</td></tr>\n",
              "\t<tr><th scope=row>50%</th><td>64.98031</td><td>69.00000</td></tr>\n",
              "\t<tr><th scope=row>70%</th><td>66.46417</td><td>71.00000</td></tr>\n",
              "\t<tr><th scope=row>90%</th><td>69.00000</td><td>73.22751</td></tr>\n",
              "</tbody>\n",
              "</table>\n"
            ]
          },
          "metadata": {
            "tags": []
          }
        }
      ]
    },
    {
      "cell_type": "markdown",
      "metadata": {
        "id": "K-V6A-y6b2aT"
      },
      "source": [
        "##Exercise 3,4,5. Interpreting Boxplots \n",
        "##Exercise 6. Low quantiles\n",
        "##Exercise 7. Interquantile Range (IQR)"
      ]
    },
    {
      "cell_type": "code",
      "metadata": {
        "id": "ZtNBNBrYbv7U"
      },
      "source": [
        "#"
      ],
      "execution_count": null,
      "outputs": []
    }
  ]
}